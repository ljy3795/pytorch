{
 "cells": [
  {
   "cell_type": "markdown",
   "metadata": {},
   "source": [
    "---\n",
    "### autograd 설명\n",
    "- .require_grad : tracking all operations\n",
    "- .backward() : grad 계산\n",
    "- .grad : tensor에서 계산된 grad를 accumulate (보통 accumulate하지 않고, grad 초기화 후 사용)\n",
    "<br><br>\n",
    "- .detach() : compuation 시 tracking에서 제외 (메모리 save)\n",
    "- with torch.no_grad() : .requires_grad=True를 하더라도 해당 구문안에서는 grad를 계산/사용하지 않음\n",
    "<br><br>\n",
    "- Function <-> Tensor : 모든 tensor(UDF제외)는 .grad_fn을 가질 수 있음(Function에서 refer)\n",
    "---"
   ]
  },
  {
   "cell_type": "code",
   "execution_count": 11,
   "metadata": {},
   "outputs": [],
   "source": [
    "import torch\n",
    "import numpy as np"
   ]
  },
  {
   "cell_type": "code",
   "execution_count": 5,
   "metadata": {},
   "outputs": [
    {
     "name": "stdout",
     "output_type": "stream",
     "text": [
      "tensor([[1., 1.],\n",
      "        [1., 1.]], requires_grad=True)\n"
     ]
    }
   ],
   "source": [
    "x = torch.ones(2,2, requires_grad=True)\n",
    "print(x)"
   ]
  },
  {
   "cell_type": "code",
   "execution_count": 6,
   "metadata": {},
   "outputs": [
    {
     "name": "stdout",
     "output_type": "stream",
     "text": [
      "None\n"
     ]
    }
   ],
   "source": [
    "print(x.grad)"
   ]
  },
  {
   "cell_type": "code",
   "execution_count": 7,
   "metadata": {},
   "outputs": [
    {
     "name": "stdout",
     "output_type": "stream",
     "text": [
      "None\n"
     ]
    }
   ],
   "source": [
    "print(x.grad_fn)"
   ]
  },
  {
   "cell_type": "code",
   "execution_count": 10,
   "metadata": {},
   "outputs": [
    {
     "name": "stdout",
     "output_type": "stream",
     "text": [
      "tensor([[3., 3.],\n",
      "        [3., 3.]], grad_fn=<AddBackward>)\n",
      "<AddBackward object at 0x7f4416370320>\n"
     ]
    }
   ],
   "source": [
    "y = x + 2 ## x에대가 2를 더하는 sum operation 적용 -> grad_fn 생성\n",
    "print(y)\n",
    "print(y.grad_fn) # tensor operation으로 생성되었기에 grad_fn이 존재"
   ]
  },
  {
   "cell_type": "code",
   "execution_count": 16,
   "metadata": {},
   "outputs": [
    {
     "name": "stdout",
     "output_type": "stream",
     "text": [
      "[[3 3]] (1, 2)\n",
      "[[18]]\n",
      "[[9 9]]\n"
     ]
    }
   ],
   "source": [
    "# *(multiplication) : position-wise mul (shape이 변하지 않음)\n",
    "# dot product : inner-product라 생각하면 됨 (shape이 변함, 일반적으로 생각하는 matrix 곱)\n",
    "a = np.array([[3,3]])\n",
    "print(a, a.shape)\n",
    "\n",
    "print(a.dot(a.transpose()))\n",
    "print(a*a)"
   ]
  },
  {
   "cell_type": "code",
   "execution_count": 21,
   "metadata": {},
   "outputs": [
    {
     "name": "stdout",
     "output_type": "stream",
     "text": [
      "tensor([[3., 3.],\n",
      "        [3., 3.]], grad_fn=<AddBackward>) torch.Size([2, 2])\n",
      "tensor([[27., 27.],\n",
      "        [27., 27.]], grad_fn=<MulBackward>)\n",
      "tensor(27., grad_fn=<MeanBackward1>)\n",
      "<MeanBackward1 object at 0x7f44163349e8>\n"
     ]
    }
   ],
   "source": [
    "print(y, y.shape)\n",
    "z = y*y*3\n",
    "print(z)\n",
    "out = z.mean()\n",
    "print(out)\n",
    "print(out.grad_fn)"
   ]
  },
  {
   "cell_type": "code",
   "execution_count": 29,
   "metadata": {},
   "outputs": [
    {
     "name": "stdout",
     "output_type": "stream",
     "text": [
      "tensor([[0.4449, 0.9204],\n",
      "        [0.4554, 0.1537]])\n",
      "tensor([[ -2.4042, -34.7013],\n",
      "        [ -2.5085,  -0.5446]])\n",
      "False\n",
      "True\n"
     ]
    }
   ],
   "source": [
    "# change .requires_grad\n",
    "a = torch.rand(2,2)\n",
    "print(a)\n",
    "a = ((a*3)/(a-1))\n",
    "print(a)\n",
    "\n",
    "print(a.requires_grad)\n",
    "a.requires_grad_(True)\n",
    "print(a.requires_grad)"
   ]
  },
  {
   "cell_type": "code",
   "execution_count": 30,
   "metadata": {},
   "outputs": [
    {
     "name": "stdout",
     "output_type": "stream",
     "text": [
      "True\n",
      "<SumBackward0 object at 0x7f4416348908>\n"
     ]
    }
   ],
   "source": [
    "b = (a*a).sum()\n",
    "print(b.requires_grad)\n",
    "print(b.grad_fn)"
   ]
  },
  {
   "cell_type": "code",
   "execution_count": null,
   "metadata": {},
   "outputs": [],
   "source": []
  },
  {
   "cell_type": "markdown",
   "metadata": {},
   "source": [
    "### Gradient"
   ]
  },
  {
   "cell_type": "code",
   "execution_count": 47,
   "metadata": {},
   "outputs": [
    {
     "name": "stdout",
     "output_type": "stream",
     "text": [
      "tensor(27., grad_fn=<MeanBackward1>)\n",
      "<built-in method size of Tensor object at 0x7f4416336708>\n",
      "None\n",
      "tensor([ 1.4342, -0.8942, -1.3027], grad_fn=<MulBackward>) None <MulBackward object at 0x7f4416357320>\n",
      "tensor(2.1339)\n"
     ]
    }
   ],
   "source": [
    "# out is single scalar -> out.backward = out.backward(torch.tensor(1))\n",
    "print(out)\n",
    "print(out.size)\n",
    "\n",
    "x = torch.randn(3, requires_grad=True)\n",
    "print(x.grad)\n",
    "y = x*2\n",
    "print(y, y.grad, y.grad_fn)\n",
    "print(y.data.norm()) # y의 L2 norm(Euclidean)"
   ]
  },
  {
   "cell_type": "code",
   "execution_count": 48,
   "metadata": {},
   "outputs": [
    {
     "name": "stdout",
     "output_type": "stream",
     "text": [
      "tensor([ 734.3131, -457.8081, -666.9732], grad_fn=<MulBackward>) 9\n"
     ]
    }
   ],
   "source": [
    "i = 0\n",
    "while y.data.norm() < 1000:\n",
    "    i += 1\n",
    "    y = y*2\n",
    "print(y, i)"
   ]
  },
  {
   "cell_type": "code",
   "execution_count": 49,
   "metadata": {},
   "outputs": [
    {
     "name": "stdout",
     "output_type": "stream",
     "text": [
      "tensor([ 0.7171, -0.4471, -0.6513], requires_grad=True)\n",
      "tensor([ 734.3131, -457.8081, -666.9732], grad_fn=<MulBackward>)\n",
      "tensor([  10.2400, 1024.0000,    0.1024])\n"
     ]
    }
   ],
   "source": [
    "grads = torch.tensor([0.01, 1.0, 0.0001], dtype = torch.float)\n",
    "y.backward(grads)\n",
    "\n",
    "print(x)\n",
    "print(y)\n",
    "print(x.grad)"
   ]
  },
  {
   "cell_type": "code",
   "execution_count": 52,
   "metadata": {},
   "outputs": [
    {
     "name": "stdout",
     "output_type": "stream",
     "text": [
      "True\n",
      "True\n",
      "False\n"
     ]
    }
   ],
   "source": [
    "print(x.requires_grad)\n",
    "print((x**2).requires_grad)\n",
    "\n",
    "with torch.no_grad():\n",
    "    print((x**2).requires_grad)"
   ]
  }
 ],
 "metadata": {
  "kernelspec": {
   "display_name": "Python [conda env:pytorch_p36]",
   "language": "python",
   "name": "conda-env-pytorch_p36-py"
  },
  "language_info": {
   "codemirror_mode": {
    "name": "ipython",
    "version": 3
   },
   "file_extension": ".py",
   "mimetype": "text/x-python",
   "name": "python",
   "nbconvert_exporter": "python",
   "pygments_lexer": "ipython3",
   "version": "3.6.6"
  }
 },
 "nbformat": 4,
 "nbformat_minor": 2
}
