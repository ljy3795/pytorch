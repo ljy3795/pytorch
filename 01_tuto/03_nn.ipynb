{
 "cells": [
  {
   "cell_type": "code",
   "execution_count": 42,
   "metadata": {},
   "outputs": [
    {
     "name": "stdout",
     "output_type": "stream",
     "text": [
      "4\n",
      "4\n"
     ]
    },
    {
     "data": {
      "text/plain": [
       "<__main__.Child2 at 0x7f90e8589588>"
      ]
     },
     "execution_count": 42,
     "metadata": {},
     "output_type": "execute_result"
    }
   ],
   "source": [
    "# 상속관련\n",
    "class Parent:\n",
    "    def __init__(self, num):\n",
    "        print(num + 1)\n",
    "        \n",
    "class Child(Parent):\n",
    "    def __init__(self, value):\n",
    "        super().__init__(value)\n",
    "\n",
    "class Child2(Parent):\n",
    "    def __init__(self, value):\n",
    "        super(Child2, self).__init__(value)\n",
    "\n",
    "Child(3)\n",
    "Child2(3)"
   ]
  },
  {
   "cell_type": "code",
   "execution_count": null,
   "metadata": {},
   "outputs": [],
   "source": []
  },
  {
   "cell_type": "code",
   "execution_count": 43,
   "metadata": {},
   "outputs": [],
   "source": [
    "import torch\n",
    "import torch.nn as nn # 자동으로 initialize (no training args.)\n",
    "import torch.nn.functional as F # weight를 선언해줘야 함 (takes training args.)\n",
    "# 참조 : https://discuss.pytorch.org/t/understanding-net-class/2557/6"
   ]
  },
  {
   "cell_type": "code",
   "execution_count": 44,
   "metadata": {},
   "outputs": [],
   "source": [
    "class Net(nn.Module):\n",
    "    # 주로 parameter(특히 weight)가 있는 module을 initialize (아닌 것들을 미리 선언해도 무방)\n",
    "    def __init__(self):\n",
    "        # input = 32x32\n",
    "        super(Net, self).__init__() #nn.Module을 상속\n",
    "        # input = 1, output 6 channels, 5x5 square conv.\n",
    "        self.conv1 = nn.Conv2d(1,6,5) # output size = (input size + 2xpatting - filter size)/stride + 1\n",
    "        self.conv2 = nn.Conv2d(6,16,5)\n",
    "        # affine operation of y = Wx + b\n",
    "        self.fc1 = nn.Linear(16*5*5, 120) # input channel = 16, 5x5\n",
    "        self.fc2 = nn.Linear(120, 84)\n",
    "        self.fc3 = nn.Linear(84, 10)\n",
    "        \n",
    "    def forward(self, x):\n",
    "        # max pooling over 2x2 window\n",
    "        x = F.relu(self.conv1(x))\n",
    "        x = F.max_pool2d(x, (2,2)) # max pooling을 거치며 24x24 -> 12x12로 변경\n",
    "        # maxpooling\n",
    "        x = F.relu(self.conv2(x))\n",
    "        x = F.max_pool2d(x, 2)\n",
    "        # flattenzzz\n",
    "        x = x.view(-1, self.num_flat_features(x))\n",
    "        x = F.relu(self.fc1(x))\n",
    "        x = F.relu(self.fc2(x))\n",
    "        x = self.fc3(x)\n",
    "        \n",
    "        return x\n",
    "    \n",
    "    def num_flat_features(self, x):\n",
    "        size = x.size()[1:]\n",
    "        num_features = 1\n",
    "        for s in size:\n",
    "            num_features *= s\n",
    "        return num_features"
   ]
  },
  {
   "cell_type": "code",
   "execution_count": 45,
   "metadata": {},
   "outputs": [
    {
     "data": {
      "text/plain": [
       "Net(\n",
       "  (conv1): Conv2d(1, 6, kernel_size=(5, 5), stride=(1, 1))\n",
       "  (conv2): Conv2d(6, 16, kernel_size=(5, 5), stride=(1, 1))\n",
       "  (fc1): Linear(in_features=400, out_features=120, bias=True)\n",
       "  (fc2): Linear(in_features=120, out_features=84, bias=True)\n",
       "  (fc3): Linear(in_features=84, out_features=10, bias=True)\n",
       ")"
      ]
     },
     "execution_count": 45,
     "metadata": {},
     "output_type": "execute_result"
    }
   ],
   "source": [
    "net = Net()\n",
    "net"
   ]
  },
  {
   "cell_type": "code",
   "execution_count": 46,
   "metadata": {},
   "outputs": [
    {
     "name": "stdout",
     "output_type": "stream",
     "text": [
      "10\n",
      "torch.Size([6, 1, 5, 5])\n",
      "torch.Size([6])\n",
      "torch.Size([16, 6, 5, 5])\n",
      "torch.Size([16])\n",
      "torch.Size([120, 400])\n",
      "torch.Size([120])\n",
      "torch.Size([84, 120])\n",
      "torch.Size([84])\n",
      "torch.Size([10, 84])\n",
      "torch.Size([10])\n"
     ]
    }
   ],
   "source": [
    "params = list(net.parameters())\n",
    "print(len(params))\n",
    "for _, par in enumerate(params):\n",
    "    print(par.size())"
   ]
  },
  {
   "cell_type": "code",
   "execution_count": 47,
   "metadata": {},
   "outputs": [
    {
     "data": {
      "text/plain": [
       "tensor([[[[ 0.1772, -0.9534, -2.2107,  ...,  1.0373, -0.9370, -2.0802],\n",
       "          [ 0.0600,  0.2533,  0.2950,  ..., -1.9627, -0.0115,  0.9909],\n",
       "          [-0.3977,  0.5232,  1.3472,  ...,  1.5629, -0.1605,  0.3471],\n",
       "          ...,\n",
       "          [-0.2409,  1.1261,  0.0733,  ..., -2.2515, -0.3116,  1.0288],\n",
       "          [-0.4356,  0.6182,  1.0567,  ...,  0.0300,  1.4172, -0.5777],\n",
       "          [-1.1561,  1.2751,  1.4673,  ...,  0.0427,  0.1550,  0.5052]]]])"
      ]
     },
     "execution_count": 47,
     "metadata": {},
     "output_type": "execute_result"
    }
   ],
   "source": [
    "# generate random image\n",
    "input = torch.randn(1,1,32,32) # only support a mini-batch of samples, and not a sing sample, batch / channel / width / heights\n",
    "input.data"
   ]
  },
  {
   "cell_type": "code",
   "execution_count": 48,
   "metadata": {},
   "outputs": [],
   "source": [
    "out = net(input)"
   ]
  },
  {
   "cell_type": "code",
   "execution_count": 49,
   "metadata": {},
   "outputs": [
    {
     "name": "stdout",
     "output_type": "stream",
     "text": [
      "<ThAddmmBackward object at 0x7f90e85896d8>\n",
      "None\n"
     ]
    }
   ],
   "source": [
    "print(out.grad_fn)\n",
    "print(out.grad)"
   ]
  },
  {
   "cell_type": "code",
   "execution_count": 52,
   "metadata": {},
   "outputs": [
    {
     "name": "stdout",
     "output_type": "stream",
     "text": [
      "None\n",
      "tensor([[[[ 0.0336, -0.0280, -0.0068, -0.0358, -0.0249],\n",
      "          [-0.0342,  0.0217, -0.0893, -0.0524,  0.0223],\n",
      "          [-0.0085, -0.0315,  0.0529,  0.0040, -0.0022],\n",
      "          [ 0.0096,  0.0047, -0.0603, -0.0068, -0.0458],\n",
      "          [ 0.0370,  0.0139,  0.0376,  0.0448,  0.1305]]],\n",
      "\n",
      "\n",
      "        [[[-0.0318,  0.0149, -0.0507,  0.0081, -0.0209],\n",
      "          [-0.0004, -0.0459,  0.0673,  0.0170, -0.0505],\n",
      "          [-0.0007,  0.0223, -0.0038,  0.0406, -0.0104],\n",
      "          [-0.0569, -0.0404,  0.0177, -0.0037, -0.0736],\n",
      "          [ 0.0248, -0.0022,  0.0004, -0.0096, -0.0370]]],\n",
      "\n",
      "\n",
      "        [[[-0.0162, -0.1240,  0.0363, -0.0235,  0.0847],\n",
      "          [-0.0088,  0.0378, -0.0065, -0.1118,  0.0619],\n",
      "          [-0.0241,  0.0213,  0.0282, -0.0877,  0.0172],\n",
      "          [ 0.0125,  0.0325,  0.0589,  0.0544, -0.1419],\n",
      "          [-0.0288,  0.0440,  0.0574,  0.0041,  0.0286]]],\n",
      "\n",
      "\n",
      "        [[[ 0.0425,  0.0454, -0.0588,  0.0284,  0.0222],\n",
      "          [ 0.1208, -0.0083,  0.0227, -0.0380, -0.0270],\n",
      "          [ 0.0109, -0.0613,  0.0780, -0.0107, -0.0390],\n",
      "          [ 0.0237, -0.0799,  0.0346,  0.0718, -0.0200],\n",
      "          [ 0.0199, -0.0214,  0.0597, -0.0503, -0.0343]]],\n",
      "\n",
      "\n",
      "        [[[ 0.0076,  0.0909,  0.0108, -0.0318,  0.0247],\n",
      "          [ 0.0495, -0.0224,  0.0136,  0.0499, -0.1036],\n",
      "          [ 0.0065,  0.0067, -0.0029, -0.0017, -0.0219],\n",
      "          [ 0.0576,  0.0347, -0.0242, -0.0056, -0.0052],\n",
      "          [ 0.0329,  0.0188, -0.1088,  0.1033,  0.0972]]],\n",
      "\n",
      "\n",
      "        [[[ 0.0163,  0.0331, -0.0298, -0.0064, -0.1300],\n",
      "          [-0.0362,  0.0125, -0.0622, -0.0306, -0.0739],\n",
      "          [ 0.1026, -0.1058,  0.1174,  0.1223,  0.0379],\n",
      "          [ 0.0775, -0.0259,  0.0419, -0.0092, -0.0652],\n",
      "          [-0.0332,  0.0731, -0.0284, -0.1116,  0.1743]]]])\n"
     ]
    }
   ],
   "source": [
    "print(params[0].grad)\n",
    "# zero the gradient buffers of all parameters and backprops with random gradients:\n",
    "net.zero_grad() # every time a variable is back propagated through, the gradient will be accumulated instead of being replaced. (for mini-batch)\n",
    "out.backward(torch.randn(1,10))\n",
    "\n",
    "print(params[0].grad)"
   ]
  },
  {
   "cell_type": "markdown",
   "metadata": {},
   "source": [
    "---\n",
    "- .backward() : holds the gradient w.r.t the tensor\n",
    "- nn.Module : neural network module. convenient for encapsulating params., move to GPU, exporting, loading, ETC\n",
    "- nn.Parameter : attribute of nn.Module\n",
    "- autograd.Function : forward & backward definition of autograd operation.\n",
    "\n",
    "---"
   ]
  },
  {
   "cell_type": "code",
   "execution_count": 53,
   "metadata": {},
   "outputs": [
    {
     "name": "stdout",
     "output_type": "stream",
     "text": [
      "tensor([[ 0.1012,  0.0894,  0.0157,  0.0564,  0.0811, -0.0447, -0.0746,  0.0814,\n",
      "          0.0580, -0.0431]], grad_fn=<ThAddmmBackward>)\n",
      "tensor([[ 0.2760, -1.3648,  0.3509,  0.5655,  0.7815,  1.3215,  0.5029,  0.6733,\n",
      "          0.1455,  0.7818]])\n",
      "tensor(0.6246, grad_fn=<MseLossBackward>)\n"
     ]
    }
   ],
   "source": [
    "output = net(input)\n",
    "print(output)\n",
    "target = torch.randn(10)\n",
    "target = target.view(-1, 10)\n",
    "print(target)\n",
    "criterion = nn.MSELoss()\n",
    "loss = criterion(output, target)\n",
    "print(loss)"
   ]
  },
  {
   "cell_type": "code",
   "execution_count": 54,
   "metadata": {},
   "outputs": [
    {
     "data": {
      "text/plain": [
       "<MseLossBackward at 0x7f90e8589630>"
      ]
     },
     "execution_count": 54,
     "metadata": {},
     "output_type": "execute_result"
    }
   ],
   "source": [
    "loss.grad_fn\n",
    "# input -> conv2d -> relu -> maxpool2d -> conv2d -> relu -> maxpool2d\n",
    "#       -> view -> linear -> relu -> linear -> relu -> lienar\n",
    "#       -> MSELoss\n",
    "#       -> loss"
   ]
  },
  {
   "cell_type": "code",
   "execution_count": 55,
   "metadata": {},
   "outputs": [
    {
     "name": "stdout",
     "output_type": "stream",
     "text": [
      "<MseLossBackward object at 0x7f90e8589630>\n",
      "<ThAddmmBackward object at 0x7f90e858d710>\n",
      "<ExpandBackward object at 0x7f90e858d828>\n"
     ]
    }
   ],
   "source": [
    "print(loss.grad_fn)\n",
    "print(loss.grad_fn.next_functions[0][0])\n",
    "print(loss.grad_fn.next_functions[0][0].next_functions[0][0])"
   ]
  },
  {
   "cell_type": "code",
   "execution_count": 56,
   "metadata": {},
   "outputs": [],
   "source": [
    "# To backpropagate the error all we have to do is to loss.backward()\n",
    "## 1) clear all existing grads else grads will be accumulated"
   ]
  },
  {
   "cell_type": "code",
   "execution_count": 58,
   "metadata": {},
   "outputs": [
    {
     "name": "stdout",
     "output_type": "stream",
     "text": [
      "conv1.bias.grad before backward\n",
      "tensor([0., 0., 0., 0., 0., 0.])\n",
      "conv1.bias.grad after backward\n",
      "tensor([-0.0024, -0.0021,  0.0015, -0.0031,  0.0212,  0.0011,  0.0027,  0.0086,\n",
      "        -0.0268, -0.0139, -0.0173, -0.0061,  0.0112,  0.0141,  0.0036, -0.0067])\n"
     ]
    }
   ],
   "source": [
    "net.zero_grad()\n",
    "print('conv1.bias.grad before backward')\n",
    "print(net.conv1.bias.grad) # 앞에서 out.backward를 한번 했기 때문\n",
    "\n",
    "loss.backward()\n",
    "print('conv1.bias.grad after backward')\n",
    "print(net.conv2.bias.grad)"
   ]
  },
  {
   "cell_type": "code",
   "execution_count": null,
   "metadata": {},
   "outputs": [],
   "source": []
  },
  {
   "cell_type": "code",
   "execution_count": 59,
   "metadata": {},
   "outputs": [],
   "source": [
    "## update weights\n",
    "## -weight = weight - learning_rate*grad"
   ]
  },
  {
   "cell_type": "code",
   "execution_count": 60,
   "metadata": {},
   "outputs": [],
   "source": [
    "lr = 0.01\n",
    "for f in net.parameters():\n",
    "    f.data.sub_(f.grad.data*lr)\n"
   ]
  },
  {
   "cell_type": "code",
   "execution_count": 63,
   "metadata": {},
   "outputs": [],
   "source": [
    "# optimizer 이용\n",
    "\n",
    "import torch.optim as optim\n",
    "opt = optim.SGD(net.parameters(), lr = lr)\n",
    "\n",
    "opt.zero_grad() # optimizer에 zero_grad 써도 됨\n",
    "output = net(input)\n",
    "loss = criterion(output, target)\n",
    "loss.backward()\n",
    "opt.step()"
   ]
  }
 ],
 "metadata": {
  "kernelspec": {
   "display_name": "Python [conda env:pytorch_p36]",
   "language": "python",
   "name": "conda-env-pytorch_p36-py"
  },
  "language_info": {
   "codemirror_mode": {
    "name": "ipython",
    "version": 3
   },
   "file_extension": ".py",
   "mimetype": "text/x-python",
   "name": "python",
   "nbconvert_exporter": "python",
   "pygments_lexer": "ipython3",
   "version": "3.6.6"
  }
 },
 "nbformat": 4,
 "nbformat_minor": 2
}
