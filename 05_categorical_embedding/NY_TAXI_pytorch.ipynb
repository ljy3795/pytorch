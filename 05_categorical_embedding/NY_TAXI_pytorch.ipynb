{
 "cells": [
  {
   "cell_type": "markdown",
   "metadata": {},
   "source": [
    "---\n",
    "### Ref. http://francescopochetti.com/pytorch-for-tabular-data-predicting-nyc-taxi-fares/\n",
    "---"
   ]
  },
  {
   "cell_type": "markdown",
   "metadata": {},
   "source": [
    "### Load Library"
   ]
  },
  {
   "cell_type": "code",
   "execution_count": 1,
   "metadata": {},
   "outputs": [],
   "source": [
    "%matplotlib inline\n",
    "import pathlib\n",
    "import matplotlib.pyplot as plt\n",
    "from pylab import rcParams\n",
    "rcParams['figure.figsize'] = 8, 6\n",
    "import pandas as pd\n",
    "import numpy as np\n",
    "import seaborn as sns\n",
    "pd.set_option('display.max_columns', 500)\n",
    "from collections import defaultdict\n",
    "\n",
    "from IPython.core.interactiveshell import InteractiveShell\n",
    "InteractiveShell.ast_node_interactivity='all'\n",
    "\n",
    "from sklearn.model_selection import train_test_split\n",
    "from sklearn import preprocessing\n",
    "from sklearn.metrics import mean_squared_error\n",
    "\n",
    "pd.options.mode.chained_assignment = None\n",
    "\n",
    "from torch.nn import init\n",
    "import torch\n",
    "import torch.nn as nn\n",
    "import torch.optim as optim\n",
    "from torch.autograd import Variable\n",
    "import torch.nn.functional as F\n",
    "from torch.utils import data\n",
    "from torch.optim import lr_scheduler\n",
    "\n",
    "device = torch.device(\"cuda:0\" if torch.cuda.is_available() else \"cpu\")\n",
    "device\n",
    "\n",
    "from tqdm import tqdm, tqdm_notebook, tnrange\n",
    "tqdm.pandas(desc='Progress')\n",
    "import os"
   ]
  },
  {
   "cell_type": "markdown",
   "metadata": {},
   "source": [
    "### Load Data Set"
   ]
  },
  {
   "cell_type": "code",
   "execution_count": 132,
   "metadata": {},
   "outputs": [
    {
     "data": {
      "text/plain": [
       "'/home/colin/work/ny_taxi'"
      ]
     },
     "execution_count": 132,
     "metadata": {},
     "output_type": "execute_result"
    }
   ],
   "source": [
    "names = ['key','fare_amount','pickup_datetime','pickup_longitude',\n",
    "         'pickup_latitude','dropoff_longitude','dropoff_latitude','passenger_count']\n",
    "\n",
    "curr_path = os.getcwd()\n",
    "curr_path"
   ]
  },
  {
   "cell_type": "code",
   "execution_count": 133,
   "metadata": {},
   "outputs": [
    {
     "name": "stderr",
     "output_type": "stream",
     "text": [
      "/opt/venv/lib/python3.5/site-packages/IPython/core/interactiveshell.py:3049: DtypeWarning: Columns (1,3,4,5,6,7) have mixed types. Specify dtype option on import or set low_memory=False.\n",
      "  interactivity=interactivity, compiler=compiler, result=result)\n"
     ]
    },
    {
     "data": {
      "text/plain": [
       "(14012936, 8)"
      ]
     },
     "execution_count": 133,
     "metadata": {},
     "output_type": "execute_result"
    },
    {
     "data": {
      "text/html": [
       "<div>\n",
       "<style scoped>\n",
       "    .dataframe tbody tr th:only-of-type {\n",
       "        vertical-align: middle;\n",
       "    }\n",
       "\n",
       "    .dataframe tbody tr th {\n",
       "        vertical-align: top;\n",
       "    }\n",
       "\n",
       "    .dataframe thead th {\n",
       "        text-align: right;\n",
       "    }\n",
       "</style>\n",
       "<table border=\"1\" class=\"dataframe\">\n",
       "  <thead>\n",
       "    <tr style=\"text-align: right;\">\n",
       "      <th></th>\n",
       "      <th>key</th>\n",
       "      <th>fare_amount</th>\n",
       "      <th>pickup_datetime</th>\n",
       "      <th>pickup_longitude</th>\n",
       "      <th>pickup_latitude</th>\n",
       "      <th>dropoff_longitude</th>\n",
       "      <th>dropoff_latitude</th>\n",
       "      <th>passenger_count</th>\n",
       "    </tr>\n",
       "  </thead>\n",
       "  <tbody>\n",
       "    <tr>\n",
       "      <th>1</th>\n",
       "      <td>2009-06-15 17:26:21.0000001</td>\n",
       "      <td>4.5</td>\n",
       "      <td>2009-06-15 17:26:21 UTC</td>\n",
       "      <td>-73.844311</td>\n",
       "      <td>40.721319</td>\n",
       "      <td>-73.84161</td>\n",
       "      <td>40.712278</td>\n",
       "      <td>1</td>\n",
       "    </tr>\n",
       "    <tr>\n",
       "      <th>2</th>\n",
       "      <td>2010-01-05 16:52:16.0000002</td>\n",
       "      <td>16.9</td>\n",
       "      <td>2010-01-05 16:52:16 UTC</td>\n",
       "      <td>-74.016048</td>\n",
       "      <td>40.711303</td>\n",
       "      <td>-73.979268</td>\n",
       "      <td>40.782004</td>\n",
       "      <td>1</td>\n",
       "    </tr>\n",
       "    <tr>\n",
       "      <th>3</th>\n",
       "      <td>2011-08-18 00:35:00.00000049</td>\n",
       "      <td>5.7</td>\n",
       "      <td>2011-08-18 00:35:00 UTC</td>\n",
       "      <td>-73.982738</td>\n",
       "      <td>40.76127</td>\n",
       "      <td>-73.991242</td>\n",
       "      <td>40.750562</td>\n",
       "      <td>2</td>\n",
       "    </tr>\n",
       "    <tr>\n",
       "      <th>4</th>\n",
       "      <td>2012-04-21 04:30:42.0000001</td>\n",
       "      <td>7.7</td>\n",
       "      <td>2012-04-21 04:30:42 UTC</td>\n",
       "      <td>-73.98713</td>\n",
       "      <td>40.733143</td>\n",
       "      <td>-73.991567</td>\n",
       "      <td>40.758092</td>\n",
       "      <td>1</td>\n",
       "    </tr>\n",
       "    <tr>\n",
       "      <th>5</th>\n",
       "      <td>2010-03-09 07:51:00.000000135</td>\n",
       "      <td>5.3</td>\n",
       "      <td>2010-03-09 07:51:00 UTC</td>\n",
       "      <td>-73.968095</td>\n",
       "      <td>40.768008</td>\n",
       "      <td>-73.956655</td>\n",
       "      <td>40.783762</td>\n",
       "      <td>1</td>\n",
       "    </tr>\n",
       "  </tbody>\n",
       "</table>\n",
       "</div>"
      ],
      "text/plain": [
       "                             key fare_amount          pickup_datetime  \\\n",
       "1    2009-06-15 17:26:21.0000001         4.5  2009-06-15 17:26:21 UTC   \n",
       "2    2010-01-05 16:52:16.0000002        16.9  2010-01-05 16:52:16 UTC   \n",
       "3   2011-08-18 00:35:00.00000049         5.7  2011-08-18 00:35:00 UTC   \n",
       "4    2012-04-21 04:30:42.0000001         7.7  2012-04-21 04:30:42 UTC   \n",
       "5  2010-03-09 07:51:00.000000135         5.3  2010-03-09 07:51:00 UTC   \n",
       "\n",
       "  pickup_longitude pickup_latitude dropoff_longitude dropoff_latitude  \\\n",
       "1       -73.844311       40.721319         -73.84161        40.712278   \n",
       "2       -74.016048       40.711303        -73.979268        40.782004   \n",
       "3       -73.982738        40.76127        -73.991242        40.750562   \n",
       "4        -73.98713       40.733143        -73.991567        40.758092   \n",
       "5       -73.968095       40.768008        -73.956655        40.783762   \n",
       "\n",
       "  passenger_count  \n",
       "1               1  \n",
       "2               1  \n",
       "3               2  \n",
       "4               1  \n",
       "5               1  "
      ]
     },
     "execution_count": 133,
     "metadata": {},
     "output_type": "execute_result"
    }
   ],
   "source": [
    "# data Set is on curr_path/data directory\n",
    "df = pd.read_csv(os.path.join(curr_path,'data','train.csv'), header=None, names = names)\n",
    "df = df.iloc[1:,]\n",
    "\n",
    "df.shape\n",
    "df.head()"
   ]
  },
  {
   "cell_type": "code",
   "execution_count": 135,
   "metadata": {},
   "outputs": [
    {
     "data": {
      "text/plain": [
       "(700647, 8)"
      ]
     },
     "execution_count": 135,
     "metadata": {},
     "output_type": "execute_result"
    },
    {
     "data": {
      "text/html": [
       "<div>\n",
       "<style scoped>\n",
       "    .dataframe tbody tr th:only-of-type {\n",
       "        vertical-align: middle;\n",
       "    }\n",
       "\n",
       "    .dataframe tbody tr th {\n",
       "        vertical-align: top;\n",
       "    }\n",
       "\n",
       "    .dataframe thead th {\n",
       "        text-align: right;\n",
       "    }\n",
       "</style>\n",
       "<table border=\"1\" class=\"dataframe\">\n",
       "  <thead>\n",
       "    <tr style=\"text-align: right;\">\n",
       "      <th></th>\n",
       "      <th>key</th>\n",
       "      <th>fare_amount</th>\n",
       "      <th>pickup_datetime</th>\n",
       "      <th>pickup_longitude</th>\n",
       "      <th>pickup_latitude</th>\n",
       "      <th>dropoff_longitude</th>\n",
       "      <th>dropoff_latitude</th>\n",
       "      <th>passenger_count</th>\n",
       "    </tr>\n",
       "  </thead>\n",
       "  <tbody>\n",
       "    <tr>\n",
       "      <th>0</th>\n",
       "      <td>2011-02-27 00:40:00.000000183</td>\n",
       "      <td>35.3</td>\n",
       "      <td>2011-02-27 00:40:00 UTC</td>\n",
       "      <td>-73.9811</td>\n",
       "      <td>40.7743</td>\n",
       "      <td>-74.0022</td>\n",
       "      <td>40.6219</td>\n",
       "      <td>1</td>\n",
       "    </tr>\n",
       "    <tr>\n",
       "      <th>1</th>\n",
       "      <td>2010-04-10 18:57:00.000000184</td>\n",
       "      <td>10.1</td>\n",
       "      <td>2010-04-10 18:57:00 UTC</td>\n",
       "      <td>-73.9559</td>\n",
       "      <td>40.7141</td>\n",
       "      <td>-73.9854</td>\n",
       "      <td>40.6889</td>\n",
       "      <td>2</td>\n",
       "    </tr>\n",
       "    <tr>\n",
       "      <th>2</th>\n",
       "      <td>2013-10-06 17:13:30.0000001</td>\n",
       "      <td>4</td>\n",
       "      <td>2013-10-06 17:13:30 UTC</td>\n",
       "      <td>-73.9766</td>\n",
       "      <td>40.7857</td>\n",
       "      <td>-73.971</td>\n",
       "      <td>40.7932</td>\n",
       "      <td>1</td>\n",
       "    </tr>\n",
       "    <tr>\n",
       "      <th>3</th>\n",
       "      <td>2009-01-21 19:53:00.000000116</td>\n",
       "      <td>5.7</td>\n",
       "      <td>2009-01-21 19:53:00 UTC</td>\n",
       "      <td>-73.999</td>\n",
       "      <td>40.724</td>\n",
       "      <td>-74.0105</td>\n",
       "      <td>40.7187</td>\n",
       "      <td>5</td>\n",
       "    </tr>\n",
       "    <tr>\n",
       "      <th>4</th>\n",
       "      <td>2010-10-16 00:39:00.000000188</td>\n",
       "      <td>18.1</td>\n",
       "      <td>2010-10-16 00:39:00 UTC</td>\n",
       "      <td>-73.9827</td>\n",
       "      <td>40.7387</td>\n",
       "      <td>-73.9705</td>\n",
       "      <td>40.7884</td>\n",
       "      <td>2</td>\n",
       "    </tr>\n",
       "  </tbody>\n",
       "</table>\n",
       "</div>"
      ],
      "text/plain": [
       "                             key fare_amount          pickup_datetime  \\\n",
       "0  2011-02-27 00:40:00.000000183        35.3  2011-02-27 00:40:00 UTC   \n",
       "1  2010-04-10 18:57:00.000000184        10.1  2010-04-10 18:57:00 UTC   \n",
       "2    2013-10-06 17:13:30.0000001           4  2013-10-06 17:13:30 UTC   \n",
       "3  2009-01-21 19:53:00.000000116         5.7  2009-01-21 19:53:00 UTC   \n",
       "4  2010-10-16 00:39:00.000000188        18.1  2010-10-16 00:39:00 UTC   \n",
       "\n",
       "  pickup_longitude pickup_latitude dropoff_longitude dropoff_latitude  \\\n",
       "0         -73.9811         40.7743          -74.0022          40.6219   \n",
       "1         -73.9559         40.7141          -73.9854          40.6889   \n",
       "2         -73.9766         40.7857           -73.971          40.7932   \n",
       "3          -73.999          40.724          -74.0105          40.7187   \n",
       "4         -73.9827         40.7387          -73.9705          40.7884   \n",
       "\n",
       "  passenger_count  \n",
       "0               1  \n",
       "1               2  \n",
       "2               1  \n",
       "3               5  \n",
       "4               2  "
      ]
     },
     "execution_count": 135,
     "metadata": {},
     "output_type": "execute_result"
    }
   ],
   "source": [
    "# To handle dataset and modeling, sampling of total data set\n",
    "df_sample = df.sample(frac = 0.05, replace = False, random_state=777).reset_index(drop=True)\n",
    "df_sample.shape\n",
    "df_sample.head()\n",
    "\n",
    "df_sample.to_csv(os.path.join(curr_path,'data','train_sample.csv'))"
   ]
  },
  {
   "cell_type": "code",
   "execution_count": null,
   "metadata": {},
   "outputs": [],
   "source": []
  },
  {
   "cell_type": "markdown",
   "metadata": {},
   "source": [
    "### Data Preprocessing"
   ]
  },
  {
   "cell_type": "code",
   "execution_count": 136,
   "metadata": {},
   "outputs": [
    {
     "data": {
      "text/plain": [
       "(700647, 8)"
      ]
     },
     "execution_count": 136,
     "metadata": {},
     "output_type": "execute_result"
    },
    {
     "data": {
      "text/html": [
       "<div>\n",
       "<style scoped>\n",
       "    .dataframe tbody tr th:only-of-type {\n",
       "        vertical-align: middle;\n",
       "    }\n",
       "\n",
       "    .dataframe tbody tr th {\n",
       "        vertical-align: top;\n",
       "    }\n",
       "\n",
       "    .dataframe thead th {\n",
       "        text-align: right;\n",
       "    }\n",
       "</style>\n",
       "<table border=\"1\" class=\"dataframe\">\n",
       "  <thead>\n",
       "    <tr style=\"text-align: right;\">\n",
       "      <th></th>\n",
       "      <th>key</th>\n",
       "      <th>fare_amount</th>\n",
       "      <th>pickup_datetime</th>\n",
       "      <th>pickup_longitude</th>\n",
       "      <th>pickup_latitude</th>\n",
       "      <th>dropoff_longitude</th>\n",
       "      <th>dropoff_latitude</th>\n",
       "      <th>passenger_count</th>\n",
       "    </tr>\n",
       "  </thead>\n",
       "  <tbody>\n",
       "    <tr>\n",
       "      <th>0</th>\n",
       "      <td>2011-02-27 00:40:00.000000183</td>\n",
       "      <td>35.3</td>\n",
       "      <td>2011-02-27 00:40:00 UTC</td>\n",
       "      <td>-73.981075</td>\n",
       "      <td>40.774302</td>\n",
       "      <td>-74.002175</td>\n",
       "      <td>40.621950</td>\n",
       "      <td>1.0</td>\n",
       "    </tr>\n",
       "    <tr>\n",
       "      <th>1</th>\n",
       "      <td>2010-04-10 18:57:00.000000184</td>\n",
       "      <td>10.1</td>\n",
       "      <td>2010-04-10 18:57:00 UTC</td>\n",
       "      <td>-73.955883</td>\n",
       "      <td>40.714090</td>\n",
       "      <td>-73.985445</td>\n",
       "      <td>40.688862</td>\n",
       "      <td>2.0</td>\n",
       "    </tr>\n",
       "    <tr>\n",
       "      <th>2</th>\n",
       "      <td>2013-10-06 17:13:30.0000001</td>\n",
       "      <td>4.0</td>\n",
       "      <td>2013-10-06 17:13:30 UTC</td>\n",
       "      <td>-73.976565</td>\n",
       "      <td>40.785653</td>\n",
       "      <td>-73.970990</td>\n",
       "      <td>40.793163</td>\n",
       "      <td>1.0</td>\n",
       "    </tr>\n",
       "    <tr>\n",
       "      <th>3</th>\n",
       "      <td>2009-01-21 19:53:00.000000116</td>\n",
       "      <td>5.7</td>\n",
       "      <td>2009-01-21 19:53:00 UTC</td>\n",
       "      <td>-73.999023</td>\n",
       "      <td>40.723962</td>\n",
       "      <td>-74.010550</td>\n",
       "      <td>40.718733</td>\n",
       "      <td>5.0</td>\n",
       "    </tr>\n",
       "    <tr>\n",
       "      <th>4</th>\n",
       "      <td>2010-10-16 00:39:00.000000188</td>\n",
       "      <td>18.1</td>\n",
       "      <td>2010-10-16 00:39:00 UTC</td>\n",
       "      <td>-73.982740</td>\n",
       "      <td>40.738695</td>\n",
       "      <td>-73.970475</td>\n",
       "      <td>40.788387</td>\n",
       "      <td>2.0</td>\n",
       "    </tr>\n",
       "  </tbody>\n",
       "</table>\n",
       "</div>"
      ],
      "text/plain": [
       "                             key  fare_amount          pickup_datetime  \\\n",
       "0  2011-02-27 00:40:00.000000183         35.3  2011-02-27 00:40:00 UTC   \n",
       "1  2010-04-10 18:57:00.000000184         10.1  2010-04-10 18:57:00 UTC   \n",
       "2    2013-10-06 17:13:30.0000001          4.0  2013-10-06 17:13:30 UTC   \n",
       "3  2009-01-21 19:53:00.000000116          5.7  2009-01-21 19:53:00 UTC   \n",
       "4  2010-10-16 00:39:00.000000188         18.1  2010-10-16 00:39:00 UTC   \n",
       "\n",
       "   pickup_longitude  pickup_latitude  dropoff_longitude  dropoff_latitude  \\\n",
       "0        -73.981075        40.774302         -74.002175         40.621950   \n",
       "1        -73.955883        40.714090         -73.985445         40.688862   \n",
       "2        -73.976565        40.785653         -73.970990         40.793163   \n",
       "3        -73.999023        40.723962         -74.010550         40.718733   \n",
       "4        -73.982740        40.738695         -73.970475         40.788387   \n",
       "\n",
       "   passenger_count  \n",
       "0              1.0  \n",
       "1              2.0  \n",
       "2              1.0  \n",
       "3              5.0  \n",
       "4              2.0  "
      ]
     },
     "execution_count": 136,
     "metadata": {},
     "output_type": "execute_result"
    }
   ],
   "source": [
    "df = pd.read_csv(os.path.join(curr_path,'data','train_sample.csv'), header=0)\n",
    "df = df.iloc[:,1:]\n",
    "\n",
    "df.shape\n",
    "df.head()"
   ]
  },
  {
   "cell_type": "code",
   "execution_count": 137,
   "metadata": {},
   "outputs": [
    {
     "data": {
      "text/plain": [
       "key                   object\n",
       "fare_amount          float64\n",
       "pickup_datetime       object\n",
       "pickup_longitude     float64\n",
       "pickup_latitude      float64\n",
       "dropoff_longitude    float64\n",
       "dropoff_latitude     float64\n",
       "passenger_count      float64\n",
       "dtype: object"
      ]
     },
     "execution_count": 137,
     "metadata": {},
     "output_type": "execute_result"
    }
   ],
   "source": [
    "df.dtypes"
   ]
  },
  {
   "cell_type": "code",
   "execution_count": 138,
   "metadata": {},
   "outputs": [
    {
     "name": "stdout",
     "output_type": "stream",
     "text": [
      "<class 'pandas.core.frame.DataFrame'>\n",
      "RangeIndex: 700647 entries, 0 to 700646\n",
      "Data columns (total 8 columns):\n",
      "key                  700647 non-null object\n",
      "fare_amount          700647 non-null float64\n",
      "pickup_datetime      700647 non-null object\n",
      "pickup_longitude     700647 non-null float64\n",
      "pickup_latitude      700647 non-null float64\n",
      "dropoff_longitude    700646 non-null float64\n",
      "dropoff_latitude     700646 non-null float64\n",
      "passenger_count      700647 non-null float64\n",
      "dtypes: float64(6), object(2)\n",
      "memory usage: 42.8+ MB\n"
     ]
    }
   ],
   "source": [
    "df.info()"
   ]
  },
  {
   "cell_type": "code",
   "execution_count": 139,
   "metadata": {},
   "outputs": [
    {
     "data": {
      "text/plain": [
       "count    700647.000000\n",
       "mean          1.685271\n",
       "std           1.332619\n",
       "min           0.000000\n",
       "25%           1.000000\n",
       "50%           1.000000\n",
       "75%           2.000000\n",
       "max         208.000000\n",
       "Name: passenger_count, dtype: float64"
      ]
     },
     "execution_count": 139,
     "metadata": {},
     "output_type": "execute_result"
    },
    {
     "data": {
      "text/plain": [
       "0.85    3.0\n",
       "0.99    6.0\n",
       "Name: passenger_count, dtype: float64"
      ]
     },
     "execution_count": 139,
     "metadata": {},
     "output_type": "execute_result"
    }
   ],
   "source": [
    "df.passenger_count.describe()\n",
    "df.passenger_count.quantile([.85, .99])"
   ]
  },
  {
   "cell_type": "code",
   "execution_count": 140,
   "metadata": {},
   "outputs": [
    {
     "data": {
      "text/plain": [
       "count    700647.000000\n",
       "mean         11.342687\n",
       "std           9.836628\n",
       "min         -52.000000\n",
       "25%           6.000000\n",
       "50%           8.500000\n",
       "75%          12.500000\n",
       "max         500.000000\n",
       "Name: fare_amount, dtype: float64"
      ]
     },
     "execution_count": 140,
     "metadata": {},
     "output_type": "execute_result"
    },
    {
     "data": {
      "text/plain": [
       "0.85    16.5\n",
       "0.99    53.0\n",
       "Name: fare_amount, dtype: float64"
      ]
     },
     "execution_count": 140,
     "metadata": {},
     "output_type": "execute_result"
    }
   ],
   "source": [
    "df.fare_amount.describe()\n",
    "df.fare_amount.quantile([.85, .99])"
   ]
  },
  {
   "cell_type": "code",
   "execution_count": 14,
   "metadata": {},
   "outputs": [],
   "source": []
  },
  {
   "cell_type": "markdown",
   "metadata": {},
   "source": [
    "#### 1) split pickup_datetime into small parts"
   ]
  },
  {
   "cell_type": "code",
   "execution_count": 141,
   "metadata": {},
   "outputs": [],
   "source": [
    "col = 'pickup_datetime'\n",
    "df[col] = pd.to_datetime(df.pickup_datetime, infer_datetime_format=True)\n",
    "prefix = 'pickup'"
   ]
  },
  {
   "cell_type": "code",
   "execution_count": 142,
   "metadata": {},
   "outputs": [],
   "source": [
    "attr = ['Year', 'Month', 'Week', 'Day', 'Dayofweek', 'Dayofyear',\n",
    "        'Is_month_end', 'Is_month_start', 'Is_quarter_end', 'Is_quarter_start', 'Is_year_end', 'Is_year_start']\n",
    "attr = attr + ['Hour', 'Minute', 'Second']"
   ]
  },
  {
   "cell_type": "code",
   "execution_count": 143,
   "metadata": {},
   "outputs": [],
   "source": [
    "for n in attr: df[prefix + n] = getattr(df[col].dt, n.lower())\n",
    "df[prefix + 'Elapsed'] = df[col].astype(np.int64) // 10 ** 9\n",
    "df.drop(col, axis=1, inplace=True)"
   ]
  },
  {
   "cell_type": "code",
   "execution_count": 144,
   "metadata": {},
   "outputs": [
    {
     "data": {
      "text/html": [
       "<div>\n",
       "<style scoped>\n",
       "    .dataframe tbody tr th:only-of-type {\n",
       "        vertical-align: middle;\n",
       "    }\n",
       "\n",
       "    .dataframe tbody tr th {\n",
       "        vertical-align: top;\n",
       "    }\n",
       "\n",
       "    .dataframe thead th {\n",
       "        text-align: right;\n",
       "    }\n",
       "</style>\n",
       "<table border=\"1\" class=\"dataframe\">\n",
       "  <thead>\n",
       "    <tr style=\"text-align: right;\">\n",
       "      <th></th>\n",
       "      <th>key</th>\n",
       "      <th>fare_amount</th>\n",
       "      <th>pickup_longitude</th>\n",
       "      <th>pickup_latitude</th>\n",
       "      <th>dropoff_longitude</th>\n",
       "      <th>dropoff_latitude</th>\n",
       "      <th>passenger_count</th>\n",
       "      <th>pickupYear</th>\n",
       "      <th>pickupMonth</th>\n",
       "      <th>pickupWeek</th>\n",
       "      <th>pickupDay</th>\n",
       "      <th>pickupDayofweek</th>\n",
       "      <th>pickupDayofyear</th>\n",
       "      <th>pickupIs_month_end</th>\n",
       "      <th>pickupIs_month_start</th>\n",
       "      <th>pickupIs_quarter_end</th>\n",
       "      <th>pickupIs_quarter_start</th>\n",
       "      <th>pickupIs_year_end</th>\n",
       "      <th>pickupIs_year_start</th>\n",
       "      <th>pickupHour</th>\n",
       "      <th>pickupMinute</th>\n",
       "      <th>pickupSecond</th>\n",
       "      <th>pickupElapsed</th>\n",
       "    </tr>\n",
       "  </thead>\n",
       "  <tbody>\n",
       "    <tr>\n",
       "      <th>0</th>\n",
       "      <td>2011-02-27 00:40:00.000000183</td>\n",
       "      <td>35.3</td>\n",
       "      <td>-73.981075</td>\n",
       "      <td>40.774302</td>\n",
       "      <td>-74.002175</td>\n",
       "      <td>40.621950</td>\n",
       "      <td>1.0</td>\n",
       "      <td>2011</td>\n",
       "      <td>2</td>\n",
       "      <td>8</td>\n",
       "      <td>27</td>\n",
       "      <td>6</td>\n",
       "      <td>58</td>\n",
       "      <td>False</td>\n",
       "      <td>False</td>\n",
       "      <td>False</td>\n",
       "      <td>False</td>\n",
       "      <td>False</td>\n",
       "      <td>False</td>\n",
       "      <td>0</td>\n",
       "      <td>40</td>\n",
       "      <td>0</td>\n",
       "      <td>1298767200</td>\n",
       "    </tr>\n",
       "    <tr>\n",
       "      <th>1</th>\n",
       "      <td>2010-04-10 18:57:00.000000184</td>\n",
       "      <td>10.1</td>\n",
       "      <td>-73.955883</td>\n",
       "      <td>40.714090</td>\n",
       "      <td>-73.985445</td>\n",
       "      <td>40.688862</td>\n",
       "      <td>2.0</td>\n",
       "      <td>2010</td>\n",
       "      <td>4</td>\n",
       "      <td>14</td>\n",
       "      <td>10</td>\n",
       "      <td>5</td>\n",
       "      <td>100</td>\n",
       "      <td>False</td>\n",
       "      <td>False</td>\n",
       "      <td>False</td>\n",
       "      <td>False</td>\n",
       "      <td>False</td>\n",
       "      <td>False</td>\n",
       "      <td>18</td>\n",
       "      <td>57</td>\n",
       "      <td>0</td>\n",
       "      <td>1270925820</td>\n",
       "    </tr>\n",
       "    <tr>\n",
       "      <th>2</th>\n",
       "      <td>2013-10-06 17:13:30.0000001</td>\n",
       "      <td>4.0</td>\n",
       "      <td>-73.976565</td>\n",
       "      <td>40.785653</td>\n",
       "      <td>-73.970990</td>\n",
       "      <td>40.793163</td>\n",
       "      <td>1.0</td>\n",
       "      <td>2013</td>\n",
       "      <td>10</td>\n",
       "      <td>40</td>\n",
       "      <td>6</td>\n",
       "      <td>6</td>\n",
       "      <td>279</td>\n",
       "      <td>False</td>\n",
       "      <td>False</td>\n",
       "      <td>False</td>\n",
       "      <td>False</td>\n",
       "      <td>False</td>\n",
       "      <td>False</td>\n",
       "      <td>17</td>\n",
       "      <td>13</td>\n",
       "      <td>30</td>\n",
       "      <td>1381079610</td>\n",
       "    </tr>\n",
       "    <tr>\n",
       "      <th>3</th>\n",
       "      <td>2009-01-21 19:53:00.000000116</td>\n",
       "      <td>5.7</td>\n",
       "      <td>-73.999023</td>\n",
       "      <td>40.723962</td>\n",
       "      <td>-74.010550</td>\n",
       "      <td>40.718733</td>\n",
       "      <td>5.0</td>\n",
       "      <td>2009</td>\n",
       "      <td>1</td>\n",
       "      <td>4</td>\n",
       "      <td>21</td>\n",
       "      <td>2</td>\n",
       "      <td>21</td>\n",
       "      <td>False</td>\n",
       "      <td>False</td>\n",
       "      <td>False</td>\n",
       "      <td>False</td>\n",
       "      <td>False</td>\n",
       "      <td>False</td>\n",
       "      <td>19</td>\n",
       "      <td>53</td>\n",
       "      <td>0</td>\n",
       "      <td>1232567580</td>\n",
       "    </tr>\n",
       "    <tr>\n",
       "      <th>4</th>\n",
       "      <td>2010-10-16 00:39:00.000000188</td>\n",
       "      <td>18.1</td>\n",
       "      <td>-73.982740</td>\n",
       "      <td>40.738695</td>\n",
       "      <td>-73.970475</td>\n",
       "      <td>40.788387</td>\n",
       "      <td>2.0</td>\n",
       "      <td>2010</td>\n",
       "      <td>10</td>\n",
       "      <td>41</td>\n",
       "      <td>16</td>\n",
       "      <td>5</td>\n",
       "      <td>289</td>\n",
       "      <td>False</td>\n",
       "      <td>False</td>\n",
       "      <td>False</td>\n",
       "      <td>False</td>\n",
       "      <td>False</td>\n",
       "      <td>False</td>\n",
       "      <td>0</td>\n",
       "      <td>39</td>\n",
       "      <td>0</td>\n",
       "      <td>1287189540</td>\n",
       "    </tr>\n",
       "  </tbody>\n",
       "</table>\n",
       "</div>"
      ],
      "text/plain": [
       "                             key  fare_amount  pickup_longitude  \\\n",
       "0  2011-02-27 00:40:00.000000183         35.3        -73.981075   \n",
       "1  2010-04-10 18:57:00.000000184         10.1        -73.955883   \n",
       "2    2013-10-06 17:13:30.0000001          4.0        -73.976565   \n",
       "3  2009-01-21 19:53:00.000000116          5.7        -73.999023   \n",
       "4  2010-10-16 00:39:00.000000188         18.1        -73.982740   \n",
       "\n",
       "   pickup_latitude  dropoff_longitude  dropoff_latitude  passenger_count  \\\n",
       "0        40.774302         -74.002175         40.621950              1.0   \n",
       "1        40.714090         -73.985445         40.688862              2.0   \n",
       "2        40.785653         -73.970990         40.793163              1.0   \n",
       "3        40.723962         -74.010550         40.718733              5.0   \n",
       "4        40.738695         -73.970475         40.788387              2.0   \n",
       "\n",
       "   pickupYear  pickupMonth  pickupWeek  pickupDay  pickupDayofweek  \\\n",
       "0        2011            2           8         27                6   \n",
       "1        2010            4          14         10                5   \n",
       "2        2013           10          40          6                6   \n",
       "3        2009            1           4         21                2   \n",
       "4        2010           10          41         16                5   \n",
       "\n",
       "   pickupDayofyear  pickupIs_month_end  pickupIs_month_start  \\\n",
       "0               58               False                 False   \n",
       "1              100               False                 False   \n",
       "2              279               False                 False   \n",
       "3               21               False                 False   \n",
       "4              289               False                 False   \n",
       "\n",
       "   pickupIs_quarter_end  pickupIs_quarter_start  pickupIs_year_end  \\\n",
       "0                 False                   False              False   \n",
       "1                 False                   False              False   \n",
       "2                 False                   False              False   \n",
       "3                 False                   False              False   \n",
       "4                 False                   False              False   \n",
       "\n",
       "   pickupIs_year_start  pickupHour  pickupMinute  pickupSecond  pickupElapsed  \n",
       "0                False           0            40             0     1298767200  \n",
       "1                False          18            57             0     1270925820  \n",
       "2                False          17            13            30     1381079610  \n",
       "3                False          19            53             0     1232567580  \n",
       "4                False           0            39             0     1287189540  "
      ]
     },
     "execution_count": 144,
     "metadata": {},
     "output_type": "execute_result"
    }
   ],
   "source": [
    "df.head()"
   ]
  },
  {
   "cell_type": "markdown",
   "metadata": {},
   "source": [
    "#### 2) caclucate haversine_distance"
   ]
  },
  {
   "cell_type": "code",
   "execution_count": 145,
   "metadata": {},
   "outputs": [],
   "source": [
    "def haversine_distance(df, start_lat, end_lat, start_lng, end_lng, prefix):\n",
    "    \"\"\"\n",
    "    calculates haversine distance between 2 sets of GPS coordinates in df\n",
    "    \"\"\"\n",
    "    R = 6371  #radius of earth in kilometers\n",
    "       \n",
    "    phi1 = np.radians(df[start_lat])\n",
    "    phi2 = np.radians(df[end_lat])\n",
    "    \n",
    "    delta_phi = np.radians(df[end_lat]-df[start_lat])\n",
    "    delta_lambda = np.radians(df[end_lng]-df[start_lng])\n",
    "    \n",
    "        \n",
    "    a = np.sin(delta_phi / 2.0) ** 2 + np.cos(phi1) * np.cos(phi2) * np.sin(delta_lambda / 2.0) ** 2\n",
    "    c = 2 * np.arctan2(np.sqrt(a), np.sqrt(1-a))\n",
    "    d = (R * c) #in kilometers\n",
    "    df[prefix+'distance_km'] = d"
   ]
  },
  {
   "cell_type": "code",
   "execution_count": 146,
   "metadata": {},
   "outputs": [],
   "source": [
    "haversine_distance(df, 'pickup_latitude', 'dropoff_latitude', 'pickup_longitude', 'dropoff_longitude', '')"
   ]
  },
  {
   "cell_type": "code",
   "execution_count": 147,
   "metadata": {},
   "outputs": [
    {
     "data": {
      "text/html": [
       "<div>\n",
       "<style scoped>\n",
       "    .dataframe tbody tr th:only-of-type {\n",
       "        vertical-align: middle;\n",
       "    }\n",
       "\n",
       "    .dataframe tbody tr th {\n",
       "        vertical-align: top;\n",
       "    }\n",
       "\n",
       "    .dataframe thead th {\n",
       "        text-align: right;\n",
       "    }\n",
       "</style>\n",
       "<table border=\"1\" class=\"dataframe\">\n",
       "  <thead>\n",
       "    <tr style=\"text-align: right;\">\n",
       "      <th></th>\n",
       "      <th>key</th>\n",
       "      <th>fare_amount</th>\n",
       "      <th>pickup_longitude</th>\n",
       "      <th>pickup_latitude</th>\n",
       "      <th>dropoff_longitude</th>\n",
       "      <th>dropoff_latitude</th>\n",
       "      <th>passenger_count</th>\n",
       "      <th>pickupYear</th>\n",
       "      <th>pickupMonth</th>\n",
       "      <th>pickupWeek</th>\n",
       "      <th>pickupDay</th>\n",
       "      <th>pickupDayofweek</th>\n",
       "      <th>pickupDayofyear</th>\n",
       "      <th>pickupIs_month_end</th>\n",
       "      <th>pickupIs_month_start</th>\n",
       "      <th>pickupIs_quarter_end</th>\n",
       "      <th>pickupIs_quarter_start</th>\n",
       "      <th>pickupIs_year_end</th>\n",
       "      <th>pickupIs_year_start</th>\n",
       "      <th>pickupHour</th>\n",
       "      <th>pickupMinute</th>\n",
       "      <th>pickupSecond</th>\n",
       "      <th>pickupElapsed</th>\n",
       "      <th>distance_km</th>\n",
       "    </tr>\n",
       "  </thead>\n",
       "  <tbody>\n",
       "    <tr>\n",
       "      <th>0</th>\n",
       "      <td>2011-02-27 00:40:00.000000183</td>\n",
       "      <td>35.3</td>\n",
       "      <td>-73.981075</td>\n",
       "      <td>40.774302</td>\n",
       "      <td>-74.002175</td>\n",
       "      <td>40.621950</td>\n",
       "      <td>1.0</td>\n",
       "      <td>2011</td>\n",
       "      <td>2</td>\n",
       "      <td>8</td>\n",
       "      <td>27</td>\n",
       "      <td>6</td>\n",
       "      <td>58</td>\n",
       "      <td>False</td>\n",
       "      <td>False</td>\n",
       "      <td>False</td>\n",
       "      <td>False</td>\n",
       "      <td>False</td>\n",
       "      <td>False</td>\n",
       "      <td>0</td>\n",
       "      <td>40</td>\n",
       "      <td>0</td>\n",
       "      <td>1298767200</td>\n",
       "      <td>17.033901</td>\n",
       "    </tr>\n",
       "    <tr>\n",
       "      <th>1</th>\n",
       "      <td>2010-04-10 18:57:00.000000184</td>\n",
       "      <td>10.1</td>\n",
       "      <td>-73.955883</td>\n",
       "      <td>40.714090</td>\n",
       "      <td>-73.985445</td>\n",
       "      <td>40.688862</td>\n",
       "      <td>2.0</td>\n",
       "      <td>2010</td>\n",
       "      <td>4</td>\n",
       "      <td>14</td>\n",
       "      <td>10</td>\n",
       "      <td>5</td>\n",
       "      <td>100</td>\n",
       "      <td>False</td>\n",
       "      <td>False</td>\n",
       "      <td>False</td>\n",
       "      <td>False</td>\n",
       "      <td>False</td>\n",
       "      <td>False</td>\n",
       "      <td>18</td>\n",
       "      <td>57</td>\n",
       "      <td>0</td>\n",
       "      <td>1270925820</td>\n",
       "      <td>3.752274</td>\n",
       "    </tr>\n",
       "    <tr>\n",
       "      <th>2</th>\n",
       "      <td>2013-10-06 17:13:30.0000001</td>\n",
       "      <td>4.0</td>\n",
       "      <td>-73.976565</td>\n",
       "      <td>40.785653</td>\n",
       "      <td>-73.970990</td>\n",
       "      <td>40.793163</td>\n",
       "      <td>1.0</td>\n",
       "      <td>2013</td>\n",
       "      <td>10</td>\n",
       "      <td>40</td>\n",
       "      <td>6</td>\n",
       "      <td>6</td>\n",
       "      <td>279</td>\n",
       "      <td>False</td>\n",
       "      <td>False</td>\n",
       "      <td>False</td>\n",
       "      <td>False</td>\n",
       "      <td>False</td>\n",
       "      <td>False</td>\n",
       "      <td>17</td>\n",
       "      <td>13</td>\n",
       "      <td>30</td>\n",
       "      <td>1381079610</td>\n",
       "      <td>0.957932</td>\n",
       "    </tr>\n",
       "    <tr>\n",
       "      <th>3</th>\n",
       "      <td>2009-01-21 19:53:00.000000116</td>\n",
       "      <td>5.7</td>\n",
       "      <td>-73.999023</td>\n",
       "      <td>40.723962</td>\n",
       "      <td>-74.010550</td>\n",
       "      <td>40.718733</td>\n",
       "      <td>5.0</td>\n",
       "      <td>2009</td>\n",
       "      <td>1</td>\n",
       "      <td>4</td>\n",
       "      <td>21</td>\n",
       "      <td>2</td>\n",
       "      <td>21</td>\n",
       "      <td>False</td>\n",
       "      <td>False</td>\n",
       "      <td>False</td>\n",
       "      <td>False</td>\n",
       "      <td>False</td>\n",
       "      <td>False</td>\n",
       "      <td>19</td>\n",
       "      <td>53</td>\n",
       "      <td>0</td>\n",
       "      <td>1232567580</td>\n",
       "      <td>1.132136</td>\n",
       "    </tr>\n",
       "    <tr>\n",
       "      <th>4</th>\n",
       "      <td>2010-10-16 00:39:00.000000188</td>\n",
       "      <td>18.1</td>\n",
       "      <td>-73.982740</td>\n",
       "      <td>40.738695</td>\n",
       "      <td>-73.970475</td>\n",
       "      <td>40.788387</td>\n",
       "      <td>2.0</td>\n",
       "      <td>2010</td>\n",
       "      <td>10</td>\n",
       "      <td>41</td>\n",
       "      <td>16</td>\n",
       "      <td>5</td>\n",
       "      <td>289</td>\n",
       "      <td>False</td>\n",
       "      <td>False</td>\n",
       "      <td>False</td>\n",
       "      <td>False</td>\n",
       "      <td>False</td>\n",
       "      <td>False</td>\n",
       "      <td>0</td>\n",
       "      <td>39</td>\n",
       "      <td>0</td>\n",
       "      <td>1287189540</td>\n",
       "      <td>5.621222</td>\n",
       "    </tr>\n",
       "  </tbody>\n",
       "</table>\n",
       "</div>"
      ],
      "text/plain": [
       "                             key  fare_amount  pickup_longitude  \\\n",
       "0  2011-02-27 00:40:00.000000183         35.3        -73.981075   \n",
       "1  2010-04-10 18:57:00.000000184         10.1        -73.955883   \n",
       "2    2013-10-06 17:13:30.0000001          4.0        -73.976565   \n",
       "3  2009-01-21 19:53:00.000000116          5.7        -73.999023   \n",
       "4  2010-10-16 00:39:00.000000188         18.1        -73.982740   \n",
       "\n",
       "   pickup_latitude  dropoff_longitude  dropoff_latitude  passenger_count  \\\n",
       "0        40.774302         -74.002175         40.621950              1.0   \n",
       "1        40.714090         -73.985445         40.688862              2.0   \n",
       "2        40.785653         -73.970990         40.793163              1.0   \n",
       "3        40.723962         -74.010550         40.718733              5.0   \n",
       "4        40.738695         -73.970475         40.788387              2.0   \n",
       "\n",
       "   pickupYear  pickupMonth  pickupWeek  pickupDay  pickupDayofweek  \\\n",
       "0        2011            2           8         27                6   \n",
       "1        2010            4          14         10                5   \n",
       "2        2013           10          40          6                6   \n",
       "3        2009            1           4         21                2   \n",
       "4        2010           10          41         16                5   \n",
       "\n",
       "   pickupDayofyear  pickupIs_month_end  pickupIs_month_start  \\\n",
       "0               58               False                 False   \n",
       "1              100               False                 False   \n",
       "2              279               False                 False   \n",
       "3               21               False                 False   \n",
       "4              289               False                 False   \n",
       "\n",
       "   pickupIs_quarter_end  pickupIs_quarter_start  pickupIs_year_end  \\\n",
       "0                 False                   False              False   \n",
       "1                 False                   False              False   \n",
       "2                 False                   False              False   \n",
       "3                 False                   False              False   \n",
       "4                 False                   False              False   \n",
       "\n",
       "   pickupIs_year_start  pickupHour  pickupMinute  pickupSecond  pickupElapsed  \\\n",
       "0                False           0            40             0     1298767200   \n",
       "1                False          18            57             0     1270925820   \n",
       "2                False          17            13            30     1381079610   \n",
       "3                False          19            53             0     1232567580   \n",
       "4                False           0            39             0     1287189540   \n",
       "\n",
       "   distance_km  \n",
       "0    17.033901  \n",
       "1     3.752274  \n",
       "2     0.957932  \n",
       "3     1.132136  \n",
       "4     5.621222  "
      ]
     },
     "execution_count": 147,
     "metadata": {},
     "output_type": "execute_result"
    }
   ],
   "source": [
    "df.head()"
   ]
  },
  {
   "cell_type": "markdown",
   "metadata": {},
   "source": [
    "#### 3) parse gps"
   ]
  },
  {
   "cell_type": "code",
   "execution_count": 148,
   "metadata": {},
   "outputs": [],
   "source": [
    "def parse_gps(df, prefix):\n",
    "    lat = prefix + '_latitude'\n",
    "    lon = prefix + '_longitude'\n",
    "    df[prefix + '_x'] = np.cos(df[lat]) * np.cos(df[lon])\n",
    "    df[prefix + '_y'] = np.cos(df[lat]) * np.sin(df[lon]) \n",
    "    df[prefix + '_z'] = np.sin(df[lat])\n",
    "    df.drop([lat, lon], axis=1, inplace=True)"
   ]
  },
  {
   "cell_type": "code",
   "execution_count": 149,
   "metadata": {},
   "outputs": [],
   "source": [
    "parse_gps(df, 'pickup')\n",
    "parse_gps(df, 'dropoff')"
   ]
  },
  {
   "cell_type": "markdown",
   "metadata": {},
   "source": [
    "#### 4) drop na values"
   ]
  },
  {
   "cell_type": "code",
   "execution_count": 150,
   "metadata": {},
   "outputs": [
    {
     "data": {
      "text/plain": [
       "key                       0\n",
       "fare_amount               0\n",
       "passenger_count           0\n",
       "pickupYear                0\n",
       "pickupMonth               0\n",
       "pickupWeek                0\n",
       "pickupDay                 0\n",
       "pickupDayofweek           0\n",
       "pickupDayofyear           0\n",
       "pickupIs_month_end        0\n",
       "pickupIs_month_start      0\n",
       "pickupIs_quarter_end      0\n",
       "pickupIs_quarter_start    0\n",
       "pickupIs_year_end         0\n",
       "pickupIs_year_start       0\n",
       "pickupHour                0\n",
       "pickupMinute              0\n",
       "pickupSecond              0\n",
       "pickupElapsed             0\n",
       "distance_km               0\n",
       "pickup_x                  0\n",
       "pickup_y                  0\n",
       "pickup_z                  0\n",
       "dropoff_x                 0\n",
       "dropoff_y                 0\n",
       "dropoff_z                 0\n",
       "dtype: int64"
      ]
     },
     "execution_count": 150,
     "metadata": {},
     "output_type": "execute_result"
    }
   ],
   "source": [
    "df.dropna(inplace=True)\n",
    "df.isnull().sum()\n",
    "\n",
    "# drop rows with negative fare_amount\n",
    "df = df[df['fare_amount'] > 0]"
   ]
  },
  {
   "cell_type": "markdown",
   "metadata": {},
   "source": [
    "#### 5) get fare with log"
   ]
  },
  {
   "cell_type": "code",
   "execution_count": 151,
   "metadata": {},
   "outputs": [],
   "source": [
    "y = np.log(df.fare_amount)"
   ]
  },
  {
   "cell_type": "code",
   "execution_count": 152,
   "metadata": {},
   "outputs": [
    {
     "data": {
      "text/plain": [
       "0    3.563883\n",
       "1    2.312535\n",
       "2    1.386294\n",
       "3    1.740466\n",
       "4    2.895912\n",
       "Name: fare_amount, dtype: float64"
      ]
     },
     "execution_count": 152,
     "metadata": {},
     "output_type": "execute_result"
    },
    {
     "data": {
      "text/plain": [
       "0"
      ]
     },
     "execution_count": 152,
     "metadata": {},
     "output_type": "execute_result"
    }
   ],
   "source": [
    "y.head()\n",
    "y.isnull().sum()"
   ]
  },
  {
   "cell_type": "code",
   "execution_count": 153,
   "metadata": {},
   "outputs": [],
   "source": [
    "df.drop(['key', 'fare_amount'], axis=1, inplace=True)"
   ]
  },
  {
   "cell_type": "markdown",
   "metadata": {},
   "source": [
    "#### 6) split features into categorical and numerical"
   ]
  },
  {
   "cell_type": "code",
   "execution_count": 154,
   "metadata": {},
   "outputs": [
    {
     "data": {
      "text/html": [
       "<div>\n",
       "<style scoped>\n",
       "    .dataframe tbody tr th:only-of-type {\n",
       "        vertical-align: middle;\n",
       "    }\n",
       "\n",
       "    .dataframe tbody tr th {\n",
       "        vertical-align: top;\n",
       "    }\n",
       "\n",
       "    .dataframe thead th {\n",
       "        text-align: right;\n",
       "    }\n",
       "</style>\n",
       "<table border=\"1\" class=\"dataframe\">\n",
       "  <thead>\n",
       "    <tr style=\"text-align: right;\">\n",
       "      <th></th>\n",
       "      <th>passenger_count</th>\n",
       "      <th>pickupYear</th>\n",
       "      <th>pickupMonth</th>\n",
       "      <th>pickupWeek</th>\n",
       "      <th>pickupDay</th>\n",
       "      <th>pickupDayofweek</th>\n",
       "      <th>pickupDayofyear</th>\n",
       "      <th>pickupIs_month_end</th>\n",
       "      <th>pickupIs_month_start</th>\n",
       "      <th>pickupIs_quarter_end</th>\n",
       "      <th>pickupIs_quarter_start</th>\n",
       "      <th>pickupIs_year_end</th>\n",
       "      <th>pickupIs_year_start</th>\n",
       "      <th>pickupHour</th>\n",
       "      <th>pickupMinute</th>\n",
       "      <th>pickupSecond</th>\n",
       "      <th>pickupElapsed</th>\n",
       "      <th>distance_km</th>\n",
       "      <th>pickup_x</th>\n",
       "      <th>pickup_y</th>\n",
       "      <th>pickup_z</th>\n",
       "      <th>dropoff_x</th>\n",
       "      <th>dropoff_y</th>\n",
       "      <th>dropoff_z</th>\n",
       "    </tr>\n",
       "  </thead>\n",
       "  <tbody>\n",
       "    <tr>\n",
       "      <th>0</th>\n",
       "      <td>1.0</td>\n",
       "      <td>3</td>\n",
       "      <td>2</td>\n",
       "      <td>8</td>\n",
       "      <td>27</td>\n",
       "      <td>7</td>\n",
       "      <td>58</td>\n",
       "      <td>1</td>\n",
       "      <td>1</td>\n",
       "      <td>1</td>\n",
       "      <td>1</td>\n",
       "      <td>1</td>\n",
       "      <td>1</td>\n",
       "      <td>1</td>\n",
       "      <td>41</td>\n",
       "      <td>1</td>\n",
       "      <td>1298767200</td>\n",
       "      <td>17.033901</td>\n",
       "      <td>-0.152707</td>\n",
       "      <td>-0.986042</td>\n",
       "      <td>0.066354</td>\n",
       "      <td>-0.169716</td>\n",
       "      <td>-0.961302</td>\n",
       "      <td>0.217014</td>\n",
       "    </tr>\n",
       "    <tr>\n",
       "      <th>1</th>\n",
       "      <td>2.0</td>\n",
       "      <td>2</td>\n",
       "      <td>4</td>\n",
       "      <td>14</td>\n",
       "      <td>10</td>\n",
       "      <td>6</td>\n",
       "      <td>100</td>\n",
       "      <td>1</td>\n",
       "      <td>1</td>\n",
       "      <td>1</td>\n",
       "      <td>1</td>\n",
       "      <td>1</td>\n",
       "      <td>1</td>\n",
       "      <td>19</td>\n",
       "      <td>58</td>\n",
       "      <td>1</td>\n",
       "      <td>1270925820</td>\n",
       "      <td>3.752274</td>\n",
       "      <td>-0.127077</td>\n",
       "      <td>-0.983822</td>\n",
       "      <td>0.126276</td>\n",
       "      <td>-0.155550</td>\n",
       "      <td>-0.976179</td>\n",
       "      <td>0.151260</td>\n",
       "    </tr>\n",
       "    <tr>\n",
       "      <th>2</th>\n",
       "      <td>1.0</td>\n",
       "      <td>5</td>\n",
       "      <td>10</td>\n",
       "      <td>40</td>\n",
       "      <td>6</td>\n",
       "      <td>7</td>\n",
       "      <td>279</td>\n",
       "      <td>1</td>\n",
       "      <td>1</td>\n",
       "      <td>1</td>\n",
       "      <td>1</td>\n",
       "      <td>1</td>\n",
       "      <td>1</td>\n",
       "      <td>18</td>\n",
       "      <td>14</td>\n",
       "      <td>31</td>\n",
       "      <td>1381079610</td>\n",
       "      <td>0.957932</td>\n",
       "      <td>-0.148360</td>\n",
       "      <td>-0.987401</td>\n",
       "      <td>0.055024</td>\n",
       "      <td>-0.142908</td>\n",
       "      <td>-0.988594</td>\n",
       "      <td>0.047524</td>\n",
       "    </tr>\n",
       "    <tr>\n",
       "      <th>3</th>\n",
       "      <td>5.0</td>\n",
       "      <td>1</td>\n",
       "      <td>1</td>\n",
       "      <td>4</td>\n",
       "      <td>21</td>\n",
       "      <td>3</td>\n",
       "      <td>21</td>\n",
       "      <td>1</td>\n",
       "      <td>1</td>\n",
       "      <td>1</td>\n",
       "      <td>1</td>\n",
       "      <td>1</td>\n",
       "      <td>1</td>\n",
       "      <td>20</td>\n",
       "      <td>54</td>\n",
       "      <td>1</td>\n",
       "      <td>1232567580</td>\n",
       "      <td>1.132136</td>\n",
       "      <td>-0.169593</td>\n",
       "      <td>-0.978607</td>\n",
       "      <td>0.116478</td>\n",
       "      <td>-0.180748</td>\n",
       "      <td>-0.975975</td>\n",
       "      <td>0.121669</td>\n",
       "    </tr>\n",
       "    <tr>\n",
       "      <th>4</th>\n",
       "      <td>2.0</td>\n",
       "      <td>2</td>\n",
       "      <td>10</td>\n",
       "      <td>41</td>\n",
       "      <td>16</td>\n",
       "      <td>6</td>\n",
       "      <td>289</td>\n",
       "      <td>1</td>\n",
       "      <td>1</td>\n",
       "      <td>1</td>\n",
       "      <td>1</td>\n",
       "      <td>1</td>\n",
       "      <td>1</td>\n",
       "      <td>1</td>\n",
       "      <td>40</td>\n",
       "      <td>1</td>\n",
       "      <td>1287189540</td>\n",
       "      <td>5.621222</td>\n",
       "      <td>-0.153885</td>\n",
       "      <td>-0.982827</td>\n",
       "      <td>0.101833</td>\n",
       "      <td>-0.142365</td>\n",
       "      <td>-0.988432</td>\n",
       "      <td>0.052294</td>\n",
       "    </tr>\n",
       "  </tbody>\n",
       "</table>\n",
       "</div>"
      ],
      "text/plain": [
       "   passenger_count  pickupYear  pickupMonth  pickupWeek  pickupDay  \\\n",
       "0              1.0           3            2           8         27   \n",
       "1              2.0           2            4          14         10   \n",
       "2              1.0           5           10          40          6   \n",
       "3              5.0           1            1           4         21   \n",
       "4              2.0           2           10          41         16   \n",
       "\n",
       "   pickupDayofweek  pickupDayofyear  pickupIs_month_end  pickupIs_month_start  \\\n",
       "0                7               58                   1                     1   \n",
       "1                6              100                   1                     1   \n",
       "2                7              279                   1                     1   \n",
       "3                3               21                   1                     1   \n",
       "4                6              289                   1                     1   \n",
       "\n",
       "   pickupIs_quarter_end  pickupIs_quarter_start  pickupIs_year_end  \\\n",
       "0                     1                       1                  1   \n",
       "1                     1                       1                  1   \n",
       "2                     1                       1                  1   \n",
       "3                     1                       1                  1   \n",
       "4                     1                       1                  1   \n",
       "\n",
       "   pickupIs_year_start  pickupHour  pickupMinute  pickupSecond  pickupElapsed  \\\n",
       "0                    1           1            41             1     1298767200   \n",
       "1                    1          19            58             1     1270925820   \n",
       "2                    1          18            14            31     1381079610   \n",
       "3                    1          20            54             1     1232567580   \n",
       "4                    1           1            40             1     1287189540   \n",
       "\n",
       "   distance_km  pickup_x  pickup_y  pickup_z  dropoff_x  dropoff_y  dropoff_z  \n",
       "0    17.033901 -0.152707 -0.986042  0.066354  -0.169716  -0.961302   0.217014  \n",
       "1     3.752274 -0.127077 -0.983822  0.126276  -0.155550  -0.976179   0.151260  \n",
       "2     0.957932 -0.148360 -0.987401  0.055024  -0.142908  -0.988594   0.047524  \n",
       "3     1.132136 -0.169593 -0.978607  0.116478  -0.180748  -0.975975   0.121669  \n",
       "4     5.621222 -0.153885 -0.982827  0.101833  -0.142365  -0.988432   0.052294  "
      ]
     },
     "execution_count": 154,
     "metadata": {},
     "output_type": "execute_result"
    }
   ],
   "source": [
    "catf = ['pickupYear', 'pickupMonth', 'pickupWeek', 'pickupDay', 'pickupDayofweek', \n",
    "            'pickupDayofyear', 'pickupHour', 'pickupMinute', 'pickupSecond', 'pickupIs_month_end',\n",
    "            'pickupIs_month_start', 'pickupIs_quarter_end', 'pickupIs_quarter_start',\n",
    "            'pickupIs_year_end', 'pickupIs_year_start']\n",
    "numf = [col for col in df.columns if col not in catf]\n",
    "cat_levels = {}\n",
    "for c in catf: \n",
    "    df[c] = df[c].astype('category').cat.as_ordered()\n",
    "    # df[c].cat.categories\n",
    "    cat_levels[c] = dict(zip(df[c].cat.codes + 1, df[c])) #dict(enumerate(df[c].cat.categories)), map function ->  key(category level) : value(category name)\n",
    "    df[c] = df[c].cat.codes+1\n",
    "df.head()"
   ]
  },
  {
   "cell_type": "code",
   "execution_count": 155,
   "metadata": {
    "scrolled": true
   },
   "outputs": [
    {
     "data": {
      "text/plain": [
       "15"
      ]
     },
     "execution_count": 155,
     "metadata": {},
     "output_type": "execute_result"
    },
    {
     "data": {
      "text/plain": [
       "['pickupYear',\n",
       " 'pickupMonth',\n",
       " 'pickupWeek',\n",
       " 'pickupDay',\n",
       " 'pickupDayofweek',\n",
       " 'pickupDayofyear',\n",
       " 'pickupHour',\n",
       " 'pickupMinute',\n",
       " 'pickupSecond',\n",
       " 'pickupIs_month_end',\n",
       " 'pickupIs_month_start',\n",
       " 'pickupIs_quarter_end',\n",
       " 'pickupIs_quarter_start',\n",
       " 'pickupIs_year_end',\n",
       " 'pickupIs_year_start']"
      ]
     },
     "execution_count": 155,
     "metadata": {},
     "output_type": "execute_result"
    },
    {
     "data": {
      "text/plain": [
       "9"
      ]
     },
     "execution_count": 155,
     "metadata": {},
     "output_type": "execute_result"
    },
    {
     "data": {
      "text/plain": [
       "['passenger_count',\n",
       " 'pickupElapsed',\n",
       " 'distance_km',\n",
       " 'pickup_x',\n",
       " 'pickup_y',\n",
       " 'pickup_z',\n",
       " 'dropoff_x',\n",
       " 'dropoff_y',\n",
       " 'dropoff_z']"
      ]
     },
     "execution_count": 155,
     "metadata": {},
     "output_type": "execute_result"
    }
   ],
   "source": [
    "len(catf)\n",
    "catf\n",
    "\n",
    "len(numf)\n",
    "numf"
   ]
  },
  {
   "cell_type": "code",
   "execution_count": null,
   "metadata": {},
   "outputs": [],
   "source": []
  },
  {
   "cell_type": "markdown",
   "metadata": {},
   "source": [
    "### Split Dataset"
   ]
  },
  {
   "cell_type": "code",
   "execution_count": 156,
   "metadata": {},
   "outputs": [],
   "source": [
    "def split_dataset(df, y): return train_test_split(df, y, test_size=0.25, random_state=42)"
   ]
  },
  {
   "cell_type": "code",
   "execution_count": 157,
   "metadata": {},
   "outputs": [
    {
     "data": {
      "text/plain": [
       "(525450, 24)"
      ]
     },
     "execution_count": 157,
     "metadata": {},
     "output_type": "execute_result"
    },
    {
     "data": {
      "text/plain": [
       "(175151, 24)"
      ]
     },
     "execution_count": 157,
     "metadata": {},
     "output_type": "execute_result"
    }
   ],
   "source": [
    "X_train, X_test, y_train, y_test = split_dataset(df, y)\n",
    "\n",
    "X_train.shape\n",
    "X_test.shape"
   ]
  },
  {
   "cell_type": "code",
   "execution_count": 158,
   "metadata": {},
   "outputs": [],
   "source": [
    "# from sklearn.preprocessing import StandardScaler\n",
    "\n",
    "# scaler = StandardScaler()\n",
    "# scaler.fit(data1)\n",
    "# data2 = scaler.transform(data1)\n",
    "\n",
    "# data1.std(), data2.std()\n",
    "\n",
    "\n",
    "# fit() : estimate mean/var using method and training data set\n",
    "def get_numf_scaler(train): return preprocessing.StandardScaler().fit(train)\n",
    "\n",
    "# trainsform() : convert the training data set unsing method\n",
    "def scale_numf(df, numf, scaler):\n",
    "    cols = numf\n",
    "    index = df.index\n",
    "    scaled = scaler.transform(df[numf])\n",
    "    scaled = pd.DataFrame(scaled, columns=cols, index=index)\n",
    "    return pd.concat([scaled, df.drop(numf, axis=1)], axis=1)"
   ]
  },
  {
   "cell_type": "code",
   "execution_count": 159,
   "metadata": {},
   "outputs": [
    {
     "name": "stdout",
     "output_type": "stream",
     "text": [
      "[ 1.68633552e+00  1.33235745e+09  1.97288967e+01 -1.24580812e-01\n",
      " -9.64163420e-01  8.83457557e-02 -1.23905929e-01 -9.64369392e-01\n",
      "  8.80739664e-02]\n",
      "[1.79703186e+00 3.39653183e+15 1.36477865e+05 2.62337215e-02\n",
      " 1.92821308e-02 1.54769615e-03 2.59504100e-02 1.91584858e-02\n",
      " 1.77307735e-03]\n"
     ]
    },
    {
     "data": {
      "text/plain": [
       "passenger_count             1.000001\n",
       "pickupElapsed               1.000001\n",
       "distance_km                 1.000001\n",
       "pickup_x                    1.000001\n",
       "pickup_y                    1.000001\n",
       "pickup_z                    1.000001\n",
       "dropoff_x                   1.000001\n",
       "dropoff_y                   1.000001\n",
       "dropoff_z                   1.000001\n",
       "pickupYear                  1.858894\n",
       "pickupMonth                 3.434707\n",
       "pickupWeek                 14.936537\n",
       "pickupDay                   8.687571\n",
       "pickupDayofweek             1.947710\n",
       "pickupDayofyear           104.730323\n",
       "pickupIs_month_end          0.178508\n",
       "pickupIs_month_start        0.173699\n",
       "pickupIs_quarter_end        0.103784\n",
       "pickupIs_quarter_start      0.097457\n",
       "pickupIs_year_end           0.049257\n",
       "pickupIs_year_start         0.045913\n",
       "pickupHour                  6.518405\n",
       "pickupMinute               17.334048\n",
       "pickupSecond               19.427601\n",
       "dtype: float64"
      ]
     },
     "execution_count": 159,
     "metadata": {},
     "output_type": "execute_result"
    },
    {
     "data": {
      "text/plain": [
       "passenger_count             0.976197\n",
       "pickupElapsed               1.002186\n",
       "distance_km                 1.019741\n",
       "pickup_x                    0.993961\n",
       "pickup_y                    0.998975\n",
       "pickup_z                    1.010682\n",
       "dropoff_x                   0.997654\n",
       "dropoff_y                   1.000235\n",
       "dropoff_z                   0.998402\n",
       "pickupYear                  1.862622\n",
       "pickupMonth                 3.435877\n",
       "pickupWeek                 14.946657\n",
       "pickupDay                   8.691328\n",
       "pickupDayofweek             1.948226\n",
       "pickupDayofyear           104.792820\n",
       "pickupIs_month_end          0.178084\n",
       "pickupIs_month_start        0.173924\n",
       "pickupIs_quarter_end        0.103640\n",
       "pickupIs_quarter_start      0.097725\n",
       "pickupIs_year_end           0.047615\n",
       "pickupIs_year_start         0.047315\n",
       "pickupHour                  6.523568\n",
       "pickupMinute               17.309792\n",
       "pickupSecond               19.416418\n",
       "dtype: float64"
      ]
     },
     "execution_count": 159,
     "metadata": {},
     "output_type": "execute_result"
    }
   ],
   "source": [
    "scaler = get_numf_scaler(X_train[numf])\n",
    "print(scaler.mean_)\n",
    "print(scaler.var_)\n",
    "\n",
    "X_train_sc = scale_numf(X_train, numf, scaler)\n",
    "X_train_sc.std(axis=0)\n",
    "\n",
    "X_test_sc = scale_numf(X_test, numf, scaler)\n",
    "X_test_sc.std(axis=0)"
   ]
  },
  {
   "cell_type": "code",
   "execution_count": null,
   "metadata": {},
   "outputs": [],
   "source": []
  },
  {
   "cell_type": "code",
   "execution_count": null,
   "metadata": {},
   "outputs": [],
   "source": []
  },
  {
   "cell_type": "code",
   "execution_count": null,
   "metadata": {},
   "outputs": [],
   "source": []
  },
  {
   "cell_type": "markdown",
   "metadata": {},
   "source": [
    "---\n",
    "## Modeling with PyTorch\n",
    "---"
   ]
  },
  {
   "cell_type": "markdown",
   "metadata": {},
   "source": [
    "### Defining pytorch dataset and dataloaders"
   ]
  },
  {
   "cell_type": "code",
   "execution_count": 163,
   "metadata": {},
   "outputs": [
    {
     "data": {
      "text/html": [
       "<div>\n",
       "<style scoped>\n",
       "    .dataframe tbody tr th:only-of-type {\n",
       "        vertical-align: middle;\n",
       "    }\n",
       "\n",
       "    .dataframe tbody tr th {\n",
       "        vertical-align: top;\n",
       "    }\n",
       "\n",
       "    .dataframe thead th {\n",
       "        text-align: right;\n",
       "    }\n",
       "</style>\n",
       "<table border=\"1\" class=\"dataframe\">\n",
       "  <thead>\n",
       "    <tr style=\"text-align: right;\">\n",
       "      <th></th>\n",
       "      <th>passenger_count</th>\n",
       "      <th>pickupElapsed</th>\n",
       "      <th>distance_km</th>\n",
       "      <th>pickup_x</th>\n",
       "      <th>pickup_y</th>\n",
       "      <th>pickup_z</th>\n",
       "      <th>dropoff_x</th>\n",
       "      <th>dropoff_y</th>\n",
       "      <th>dropoff_z</th>\n",
       "      <th>pickupYear</th>\n",
       "      <th>pickupMonth</th>\n",
       "      <th>pickupWeek</th>\n",
       "      <th>pickupDay</th>\n",
       "      <th>pickupDayofweek</th>\n",
       "      <th>pickupDayofyear</th>\n",
       "      <th>pickupIs_month_end</th>\n",
       "      <th>pickupIs_month_start</th>\n",
       "      <th>pickupIs_quarter_end</th>\n",
       "      <th>pickupIs_quarter_start</th>\n",
       "      <th>pickupIs_year_end</th>\n",
       "      <th>pickupIs_year_start</th>\n",
       "      <th>pickupHour</th>\n",
       "      <th>pickupMinute</th>\n",
       "      <th>pickupSecond</th>\n",
       "    </tr>\n",
       "  </thead>\n",
       "  <tbody>\n",
       "    <tr>\n",
       "      <th>589188</th>\n",
       "      <td>0.233985</td>\n",
       "      <td>-0.474207</td>\n",
       "      <td>-0.049888</td>\n",
       "      <td>-0.124584</td>\n",
       "      <td>-0.153987</td>\n",
       "      <td>-0.008826</td>\n",
       "      <td>-0.190866</td>\n",
       "      <td>-0.136201</td>\n",
       "      <td>0.205710</td>\n",
       "      <td>3</td>\n",
       "      <td>5</td>\n",
       "      <td>18</td>\n",
       "      <td>6</td>\n",
       "      <td>5</td>\n",
       "      <td>126</td>\n",
       "      <td>1</td>\n",
       "      <td>1</td>\n",
       "      <td>1</td>\n",
       "      <td>1</td>\n",
       "      <td>1</td>\n",
       "      <td>1</td>\n",
       "      <td>23</td>\n",
       "      <td>27</td>\n",
       "      <td>24</td>\n",
       "    </tr>\n",
       "    <tr>\n",
       "      <th>148536</th>\n",
       "      <td>-0.511987</td>\n",
       "      <td>-0.439536</td>\n",
       "      <td>-0.042465</td>\n",
       "      <td>-0.048265</td>\n",
       "      <td>-0.180697</td>\n",
       "      <td>-0.669434</td>\n",
       "      <td>-0.203682</td>\n",
       "      <td>-0.136492</td>\n",
       "      <td>0.115329</td>\n",
       "      <td>3</td>\n",
       "      <td>5</td>\n",
       "      <td>22</td>\n",
       "      <td>30</td>\n",
       "      <td>1</td>\n",
       "      <td>150</td>\n",
       "      <td>1</td>\n",
       "      <td>1</td>\n",
       "      <td>1</td>\n",
       "      <td>1</td>\n",
       "      <td>1</td>\n",
       "      <td>1</td>\n",
       "      <td>8</td>\n",
       "      <td>44</td>\n",
       "      <td>20</td>\n",
       "    </tr>\n",
       "    <tr>\n",
       "      <th>353394</th>\n",
       "      <td>-0.511987</td>\n",
       "      <td>-0.575693</td>\n",
       "      <td>-0.050348</td>\n",
       "      <td>-0.182400</td>\n",
       "      <td>-0.131328</td>\n",
       "      <td>0.436821</td>\n",
       "      <td>-0.266783</td>\n",
       "      <td>-0.113376</td>\n",
       "      <td>0.469281</td>\n",
       "      <td>3</td>\n",
       "      <td>2</td>\n",
       "      <td>8</td>\n",
       "      <td>27</td>\n",
       "      <td>7</td>\n",
       "      <td>58</td>\n",
       "      <td>1</td>\n",
       "      <td>1</td>\n",
       "      <td>1</td>\n",
       "      <td>1</td>\n",
       "      <td>1</td>\n",
       "      <td>1</td>\n",
       "      <td>12</td>\n",
       "      <td>30</td>\n",
       "      <td>30</td>\n",
       "    </tr>\n",
       "    <tr>\n",
       "      <th>209270</th>\n",
       "      <td>-0.511987</td>\n",
       "      <td>-1.664777</td>\n",
       "      <td>-0.048261</td>\n",
       "      <td>-0.335047</td>\n",
       "      <td>-0.103139</td>\n",
       "      <td>0.368917</td>\n",
       "      <td>-0.245041</td>\n",
       "      <td>-0.111626</td>\n",
       "      <td>0.643027</td>\n",
       "      <td>1</td>\n",
       "      <td>2</td>\n",
       "      <td>8</td>\n",
       "      <td>22</td>\n",
       "      <td>7</td>\n",
       "      <td>53</td>\n",
       "      <td>1</td>\n",
       "      <td>1</td>\n",
       "      <td>1</td>\n",
       "      <td>1</td>\n",
       "      <td>1</td>\n",
       "      <td>1</td>\n",
       "      <td>21</td>\n",
       "      <td>31</td>\n",
       "      <td>23</td>\n",
       "    </tr>\n",
       "    <tr>\n",
       "      <th>328273</th>\n",
       "      <td>-0.511987</td>\n",
       "      <td>-0.867024</td>\n",
       "      <td>-0.048209</td>\n",
       "      <td>-0.171314</td>\n",
       "      <td>-0.146198</td>\n",
       "      <td>-0.025918</td>\n",
       "      <td>-0.151058</td>\n",
       "      <td>-0.137789</td>\n",
       "      <td>0.384150</td>\n",
       "      <td>2</td>\n",
       "      <td>8</td>\n",
       "      <td>32</td>\n",
       "      <td>14</td>\n",
       "      <td>6</td>\n",
       "      <td>226</td>\n",
       "      <td>1</td>\n",
       "      <td>1</td>\n",
       "      <td>1</td>\n",
       "      <td>1</td>\n",
       "      <td>1</td>\n",
       "      <td>1</td>\n",
       "      <td>24</td>\n",
       "      <td>12</td>\n",
       "      <td>1</td>\n",
       "    </tr>\n",
       "  </tbody>\n",
       "</table>\n",
       "</div>"
      ],
      "text/plain": [
       "        passenger_count  pickupElapsed  distance_km  pickup_x  pickup_y  \\\n",
       "589188         0.233985      -0.474207    -0.049888 -0.124584 -0.153987   \n",
       "148536        -0.511987      -0.439536    -0.042465 -0.048265 -0.180697   \n",
       "353394        -0.511987      -0.575693    -0.050348 -0.182400 -0.131328   \n",
       "209270        -0.511987      -1.664777    -0.048261 -0.335047 -0.103139   \n",
       "328273        -0.511987      -0.867024    -0.048209 -0.171314 -0.146198   \n",
       "\n",
       "        pickup_z  dropoff_x  dropoff_y  dropoff_z  pickupYear  pickupMonth  \\\n",
       "589188 -0.008826  -0.190866  -0.136201   0.205710           3            5   \n",
       "148536 -0.669434  -0.203682  -0.136492   0.115329           3            5   \n",
       "353394  0.436821  -0.266783  -0.113376   0.469281           3            2   \n",
       "209270  0.368917  -0.245041  -0.111626   0.643027           1            2   \n",
       "328273 -0.025918  -0.151058  -0.137789   0.384150           2            8   \n",
       "\n",
       "        pickupWeek  pickupDay  pickupDayofweek  pickupDayofyear  \\\n",
       "589188          18          6                5              126   \n",
       "148536          22         30                1              150   \n",
       "353394           8         27                7               58   \n",
       "209270           8         22                7               53   \n",
       "328273          32         14                6              226   \n",
       "\n",
       "        pickupIs_month_end  pickupIs_month_start  pickupIs_quarter_end  \\\n",
       "589188                   1                     1                     1   \n",
       "148536                   1                     1                     1   \n",
       "353394                   1                     1                     1   \n",
       "209270                   1                     1                     1   \n",
       "328273                   1                     1                     1   \n",
       "\n",
       "        pickupIs_quarter_start  pickupIs_year_end  pickupIs_year_start  \\\n",
       "589188                       1                  1                    1   \n",
       "148536                       1                  1                    1   \n",
       "353394                       1                  1                    1   \n",
       "209270                       1                  1                    1   \n",
       "328273                       1                  1                    1   \n",
       "\n",
       "        pickupHour  pickupMinute  pickupSecond  \n",
       "589188          23            27            24  \n",
       "148536           8            44            20  \n",
       "353394          12            30            30  \n",
       "209270          21            31            23  \n",
       "328273          24            12             1  "
      ]
     },
     "execution_count": 163,
     "metadata": {},
     "output_type": "execute_result"
    }
   ],
   "source": [
    "X_train_sc.head()"
   ]
  },
  {
   "cell_type": "code",
   "execution_count": 164,
   "metadata": {},
   "outputs": [
    {
     "data": {
      "text/plain": [
       "(525450, 24)"
      ]
     },
     "execution_count": 164,
     "metadata": {},
     "output_type": "execute_result"
    }
   ],
   "source": [
    "X_train_sc.shape"
   ]
  },
  {
   "cell_type": "code",
   "execution_count": 165,
   "metadata": {},
   "outputs": [
    {
     "name": "stdout",
     "output_type": "stream",
     "text": [
      "torch.Size([525450, 15])\n",
      "torch.Size([525450, 9])\n",
      "torch.Size([175151, 15])\n",
      "torch.Size([175151, 9])\n"
     ]
    }
   ],
   "source": [
    "import torch.utils.data as data_utils\n",
    "# # split test and train data set (100,000 for test vs remaining for training)\n",
    "# train_dataset = data_utils.TensorDataset(torch.tensor(users[batch_size:], dtype = torch.long), torch.tensor(items[batch_size:], dtype = torch.long), torch.tensor(ratings[batch_size:], dtype = torch.float32))\n",
    "# train_loader = torch.utils.data.DataLoader(train_dataset, batch_size = batch_size, shuffle=True, num_workers=30)\n",
    "\n",
    "# train\n",
    "X_train_cat = X_train_sc[catf]\n",
    "X_train_num = X_train_sc.drop(catf, axis = 1)\n",
    "\n",
    "X_train_cat = torch.tensor(np.array(X_train_cat), dtype = torch.long)\n",
    "X_train_num = torch.tensor(np.array(X_train_num), dtype = torch.float32)\n",
    "Y_train = torch.tensor(np.array(y_train), dtype = torch.float32)\n",
    "\n",
    "print(X_train_cat.size())\n",
    "print(X_train_num.size())\n",
    "\n",
    "# vaild\n",
    "X_test_cat = X_test_sc[catf]\n",
    "X_test_num = X_test_sc.drop(catf, axis = 1)\n",
    "\n",
    "X_test_cat = torch.tensor(np.array(X_test_cat), dtype = torch.long)\n",
    "X_test_num = torch.tensor(np.array(X_test_num), dtype = torch.float32)\n",
    "Y_test = torch.tensor(np.array(y_test), dtype = torch.float32)\n",
    "\n",
    "print(X_test_cat.size())\n",
    "print(X_test_num.size())\n",
    "\n",
    "train_dataset = data_utils.TensorDataset(X_train_cat, X_train_num, Y_train)\n",
    "test_dataset = data_utils.TensorDataset(X_test_cat, X_test_num, Y_test)"
   ]
  },
  {
   "cell_type": "code",
   "execution_count": 166,
   "metadata": {},
   "outputs": [],
   "source": [
    "params = {'batch_size':500,\n",
    "         'shuffle':True,\n",
    "         'num_workers':8}\n",
    "\n",
    "# traindl = data.DataLoader(trainds, **params)\n",
    "# valdl = data.DataLoader(valds, **params)"
   ]
  },
  {
   "cell_type": "code",
   "execution_count": 167,
   "metadata": {},
   "outputs": [],
   "source": [
    "train_dataloader = data.DataLoader(train_dataset, **params)\n",
    "test_dataloader = data.DataLoader(test_dataset, **params)"
   ]
  },
  {
   "cell_type": "code",
   "execution_count": 168,
   "metadata": {},
   "outputs": [
    {
     "name": "stdout",
     "output_type": "stream",
     "text": [
      "torch.Size([500, 15])\n",
      "torch.Size([500, 9])\n",
      "torch.Size([500])\n"
     ]
    }
   ],
   "source": [
    "print(iter(train_dataloader).next()[0].size())\n",
    "print(iter(train_dataloader).next()[1].size())\n",
    "print(iter(train_dataloader).next()[2].size())"
   ]
  },
  {
   "cell_type": "markdown",
   "metadata": {},
   "source": [
    "### Defining model and related variables"
   ]
  },
  {
   "cell_type": "code",
   "execution_count": 169,
   "metadata": {},
   "outputs": [
    {
     "data": {
      "text/plain": [
       "(0, 7.457529718106629)"
      ]
     },
     "execution_count": 169,
     "metadata": {},
     "output_type": "execute_result"
    },
    {
     "data": {
      "text/plain": [
       "[('pickupYear', 8),\n",
       " ('pickupMonth', 13),\n",
       " ('pickupWeek', 54),\n",
       " ('pickupDay', 32),\n",
       " ('pickupDayofweek', 8),\n",
       " ('pickupDayofyear', 367),\n",
       " ('pickupHour', 25),\n",
       " ('pickupMinute', 61),\n",
       " ('pickupSecond', 61),\n",
       " ('pickupIs_month_end', 3),\n",
       " ('pickupIs_month_start', 3),\n",
       " ('pickupIs_quarter_end', 3),\n",
       " ('pickupIs_quarter_start', 3),\n",
       " ('pickupIs_year_end', 3),\n",
       " ('pickupIs_year_start', 3)]"
      ]
     },
     "execution_count": 169,
     "metadata": {},
     "output_type": "execute_result"
    },
    {
     "data": {
      "text/plain": [
       "[(8, 4),\n",
       " (13, 7),\n",
       " (54, 27),\n",
       " (32, 16),\n",
       " (8, 4),\n",
       " (367, 50),\n",
       " (25, 13),\n",
       " (61, 31),\n",
       " (61, 31),\n",
       " (3, 2),\n",
       " (3, 2),\n",
       " (3, 2),\n",
       " (3, 2),\n",
       " (3, 2),\n",
       " (3, 2)]"
      ]
     },
     "execution_count": 169,
     "metadata": {},
     "output_type": "execute_result"
    }
   ],
   "source": [
    "y_range = (0, y_train.max()*1.2)\n",
    "y_range\n",
    "\n",
    "cat_sz = [(c, df[c].max()+1) for c in catf]\n",
    "cat_sz\n",
    "\n",
    "emb_szs = [(c,min(50, (c+1)//2)) for _, c in cat_sz]\n",
    "emb_szs"
   ]
  },
  {
   "cell_type": "code",
   "execution_count": 170,
   "metadata": {},
   "outputs": [],
   "source": [
    "class MixedInputModel(nn.Module):\n",
    "    def __init__(self, emb_szs, n_cont, out_sz, szs, emb_drop, drops, y_range, use_bn=True):\n",
    "        super().__init__()\n",
    "\n",
    "        # categorical variable을 위한 embedding matrix 생성 -> ModuleList로 묶기\n",
    "        self.embs = nn.ModuleList([nn.Embedding(c, s) for c,s in emb_szs])\n",
    "        # initialize embeddings\n",
    "#         for emb in self.embs:\n",
    "#             emb_init(emb)\n",
    "        # embedding size합\n",
    "        n_emb = sum(e.embedding_dim for e in self.embs)\n",
    "        self.n_emb = n_emb\n",
    "        self.n_cont = n_cont\n",
    "        \n",
    "        szs = [n_emb+n_cont] + szs # Linear의 input dim(embedding + cont) + Linear dim 더하기\n",
    "        # Linear Layer\n",
    "        self.lins = nn.ModuleList([nn.Linear(szs[i], szs[i+1]) for i in range(len(szs)-1)])\n",
    "        # Batch Normalization\n",
    "        self.bns = nn.ModuleList([nn.BatchNorm1d(sz) for sz in szs[1:]]) # 첫번째 Linear out부터\n",
    "        \n",
    "        #for o in self.lins: nn.init.kaiming_normal_(o.weight.data)\n",
    "        \n",
    "        # Output Layer\n",
    "        self.outp = nn.Linear(szs[-1], out_sz)\n",
    "        #nn.init.kaiming_normal_(self.outp.weight.data)\n",
    "\n",
    "        self.emb_drop = nn.Dropout(emb_drop)\n",
    "        self.drops = nn.ModuleList([nn.Dropout(drop) for drop in drops])\n",
    "        \n",
    "        # Numeric input을 위한 BatchNorm\n",
    "        self.bn = nn.BatchNorm1d(n_cont)\n",
    "        self.use_bn,self.y_range = use_bn,y_range\n",
    "\n",
    "    def forward(self, x_cat, x_cont):      \n",
    "        # categorical input\n",
    "        if self.n_emb != 0:\n",
    "            x = [e(x_cat[:,i]) for i,e in enumerate(self.embs)]\n",
    "            x = torch.cat(x, 1)\n",
    "            #x = self.emb_drop(x)\n",
    "        \n",
    "        # numeric input\n",
    "        if self.n_cont != 0:\n",
    "            x2 = self.bn(x_cont)\n",
    "            x = torch.cat([x, x2], 1) if self.n_emb != 0 else x2\n",
    "        \n",
    "        # \n",
    "        for l,b,d in zip(self.lins, self.bns, self.drops):\n",
    "            x = F.relu(l(x))\n",
    "            if self.use_bn:\n",
    "                x = b(x)\n",
    "            x = d(x)\n",
    "        x = self.outp(x)\n",
    "        if self.y_range:\n",
    "            x = torch.sigmoid(x)\n",
    "            x = x*(self.y_range[1] - self.y_range[0])\n",
    "            x = x+self.y_range[0]\n",
    "            \n",
    "        return x.squeeze()\n",
    "\n",
    "def rmse(targ, y_pred):\n",
    "    return np.sqrt(mean_squared_error(inv_y(y_pred), inv_y(targ))) #.detach().numpy()\n",
    "\n",
    "def emb_init(x):\n",
    "    x = x.weight.data\n",
    "    sc = 2/(x.size(1)+1)\n",
    "    x.uniform_(-sc,sc)\n",
    "    \n",
    "def inv_y(y): return np.exp(y)"
   ]
  },
  {
   "cell_type": "code",
   "execution_count": 171,
   "metadata": {},
   "outputs": [
    {
     "name": "stdout",
     "output_type": "stream",
     "text": [
      "cuda:0\n"
     ]
    }
   ],
   "source": [
    "# set device type\n",
    "device = 'cuda:0' if torch.cuda.is_available() else 'cpu'\n",
    "print(device)"
   ]
  },
  {
   "cell_type": "code",
   "execution_count": 172,
   "metadata": {},
   "outputs": [
    {
     "data": {
      "text/plain": [
       "MixedInputModel(\n",
       "  (embs): ModuleList(\n",
       "    (0): Embedding(8, 4)\n",
       "    (1): Embedding(13, 7)\n",
       "    (2): Embedding(54, 27)\n",
       "    (3): Embedding(32, 16)\n",
       "    (4): Embedding(8, 4)\n",
       "    (5): Embedding(367, 50)\n",
       "    (6): Embedding(25, 13)\n",
       "    (7): Embedding(61, 31)\n",
       "    (8): Embedding(61, 31)\n",
       "    (9): Embedding(3, 2)\n",
       "    (10): Embedding(3, 2)\n",
       "    (11): Embedding(3, 2)\n",
       "    (12): Embedding(3, 2)\n",
       "    (13): Embedding(3, 2)\n",
       "    (14): Embedding(3, 2)\n",
       "  )\n",
       "  (lins): ModuleList(\n",
       "    (0): Linear(in_features=204, out_features=100, bias=True)\n",
       "    (1): Linear(in_features=100, out_features=50, bias=True)\n",
       "    (2): Linear(in_features=50, out_features=30, bias=True)\n",
       "  )\n",
       "  (bns): ModuleList(\n",
       "    (0): BatchNorm1d(100, eps=1e-05, momentum=0.1, affine=True, track_running_stats=True)\n",
       "    (1): BatchNorm1d(50, eps=1e-05, momentum=0.1, affine=True, track_running_stats=True)\n",
       "    (2): BatchNorm1d(30, eps=1e-05, momentum=0.1, affine=True, track_running_stats=True)\n",
       "  )\n",
       "  (outp): Linear(in_features=30, out_features=1, bias=True)\n",
       "  (emb_drop): Dropout(p=0.04)\n",
       "  (drops): ModuleList(\n",
       "    (0): Dropout(p=0.001)\n",
       "    (1): Dropout(p=0.01)\n",
       "    (2): Dropout(p=0.01)\n",
       "  )\n",
       "  (bn): BatchNorm1d(9, eps=1e-05, momentum=0.1, affine=True, track_running_stats=True)\n",
       ")"
      ]
     },
     "execution_count": 172,
     "metadata": {},
     "output_type": "execute_result"
    }
   ],
   "source": [
    "# create model instance and initialize\n",
    "m = MixedInputModel(emb_szs=emb_szs, \n",
    "                    n_cont=len(df.columns)-len(catf), \n",
    "                    emb_drop=0.04, \n",
    "                    out_sz=1, \n",
    "#                     szs=[1000,500,250], \n",
    "                    szs=[100,50,30], \n",
    "                    drops=[0.001,0.01,0.01], \n",
    "                    y_range=y_range).to(device)\n",
    "\n",
    "opt = optim.Adam(m.parameters(), 1e-2)\n",
    "lr_cosine = lr_scheduler.CosineAnnealingLR(opt, 1000)\n",
    "\n",
    "lr = defaultdict(list)\n",
    "tloss = defaultdict(list)\n",
    "vloss = defaultdict(list)\n",
    "\n",
    "for param in m.parameters():\n",
    "    param.requires_grad = True\n",
    "\n",
    "m"
   ]
  },
  {
   "cell_type": "code",
   "execution_count": 173,
   "metadata": {},
   "outputs": [],
   "source": [
    "def model_train(model, train_dl, val_dl, loss_fn, opt, scheduler, epochs=3):\n",
    "    # total batch number\n",
    "    num_batch = len(train_dl)\n",
    "\n",
    "    # epoch 별 train / validatoin loss 적재\n",
    "    train_loss = [] # \n",
    "    val_loss = []\n",
    "\n",
    "    for epoch in tnrange(epochs):      \n",
    "        y_true_train = list()\n",
    "        y_pred_train = list()\n",
    "        t = tqdm_notebook(iter(train_dl), leave=False, total=num_batch) # t.total -> 총 iteration\n",
    "\n",
    "        total_loss_train = 0.0\n",
    "        tot_batch = 0\n",
    "        for cat, cont, y in t:\n",
    "            size_minibatch = cat.size()[0]\n",
    "            cat = cat.to(device)\n",
    "            cont = cont.to(device)\n",
    "            y = y.to(device)\n",
    "\n",
    "    #             t.set_description(f'Epoch {epoch}')\n",
    "\n",
    "            opt.zero_grad()\n",
    "            pred = model(cat, cont)\n",
    "            loss = loss_fn(pred, y)\n",
    "    #         if np.isnan(loss.to('cpu').detach().numpy().item()):\n",
    "    #             break\n",
    "            loss.backward()\n",
    "            lr[epoch].append(opt.param_groups[0]['lr'])\n",
    "            tloss[epoch].append(loss.item())\n",
    "            scheduler.step()\n",
    "            opt.step()\n",
    "\n",
    "            t.set_postfix(loss=loss.item())\n",
    "\n",
    "            y_true_train += list(y.to('cpu').data.numpy())\n",
    "            y_pred_train += list(pred.to('cpu').data.numpy())\n",
    "            total_loss_train += loss.item()*size_minibatch\n",
    "            tot_batch += size_minibatch\n",
    "\n",
    "        epoch_loss = total_loss_train / tot_batch     \n",
    "        train_loss.append((epoch, epoch_loss, 'train_loss'))        \n",
    "        train_acc = rmse(y_true_train, y_pred_train)\n",
    "\n",
    "\n",
    "\n",
    "        if val_dl:\n",
    "            y_true_val = list()\n",
    "            y_pred_val = list()\n",
    "\n",
    "            total_loss_val = 0.0\n",
    "            total_val_batch = 0\n",
    "            for cat, cont, y in tqdm_notebook(val_dl, leave=False):\n",
    "                val_size_minibatch = cat.size()[0]\n",
    "                cat = cat.to(device)\n",
    "                cont = cont.to(device)\n",
    "                y = y.to(device)\n",
    "                pred = model(cat, cont)\n",
    "                loss = loss_fn(pred, y)\n",
    "\n",
    "                vloss[epoch].append(loss.item())\n",
    "\n",
    "                y_true_val += list(y.to('cpu').data.numpy())\n",
    "                y_pred_val += list(pred.to('cpu').data.numpy())      \n",
    "                total_loss_val += loss.item()*val_size_minibatch\n",
    "                total_val_batch += val_size_minibatch\n",
    "\n",
    "\n",
    "            epoch_val_loss = total_loss_val / total_val_batch   \n",
    "            val_loss.append((epoch, epoch_val_loss, 'val_loss'))\n",
    "            val_acc = rmse(y_true_val, y_pred_val)\n",
    "\n",
    "\n",
    "        if val_dl:\n",
    "            print('epoch {} / train_loss {:.4f} / val loss {:.4f} / train_acc {:.4f} / val_acc {:.4f}'.format(epoch, epoch_loss, epoch_val_loss, train_acc, val_acc))\n",
    "        else:\n",
    "            print('epoch {} / train_loss {:.4f} / train_acc {:.4f}'.format(epoch, epoch_loss, train_acc))\n",
    "\n",
    "    return train_loss, val_loss"
   ]
  },
  {
   "cell_type": "code",
   "execution_count": 174,
   "metadata": {},
   "outputs": [
    {
     "data": {
      "application/vnd.jupyter.widget-view+json": {
       "model_id": "800f5a3740974f868ef9de4a954d2058",
       "version_major": 2,
       "version_minor": 0
      },
      "text/plain": [
       "HBox(children=(IntProgress(value=0, max=10), HTML(value='')))"
      ]
     },
     "metadata": {},
     "output_type": "display_data"
    },
    {
     "data": {
      "application/vnd.jupyter.widget-view+json": {
       "model_id": "",
       "version_major": 2,
       "version_minor": 0
      },
      "text/plain": [
       "HBox(children=(IntProgress(value=0, max=1051), HTML(value='')))"
      ]
     },
     "metadata": {},
     "output_type": "display_data"
    },
    {
     "data": {
      "application/vnd.jupyter.widget-view+json": {
       "model_id": "",
       "version_major": 2,
       "version_minor": 0
      },
      "text/plain": [
       "HBox(children=(IntProgress(value=0, max=351), HTML(value='')))"
      ]
     },
     "metadata": {},
     "output_type": "display_data"
    },
    {
     "name": "stdout",
     "output_type": "stream",
     "text": [
      "epoch 0 / train_loss 0.1901 / val loss 0.1210 / train_acc 7.5116 / val_acc 5.7821\n"
     ]
    },
    {
     "data": {
      "application/vnd.jupyter.widget-view+json": {
       "model_id": "",
       "version_major": 2,
       "version_minor": 0
      },
      "text/plain": [
       "HBox(children=(IntProgress(value=0, max=1051), HTML(value='')))"
      ]
     },
     "metadata": {},
     "output_type": "display_data"
    },
    {
     "data": {
      "application/vnd.jupyter.widget-view+json": {
       "model_id": "",
       "version_major": 2,
       "version_minor": 0
      },
      "text/plain": [
       "HBox(children=(IntProgress(value=0, max=351), HTML(value='')))"
      ]
     },
     "metadata": {},
     "output_type": "display_data"
    },
    {
     "name": "stdout",
     "output_type": "stream",
     "text": [
      "epoch 1 / train_loss 0.1110 / val loss 0.0890 / train_acc 5.7710 / val_acc 5.1384\n"
     ]
    },
    {
     "data": {
      "application/vnd.jupyter.widget-view+json": {
       "model_id": "",
       "version_major": 2,
       "version_minor": 0
      },
      "text/plain": [
       "HBox(children=(IntProgress(value=0, max=1051), HTML(value='')))"
      ]
     },
     "metadata": {},
     "output_type": "display_data"
    },
    {
     "data": {
      "application/vnd.jupyter.widget-view+json": {
       "model_id": "",
       "version_major": 2,
       "version_minor": 0
      },
      "text/plain": [
       "HBox(children=(IntProgress(value=0, max=351), HTML(value='')))"
      ]
     },
     "metadata": {},
     "output_type": "display_data"
    },
    {
     "name": "stdout",
     "output_type": "stream",
     "text": [
      "epoch 2 / train_loss 0.0833 / val loss 0.0797 / train_acc 5.1606 / val_acc 4.7942\n"
     ]
    },
    {
     "data": {
      "application/vnd.jupyter.widget-view+json": {
       "model_id": "",
       "version_major": 2,
       "version_minor": 0
      },
      "text/plain": [
       "HBox(children=(IntProgress(value=0, max=1051), HTML(value='')))"
      ]
     },
     "metadata": {},
     "output_type": "display_data"
    },
    {
     "data": {
      "application/vnd.jupyter.widget-view+json": {
       "model_id": "",
       "version_major": 2,
       "version_minor": 0
      },
      "text/plain": [
       "HBox(children=(IntProgress(value=0, max=351), HTML(value='')))"
      ]
     },
     "metadata": {},
     "output_type": "display_data"
    },
    {
     "name": "stdout",
     "output_type": "stream",
     "text": [
      "epoch 3 / train_loss 0.0834 / val loss 0.0832 / train_acc 5.1682 / val_acc 4.9772\n"
     ]
    },
    {
     "data": {
      "application/vnd.jupyter.widget-view+json": {
       "model_id": "",
       "version_major": 2,
       "version_minor": 0
      },
      "text/plain": [
       "HBox(children=(IntProgress(value=0, max=1051), HTML(value='')))"
      ]
     },
     "metadata": {},
     "output_type": "display_data"
    },
    {
     "data": {
      "application/vnd.jupyter.widget-view+json": {
       "model_id": "",
       "version_major": 2,
       "version_minor": 0
      },
      "text/plain": [
       "HBox(children=(IntProgress(value=0, max=351), HTML(value='')))"
      ]
     },
     "metadata": {},
     "output_type": "display_data"
    },
    {
     "name": "stdout",
     "output_type": "stream",
     "text": [
      "epoch 4 / train_loss 0.0785 / val loss 0.0769 / train_acc 5.0566 / val_acc 4.7655\n"
     ]
    },
    {
     "data": {
      "application/vnd.jupyter.widget-view+json": {
       "model_id": "",
       "version_major": 2,
       "version_minor": 0
      },
      "text/plain": [
       "HBox(children=(IntProgress(value=0, max=1051), HTML(value='')))"
      ]
     },
     "metadata": {},
     "output_type": "display_data"
    },
    {
     "data": {
      "application/vnd.jupyter.widget-view+json": {
       "model_id": "",
       "version_major": 2,
       "version_minor": 0
      },
      "text/plain": [
       "HBox(children=(IntProgress(value=0, max=351), HTML(value='')))"
      ]
     },
     "metadata": {},
     "output_type": "display_data"
    },
    {
     "name": "stdout",
     "output_type": "stream",
     "text": [
      "epoch 5 / train_loss 0.0800 / val loss 0.0809 / train_acc 5.0838 / val_acc 4.8193\n"
     ]
    },
    {
     "data": {
      "application/vnd.jupyter.widget-view+json": {
       "model_id": "",
       "version_major": 2,
       "version_minor": 0
      },
      "text/plain": [
       "HBox(children=(IntProgress(value=0, max=1051), HTML(value='')))"
      ]
     },
     "metadata": {},
     "output_type": "display_data"
    },
    {
     "data": {
      "application/vnd.jupyter.widget-view+json": {
       "model_id": "",
       "version_major": 2,
       "version_minor": 0
      },
      "text/plain": [
       "HBox(children=(IntProgress(value=0, max=351), HTML(value='')))"
      ]
     },
     "metadata": {},
     "output_type": "display_data"
    },
    {
     "name": "stdout",
     "output_type": "stream",
     "text": [
      "epoch 6 / train_loss 0.0754 / val loss 0.0759 / train_acc 4.9552 / val_acc 4.7884\n"
     ]
    },
    {
     "data": {
      "application/vnd.jupyter.widget-view+json": {
       "model_id": "",
       "version_major": 2,
       "version_minor": 0
      },
      "text/plain": [
       "HBox(children=(IntProgress(value=0, max=1051), HTML(value='')))"
      ]
     },
     "metadata": {},
     "output_type": "display_data"
    },
    {
     "data": {
      "application/vnd.jupyter.widget-view+json": {
       "model_id": "",
       "version_major": 2,
       "version_minor": 0
      },
      "text/plain": [
       "HBox(children=(IntProgress(value=0, max=351), HTML(value='')))"
      ]
     },
     "metadata": {},
     "output_type": "display_data"
    },
    {
     "name": "stdout",
     "output_type": "stream",
     "text": [
      "epoch 7 / train_loss 0.0778 / val loss 0.0765 / train_acc 5.0348 / val_acc 4.7489\n"
     ]
    },
    {
     "data": {
      "application/vnd.jupyter.widget-view+json": {
       "model_id": "",
       "version_major": 2,
       "version_minor": 0
      },
      "text/plain": [
       "HBox(children=(IntProgress(value=0, max=1051), HTML(value='')))"
      ]
     },
     "metadata": {},
     "output_type": "display_data"
    },
    {
     "data": {
      "application/vnd.jupyter.widget-view+json": {
       "model_id": "",
       "version_major": 2,
       "version_minor": 0
      },
      "text/plain": [
       "HBox(children=(IntProgress(value=0, max=351), HTML(value='')))"
      ]
     },
     "metadata": {},
     "output_type": "display_data"
    },
    {
     "name": "stdout",
     "output_type": "stream",
     "text": [
      "epoch 8 / train_loss 0.0735 / val loss 0.0767 / train_acc 4.8912 / val_acc 4.7849\n"
     ]
    },
    {
     "data": {
      "application/vnd.jupyter.widget-view+json": {
       "model_id": "",
       "version_major": 2,
       "version_minor": 0
      },
      "text/plain": [
       "HBox(children=(IntProgress(value=0, max=1051), HTML(value='')))"
      ]
     },
     "metadata": {},
     "output_type": "display_data"
    },
    {
     "data": {
      "application/vnd.jupyter.widget-view+json": {
       "model_id": "",
       "version_major": 2,
       "version_minor": 0
      },
      "text/plain": [
       "HBox(children=(IntProgress(value=0, max=351), HTML(value='')))"
      ]
     },
     "metadata": {},
     "output_type": "display_data"
    },
    {
     "name": "stdout",
     "output_type": "stream",
     "text": [
      "epoch 9 / train_loss 0.0769 / val loss 0.0748 / train_acc 5.0099 / val_acc 4.7028\n"
     ]
    }
   ],
   "source": [
    "res = model_train(m, train_dataloader, test_dataloader, F.mse_loss, opt, lr_cosine, 10)"
   ]
  }
 ],
 "metadata": {
  "kernelspec": {
   "display_name": "Python 3",
   "language": "python",
   "name": "python3"
  },
  "language_info": {
   "codemirror_mode": {
    "name": "ipython",
    "version": 3
   },
   "file_extension": ".py",
   "mimetype": "text/x-python",
   "name": "python",
   "nbconvert_exporter": "python",
   "pygments_lexer": "ipython3",
   "version": "3.5.3+"
  }
 },
 "nbformat": 4,
 "nbformat_minor": 2
}
