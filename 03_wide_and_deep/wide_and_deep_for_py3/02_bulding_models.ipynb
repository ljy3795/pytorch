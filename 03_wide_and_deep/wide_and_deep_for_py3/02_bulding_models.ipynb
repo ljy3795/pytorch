{
 "cells": [
  {
   "cell_type": "markdown",
   "metadata": {},
   "source": [
    "---\n",
    "### Building Models\n",
    "(Ref. : https://github.com/jrzaurin/Wide-and-Deep-PyTorch)\n",
    "- These are the steps for building tensorflow's wide and deep learning model using PyTorch.\n",
    "- Steps:\n",
    "  - 1) Prepare data set\n",
    "  - 2-1) Build PyTorch model for **the Wide part**\n",
    "  - 2-2) Build PyTorch model for **the Deep part**\n",
    "  - 3) Combine **the Wide and the Deep part model** to make final wide and deep learning model \n",
    "---"
   ]
  },
  {
   "cell_type": "code",
   "execution_count": 1,
   "metadata": {
    "ExecuteTime": {
     "end_time": "2018-09-11T04:26:42.974546Z",
     "start_time": "2018-09-11T04:26:42.502870Z"
    }
   },
   "outputs": [],
   "source": [
    "import numpy as np\n",
    "import pandas as pd\n",
    "\n",
    "import os, copy\n",
    "\n",
    "from wide_and_deep.utils import prepare_dataset"
   ]
  },
  {
   "cell_type": "markdown",
   "metadata": {},
   "source": [
    "---\n",
    "#### 1) Prepare data set\n",
    "---"
   ]
  },
  {
   "cell_type": "code",
   "execution_count": 2,
   "metadata": {
    "ExecuteTime": {
     "end_time": "2018-09-11T04:26:43.096654Z",
     "start_time": "2018-09-11T04:26:42.976544Z"
    }
   },
   "outputs": [
    {
     "name": "stdout",
     "output_type": "stream",
     "text": [
      "Target : 11687 / Non-Target : 37155\n"
     ]
    }
   ],
   "source": [
    "### Load the data set from '.data/audult_data.csv'\n",
    "raw_df = pd.read_csv(os.path.join(str(os.getcwd()), 'data/adult_data.csv'))\n",
    "\n",
    "raw_df['income_label'] = raw_df['income_bracket'].apply(lambda x: 1 if '>50K' in x or '>50K.' in x else 0)\n",
    "print('Target : {} / Non-Target : {}'.format(len(raw_df[raw_df.income_label == 1]), len(raw_df[raw_df.income_label != 1])))\n",
    "\n",
    "# For Wide and Crossed network (for memorization)\n",
    "wide_cols = ['age','hours_per_week','education', 'relationship','workclass',\n",
    "             'occupation','native_country','gender']\n",
    "crossed_cols = (['education', 'occupation'], ['native_country', 'occupation']) # pair-combination \n",
    "\n",
    "# For Deep network (embedding + continuous) (for generalization)\n",
    "continuous_cols = [\"age\",\"hours_per_week\"]\n",
    "\n",
    "embeddings_cols = [('education',10), ('relationship',8), ('workclass',10),\n",
    "                    ('occupation',10),('native_country',12)] # column name / embedding dim."
   ]
  },
  {
   "cell_type": "code",
   "execution_count": 3,
   "metadata": {
    "ExecuteTime": {
     "end_time": "2018-09-11T04:26:45.825210Z",
     "start_time": "2018-09-11T04:26:43.098706Z"
    }
   },
   "outputs": [
    {
     "name": "stderr",
     "output_type": "stream",
     "text": [
      "/home/ubuntu/anaconda3/envs/pytorch_p36/lib/python3.6/site-packages/sklearn/utils/validation.py:475: DataConversionWarning: Data with input dtype int64 was converted to float64 by StandardScaler.\n",
      "  warnings.warn(msg, DataConversionWarning)\n"
     ]
    },
    {
     "name": "stdout",
     "output_type": "stream",
     "text": [
      "return key values dict_keys(['train_set', 'test_set', 'embeddings_input', 'deep_column_idx', 'encoding_dict'])\n"
     ]
    }
   ],
   "source": [
    "out_dataset = prepare_dataset(raw_df, wide_cols, crossed_cols, embeddings_cols, \n",
    "                              continuous_cols, target = 'income_label', scale = True, seed = 1)"
   ]
  },
  {
   "cell_type": "markdown",
   "metadata": {},
   "source": [
    "---\n",
    "### 2-1) Wide part\n",
    "---"
   ]
  },
  {
   "cell_type": "code",
   "execution_count": 4,
   "metadata": {
    "ExecuteTime": {
     "end_time": "2018-09-11T04:26:45.995060Z",
     "start_time": "2018-09-11T04:26:45.827250Z"
    }
   },
   "outputs": [],
   "source": [
    "import torch\n",
    "import torch.nn as nn\n",
    "import torch.nn.functional as F\n",
    "import torch.optim as optim\n",
    "from torch.utils.data import *"
   ]
  },
  {
   "cell_type": "markdown",
   "metadata": {},
   "source": [
    "#### the Wide part : \n",
    " - build the Wide part for memorization\n",
    " - this part would be simple regresssion model with one Linear layer\n",
    "   - Input dimension : the number of features in wide part\n",
    "   - Output dimension : one for regression output (activated with sigmoid function)"
   ]
  },
  {
   "cell_type": "code",
   "execution_count": 5,
   "metadata": {
    "ExecuteTime": {
     "end_time": "2018-09-11T04:26:46.002884Z",
     "start_time": "2018-09-11T04:26:45.999124Z"
    }
   },
   "outputs": [
    {
     "name": "stdout",
     "output_type": "stream",
     "text": [
      "Linear(in_features=798, out_features=1, bias=True)\n"
     ]
    }
   ],
   "source": [
    "wide_dim = out_dataset['train_set'].wide.shape[1]\n",
    "n_class  = 1\n",
    "wide_part = nn.Linear(wide_dim, n_class)\n",
    "\n",
    "print(wide_part)"
   ]
  },
  {
   "cell_type": "code",
   "execution_count": 6,
   "metadata": {
    "ExecuteTime": {
     "end_time": "2018-09-11T04:26:46.009325Z",
     "start_time": "2018-09-11T04:26:46.004516Z"
    }
   },
   "outputs": [],
   "source": [
    "### define the class for wide network\n",
    "class wideNet(nn.Module):\n",
    "    \n",
    "    def __init__(self, wide_dim, n_class):\n",
    "        super(wideNet, self).__init__()\n",
    "        self.wide_dim = wide_dim\n",
    "        self.n_class = n_class\n",
    "        \n",
    "        self.ly1 = nn.Linear(self.wide_dim, self.n_class)\n",
    "#         self.ly1 = nn.Linear(self.wide_dim, 10)\n",
    "#         self.ly2 = nn.Linear(10, self.n_class)\n",
    "        \n",
    "    def forward(self, x):\n",
    "        out = F.sigmoid(self.ly1(x))\n",
    "#         x = F.sigmoid(self.ly1(x))\n",
    "#         out = F.sigmoid(self.ly2(x))\n",
    "        \n",
    "        return out"
   ]
  },
  {
   "cell_type": "code",
   "execution_count": 7,
   "metadata": {
    "ExecuteTime": {
     "end_time": "2018-09-11T04:26:46.015245Z",
     "start_time": "2018-09-11T04:26:46.011575Z"
    }
   },
   "outputs": [
    {
     "name": "stdout",
     "output_type": "stream",
     "text": [
      "wideNet(\n",
      "  (ly1): Linear(in_features=798, out_features=1, bias=True)\n",
      ")\n"
     ]
    }
   ],
   "source": [
    "net = wideNet(wide_dim, n_class)\n",
    "print(net)"
   ]
  },
  {
   "cell_type": "code",
   "execution_count": 8,
   "metadata": {
    "ExecuteTime": {
     "end_time": "2018-09-11T04:26:46.114915Z",
     "start_time": "2018-09-11T04:26:46.017844Z"
    }
   },
   "outputs": [
    {
     "name": "stdout",
     "output_type": "stream",
     "text": [
      "torch.Size([34189, 798]) torch.Size([34189, 1])\n",
      "torch.Size([14653, 798]) torch.Size([14653, 1])\n"
     ]
    }
   ],
   "source": [
    "# make dataloader for train/test set of the Wide part\n",
    "w_train_x = torch.tensor(out_dataset['train_set'].wide, dtype=torch.float)\n",
    "w_train_y = torch.tensor(out_dataset['train_set'].labels.reshape(-1,1), dtype=torch.float)\n",
    "print(w_train_x.size(), w_train_y.size())\n",
    "\n",
    "w_test_x = torch.tensor(out_dataset['test_set'].wide, dtype=torch.float)\n",
    "w_test_y = torch.tensor(out_dataset['test_set'].labels.reshape(-1,1), dtype=torch.float)\n",
    "print(w_test_x.size(), w_test_y.size())\n",
    "\n",
    "batch_size = 64\n",
    "\n",
    "# convert Torch tensors to TensorDataset with batch size\n",
    "w_train_set = TensorDataset(w_train_x, w_train_y)\n",
    "w_train_loader = DataLoader(w_train_set, batch_size, shuffle = True, num_workers=1)\n",
    "\n",
    "w_test_set = TensorDataset(w_test_x, w_test_y)\n",
    "w_test_loader = DataLoader(w_test_set, batch_size, shuffle = True, num_workers=1)"
   ]
  },
  {
   "cell_type": "code",
   "execution_count": 9,
   "metadata": {
    "ExecuteTime": {
     "end_time": "2018-09-11T04:26:46.130144Z",
     "start_time": "2018-09-11T04:26:46.117307Z"
    },
    "scrolled": true
   },
   "outputs": [],
   "source": [
    "## we defiend train function\n",
    "\n",
    "def train_model(net, device, train_loader, test_loader, opt_fn, loss_fn, n_epochs, log_num = 1):\n",
    "    # best model's weigths\n",
    "    best_model_wts = copy.deepcopy(net.state_dict())\n",
    "    best_val_acc = 0.0\n",
    "\n",
    "    train_loss = []\n",
    "    test_loss = []\n",
    "\n",
    "    for epoch in range(n_epochs):\n",
    "        #################################################\n",
    "        ## Training Part\n",
    "        #################################################\n",
    "        running_total =0.0\n",
    "        running_correct =0.0\n",
    "        running_loss = 0.0\n",
    "\n",
    "        for i, data in enumerate(train_loader):\n",
    "            inputs, labels = data[0].to(device), data[1].to(device)\n",
    "\n",
    "            # zerograd\n",
    "            opt_fn.zero_grad()\n",
    "\n",
    "            # forward\n",
    "            y_pred = net(inputs)\n",
    "            loss = loss_fn(y_pred, labels)\n",
    "\n",
    "            # backward\n",
    "            loss.backward()\n",
    "            opt_fn.step()\n",
    "        \n",
    "        \n",
    "            ############\n",
    "            # 1) loss\n",
    "            running_loss += loss.item()*inputs.size(0)\n",
    "\n",
    "            ############\n",
    "            # 2) metric\n",
    "            y_pred_cnvt = (y_pred > 0.5).squeeze(1).float() # (= (y_pred > 0.5).view(-1))\n",
    "            running_correct+= float((y_pred_cnvt == labels.squeeze(1)).sum().item())\n",
    "\n",
    "            running_total += y_pred.size(0) # total number of samples (accumulated)\n",
    "\n",
    "        #################################################\n",
    "        ## train epoch loss\n",
    "        epoch_loss = running_loss / int(running_total)\n",
    "        epoch_acc = running_correct / int(running_total)\n",
    "\n",
    "        train_loss.append((epoch, epoch_loss, 'loss'))\n",
    "        train_loss.append((epoch, epoch_acc, 'acc'))\n",
    "\n",
    "        if (epoch+1)%log_num == 1:\n",
    "            print ('[Train] Epoch {} / {}, Loss: {}, accuracy: {}'.format(epoch+1,\n",
    "                n_epochs, round(epoch_loss,3), round(epoch_acc,4)))\n",
    "\n",
    "        #################################################\n",
    "        ## Test Part\n",
    "        #################################################\n",
    "        running_total = 0.0\n",
    "        running_correct = 0.0\n",
    "        running_loss = 0.0\n",
    "\n",
    "        for i, data in enumerate(test_loader):\n",
    "            inputs, labels = data[0].to(device), data[1].to(device)\n",
    "\n",
    "            # forward\n",
    "            y_pred = net(inputs)\n",
    "            loss = loss_fn(y_pred, labels)\n",
    "\n",
    "            ############\n",
    "            # 1) loss\n",
    "            running_loss += loss.item()*inputs.size(0)\n",
    "\n",
    "            ############\n",
    "            # 2) metric\n",
    "            y_pred_cnvt = (y_pred > 0.5).squeeze(1).float() # (= (y_pred > 0.5).view(-1))\n",
    "            running_correct += float((y_pred_cnvt == labels.squeeze(1)).sum().item())\n",
    "\n",
    "            running_total += y_pred.size(0) # total number of samples (accumulated)\n",
    "\n",
    "        #################################################\n",
    "        ## test epoch loss\n",
    "        epoch_loss = running_loss / int(running_total)\n",
    "        epoch_acc = running_correct / int(running_total)\n",
    "\n",
    "        test_loss.append((epoch, epoch_loss, 'loss'))\n",
    "        test_loss.append((epoch, epoch_acc, 'acc'))\n",
    "\n",
    "        if (epoch+1)%log_num == 1:\n",
    "            print ('[Test] Epoch {} / {}, Loss: {}, accuracy: {}'.format(epoch+1,\n",
    "                n_epochs, round(epoch_loss,3), round(epoch_acc,4)))\n",
    "            print()\n",
    "\n",
    "        if best_val_acc < epoch_acc:\n",
    "            best_val_acc = epoch_acc\n",
    "            best_model_wts = copy.deepcopy(net.state_dict()) # 여러 epoch 중 가장 결과가 좋았던 epoch 찾기\n",
    "            best_epoch_num = epoch + 1\n",
    "        \n",
    "    # load best model weights\n",
    "    net.load_state_dict(best_model_wts)\n",
    "    \n",
    "    return net, train_loss, test_loss, best_val_acc, best_epoch_num"
   ]
  },
  {
   "cell_type": "code",
   "execution_count": 10,
   "metadata": {
    "ExecuteTime": {
     "end_time": "2018-09-11T04:26:46.139151Z",
     "start_time": "2018-09-11T04:26:46.131917Z"
    }
   },
   "outputs": [],
   "source": [
    "# we define visualization function of running results\n",
    "def print_run(train_loss, test_loss):\n",
    "    # visualzing for epoch running\n",
    "    from matplotlib import pyplot as plt\n",
    "    import seaborn as sns\n",
    "    sns.set_style('darkgrid')\n",
    "    %matplotlib inline\n",
    "\n",
    "    # loss 관련 data\n",
    "    df_1 = pd.DataFrame(train_loss, columns = ['index','value', 'type']).reset_index()\n",
    "    df_2 = pd.DataFrame(test_loss, columns = ['index','value', 'type']).reset_index()\n",
    "\n",
    "\n",
    "    f, (ax1, ax2) = plt.subplots(2, 1, facecolor = 'white', figsize = (10,14), sharey=True)\n",
    "\n",
    "    legend = [\"loss\", \"acc\"]\n",
    "    sns.lineplot(x = 'index', y = 'value', data = df_1, hue = 'type', ax = ax1)\n",
    "    ax1.set_title('train loss', fontsize = 14, fontweight = 'bold')\n",
    "    ax1.set_xlabel('epoch', fontsize=15)\n",
    "    ax1.set_ylabel('metrics', fontsize=15)\n",
    "    ax1.ticklabel_format(style = 'plain', axis = 'y')\n",
    "    ax1.tick_params(labelsize = 14)\n",
    "    ax1.legend(legend, fontsize = 15)\n",
    "\n",
    "\n",
    "    legend = [\"loss\", \"acc\"]\n",
    "    sns.lineplot(x = 'index', y = 'value', data = df_2, hue = 'type', ax = ax2)\n",
    "    ax2.set_title('val loss', fontsize = 14, fontweight = 'bold')\n",
    "    ax2.set_xlabel('epoch', fontsize=15)\n",
    "    ax2.set_ylabel('metrics', fontsize=15)\n",
    "    ax2.ticklabel_format(style = 'plain', axis = 'y')\n",
    "    ax2.tick_params(labelsize = 14)\n",
    "    ax2.legend(legend, fontsize = 15)\n",
    "    \n",
    "    return f"
   ]
  },
  {
   "cell_type": "code",
   "execution_count": 11,
   "metadata": {
    "ExecuteTime": {
     "end_time": "2018-09-11T04:28:12.485350Z",
     "start_time": "2018-09-11T04:26:46.141064Z"
    }
   },
   "outputs": [
    {
     "name": "stderr",
     "output_type": "stream",
     "text": [
      "/home/ubuntu/anaconda3/envs/pytorch_p36/lib/python3.6/site-packages/torch/nn/functional.py:1006: UserWarning: nn.functional.sigmoid is deprecated. Use torch.sigmoid instead.\n",
      "  warnings.warn(\"nn.functional.sigmoid is deprecated. Use torch.sigmoid instead.\")\n"
     ]
    },
    {
     "name": "stdout",
     "output_type": "stream",
     "text": [
      "[Train] Epoch 1 / 50, Loss: 0.485, accuracy: 0.7859\n",
      "[Test] Epoch 1 / 50, Loss: 0.413, accuracy: 0.8081\n",
      "\n",
      "[Train] Epoch 6 / 50, Loss: 0.354, accuracy: 0.8359\n",
      "[Test] Epoch 6 / 50, Loss: 0.355, accuracy: 0.8308\n",
      "\n",
      "[Train] Epoch 11 / 50, Loss: 0.348, accuracy: 0.8376\n",
      "[Test] Epoch 11 / 50, Loss: 0.352, accuracy: 0.8333\n",
      "\n",
      "[Train] Epoch 16 / 50, Loss: 0.347, accuracy: 0.8378\n",
      "[Test] Epoch 16 / 50, Loss: 0.351, accuracy: 0.8335\n",
      "\n",
      "[Train] Epoch 21 / 50, Loss: 0.346, accuracy: 0.839\n",
      "[Test] Epoch 21 / 50, Loss: 0.352, accuracy: 0.8338\n",
      "\n",
      "[Train] Epoch 26 / 50, Loss: 0.345, accuracy: 0.8387\n",
      "[Test] Epoch 26 / 50, Loss: 0.353, accuracy: 0.8327\n",
      "\n",
      "[Train] Epoch 31 / 50, Loss: 0.344, accuracy: 0.8388\n",
      "[Test] Epoch 31 / 50, Loss: 0.353, accuracy: 0.8322\n",
      "\n",
      "[Train] Epoch 36 / 50, Loss: 0.344, accuracy: 0.8389\n",
      "[Test] Epoch 36 / 50, Loss: 0.354, accuracy: 0.8327\n",
      "\n",
      "[Train] Epoch 41 / 50, Loss: 0.344, accuracy: 0.8393\n",
      "[Test] Epoch 41 / 50, Loss: 0.355, accuracy: 0.8325\n",
      "\n",
      "[Train] Epoch 46 / 50, Loss: 0.343, accuracy: 0.8396\n",
      "[Test] Epoch 46 / 50, Loss: 0.355, accuracy: 0.8322\n",
      "\n"
     ]
    }
   ],
   "source": [
    "## Set the parameters and train/test the Wide part model\n",
    "w_net = wideNet(wide_dim, n_class)\n",
    "device = 'cuda:0' if torch.cuda.is_available() else 'cpu'\n",
    "w_net = w_net.to(device)\n",
    "\n",
    "opt_fn = optim.Adam(w_net.parameters())\n",
    "loss_fn = nn.BCELoss() # binary classification loss\n",
    "\n",
    "n_epochs = 50\n",
    "\n",
    "w_net, train_loss, test_loss, best_val_acc, best_epoch_num = \\\n",
    "    train_model(w_net, device, w_train_loader, w_test_loader, opt_fn, loss_fn, n_epochs, log_num = 5)"
   ]
  },
  {
   "cell_type": "code",
   "execution_count": 12,
   "metadata": {
    "ExecuteTime": {
     "end_time": "2018-09-11T04:28:13.285617Z",
     "start_time": "2018-09-11T04:28:12.488776Z"
    }
   },
   "outputs": [
    {
     "data": {
      "image/png": "[encoded data removed]",
      "text/plain": [
       "<Figure size 720x1008 with 2 Axes>"
      ]
     },
     "metadata": {},
     "output_type": "display_data"
    }
   ],
   "source": [
    "f = print_run(train_loss, test_loss)"
   ]
  },
  {
   "cell_type": "code",
   "execution_count": null,
   "metadata": {},
   "outputs": [],
   "source": []
  },
  {
   "cell_type": "markdown",
   "metadata": {},
   "source": [
    "---\n",
    "### 2-2) Deep part\n",
    "---"
   ]
  },
  {
   "cell_type": "markdown",
   "metadata": {},
   "source": [
    "#### the Deep part : \n",
    " - build the Wide part for generalizatoin\n",
    " - this part would be simple regression as same as the Wide part. But the differences are\n",
    " - concatenate of embedding layers for categorical and numerical features and Linear Layer\n",
    "   - Input dimension : the sum of the number of output dimension of each embedding layers and the input number of Linear layer\n",
    "   - Output dimension : one for regression output (activated with sigmoid function)"
   ]
  },
  {
   "cell_type": "code",
   "execution_count": 13,
   "metadata": {
    "ExecuteTime": {
     "end_time": "2018-09-11T04:28:13.291206Z",
     "start_time": "2018-09-11T04:28:13.287672Z"
    }
   },
   "outputs": [
    {
     "name": "stdout",
     "output_type": "stream",
     "text": [
      "[['education', 16, 10], ['relationship', 6, 8], ['workclass', 9, 10], ['native_country', 42, 12], ['occupation', 15, 10]]\n",
      "{'education': 0, 'relationship': 1, 'workclass': 2, 'occupation': 3, 'native_country': 4, 'age': 5, 'hours_per_week': 6}\n"
     ]
    }
   ],
   "source": [
    "print(out_dataset['embeddings_input']) # column name / # of categorical vals / # embedding dims\n",
    "print(out_dataset['deep_column_idx'])"
   ]
  },
  {
   "cell_type": "code",
   "execution_count": 14,
   "metadata": {
    "ExecuteTime": {
     "end_time": "2018-09-11T04:28:13.297012Z",
     "start_time": "2018-09-11T04:28:13.293182Z"
    }
   },
   "outputs": [
    {
     "name": "stdout",
     "output_type": "stream",
     "text": [
      "Embedding(16, 10)\n"
     ]
    }
   ],
   "source": [
    "## sample embedding layer\n",
    "sample_emb_info = out_dataset['embeddings_input'][0]\n",
    "sample_emb_ly = nn.Embedding(sample_emb_info[1], sample_emb_info[2])\n",
    "print(sample_emb_ly)"
   ]
  },
  {
   "cell_type": "code",
   "execution_count": 15,
   "metadata": {
    "ExecuteTime": {
     "end_time": "2018-09-11T04:28:13.306308Z",
     "start_time": "2018-09-11T04:28:13.299052Z"
    }
   },
   "outputs": [
    {
     "name": "stdout",
     "output_type": "stream",
     "text": [
      "torch.Size([34189, 7]) torch.Size([34189, 1])\n",
      "torch.Size([14653, 7]) torch.Size([14653, 1])\n"
     ]
    }
   ],
   "source": [
    "d_train_x = torch.tensor(out_dataset['train_set'].deep, dtype=torch.float)\n",
    "d_train_y = torch.tensor(out_dataset['train_set'].labels.reshape(-1,1), dtype=torch.float)\n",
    "print(d_train_x.size(), d_train_y.size())\n",
    "\n",
    "d_test_x = torch.tensor(out_dataset['test_set'].deep, dtype=torch.float)\n",
    "d_test_y = torch.tensor(out_dataset['test_set'].labels.reshape(-1,1), dtype=torch.float)\n",
    "print(d_test_x.size(), d_test_y.size())\n",
    "\n",
    "batch_size = 64\n",
    "\n",
    "d_train_set = TensorDataset(d_train_x, d_train_y)\n",
    "d_train_loader = DataLoader(d_train_set, batch_size, shuffle = True, num_workers=1)\n",
    "\n",
    "d_test_set = TensorDataset(d_test_x, d_test_y)\n",
    "d_test_loader = DataLoader(d_test_set, batch_size, shuffle = True, num_workers=1)"
   ]
  },
  {
   "cell_type": "code",
   "execution_count": 16,
   "metadata": {
    "ExecuteTime": {
     "end_time": "2018-09-11T04:28:13.315682Z",
     "start_time": "2018-09-11T04:28:13.307973Z"
    }
   },
   "outputs": [],
   "source": [
    "### deep part network\n",
    "class deepNet(nn.Module):\n",
    "    \n",
    "    def __init__(self, embeddings_input, continuous_cols, deep_column_idx, n_hiddens, n_class):\n",
    "        super(deepNet, self).__init__()\n",
    "        self.embeddings_input = embeddings_input\n",
    "        self.continuous_cols = continuous_cols\n",
    "        self.deep_column_idx = deep_column_idx\n",
    "        self.n_hiddens = n_hiddens\n",
    "        self.n_class = n_class\n",
    "        \n",
    "        \n",
    "        # make embedding layers for categorical variables\n",
    "        ## embedding : # of cols x # of embedding dims.\n",
    "        for col, n_col, n_dim in self.embeddings_input:\n",
    "            setattr(self, 'emb_ly_'+str(col), nn.Embedding(n_col, n_dim)) # (class, inst name, value)\n",
    "            \n",
    "        # add linear layer after concatenating of embedding layers and linear of continuous layer\n",
    "        input_emb_dim = np.sum(emb[2] for emb in self.embeddings_input)\n",
    "        self.ly1 = nn.Linear(input_emb_dim + len(continuous_cols), self.n_hiddens[0])\n",
    "        # after concat hidden layers\n",
    "        for i, hidden in enumerate(self.n_hiddens[1:],1):\n",
    "            setattr(self, 'lin_ly_'+str(i+1), nn.Linear(self.n_hiddens[i-1], self.n_hiddens[i]))\n",
    "            \n",
    "        self.out_ly = nn.Linear(self.n_hiddens[-1], n_class)\n",
    "            \n",
    "    def forward(self, x):\n",
    "        # make each output embedding layer's and return to type list \n",
    "        emb = [getattr(self, 'emb_ly_' +str(col))(x[:, self.deep_column_idx[col]].long()) for col, _, _ in self.embeddings_input]\n",
    "        \n",
    "        # for continuous values\n",
    "        cont_idx = [self.deep_column_idx[col] for col in self.continuous_cols]\n",
    "        ## just slicing of continuous values\n",
    "        cont = [x[:, cont_idx].float()]\n",
    "        \n",
    "        ## concatenating of embedding layer's outpus and linear inputs\n",
    "        #### concat input of list to one array\n",
    "        deep_input = torch.cat(emb+cont, 1)\n",
    "        x_deep = F.relu(self.ly1(deep_input))\n",
    "        \n",
    "        for i in range(1, len(n_hiddens)): # first hidden value is already used in 'ly1' layer -> start from 1\n",
    "            x_deep = F.relu( getattr(self, 'lin_ly_'+str(i+1))(x_deep))\n",
    "        \n",
    "        # final classifier layer\n",
    "        out = F.sigmoid(self.out_ly(x_deep))\n",
    "        \n",
    "        return out"
   ]
  },
  {
   "cell_type": "code",
   "execution_count": 17,
   "metadata": {
    "ExecuteTime": {
     "end_time": "2018-09-11T04:28:13.326221Z",
     "start_time": "2018-09-11T04:28:13.318411Z"
    }
   },
   "outputs": [
    {
     "name": "stdout",
     "output_type": "stream",
     "text": [
      "deepNet(\n",
      "  (emb_ly_education): Embedding(16, 10)\n",
      "  (emb_ly_relationship): Embedding(6, 8)\n",
      "  (emb_ly_workclass): Embedding(9, 10)\n",
      "  (emb_ly_native_country): Embedding(42, 12)\n",
      "  (emb_ly_occupation): Embedding(15, 10)\n",
      "  (ly1): Linear(in_features=52, out_features=100, bias=True)\n",
      "  (lin_ly_2): Linear(in_features=100, out_features=50, bias=True)\n",
      "  (out_ly): Linear(in_features=50, out_features=1, bias=True)\n",
      ")\n"
     ]
    }
   ],
   "source": [
    "deep_column_idx = out_dataset['deep_column_idx']\n",
    "embeddings_input= out_dataset['embeddings_input']\n",
    "n_hiddens = [100,50]\n",
    "\n",
    "d_net = deepNet(embeddings_input, continuous_cols, deep_column_idx, n_hiddens, n_class)\n",
    "print(d_net)\n",
    "\n",
    "device = 'cuda:0' if torch.cuda.is_available() else 'cpu'\n",
    "d_net = d_net.to(device)"
   ]
  },
  {
   "cell_type": "code",
   "execution_count": 18,
   "metadata": {
    "ExecuteTime": {
     "end_time": "2018-09-11T04:30:29.270352Z",
     "start_time": "2018-09-11T04:28:13.328498Z"
    }
   },
   "outputs": [
    {
     "name": "stderr",
     "output_type": "stream",
     "text": [
      "/home/ubuntu/anaconda3/envs/pytorch_p36/lib/python3.6/site-packages/torch/nn/functional.py:1006: UserWarning: nn.functional.sigmoid is deprecated. Use torch.sigmoid instead.\n",
      "  warnings.warn(\"nn.functional.sigmoid is deprecated. Use torch.sigmoid instead.\")\n"
     ]
    },
    {
     "name": "stdout",
     "output_type": "stream",
     "text": [
      "[Train] Epoch 1 / 50, Loss: 0.38, accuracy: 0.8251\n",
      "[Test] Epoch 1 / 50, Loss: 0.349, accuracy: 0.8378\n",
      "\n",
      "[Train] Epoch 6 / 50, Loss: 0.335, accuracy: 0.8452\n",
      "[Test] Epoch 6 / 50, Loss: 0.342, accuracy: 0.8401\n",
      "\n",
      "[Train] Epoch 11 / 50, Loss: 0.328, accuracy: 0.8478\n",
      "[Test] Epoch 11 / 50, Loss: 0.343, accuracy: 0.8396\n",
      "\n",
      "[Train] Epoch 16 / 50, Loss: 0.32, accuracy: 0.8507\n",
      "[Test] Epoch 16 / 50, Loss: 0.349, accuracy: 0.8374\n",
      "\n",
      "[Train] Epoch 21 / 50, Loss: 0.312, accuracy: 0.854\n",
      "[Test] Epoch 21 / 50, Loss: 0.355, accuracy: 0.8366\n",
      "\n",
      "[Train] Epoch 26 / 50, Loss: 0.305, accuracy: 0.8577\n",
      "[Test] Epoch 26 / 50, Loss: 0.363, accuracy: 0.8342\n",
      "\n",
      "[Train] Epoch 31 / 50, Loss: 0.297, accuracy: 0.8611\n",
      "[Test] Epoch 31 / 50, Loss: 0.374, accuracy: 0.8336\n",
      "\n",
      "[Train] Epoch 36 / 50, Loss: 0.291, accuracy: 0.8632\n",
      "[Test] Epoch 36 / 50, Loss: 0.383, accuracy: 0.8326\n",
      "\n",
      "[Train] Epoch 41 / 50, Loss: 0.285, accuracy: 0.8676\n",
      "[Test] Epoch 41 / 50, Loss: 0.393, accuracy: 0.8283\n",
      "\n",
      "[Train] Epoch 46 / 50, Loss: 0.28, accuracy: 0.8693\n",
      "[Test] Epoch 46 / 50, Loss: 0.409, accuracy: 0.8263\n",
      "\n"
     ]
    }
   ],
   "source": [
    "## Set the parameters and train/test the Wide part model\n",
    "opt_fn = optim.Adam(d_net.parameters())\n",
    "loss_fn = nn.BCELoss()\n",
    "\n",
    "n_epochs = 50\n",
    "\n",
    "d_net, train_loss, test_loss, best_val_acc, best_epoch_num = \\\n",
    "    train_model(d_net, device, d_train_loader, d_test_loader, opt_fn, loss_fn, n_epochs, log_num = 5)"
   ]
  },
  {
   "cell_type": "code",
   "execution_count": 19,
   "metadata": {
    "ExecuteTime": {
     "end_time": "2018-09-11T04:30:29.814599Z",
     "start_time": "2018-09-11T04:30:29.273200Z"
    }
   },
   "outputs": [
    {
     "data": {
      "image/png": "[encoded data removed]",
      "text/plain": [
       "<Figure size 720x1008 with 2 Axes>"
      ]
     },
     "metadata": {},
     "output_type": "display_data"
    }
   ],
   "source": [
    "f = print_run(train_loss, test_loss)"
   ]
  },
  {
   "cell_type": "markdown",
   "metadata": {},
   "source": [
    "---\n",
    "#### 2-3) Wide and Deep Learning\n",
    "---"
   ]
  },
  {
   "cell_type": "markdown",
   "metadata": {},
   "source": [
    "#### the wide and deep learning model : \n",
    " - combine the Wide part and the Deep part"
   ]
  },
  {
   "cell_type": "markdown",
   "metadata": {},
   "source": [
    "#### 1st way : concat two models in a one model"
   ]
  },
  {
   "cell_type": "code",
   "execution_count": 20,
   "metadata": {
    "ExecuteTime": {
     "end_time": "2018-09-11T04:30:29.914665Z",
     "start_time": "2018-09-11T04:30:29.817175Z"
    }
   },
   "outputs": [
    {
     "name": "stdout",
     "output_type": "stream",
     "text": [
      "torch.Size([34189, 798]) torch.Size([34189, 7]) torch.Size([34189, 1])\n",
      "torch.Size([14653, 798]) torch.Size([14653, 7]) torch.Size([14653, 1])\n"
     ]
    }
   ],
   "source": [
    "w_train_x = torch.tensor(out_dataset['train_set'].wide, dtype=torch.float)\n",
    "d_train_x = torch.tensor(out_dataset['train_set'].deep, dtype=torch.float)\n",
    "train_y = torch.tensor(out_dataset['train_set'].labels.reshape(-1,1), dtype=torch.float)\n",
    "print(w_train_x.size(), d_train_x.size(), train_y.size())\n",
    "\n",
    "w_test_x = torch.tensor(out_dataset['test_set'].wide, dtype=torch.float)\n",
    "d_test_x = torch.tensor(out_dataset['test_set'].deep, dtype=torch.float)\n",
    "test_y = torch.tensor(out_dataset['test_set'].labels.reshape(-1,1), dtype=torch.float)\n",
    "print(w_test_x.size(), d_test_x.size(), test_y.size())\n",
    "\n",
    "batch_size = 64\n",
    "\n",
    "t_train_set = TensorDataset(w_train_x, d_train_x, d_train_y)\n",
    "t_train_loader = DataLoader(t_train_set, batch_size, shuffle = True, num_workers=1)\n",
    "\n",
    "t_test_set = TensorDataset(w_test_x, d_test_x, d_test_y)\n",
    "t_test_loader = DataLoader(t_test_set, batch_size, shuffle = True, num_workers=1)"
   ]
  },
  {
   "cell_type": "code",
   "execution_count": 21,
   "metadata": {
    "ExecuteTime": {
     "end_time": "2018-09-11T04:30:29.922656Z",
     "start_time": "2018-09-11T04:30:29.917179Z"
    }
   },
   "outputs": [],
   "source": [
    "class Identity(nn.Module):\n",
    "    def __init__(self):\n",
    "        super(Identity, self).__init__()\n",
    "        \n",
    "    def forward(self, x):\n",
    "        return x\n",
    "    \n",
    "class Last_net(nn.Module):\n",
    "    def __init__(self, input_dim, n_class):\n",
    "        super(Last_net, self).__init__()\n",
    "        self.input_dim = input_dim\n",
    "        self.n_class = n_class\n",
    "        \n",
    "        self.out_ly = nn.Linear(self.input_dim, self.n_class)\n",
    "        \n",
    "        \n",
    "    def forward(self, x):\n",
    "        x = F.sigmoid(self.out_ly(x))\n",
    "        \n",
    "        return x"
   ]
  },
  {
   "cell_type": "code",
   "execution_count": 22,
   "metadata": {
    "ExecuteTime": {
     "end_time": "2018-09-11T04:30:29.930671Z",
     "start_time": "2018-09-11T04:30:29.925307Z"
    }
   },
   "outputs": [],
   "source": [
    "t_w_net = wideNet(wide_dim, n_class)\n",
    "t_d_net = deepNet(embeddings_input, continuous_cols, deep_column_idx, n_hiddens, n_class)"
   ]
  },
  {
   "cell_type": "code",
   "execution_count": 23,
   "metadata": {
    "ExecuteTime": {
     "end_time": "2018-09-11T04:30:29.939270Z",
     "start_time": "2018-09-11T04:30:29.933200Z"
    }
   },
   "outputs": [
    {
     "name": "stdout",
     "output_type": "stream",
     "text": [
      "wideNet(\n",
      "  (ly1): Linear(in_features=798, out_features=10, bias=True)\n",
      ")\n",
      "deepNet(\n",
      "  (emb_ly_education): Embedding(16, 10)\n",
      "  (emb_ly_relationship): Embedding(6, 8)\n",
      "  (emb_ly_workclass): Embedding(9, 10)\n",
      "  (emb_ly_native_country): Embedding(42, 12)\n",
      "  (emb_ly_occupation): Embedding(15, 10)\n",
      "  (ly1): Linear(in_features=52, out_features=100, bias=True)\n",
      "  (lin_ly_2): Linear(in_features=100, out_features=50, bias=True)\n",
      "  (out_ly): Identity()\n",
      ")\n",
      "concat dim is 60\n",
      "Last_net(\n",
      "  (out_ly): Linear(in_features=60, out_features=1, bias=True)\n",
      ")\n"
     ]
    }
   ],
   "source": [
    "# t_w_net.ly1.out_features = 10 # [!!!!!!] this does not change the number of output dimensions\n",
    "t_w_net.ly1 = nn.Linear(798,10)\n",
    "print(t_w_net) # out dim = 10\n",
    "\n",
    "t_d_net.out_ly = Identity() # change the last layer(classifier) as identity function\n",
    "print(t_d_net) # out dim = 50\n",
    "\n",
    "concat_dim = int(t_w_net.ly1.out_features) + int(t_d_net.lin_ly_2.out_features)\n",
    "print('concat dim is {}'.format(concat_dim))\n",
    "\n",
    "last_net = Last_net(concat_dim, n_class)\n",
    "print(last_net)"
   ]
  },
  {
   "cell_type": "code",
   "execution_count": 24,
   "metadata": {
    "ExecuteTime": {
     "end_time": "2018-09-11T04:30:29.947668Z",
     "start_time": "2018-09-11T04:30:29.941690Z"
    }
   },
   "outputs": [],
   "source": [
    "class wide_and_deep_1(nn.Module):\n",
    "    def __init__(self, wide_dim, embeddings_input, continuous_cols, deep_column_idx, n_hiddens, n_class):\n",
    "        super(wide_and_deep_1, self).__init__()\n",
    "\n",
    "        self.wide_m = wideNet(wide_dim, n_class)\n",
    "        self.wide_m.ly1 = nn.Linear(wide_dim, 10)\n",
    "        \n",
    "        self.deep_m = deepNet(embeddings_input, continuous_cols, deep_column_idx, n_hiddens, n_class)\n",
    "        self.deep_m.out_ly = Identity()\n",
    "        \n",
    "        self.concat_dim = int(self.wide_m.ly1.out_features) + int(self.deep_m.lin_ly_2.out_features)\n",
    "        self.last_net = Last_net(self.concat_dim, n_class)\n",
    "    \n",
    "    def forward(self, x_w, x_d):\n",
    "        o_w = self.wide_m(x_w)\n",
    "        o_d = self.deep_m(x_d)\n",
    "        input_last = torch.cat((o_w, o_d), 1)\n",
    "        \n",
    "        o_last = self.last_net(input_last)\n",
    "        return o_last        "
   ]
  },
  {
   "cell_type": "code",
   "execution_count": 25,
   "metadata": {
    "ExecuteTime": {
     "end_time": "2018-09-11T04:30:29.954977Z",
     "start_time": "2018-09-11T04:30:29.949686Z"
    },
    "scrolled": true
   },
   "outputs": [
    {
     "name": "stdout",
     "output_type": "stream",
     "text": [
      "wide_and_deep_1(\n",
      "  (wide_m): wideNet(\n",
      "    (ly1): Linear(in_features=798, out_features=10, bias=True)\n",
      "  )\n",
      "  (deep_m): deepNet(\n",
      "    (emb_ly_education): Embedding(16, 10)\n",
      "    (emb_ly_relationship): Embedding(6, 8)\n",
      "    (emb_ly_workclass): Embedding(9, 10)\n",
      "    (emb_ly_native_country): Embedding(42, 12)\n",
      "    (emb_ly_occupation): Embedding(15, 10)\n",
      "    (ly1): Linear(in_features=52, out_features=100, bias=True)\n",
      "    (lin_ly_2): Linear(in_features=100, out_features=50, bias=True)\n",
      "    (out_ly): Identity()\n",
      "  )\n",
      "  (last_net): Last_net(\n",
      "    (out_ly): Linear(in_features=60, out_features=1, bias=True)\n",
      "  )\n",
      ")\n"
     ]
    }
   ],
   "source": [
    "wide_and_deep_m = wide_and_deep_1(wide_dim, embeddings_input, continuous_cols, deep_column_idx, n_hiddens, n_class)\n",
    "print(wide_and_deep_m)"
   ]
  },
  {
   "cell_type": "code",
   "execution_count": 26,
   "metadata": {
    "ExecuteTime": {
     "end_time": "2018-09-11T04:30:30.076012Z",
     "start_time": "2018-09-11T04:30:29.956831Z"
    }
   },
   "outputs": [
    {
     "name": "stderr",
     "output_type": "stream",
     "text": [
      "/home/ubuntu/anaconda3/envs/pytorch_p36/lib/python3.6/site-packages/torch/nn/functional.py:1006: UserWarning: nn.functional.sigmoid is deprecated. Use torch.sigmoid instead.\n",
      "  warnings.warn(\"nn.functional.sigmoid is deprecated. Use torch.sigmoid instead.\")\n"
     ]
    },
    {
     "data": {
      "image/svg+xml": [
       "<?xml version=\"1.0\" encoding=\"UTF-8\" standalone=\"no\"?>\n",
       "<!DOCTYPE svg PUBLIC \"-//W3C//DTD SVG 1.1//EN\"\n",
       " \"http://www.w3.org/Graphics/SVG/1.1/DTD/svg11.dtd\">\n",
       "<!-- Generated by graphviz version 2.40.1 (20161225.0304)\n",
       " -->\n",
       "<!-- Title: %3 Pages: 1 -->\n",
       "<svg width=\"834pt\" height=\"669pt\"\n",
       " viewBox=\"0.00 0.00 833.50 669.00\" xmlns=\"http://www.w3.org/2000/svg\" xmlns:xlink=\"http://www.w3.org/1999/xlink\">\n",
       "<g id=\"graph0\" class=\"graph\" transform=\"scale(1 1) rotate(0) translate(4 665)\">\n",
       "<title>%3</title>\n",
       "<polygon fill=\"#ffffff\" stroke=\"transparent\" points=\"-4,4 -4,-665 829.5,-665 829.5,4 -4,4\"/>\n",
       "<!-- 140435266130328 -->\n",
       "<g id=\"node1\" class=\"node\">\n",
       "<title>140435266130328</title>\n",
       "<polygon fill=\"#caff70\" stroke=\"#000000\" points=\"372.5,-21 267.5,-21 267.5,0 372.5,0 372.5,-21\"/>\n",
       "<text text-anchor=\"middle\" x=\"320\" y=\"-7.4\" font-family=\"Times,serif\" font-size=\"12.00\" fill=\"#000000\">SigmoidBackward</text>\n",
       "</g>\n",
       "<!-- 140435266574656 -->\n",
       "<g id=\"node2\" class=\"node\">\n",
       "<title>140435266574656</title>\n",
       "<polygon fill=\"#d3d3d3\" stroke=\"#000000\" points=\"379,-78 261,-78 261,-57 379,-57 379,-78\"/>\n",
       "<text text-anchor=\"middle\" x=\"320\" y=\"-64.4\" font-family=\"Times,serif\" font-size=\"12.00\" fill=\"#000000\">ThAddmmBackward</text>\n",
       "</g>\n",
       "<!-- 140435266574656&#45;&gt;140435266130328 -->\n",
       "<g id=\"edge1\" class=\"edge\">\n",
       "<title>140435266574656&#45;&gt;140435266130328</title>\n",
       "<path fill=\"none\" stroke=\"#000000\" d=\"M320,-56.7787C320,-49.6134 320,-39.9517 320,-31.3097\"/>\n",
       "<polygon fill=\"#000000\" stroke=\"#000000\" points=\"323.5001,-31.1732 320,-21.1732 316.5001,-31.1732 323.5001,-31.1732\"/>\n",
       "</g>\n",
       "<!-- 140435266346848 -->\n",
       "<g id=\"node3\" class=\"node\">\n",
       "<title>140435266346848</title>\n",
       "<polygon fill=\"#d3d3d3\" stroke=\"#000000\" points=\"233,-135 131,-135 131,-114 233,-114 233,-135\"/>\n",
       "<text text-anchor=\"middle\" x=\"182\" y=\"-121.4\" font-family=\"Times,serif\" font-size=\"12.00\" fill=\"#000000\">ExpandBackward</text>\n",
       "</g>\n",
       "<!-- 140435266346848&#45;&gt;140435266574656 -->\n",
       "<g id=\"edge2\" class=\"edge\">\n",
       "<title>140435266346848&#45;&gt;140435266574656</title>\n",
       "<path fill=\"none\" stroke=\"#000000\" d=\"M207.6333,-113.9123C229.4187,-104.914 260.9035,-91.9094 285.0065,-81.9539\"/>\n",
       "<polygon fill=\"#000000\" stroke=\"#000000\" points=\"286.5975,-85.0836 294.5039,-78.031 283.9251,-78.6137 286.5975,-85.0836\"/>\n",
       "</g>\n",
       "<!-- 140435266343712 -->\n",
       "<g id=\"node4\" class=\"node\">\n",
       "<title>140435266343712</title>\n",
       "<polygon fill=\"#add8e6\" stroke=\"#000000\" points=\"154,-206 100,-206 100,-171 154,-171 154,-206\"/>\n",
       "<text text-anchor=\"middle\" x=\"127\" y=\"-178.4\" font-family=\"Times,serif\" font-size=\"12.00\" fill=\"#000000\"> (1)</text>\n",
       "</g>\n",
       "<!-- 140435266343712&#45;&gt;140435266346848 -->\n",
       "<g id=\"edge3\" class=\"edge\">\n",
       "<title>140435266343712&#45;&gt;140435266346848</title>\n",
       "<path fill=\"none\" stroke=\"#000000\" d=\"M142.3206,-170.6724C149.7394,-162.0396 158.6403,-151.6821 166.1303,-142.9666\"/>\n",
       "<polygon fill=\"#000000\" stroke=\"#000000\" points=\"168.9213,-145.0888 172.7846,-135.2234 163.6124,-140.5265 168.9213,-145.0888\"/>\n",
       "</g>\n",
       "<!-- 140435266343208 -->\n",
       "<g id=\"node5\" class=\"node\">\n",
       "<title>140435266343208</title>\n",
       "<polygon fill=\"#d3d3d3\" stroke=\"#000000\" points=\"361,-135 279,-135 279,-114 361,-114 361,-135\"/>\n",
       "<text text-anchor=\"middle\" x=\"320\" y=\"-121.4\" font-family=\"Times,serif\" font-size=\"12.00\" fill=\"#000000\">CatBackward</text>\n",
       "</g>\n",
       "<!-- 140435266343208&#45;&gt;140435266574656 -->\n",
       "<g id=\"edge4\" class=\"edge\">\n",
       "<title>140435266343208&#45;&gt;140435266574656</title>\n",
       "<path fill=\"none\" stroke=\"#000000\" d=\"M320,-113.7787C320,-106.6134 320,-96.9517 320,-88.3097\"/>\n",
       "<polygon fill=\"#000000\" stroke=\"#000000\" points=\"323.5001,-88.1732 320,-78.1732 316.5001,-88.1732 323.5001,-88.1732\"/>\n",
       "</g>\n",
       "<!-- 140435266622296 -->\n",
       "<g id=\"node6\" class=\"node\">\n",
       "<title>140435266622296</title>\n",
       "<polygon fill=\"#d3d3d3\" stroke=\"#000000\" points=\"277.5,-199 172.5,-199 172.5,-178 277.5,-178 277.5,-199\"/>\n",
       "<text text-anchor=\"middle\" x=\"225\" y=\"-185.4\" font-family=\"Times,serif\" font-size=\"12.00\" fill=\"#000000\">SigmoidBackward</text>\n",
       "</g>\n",
       "<!-- 140435266622296&#45;&gt;140435266343208 -->\n",
       "<g id=\"edge5\" class=\"edge\">\n",
       "<title>140435266622296&#45;&gt;140435266343208</title>\n",
       "<path fill=\"none\" stroke=\"#000000\" d=\"M240.6873,-177.9317C255.6765,-167.8337 278.4877,-152.4662 295.8049,-140.7999\"/>\n",
       "<polygon fill=\"#000000\" stroke=\"#000000\" points=\"297.9514,-143.574 304.2894,-135.084 294.0403,-137.7685 297.9514,-143.574\"/>\n",
       "</g>\n",
       "<!-- 140435266623472 -->\n",
       "<g id=\"node7\" class=\"node\">\n",
       "<title>140435266623472</title>\n",
       "<polygon fill=\"#d3d3d3\" stroke=\"#000000\" points=\"273,-263 155,-263 155,-242 273,-242 273,-263\"/>\n",
       "<text text-anchor=\"middle\" x=\"214\" y=\"-249.4\" font-family=\"Times,serif\" font-size=\"12.00\" fill=\"#000000\">ThAddmmBackward</text>\n",
       "</g>\n",
       "<!-- 140435266623472&#45;&gt;140435266622296 -->\n",
       "<g id=\"edge6\" class=\"edge\">\n",
       "<title>140435266623472&#45;&gt;140435266622296</title>\n",
       "<path fill=\"none\" stroke=\"#000000\" d=\"M215.8164,-241.9317C217.3359,-233.0913 219.5495,-220.2122 221.4227,-209.3135\"/>\n",
       "<polygon fill=\"#000000\" stroke=\"#000000\" points=\"224.8995,-209.7463 223.1441,-199.2979 218.0007,-208.5605 224.8995,-209.7463\"/>\n",
       "</g>\n",
       "<!-- 140435266255728 -->\n",
       "<g id=\"node8\" class=\"node\">\n",
       "<title>140435266255728</title>\n",
       "<polygon fill=\"#d3d3d3\" stroke=\"#000000\" points=\"159,-320 57,-320 57,-299 159,-299 159,-320\"/>\n",
       "<text text-anchor=\"middle\" x=\"108\" y=\"-306.4\" font-family=\"Times,serif\" font-size=\"12.00\" fill=\"#000000\">ExpandBackward</text>\n",
       "</g>\n",
       "<!-- 140435266255728&#45;&gt;140435266623472 -->\n",
       "<g id=\"edge7\" class=\"edge\">\n",
       "<title>140435266255728&#45;&gt;140435266623472</title>\n",
       "<path fill=\"none\" stroke=\"#000000\" d=\"M127.9378,-298.7787C144.0759,-290.1007 167.0232,-277.7611 185.1645,-268.0059\"/>\n",
       "<polygon fill=\"#000000\" stroke=\"#000000\" points=\"187.0019,-270.9919 194.1516,-263.1732 183.6866,-264.8267 187.0019,-270.9919\"/>\n",
       "</g>\n",
       "<!-- 140435266253320 -->\n",
       "<g id=\"node9\" class=\"node\">\n",
       "<title>140435266253320</title>\n",
       "<polygon fill=\"#add8e6\" stroke=\"#000000\" points=\"135,-391 81,-391 81,-356 135,-356 135,-391\"/>\n",
       "<text text-anchor=\"middle\" x=\"108\" y=\"-363.4\" font-family=\"Times,serif\" font-size=\"12.00\" fill=\"#000000\"> (10)</text>\n",
       "</g>\n",
       "<!-- 140435266253320&#45;&gt;140435266255728 -->\n",
       "<g id=\"edge8\" class=\"edge\">\n",
       "<title>140435266253320&#45;&gt;140435266255728</title>\n",
       "<path fill=\"none\" stroke=\"#000000\" d=\"M108,-355.6724C108,-347.8405 108,-338.5893 108,-330.4323\"/>\n",
       "<polygon fill=\"#000000\" stroke=\"#000000\" points=\"111.5001,-330.2234 108,-320.2234 104.5001,-330.2235 111.5001,-330.2234\"/>\n",
       "</g>\n",
       "<!-- 140435266254776 -->\n",
       "<g id=\"node10\" class=\"node\">\n",
       "<title>140435266254776</title>\n",
       "<polygon fill=\"#d3d3d3\" stroke=\"#000000\" points=\"250.5,-320 177.5,-320 177.5,-299 250.5,-299 250.5,-320\"/>\n",
       "<text text-anchor=\"middle\" x=\"214\" y=\"-306.4\" font-family=\"Times,serif\" font-size=\"12.00\" fill=\"#000000\">TBackward</text>\n",
       "</g>\n",
       "<!-- 140435266254776&#45;&gt;140435266623472 -->\n",
       "<g id=\"edge9\" class=\"edge\">\n",
       "<title>140435266254776&#45;&gt;140435266623472</title>\n",
       "<path fill=\"none\" stroke=\"#000000\" d=\"M214,-298.7787C214,-291.6134 214,-281.9517 214,-273.3097\"/>\n",
       "<polygon fill=\"#000000\" stroke=\"#000000\" points=\"217.5001,-273.1732 214,-263.1732 210.5001,-273.1732 217.5001,-273.1732\"/>\n",
       "</g>\n",
       "<!-- 140435266254104 -->\n",
       "<g id=\"node11\" class=\"node\">\n",
       "<title>140435266254104</title>\n",
       "<polygon fill=\"#add8e6\" stroke=\"#000000\" points=\"230.5,-391 167.5,-391 167.5,-356 230.5,-356 230.5,-391\"/>\n",
       "<text text-anchor=\"middle\" x=\"199\" y=\"-363.4\" font-family=\"Times,serif\" font-size=\"12.00\" fill=\"#000000\"> (10, 798)</text>\n",
       "</g>\n",
       "<!-- 140435266254104&#45;&gt;140435266254776 -->\n",
       "<g id=\"edge10\" class=\"edge\">\n",
       "<title>140435266254104&#45;&gt;140435266254776</title>\n",
       "<path fill=\"none\" stroke=\"#000000\" d=\"M203.1783,-355.6724C205.0348,-347.7515 207.2315,-338.3788 209.1591,-330.1546\"/>\n",
       "<polygon fill=\"#000000\" stroke=\"#000000\" points=\"212.6124,-330.7583 211.4867,-320.2234 205.797,-329.1609 212.6124,-330.7583\"/>\n",
       "</g>\n",
       "<!-- 140435266622464 -->\n",
       "<g id=\"node12\" class=\"node\">\n",
       "<title>140435266622464</title>\n",
       "<polygon fill=\"#d3d3d3\" stroke=\"#000000\" points=\"400.5,-199 295.5,-199 295.5,-178 400.5,-178 400.5,-199\"/>\n",
       "<text text-anchor=\"middle\" x=\"348\" y=\"-185.4\" font-family=\"Times,serif\" font-size=\"12.00\" fill=\"#000000\">SigmoidBackward</text>\n",
       "</g>\n",
       "<!-- 140435266622464&#45;&gt;140435266343208 -->\n",
       "<g id=\"edge11\" class=\"edge\">\n",
       "<title>140435266622464&#45;&gt;140435266343208</title>\n",
       "<path fill=\"none\" stroke=\"#000000\" d=\"M343.3764,-177.9317C339.4281,-168.9072 333.6385,-155.6738 328.8091,-144.635\"/>\n",
       "<polygon fill=\"#000000\" stroke=\"#000000\" points=\"331.9389,-143.0566 324.7241,-135.2979 325.5258,-145.8624 331.9389,-143.0566\"/>\n",
       "</g>\n",
       "<!-- 140435921851952 -->\n",
       "<g id=\"node13\" class=\"node\">\n",
       "<title>140435921851952</title>\n",
       "<polygon fill=\"#d3d3d3\" stroke=\"#000000\" points=\"414,-263 326,-263 326,-242 414,-242 414,-263\"/>\n",
       "<text text-anchor=\"middle\" x=\"370\" y=\"-249.4\" font-family=\"Times,serif\" font-size=\"12.00\" fill=\"#000000\">ReluBackward</text>\n",
       "</g>\n",
       "<!-- 140435921851952&#45;&gt;140435266622464 -->\n",
       "<g id=\"edge12\" class=\"edge\">\n",
       "<title>140435921851952&#45;&gt;140435266622464</title>\n",
       "<path fill=\"none\" stroke=\"#000000\" d=\"M366.3671,-241.9317C363.2966,-232.9992 358.8087,-219.9434 355.0378,-208.9736\"/>\n",
       "<polygon fill=\"#000000\" stroke=\"#000000\" points=\"358.2726,-207.617 351.7118,-199.2979 351.6527,-209.8926 358.2726,-207.617\"/>\n",
       "</g>\n",
       "<!-- 140435265937760 -->\n",
       "<g id=\"node14\" class=\"node\">\n",
       "<title>140435265937760</title>\n",
       "<polygon fill=\"#d3d3d3\" stroke=\"#000000\" points=\"460,-320 342,-320 342,-299 460,-299 460,-320\"/>\n",
       "<text text-anchor=\"middle\" x=\"401\" y=\"-306.4\" font-family=\"Times,serif\" font-size=\"12.00\" fill=\"#000000\">ThAddmmBackward</text>\n",
       "</g>\n",
       "<!-- 140435265937760&#45;&gt;140435921851952 -->\n",
       "<g id=\"edge13\" class=\"edge\">\n",
       "<title>140435265937760&#45;&gt;140435921851952</title>\n",
       "<path fill=\"none\" stroke=\"#000000\" d=\"M395.1691,-298.7787C391.099,-291.2949 385.5479,-281.088 380.6944,-272.1638\"/>\n",
       "<polygon fill=\"#000000\" stroke=\"#000000\" points=\"383.6572,-270.2858 375.8047,-263.1732 377.5078,-273.6303 383.6572,-270.2858\"/>\n",
       "</g>\n",
       "<!-- 140435265937872 -->\n",
       "<g id=\"node15\" class=\"node\">\n",
       "<title>140435265937872</title>\n",
       "<polygon fill=\"#d3d3d3\" stroke=\"#000000\" points=\"351,-384 249,-384 249,-363 351,-363 351,-384\"/>\n",
       "<text text-anchor=\"middle\" x=\"300\" y=\"-370.4\" font-family=\"Times,serif\" font-size=\"12.00\" fill=\"#000000\">ExpandBackward</text>\n",
       "</g>\n",
       "<!-- 140435265937872&#45;&gt;140435265937760 -->\n",
       "<g id=\"edge14\" class=\"edge\">\n",
       "<title>140435265937872&#45;&gt;140435265937760</title>\n",
       "<path fill=\"none\" stroke=\"#000000\" d=\"M316.6781,-362.9317C332.7602,-352.7411 357.3116,-337.1838 375.782,-325.4797\"/>\n",
       "<polygon fill=\"#000000\" stroke=\"#000000\" points=\"377.7236,-328.393 384.2971,-320.084 373.9768,-322.4801 377.7236,-328.393\"/>\n",
       "</g>\n",
       "<!-- 140435265937480 -->\n",
       "<g id=\"node16\" class=\"node\">\n",
       "<title>140435265937480</title>\n",
       "<polygon fill=\"#add8e6\" stroke=\"#000000\" points=\"327,-462 273,-462 273,-427 327,-427 327,-462\"/>\n",
       "<text text-anchor=\"middle\" x=\"300\" y=\"-434.4\" font-family=\"Times,serif\" font-size=\"12.00\" fill=\"#000000\"> (50)</text>\n",
       "</g>\n",
       "<!-- 140435265937480&#45;&gt;140435265937872 -->\n",
       "<g id=\"edge15\" class=\"edge\">\n",
       "<title>140435265937480&#45;&gt;140435265937872</title>\n",
       "<path fill=\"none\" stroke=\"#000000\" d=\"M300,-426.9494C300,-417.058 300,-404.6435 300,-394.2693\"/>\n",
       "<polygon fill=\"#000000\" stroke=\"#000000\" points=\"303.5001,-394.0288 300,-384.0288 296.5001,-394.0289 303.5001,-394.0288\"/>\n",
       "</g>\n",
       "<!-- 140435265938488 -->\n",
       "<g id=\"node17\" class=\"node\">\n",
       "<title>140435265938488</title>\n",
       "<polygon fill=\"#d3d3d3\" stroke=\"#000000\" points=\"457,-384 369,-384 369,-363 457,-363 457,-384\"/>\n",
       "<text text-anchor=\"middle\" x=\"413\" y=\"-370.4\" font-family=\"Times,serif\" font-size=\"12.00\" fill=\"#000000\">ReluBackward</text>\n",
       "</g>\n",
       "<!-- 140435265938488&#45;&gt;140435265937760 -->\n",
       "<g id=\"edge16\" class=\"edge\">\n",
       "<title>140435265938488&#45;&gt;140435265937760</title>\n",
       "<path fill=\"none\" stroke=\"#000000\" d=\"M411.0184,-362.9317C409.3609,-354.0913 406.946,-341.2122 404.9025,-330.3135\"/>\n",
       "<polygon fill=\"#000000\" stroke=\"#000000\" points=\"408.3076,-329.4816 403.0246,-320.2979 401.4275,-330.7717 408.3076,-329.4816\"/>\n",
       "</g>\n",
       "<!-- 140435265937536 -->\n",
       "<g id=\"node18\" class=\"node\">\n",
       "<title>140435265937536</title>\n",
       "<polygon fill=\"#d3d3d3\" stroke=\"#000000\" points=\"467,-455 349,-455 349,-434 467,-434 467,-455\"/>\n",
       "<text text-anchor=\"middle\" x=\"408\" y=\"-441.4\" font-family=\"Times,serif\" font-size=\"12.00\" fill=\"#000000\">ThAddmmBackward</text>\n",
       "</g>\n",
       "<!-- 140435265937536&#45;&gt;140435265938488 -->\n",
       "<g id=\"edge17\" class=\"edge\">\n",
       "<title>140435265937536&#45;&gt;140435265938488</title>\n",
       "<path fill=\"none\" stroke=\"#000000\" d=\"M408.7594,-433.7166C409.4862,-423.3953 410.6028,-407.5401 411.5078,-394.6896\"/>\n",
       "<polygon fill=\"#000000\" stroke=\"#000000\" points=\"415.0222,-394.6061 412.2335,-384.3849 408.0395,-394.1142 415.0222,-394.6061\"/>\n",
       "</g>\n",
       "<!-- 140435265937928 -->\n",
       "<g id=\"node19\" class=\"node\">\n",
       "<title>140435265937928</title>\n",
       "<polygon fill=\"#d3d3d3\" stroke=\"#000000\" points=\"214,-519 112,-519 112,-498 214,-498 214,-519\"/>\n",
       "<text text-anchor=\"middle\" x=\"163\" y=\"-505.4\" font-family=\"Times,serif\" font-size=\"12.00\" fill=\"#000000\">ExpandBackward</text>\n",
       "</g>\n",
       "<!-- 140435265937928&#45;&gt;140435265937536 -->\n",
       "<g id=\"edge18\" class=\"edge\">\n",
       "<title>140435265937928&#45;&gt;140435265937536</title>\n",
       "<path fill=\"none\" stroke=\"#000000\" d=\"M203.4568,-497.9317C245.7482,-486.8841 312.1845,-469.5294 357.7968,-457.6143\"/>\n",
       "<polygon fill=\"#000000\" stroke=\"#000000\" points=\"358.6924,-460.9979 367.4831,-455.084 356.9232,-454.2251 358.6924,-460.9979\"/>\n",
       "</g>\n",
       "<!-- 140435265938712 -->\n",
       "<g id=\"node20\" class=\"node\">\n",
       "<title>140435265938712</title>\n",
       "<polygon fill=\"#add8e6\" stroke=\"#000000\" points=\"54,-590 0,-590 0,-555 54,-555 54,-590\"/>\n",
       "<text text-anchor=\"middle\" x=\"27\" y=\"-562.4\" font-family=\"Times,serif\" font-size=\"12.00\" fill=\"#000000\"> (100)</text>\n",
       "</g>\n",
       "<!-- 140435265938712&#45;&gt;140435265937928 -->\n",
       "<g id=\"edge19\" class=\"edge\">\n",
       "<title>140435265938712&#45;&gt;140435265937928</title>\n",
       "<path fill=\"none\" stroke=\"#000000\" d=\"M54.1027,-559.2633C57.1013,-557.8172 60.1131,-556.3728 63,-555 85.5863,-544.2599 111.159,-532.3735 130.7899,-523.3068\"/>\n",
       "<polygon fill=\"#000000\" stroke=\"#000000\" points=\"132.296,-526.4666 139.9105,-519.0998 129.364,-520.1102 132.296,-526.4666\"/>\n",
       "</g>\n",
       "<!-- 140435265938040 -->\n",
       "<g id=\"node21\" class=\"node\">\n",
       "<title>140435265938040</title>\n",
       "<polygon fill=\"#d3d3d3\" stroke=\"#000000\" points=\"449,-519 367,-519 367,-498 449,-498 449,-519\"/>\n",
       "<text text-anchor=\"middle\" x=\"408\" y=\"-505.4\" font-family=\"Times,serif\" font-size=\"12.00\" fill=\"#000000\">CatBackward</text>\n",
       "</g>\n",
       "<!-- 140435265938040&#45;&gt;140435265937536 -->\n",
       "<g id=\"edge20\" class=\"edge\">\n",
       "<title>140435265938040&#45;&gt;140435265937536</title>\n",
       "<path fill=\"none\" stroke=\"#000000\" d=\"M408,-497.9317C408,-489.0913 408,-476.2122 408,-465.3135\"/>\n",
       "<polygon fill=\"#000000\" stroke=\"#000000\" points=\"411.5001,-465.2979 408,-455.2979 404.5001,-465.2979 411.5001,-465.2979\"/>\n",
       "</g>\n",
       "<!-- 140435265938376 -->\n",
       "<g id=\"node22\" class=\"node\">\n",
       "<title>140435265938376</title>\n",
       "<polygon fill=\"#d3d3d3\" stroke=\"#000000\" points=\"192,-583 72,-583 72,-562 192,-562 192,-583\"/>\n",
       "<text text-anchor=\"middle\" x=\"132\" y=\"-569.4\" font-family=\"Times,serif\" font-size=\"12.00\" fill=\"#000000\">EmbeddingBackward</text>\n",
       "</g>\n",
       "<!-- 140435265938376&#45;&gt;140435265938040 -->\n",
       "<g id=\"edge21\" class=\"edge\">\n",
       "<title>140435265938376&#45;&gt;140435265938040</title>\n",
       "<path fill=\"none\" stroke=\"#000000\" d=\"M172.8183,-561.9505C182.0727,-559.6136 191.865,-557.184 201,-555 253.9516,-542.3402 314.7656,-528.7975 356.7095,-519.612\"/>\n",
       "<polygon fill=\"#000000\" stroke=\"#000000\" points=\"357.6628,-522.9863 366.6847,-517.4317 356.168,-516.1478 357.6628,-522.9863\"/>\n",
       "</g>\n",
       "<!-- 140435265938936 -->\n",
       "<g id=\"node23\" class=\"node\">\n",
       "<title>140435265938936</title>\n",
       "<polygon fill=\"#add8e6\" stroke=\"#000000\" points=\"160.5,-661 103.5,-661 103.5,-626 160.5,-626 160.5,-661\"/>\n",
       "<text text-anchor=\"middle\" x=\"132\" y=\"-633.4\" font-family=\"Times,serif\" font-size=\"12.00\" fill=\"#000000\"> (16, 10)</text>\n",
       "</g>\n",
       "<!-- 140435265938936&#45;&gt;140435265938376 -->\n",
       "<g id=\"edge22\" class=\"edge\">\n",
       "<title>140435265938936&#45;&gt;140435265938376</title>\n",
       "<path fill=\"none\" stroke=\"#000000\" d=\"M132,-625.9494C132,-616.058 132,-603.6435 132,-593.2693\"/>\n",
       "<polygon fill=\"#000000\" stroke=\"#000000\" points=\"135.5001,-593.0288 132,-583.0288 128.5001,-593.0289 135.5001,-593.0288\"/>\n",
       "</g>\n",
       "<!-- 140435265937984 -->\n",
       "<g id=\"node24\" class=\"node\">\n",
       "<title>140435265937984</title>\n",
       "<polygon fill=\"#d3d3d3\" stroke=\"#000000\" points=\"330,-583 210,-583 210,-562 330,-562 330,-583\"/>\n",
       "<text text-anchor=\"middle\" x=\"270\" y=\"-569.4\" font-family=\"Times,serif\" font-size=\"12.00\" fill=\"#000000\">EmbeddingBackward</text>\n",
       "</g>\n",
       "<!-- 140435265937984&#45;&gt;140435265938040 -->\n",
       "<g id=\"edge23\" class=\"edge\">\n",
       "<title>140435265937984&#45;&gt;140435265938040</title>\n",
       "<path fill=\"none\" stroke=\"#000000\" d=\"M292.7879,-561.9317C315.4606,-551.4168 350.4533,-535.1883 375.9269,-523.3745\"/>\n",
       "<polygon fill=\"#000000\" stroke=\"#000000\" points=\"377.5789,-526.4665 385.1783,-519.084 374.6338,-520.1161 377.5789,-526.4665\"/>\n",
       "</g>\n",
       "<!-- 140435265938992 -->\n",
       "<g id=\"node25\" class=\"node\">\n",
       "<title>140435265938992</title>\n",
       "<polygon fill=\"#add8e6\" stroke=\"#000000\" points=\"297,-661 243,-661 243,-626 297,-626 297,-661\"/>\n",
       "<text text-anchor=\"middle\" x=\"270\" y=\"-633.4\" font-family=\"Times,serif\" font-size=\"12.00\" fill=\"#000000\"> (6, 8)</text>\n",
       "</g>\n",
       "<!-- 140435265938992&#45;&gt;140435265937984 -->\n",
       "<g id=\"edge24\" class=\"edge\">\n",
       "<title>140435265938992&#45;&gt;140435265937984</title>\n",
       "<path fill=\"none\" stroke=\"#000000\" d=\"M270,-625.9494C270,-616.058 270,-603.6435 270,-593.2693\"/>\n",
       "<polygon fill=\"#000000\" stroke=\"#000000\" points=\"273.5001,-593.0288 270,-583.0288 266.5001,-593.0289 273.5001,-593.0288\"/>\n",
       "</g>\n",
       "<!-- 140435265938152 -->\n",
       "<g id=\"node26\" class=\"node\">\n",
       "<title>140435265938152</title>\n",
       "<polygon fill=\"#d3d3d3\" stroke=\"#000000\" points=\"468,-583 348,-583 348,-562 468,-562 468,-583\"/>\n",
       "<text text-anchor=\"middle\" x=\"408\" y=\"-569.4\" font-family=\"Times,serif\" font-size=\"12.00\" fill=\"#000000\">EmbeddingBackward</text>\n",
       "</g>\n",
       "<!-- 140435265938152&#45;&gt;140435265938040 -->\n",
       "<g id=\"edge25\" class=\"edge\">\n",
       "<title>140435265938152&#45;&gt;140435265938040</title>\n",
       "<path fill=\"none\" stroke=\"#000000\" d=\"M408,-561.9317C408,-553.0913 408,-540.2122 408,-529.3135\"/>\n",
       "<polygon fill=\"#000000\" stroke=\"#000000\" points=\"411.5001,-529.2979 408,-519.2979 404.5001,-529.2979 411.5001,-529.2979\"/>\n",
       "</g>\n",
       "<!-- 140435265939104 -->\n",
       "<g id=\"node27\" class=\"node\">\n",
       "<title>140435265939104</title>\n",
       "<polygon fill=\"#add8e6\" stroke=\"#000000\" points=\"435,-661 381,-661 381,-626 435,-626 435,-661\"/>\n",
       "<text text-anchor=\"middle\" x=\"408\" y=\"-633.4\" font-family=\"Times,serif\" font-size=\"12.00\" fill=\"#000000\"> (9, 10)</text>\n",
       "</g>\n",
       "<!-- 140435265939104&#45;&gt;140435265938152 -->\n",
       "<g id=\"edge26\" class=\"edge\">\n",
       "<title>140435265939104&#45;&gt;140435265938152</title>\n",
       "<path fill=\"none\" stroke=\"#000000\" d=\"M408,-625.9494C408,-616.058 408,-603.6435 408,-593.2693\"/>\n",
       "<polygon fill=\"#000000\" stroke=\"#000000\" points=\"411.5001,-593.0288 408,-583.0288 404.5001,-593.0289 411.5001,-593.0288\"/>\n",
       "</g>\n",
       "<!-- 140435265938600 -->\n",
       "<g id=\"node28\" class=\"node\">\n",
       "<title>140435265938600</title>\n",
       "<polygon fill=\"#d3d3d3\" stroke=\"#000000\" points=\"606,-583 486,-583 486,-562 606,-562 606,-583\"/>\n",
       "<text text-anchor=\"middle\" x=\"546\" y=\"-569.4\" font-family=\"Times,serif\" font-size=\"12.00\" fill=\"#000000\">EmbeddingBackward</text>\n",
       "</g>\n",
       "<!-- 140435265938600&#45;&gt;140435265938040 -->\n",
       "<g id=\"edge27\" class=\"edge\">\n",
       "<title>140435265938600&#45;&gt;140435265938040</title>\n",
       "<path fill=\"none\" stroke=\"#000000\" d=\"M523.2121,-561.9317C500.5394,-551.4168 465.5467,-535.1883 440.0731,-523.3745\"/>\n",
       "<polygon fill=\"#000000\" stroke=\"#000000\" points=\"441.3662,-520.1161 430.8217,-519.084 438.4211,-526.4665 441.3662,-520.1161\"/>\n",
       "</g>\n",
       "<!-- 140435265939160 -->\n",
       "<g id=\"node29\" class=\"node\">\n",
       "<title>140435265939160</title>\n",
       "<polygon fill=\"#add8e6\" stroke=\"#000000\" points=\"574.5,-661 517.5,-661 517.5,-626 574.5,-626 574.5,-661\"/>\n",
       "<text text-anchor=\"middle\" x=\"546\" y=\"-633.4\" font-family=\"Times,serif\" font-size=\"12.00\" fill=\"#000000\"> (42, 12)</text>\n",
       "</g>\n",
       "<!-- 140435265939160&#45;&gt;140435265938600 -->\n",
       "<g id=\"edge28\" class=\"edge\">\n",
       "<title>140435265939160&#45;&gt;140435265938600</title>\n",
       "<path fill=\"none\" stroke=\"#000000\" d=\"M546,-625.9494C546,-616.058 546,-603.6435 546,-593.2693\"/>\n",
       "<polygon fill=\"#000000\" stroke=\"#000000\" points=\"549.5001,-593.0288 546,-583.0288 542.5001,-593.0289 549.5001,-593.0288\"/>\n",
       "</g>\n",
       "<!-- 140435265938320 -->\n",
       "<g id=\"node30\" class=\"node\">\n",
       "<title>140435265938320</title>\n",
       "<polygon fill=\"#d3d3d3\" stroke=\"#000000\" points=\"744,-583 624,-583 624,-562 744,-562 744,-583\"/>\n",
       "<text text-anchor=\"middle\" x=\"684\" y=\"-569.4\" font-family=\"Times,serif\" font-size=\"12.00\" fill=\"#000000\">EmbeddingBackward</text>\n",
       "</g>\n",
       "<!-- 140435265938320&#45;&gt;140435265938040 -->\n",
       "<g id=\"edge29\" class=\"edge\">\n",
       "<title>140435265938320&#45;&gt;140435265938040</title>\n",
       "<path fill=\"none\" stroke=\"#000000\" d=\"M643.1817,-561.9505C633.9273,-559.6136 624.135,-557.184 615,-555 562.0484,-542.3402 501.2344,-528.7975 459.2905,-519.612\"/>\n",
       "<polygon fill=\"#000000\" stroke=\"#000000\" points=\"459.832,-516.1478 449.3153,-517.4317 458.3372,-522.9863 459.832,-516.1478\"/>\n",
       "</g>\n",
       "<!-- 140435265939216 -->\n",
       "<g id=\"node31\" class=\"node\">\n",
       "<title>140435265939216</title>\n",
       "<polygon fill=\"#add8e6\" stroke=\"#000000\" points=\"712.5,-661 655.5,-661 655.5,-626 712.5,-626 712.5,-661\"/>\n",
       "<text text-anchor=\"middle\" x=\"684\" y=\"-633.4\" font-family=\"Times,serif\" font-size=\"12.00\" fill=\"#000000\"> (15, 10)</text>\n",
       "</g>\n",
       "<!-- 140435265939216&#45;&gt;140435265938320 -->\n",
       "<g id=\"edge30\" class=\"edge\">\n",
       "<title>140435265939216&#45;&gt;140435265938320</title>\n",
       "<path fill=\"none\" stroke=\"#000000\" d=\"M684,-625.9494C684,-616.058 684,-603.6435 684,-593.2693\"/>\n",
       "<polygon fill=\"#000000\" stroke=\"#000000\" points=\"687.5001,-593.0288 684,-583.0288 680.5001,-593.0289 687.5001,-593.0288\"/>\n",
       "</g>\n",
       "<!-- 140435265938096 -->\n",
       "<g id=\"node32\" class=\"node\">\n",
       "<title>140435265938096</title>\n",
       "<polygon fill=\"#d3d3d3\" stroke=\"#000000\" points=\"685.5,-519 612.5,-519 612.5,-498 685.5,-498 685.5,-519\"/>\n",
       "<text text-anchor=\"middle\" x=\"649\" y=\"-505.4\" font-family=\"Times,serif\" font-size=\"12.00\" fill=\"#000000\">TBackward</text>\n",
       "</g>\n",
       "<!-- 140435265938096&#45;&gt;140435265937536 -->\n",
       "<g id=\"edge31\" class=\"edge\">\n",
       "<title>140435265938096&#45;&gt;140435265937536</title>\n",
       "<path fill=\"none\" stroke=\"#000000\" d=\"M612.3973,-498.7798C571.0554,-487.801 503.5574,-469.8762 457.5272,-457.6525\"/>\n",
       "<polygon fill=\"#000000\" stroke=\"#000000\" points=\"458.3237,-454.2427 447.7604,-455.0588 456.527,-461.0082 458.3237,-454.2427\"/>\n",
       "</g>\n",
       "<!-- 140435265938880 -->\n",
       "<g id=\"node33\" class=\"node\">\n",
       "<title>140435265938880</title>\n",
       "<polygon fill=\"#add8e6\" stroke=\"#000000\" points=\"825.5,-590 762.5,-590 762.5,-555 825.5,-555 825.5,-590\"/>\n",
       "<text text-anchor=\"middle\" x=\"794\" y=\"-562.4\" font-family=\"Times,serif\" font-size=\"12.00\" fill=\"#000000\"> (100, 52)</text>\n",
       "</g>\n",
       "<!-- 140435265938880&#45;&gt;140435265938096 -->\n",
       "<g id=\"edge32\" class=\"edge\">\n",
       "<title>140435265938880&#45;&gt;140435265938096</title>\n",
       "<path fill=\"none\" stroke=\"#000000\" d=\"M762.1791,-558.4549C738.5861,-548.0414 706.4952,-533.8772 682.5094,-523.2903\"/>\n",
       "<polygon fill=\"#000000\" stroke=\"#000000\" points=\"683.662,-519.9734 673.1002,-519.1373 680.8354,-526.3773 683.662,-519.9734\"/>\n",
       "</g>\n",
       "<!-- 140435265937592 -->\n",
       "<g id=\"node34\" class=\"node\">\n",
       "<title>140435265937592</title>\n",
       "<polygon fill=\"#d3d3d3\" stroke=\"#000000\" points=\"551.5,-384 478.5,-384 478.5,-363 551.5,-363 551.5,-384\"/>\n",
       "<text text-anchor=\"middle\" x=\"515\" y=\"-370.4\" font-family=\"Times,serif\" font-size=\"12.00\" fill=\"#000000\">TBackward</text>\n",
       "</g>\n",
       "<!-- 140435265937592&#45;&gt;140435265937760 -->\n",
       "<g id=\"edge33\" class=\"edge\">\n",
       "<title>140435265937592&#45;&gt;140435265937760</title>\n",
       "<path fill=\"none\" stroke=\"#000000\" d=\"M496.1752,-362.9317C477.7757,-352.6021 449.5542,-336.7585 428.6148,-325.0031\"/>\n",
       "<polygon fill=\"#000000\" stroke=\"#000000\" points=\"430.286,-321.9274 419.8527,-320.084 426.8592,-328.0313 430.286,-321.9274\"/>\n",
       "</g>\n",
       "<!-- 140435265938824 -->\n",
       "<g id=\"node35\" class=\"node\">\n",
       "<title>140435265938824</title>\n",
       "<polygon fill=\"#add8e6\" stroke=\"#000000\" points=\"548.5,-462 485.5,-462 485.5,-427 548.5,-427 548.5,-462\"/>\n",
       "<text text-anchor=\"middle\" x=\"517\" y=\"-434.4\" font-family=\"Times,serif\" font-size=\"12.00\" fill=\"#000000\"> (50, 100)</text>\n",
       "</g>\n",
       "<!-- 140435265938824&#45;&gt;140435265937592 -->\n",
       "<g id=\"edge34\" class=\"edge\">\n",
       "<title>140435265938824&#45;&gt;140435265937592</title>\n",
       "<path fill=\"none\" stroke=\"#000000\" d=\"M516.5056,-426.9494C516.227,-417.058 515.8773,-404.6435 515.5851,-394.2693\"/>\n",
       "<polygon fill=\"#000000\" stroke=\"#000000\" points=\"519.0769,-393.9263 515.2966,-384.0288 512.0796,-394.1235 519.0769,-393.9263\"/>\n",
       "</g>\n",
       "<!-- 140435266346904 -->\n",
       "<g id=\"node36\" class=\"node\">\n",
       "<title>140435266346904</title>\n",
       "<polygon fill=\"#d3d3d3\" stroke=\"#000000\" points=\"467.5,-135 394.5,-135 394.5,-114 467.5,-114 467.5,-135\"/>\n",
       "<text text-anchor=\"middle\" x=\"431\" y=\"-121.4\" font-family=\"Times,serif\" font-size=\"12.00\" fill=\"#000000\">TBackward</text>\n",
       "</g>\n",
       "<!-- 140435266346904&#45;&gt;140435266574656 -->\n",
       "<g id=\"edge35\" class=\"edge\">\n",
       "<title>140435266346904&#45;&gt;140435266574656</title>\n",
       "<path fill=\"none\" stroke=\"#000000\" d=\"M410.3819,-113.9123C393.2482,-105.114 368.6558,-92.4854 349.4481,-82.622\"/>\n",
       "<polygon fill=\"#000000\" stroke=\"#000000\" points=\"351.0022,-79.4856 340.5077,-78.031 347.8045,-85.7126 351.0022,-79.4856\"/>\n",
       "</g>\n",
       "<!-- 140435266624592 -->\n",
       "<g id=\"node37\" class=\"node\">\n",
       "<title>140435266624592</title>\n",
       "<polygon fill=\"#add8e6\" stroke=\"#000000\" points=\"473,-206 419,-206 419,-171 473,-171 473,-206\"/>\n",
       "<text text-anchor=\"middle\" x=\"446\" y=\"-178.4\" font-family=\"Times,serif\" font-size=\"12.00\" fill=\"#000000\"> (1, 60)</text>\n",
       "</g>\n",
       "<!-- 140435266624592&#45;&gt;140435266346904 -->\n",
       "<g id=\"edge36\" class=\"edge\">\n",
       "<title>140435266624592&#45;&gt;140435266346904</title>\n",
       "<path fill=\"none\" stroke=\"#000000\" d=\"M441.8217,-170.6724C439.9652,-162.7515 437.7685,-153.3788 435.8409,-145.1546\"/>\n",
       "<polygon fill=\"#000000\" stroke=\"#000000\" points=\"439.203,-144.1609 433.5133,-135.2234 432.3876,-145.7583 439.203,-144.1609\"/>\n",
       "</g>\n",
       "</g>\n",
       "</svg>\n"
      ],
      "text/plain": [
       "<graphviz.dot.Digraph at 0x7fb9a22ef320>"
      ]
     },
     "execution_count": 26,
     "metadata": {},
     "output_type": "execute_result"
    }
   ],
   "source": [
    "## Model visualization\n",
    "%matplotlib inline\n",
    "from dot import make_dot, parse\n",
    "\n",
    "inputs = iter(t_train_loader).next()\n",
    "y = wide_and_deep_m(inputs[0], inputs[1])\n",
    "# print(y)\n",
    "g = make_dot(y)\n",
    "g"
   ]
  },
  {
   "cell_type": "code",
   "execution_count": 27,
   "metadata": {
    "ExecuteTime": {
     "end_time": "2018-09-11T04:30:30.083491Z",
     "start_time": "2018-09-11T04:30:30.078333Z"
    }
   },
   "outputs": [],
   "source": [
    "loss_fn = nn.BCELoss()\n",
    "\n",
    "# w_net / d_net\n",
    "wide_and_deep_m = wide_and_deep_m.to(device)\n",
    "opt_fn = optim.Adam(wide_and_deep_m.parameters())\n",
    "\n",
    "n_epochs = 50\n",
    "log_num = 10"
   ]
  },
  {
   "cell_type": "code",
   "execution_count": 28,
   "metadata": {
    "ExecuteTime": {
     "end_time": "2018-09-11T04:33:21.418197Z",
     "start_time": "2018-09-11T04:30:30.085464Z"
    }
   },
   "outputs": [
    {
     "name": "stderr",
     "output_type": "stream",
     "text": [
      "/home/ubuntu/anaconda3/envs/pytorch_p36/lib/python3.6/site-packages/torch/nn/functional.py:1006: UserWarning: nn.functional.sigmoid is deprecated. Use torch.sigmoid instead.\n",
      "  warnings.warn(\"nn.functional.sigmoid is deprecated. Use torch.sigmoid instead.\")\n"
     ]
    },
    {
     "name": "stdout",
     "output_type": "stream",
     "text": [
      "[Train] Epoch 1 / 50, Loss: 0.411, accuracy: 0.8057\n",
      "[Test] Epoch 1 / 50, Loss: 0.365, accuracy: 0.8281\n",
      "\n",
      "[Train] Epoch 11 / 50, Loss: 0.33, accuracy: 0.8478\n",
      "[Test] Epoch 11 / 50, Loss: 0.343, accuracy: 0.8375\n",
      "\n",
      "[Train] Epoch 21 / 50, Loss: 0.322, accuracy: 0.8504\n",
      "[Test] Epoch 21 / 50, Loss: 0.345, accuracy: 0.8366\n",
      "\n",
      "[Train] Epoch 31 / 50, Loss: 0.313, accuracy: 0.8545\n",
      "[Test] Epoch 31 / 50, Loss: 0.349, accuracy: 0.8408\n",
      "\n",
      "[Train] Epoch 41 / 50, Loss: 0.306, accuracy: 0.8569\n",
      "[Test] Epoch 41 / 50, Loss: 0.358, accuracy: 0.836\n",
      "\n"
     ]
    }
   ],
   "source": [
    "train_loss = []\n",
    "test_loss = []\n",
    "\n",
    "for epoch in range(n_epochs):\n",
    "    #################################################\n",
    "    ## Training Part\n",
    "    #################################################\n",
    "    running_total =0.0\n",
    "    running_correct =0.0\n",
    "    running_loss = 0.0\n",
    "\n",
    "    for i, data in enumerate(t_train_loader):\n",
    "        inputs_w, inputs_d, labels = data[0].to(device), data[1].to(device), data[2].to(device)\n",
    "\n",
    "        # zerograd\n",
    "        opt_fn.zero_grad()\n",
    "\n",
    "        # forward\n",
    "        y_pred = wide_and_deep_m(inputs_w, inputs_d)        \n",
    "        loss = loss_fn(y_pred, labels)\n",
    "\n",
    "        # backward\n",
    "        loss.backward()\n",
    "        opt_fn.step()\n",
    "\n",
    "\n",
    "        ############\n",
    "        # 1) loss\n",
    "        running_loss += loss.item()*inputs_w.size(0)\n",
    "\n",
    "        ############\n",
    "        # 2) metric\n",
    "        y_pred_cnvt = (y_pred > 0.5).squeeze(1).float() # (= (y_pred > 0.5).view(-1))\n",
    "        running_correct+= float((y_pred_cnvt == labels.squeeze(1)).sum().item())\n",
    "\n",
    "        running_total += y_pred.size(0) # total number of samples (accumulated)\n",
    "\n",
    "    #################################################\n",
    "    ## train epoch loss\n",
    "    epoch_loss = running_loss / int(running_total)\n",
    "    epoch_acc = running_correct / int(running_total)\n",
    "\n",
    "    train_loss.append((epoch, epoch_loss, 'loss'))\n",
    "    train_loss.append((epoch, epoch_acc, 'acc'))\n",
    "\n",
    "    if (epoch+1)%log_num == 1:\n",
    "        print ('[Train] Epoch {} / {}, Loss: {}, accuracy: {}'.format(epoch+1,\n",
    "            n_epochs, round(epoch_loss,3), round(epoch_acc,4)))\n",
    "\n",
    "    #################################################\n",
    "    ## Test Part\n",
    "    #################################################\n",
    "    running_total = 0.0\n",
    "    running_correct = 0.0\n",
    "    running_loss = 0.0\n",
    "\n",
    "    for i, data in enumerate(t_test_loader):\n",
    "        inputs_w, inputs_d, labels = data[0].to(device), data[1].to(device), data[2].to(device)\n",
    "\n",
    "        # forward\n",
    "        y_pred = wide_and_deep_m(inputs_w, inputs_d)        \n",
    "        loss = loss_fn(y_pred, labels)\n",
    "\n",
    "        ############\n",
    "        # 1) loss\n",
    "        running_loss += loss.item()*inputs_w.size(0)\n",
    "\n",
    "        ############\n",
    "        # 2) metric\n",
    "        y_pred_cnvt = (y_pred > 0.5).squeeze(1).float() # (= (y_pred > 0.5).view(-1))\n",
    "        running_correct += float((y_pred_cnvt == labels.squeeze(1)).sum().item())\n",
    "\n",
    "        running_total += y_pred.size(0) # total number of samples (accumulated)\n",
    "\n",
    "    #################################################\n",
    "    ## test epoch loss\n",
    "    epoch_loss = running_loss / int(running_total)\n",
    "    epoch_acc = running_correct / int(running_total)\n",
    "\n",
    "    test_loss.append((epoch, epoch_loss, 'loss'))\n",
    "    test_loss.append((epoch, epoch_acc, 'acc'))\n",
    "\n",
    "    if (epoch+1)%log_num == 1:\n",
    "        print ('[Test] Epoch {} / {}, Loss: {}, accuracy: {}'.format(epoch+1,\n",
    "            n_epochs, round(epoch_loss,3), round(epoch_acc,4)))\n",
    "        print()\n",
    "\n",
    "    if best_val_acc < epoch_acc:\n",
    "        best_val_acc = epoch_acc\n",
    "        best_epoch_num = epoch + 1"
   ]
  },
  {
   "cell_type": "code",
   "execution_count": null,
   "metadata": {},
   "outputs": [],
   "source": []
  },
  {
   "cell_type": "markdown",
   "metadata": {},
   "source": [
    "#### 2nd way : concat two models in training steps"
   ]
  },
  {
   "cell_type": "code",
   "execution_count": 29,
   "metadata": {
    "ExecuteTime": {
     "end_time": "2018-09-11T04:39:37.766484Z",
     "start_time": "2018-09-11T04:39:37.762208Z"
    }
   },
   "outputs": [],
   "source": [
    "t_w_net = t_w_net.to(device)\n",
    "t_d_net = t_d_net.to(device)\n",
    "last_net = last_net.to(device)"
   ]
  },
  {
   "cell_type": "code",
   "execution_count": 30,
   "metadata": {
    "ExecuteTime": {
     "end_time": "2018-09-11T04:39:37.952375Z",
     "start_time": "2018-09-11T04:39:37.948948Z"
    }
   },
   "outputs": [],
   "source": [
    "loss_fn = nn.BCELoss()\n",
    "\n",
    "# w_net / d_net\n",
    "opt_fn = optim.Adam(list(t_w_net.parameters()) + list(t_d_net.parameters()) + list(last_net.parameters()))\n",
    "\n",
    "n_epochs = 50\n",
    "log_num = 10"
   ]
  },
  {
   "cell_type": "code",
   "execution_count": 31,
   "metadata": {
    "ExecuteTime": {
     "end_time": "2018-09-11T04:42:30.759951Z",
     "start_time": "2018-09-11T04:39:38.210070Z"
    }
   },
   "outputs": [
    {
     "name": "stderr",
     "output_type": "stream",
     "text": [
      "/home/ubuntu/anaconda3/envs/pytorch_p36/lib/python3.6/site-packages/torch/nn/functional.py:1006: UserWarning: nn.functional.sigmoid is deprecated. Use torch.sigmoid instead.\n",
      "  warnings.warn(\"nn.functional.sigmoid is deprecated. Use torch.sigmoid instead.\")\n"
     ]
    },
    {
     "name": "stdout",
     "output_type": "stream",
     "text": [
      "[Train] Epoch 1 / 50, Loss: 0.409, accuracy: 0.8085\n",
      "[Test] Epoch 1 / 50, Loss: 0.365, accuracy: 0.8291\n",
      "\n",
      "[Train] Epoch 11 / 50, Loss: 0.33, accuracy: 0.8464\n",
      "[Test] Epoch 11 / 50, Loss: 0.342, accuracy: 0.8394\n",
      "\n",
      "[Train] Epoch 21 / 50, Loss: 0.321, accuracy: 0.8506\n",
      "[Test] Epoch 21 / 50, Loss: 0.346, accuracy: 0.8381\n",
      "\n",
      "[Train] Epoch 31 / 50, Loss: 0.313, accuracy: 0.8534\n",
      "[Test] Epoch 31 / 50, Loss: 0.35, accuracy: 0.8355\n",
      "\n",
      "[Train] Epoch 41 / 50, Loss: 0.307, accuracy: 0.8563\n",
      "[Test] Epoch 41 / 50, Loss: 0.355, accuracy: 0.8356\n",
      "\n"
     ]
    }
   ],
   "source": [
    "train_loss = []\n",
    "test_loss = []\n",
    "\n",
    "for epoch in range(n_epochs):\n",
    "    #################################################\n",
    "    ## Training Part\n",
    "    #################################################\n",
    "    running_total =0.0\n",
    "    running_correct =0.0\n",
    "    running_loss = 0.0\n",
    "\n",
    "    for i, data in enumerate(t_train_loader):\n",
    "        inputs_w, inputs_d, labels = data[0].to(device), data[1].to(device), data[2].to(device)\n",
    "\n",
    "        # zerograd\n",
    "        opt_fn.zero_grad()\n",
    "\n",
    "        # forward\n",
    "        y_pred_w = t_w_net(inputs_w)\n",
    "        y_pred_d = t_d_net(inputs_d)\n",
    "        y_pred_tot = torch.cat((y_pred_w, y_pred_d), 1)\n",
    "        \n",
    "        y_pred = last_net(y_pred_tot)\n",
    "        \n",
    "        loss = loss_fn(y_pred, labels)\n",
    "\n",
    "        # backward\n",
    "        loss.backward()\n",
    "        opt_fn.step()\n",
    "\n",
    "\n",
    "        ############\n",
    "        # 1) loss\n",
    "        running_loss += loss.item()*inputs_w.size(0)\n",
    "\n",
    "        ############\n",
    "        # 2) metric\n",
    "        y_pred_cnvt = (y_pred > 0.5).squeeze(1).float() # (= (y_pred > 0.5).view(-1))\n",
    "        running_correct+= float((y_pred_cnvt == labels.squeeze(1)).sum().item())\n",
    "\n",
    "        running_total += y_pred.size(0) # total number of samples (accumulated)\n",
    "\n",
    "    #################################################\n",
    "    ## train epoch loss\n",
    "    epoch_loss = running_loss / int(running_total)\n",
    "    epoch_acc = running_correct / int(running_total)\n",
    "\n",
    "    train_loss.append((epoch, epoch_loss, 'loss'))\n",
    "    train_loss.append((epoch, epoch_acc, 'acc'))\n",
    "\n",
    "    if (epoch+1)%log_num == 1:\n",
    "        print ('[Train] Epoch {} / {}, Loss: {}, accuracy: {}'.format(epoch+1,\n",
    "            n_epochs, round(epoch_loss,3), round(epoch_acc,4)))\n",
    "\n",
    "    #################################################\n",
    "    ## Test Part\n",
    "    #################################################\n",
    "    running_total = 0.0\n",
    "    running_correct = 0.0\n",
    "    running_loss = 0.0\n",
    "\n",
    "    for i, data in enumerate(t_test_loader):\n",
    "        inputs_w, inputs_d, labels = data[0].to(device), data[1].to(device), data[2].to(device)\n",
    "\n",
    "        # forward\n",
    "        y_pred_w = t_w_net(inputs_w)\n",
    "        y_pred_d = t_d_net(inputs_d)\n",
    "        y_pred_tot = torch.cat((y_pred_w, y_pred_d), 1)\n",
    "        \n",
    "        y_pred = last_net(y_pred_tot)\n",
    "        \n",
    "        loss = loss_fn(y_pred, labels)\n",
    "\n",
    "        ############\n",
    "        # 1) loss\n",
    "        running_loss += loss.item()*inputs_w.size(0)\n",
    "\n",
    "        ############\n",
    "        # 2) metric\n",
    "        y_pred_cnvt = (y_pred > 0.5).squeeze(1).float() # (= (y_pred > 0.5).view(-1))\n",
    "        running_correct += float((y_pred_cnvt == labels.squeeze(1)).sum().item())\n",
    "\n",
    "        running_total += y_pred.size(0) # total number of samples (accumulated)\n",
    "\n",
    "    #################################################\n",
    "    ## test epoch loss\n",
    "    epoch_loss = running_loss / int(running_total)\n",
    "    epoch_acc = running_correct / int(running_total)\n",
    "\n",
    "    test_loss.append((epoch, epoch_loss, 'loss'))\n",
    "    test_loss.append((epoch, epoch_acc, 'acc'))\n",
    "\n",
    "    if (epoch+1)%log_num == 1:\n",
    "        print ('[Test] Epoch {} / {}, Loss: {}, accuracy: {}'.format(epoch+1,\n",
    "            n_epochs, round(epoch_loss,3), round(epoch_acc,4)))\n",
    "        print()\n",
    "\n",
    "    if best_val_acc < epoch_acc:\n",
    "        best_val_acc = epoch_acc\n",
    "        best_epoch_num = epoch + 1"
   ]
  },
  {
   "cell_type": "code",
   "execution_count": null,
   "metadata": {},
   "outputs": [],
   "source": []
  },
  {
   "cell_type": "markdown",
   "metadata": {},
   "source": [
    "#### thrid way : start from one combined model"
   ]
  },
  {
   "cell_type": "code",
   "execution_count": 32,
   "metadata": {
    "ExecuteTime": {
     "end_time": "2018-09-11T06:21:16.785047Z",
     "start_time": "2018-09-11T06:21:16.776004Z"
    }
   },
   "outputs": [],
   "source": [
    "### deep part network (completely build for one model)\n",
    "class widedeepNet(nn.Module):\n",
    "    \n",
    "    def __init__(self, wide_dim, embeddings_input, continuous_cols, deep_column_idx, n_hiddens, n_class):\n",
    "        super(widedeepNet, self).__init__()\n",
    "        self.wide_dim = wide_dim\n",
    "        self.embeddings_input = embeddings_input\n",
    "        self.continuous_cols = continuous_cols\n",
    "        self.deep_column_idx = deep_column_idx\n",
    "        self.n_hiddens = n_hiddens\n",
    "        self.n_class = n_class\n",
    "        \n",
    "        print(self.deep_column_idx)\n",
    "        \n",
    "        # make embedding layers for categorical variables\n",
    "        ## embedding : # of cols x # of embedding dims.\n",
    "        for col, n_col, n_dim in self.embeddings_input:\n",
    "            setattr(self, 'emb_ly_'+str(col), nn.Embedding(n_col, n_dim)) # (class, inst name, value)\n",
    "            \n",
    "        # add linear layer after concatenating of embedding layers and linear of continuous layer\n",
    "        input_emb_dim = np.sum(emb[2] for emb in self.embeddings_input)\n",
    "        print(input_emb_dim)\n",
    "        self.ly1 = nn.Linear(input_emb_dim + len(continuous_cols), self.n_hiddens[0])\n",
    "        # after concat hidden layers\n",
    "        for i, hidden in enumerate(self.n_hiddens[1:],1):\n",
    "            setattr(self, 'lin_ly_'+str(i+1), nn.Linear(self.n_hiddens[i-1], self.n_hiddens[i]))\n",
    "            \n",
    "        self.out_ly = nn.Linear(self.n_hiddens[-1] + self.wide_dim, n_class)\n",
    "            \n",
    "    def forward(self, x_w, x_d):\n",
    "        # make each output embedding layer's and return to type list \n",
    "        emb = [getattr(self, 'emb_ly_' +str(col))(x_d[:, self.deep_column_idx[col]].long()) for col, _, _ in self.embeddings_input]\n",
    "        \n",
    "        # for continuous values\n",
    "        cont_idx = [self.deep_column_idx[col] for col in self.continuous_cols]\n",
    "        ## just slicing of continuous values\n",
    "        cont = [x_d[:, cont_idx].float()]\n",
    "        \n",
    "        ## concatenating of embedding layer's outpus and linear inputs\n",
    "        #### concat input of list to one array\n",
    "        deep_input = torch.cat(emb+cont, 1)\n",
    "        x_deep = F.relu(self.ly1(deep_input))\n",
    "        \n",
    "        for i in range(1, len(n_hiddens)): # first hidden value is already used in 'ly1' layer -> start from 1\n",
    "            x_deep = F.relu( getattr(self, 'lin_ly_'+str(i+1))(x_deep))\n",
    "        \n",
    "        \n",
    "        ## concat of wide and deep\n",
    "        x_wide = x_w.float()\n",
    "        \n",
    "        x_wide_deep = torch.cat((x_wide, x_deep), 1)        \n",
    "        \n",
    "        # final classifier layer\n",
    "        out = F.sigmoid(self.out_ly(x_wide_deep))\n",
    "        \n",
    "        return out"
   ]
  },
  {
   "cell_type": "code",
   "execution_count": 37,
   "metadata": {
    "ExecuteTime": {
     "end_time": "2018-09-11T06:25:18.002357Z",
     "start_time": "2018-09-11T06:25:17.880972Z"
    }
   },
   "outputs": [
    {
     "name": "stdout",
     "output_type": "stream",
     "text": [
      "{'education': 0, 'relationship': 1, 'workclass': 2, 'occupation': 3, 'native_country': 4, 'age': 5, 'hours_per_week': 6}\n",
      "50\n",
      "widedeepNet(\n",
      "  (emb_ly_education): Embedding(16, 10)\n",
      "  (emb_ly_relationship): Embedding(6, 8)\n",
      "  (emb_ly_workclass): Embedding(9, 10)\n",
      "  (emb_ly_native_country): Embedding(42, 12)\n",
      "  (emb_ly_occupation): Embedding(15, 10)\n",
      "  (ly1): Linear(in_features=52, out_features=100, bias=True)\n",
      "  (lin_ly_2): Linear(in_features=100, out_features=50, bias=True)\n",
      "  (out_ly): Linear(in_features=848, out_features=1, bias=True)\n",
      ")\n"
     ]
    },
    {
     "name": "stderr",
     "output_type": "stream",
     "text": [
      "Exception ignored in: <bound method _DataLoaderIter.__del__ of <torch.utils.data.dataloader._DataLoaderIter object at 0x7fb9a228bb38>>\n",
      "Traceback (most recent call last):\n",
      "  File \"/home/ubuntu/anaconda3/envs/pytorch_p36/lib/python3.6/site-packages/torch/utils/data/dataloader.py\", line 399, in __del__\n",
      "    self._shutdown_workers()\n",
      "  File \"/home/ubuntu/anaconda3/envs/pytorch_p36/lib/python3.6/site-packages/torch/utils/data/dataloader.py\", line 378, in _shutdown_workers\n",
      "    self.worker_result_queue.get()\n",
      "  File \"/home/ubuntu/anaconda3/envs/pytorch_p36/lib/python3.6/multiprocessing/queues.py\", line 337, in get\n",
      "    return _ForkingPickler.loads(res)\n",
      "  File \"/home/ubuntu/anaconda3/envs/pytorch_p36/lib/python3.6/site-packages/torch/multiprocessing/reductions.py\", line 151, in rebuild_storage_fd\n",
      "    fd = df.detach()\n",
      "  File \"/home/ubuntu/anaconda3/envs/pytorch_p36/lib/python3.6/multiprocessing/resource_sharer.py\", line 57, in detach\n",
      "    with _resource_sharer.get_connection(self._id) as conn:\n",
      "  File \"/home/ubuntu/anaconda3/envs/pytorch_p36/lib/python3.6/multiprocessing/resource_sharer.py\", line 87, in get_connection\n",
      "    c = Client(address, authkey=process.current_process().authkey)\n",
      "  File \"/home/ubuntu/anaconda3/envs/pytorch_p36/lib/python3.6/multiprocessing/connection.py\", line 494, in Client\n",
      "    deliver_challenge(c, authkey)\n",
      "  File \"/home/ubuntu/anaconda3/envs/pytorch_p36/lib/python3.6/multiprocessing/connection.py\", line 722, in deliver_challenge\n",
      "    response = connection.recv_bytes(256)        # reject large message\n",
      "  File \"/home/ubuntu/anaconda3/envs/pytorch_p36/lib/python3.6/multiprocessing/connection.py\", line 216, in recv_bytes\n",
      "    buf = self._recv_bytes(maxlength)\n",
      "  File \"/home/ubuntu/anaconda3/envs/pytorch_p36/lib/python3.6/multiprocessing/connection.py\", line 407, in _recv_bytes\n",
      "    buf = self._recv(4)\n",
      "  File \"/home/ubuntu/anaconda3/envs/pytorch_p36/lib/python3.6/multiprocessing/connection.py\", line 383, in _recv\n",
      "    raise EOFError\n",
      "EOFError: \n",
      "/home/ubuntu/anaconda3/envs/pytorch_p36/lib/python3.6/site-packages/torch/nn/functional.py:1006: UserWarning: nn.functional.sigmoid is deprecated. Use torch.sigmoid instead.\n",
      "  warnings.warn(\"nn.functional.sigmoid is deprecated. Use torch.sigmoid instead.\")\n"
     ]
    },
    {
     "data": {
      "image/svg+xml": [
       "<?xml version=\"1.0\" encoding=\"UTF-8\" standalone=\"no\"?>\n",
       "<!DOCTYPE svg PUBLIC \"-//W3C//DTD SVG 1.1//EN\"\n",
       " \"http://www.w3.org/Graphics/SVG/1.1/DTD/svg11.dtd\">\n",
       "<!-- Generated by graphviz version 2.40.1 (20161225.0304)\n",
       " -->\n",
       "<!-- Title: %3 Pages: 1 -->\n",
       "<svg width=\"834pt\" height=\"598pt\"\n",
       " viewBox=\"0.00 0.00 833.50 598.00\" xmlns=\"http://www.w3.org/2000/svg\" xmlns:xlink=\"http://www.w3.org/1999/xlink\">\n",
       "<g id=\"graph0\" class=\"graph\" transform=\"scale(1 1) rotate(0) translate(4 594)\">\n",
       "<title>%3</title>\n",
       "<polygon fill=\"#ffffff\" stroke=\"transparent\" points=\"-4,4 -4,-594 829.5,-594 829.5,4 -4,4\"/>\n",
       "<!-- 140435265999480 -->\n",
       "<g id=\"node1\" class=\"node\">\n",
       "<title>140435265999480</title>\n",
       "<polygon fill=\"#caff70\" stroke=\"#000000\" points=\"465.5,-21 360.5,-21 360.5,0 465.5,0 465.5,-21\"/>\n",
       "<text text-anchor=\"middle\" x=\"413\" y=\"-7.4\" font-family=\"Times,serif\" font-size=\"12.00\" fill=\"#000000\">SigmoidBackward</text>\n",
       "</g>\n",
       "<!-- 140435265998976 -->\n",
       "<g id=\"node2\" class=\"node\">\n",
       "<title>140435265998976</title>\n",
       "<polygon fill=\"#d3d3d3\" stroke=\"#000000\" points=\"472,-78 354,-78 354,-57 472,-57 472,-78\"/>\n",
       "<text text-anchor=\"middle\" x=\"413\" y=\"-64.4\" font-family=\"Times,serif\" font-size=\"12.00\" fill=\"#000000\">ThAddmmBackward</text>\n",
       "</g>\n",
       "<!-- 140435265998976&#45;&gt;140435265999480 -->\n",
       "<g id=\"edge1\" class=\"edge\">\n",
       "<title>140435265998976&#45;&gt;140435265999480</title>\n",
       "<path fill=\"none\" stroke=\"#000000\" d=\"M413,-56.7787C413,-49.6134 413,-39.9517 413,-31.3097\"/>\n",
       "<polygon fill=\"#000000\" stroke=\"#000000\" points=\"416.5001,-31.1732 413,-21.1732 409.5001,-31.1732 416.5001,-31.1732\"/>\n",
       "</g>\n",
       "<!-- 140435265999368 -->\n",
       "<g id=\"node3\" class=\"node\">\n",
       "<title>140435265999368</title>\n",
       "<polygon fill=\"#d3d3d3\" stroke=\"#000000\" points=\"354,-135 252,-135 252,-114 354,-114 354,-135\"/>\n",
       "<text text-anchor=\"middle\" x=\"303\" y=\"-121.4\" font-family=\"Times,serif\" font-size=\"12.00\" fill=\"#000000\">ExpandBackward</text>\n",
       "</g>\n",
       "<!-- 140435265999368&#45;&gt;140435265998976 -->\n",
       "<g id=\"edge2\" class=\"edge\">\n",
       "<title>140435265999368&#45;&gt;140435265998976</title>\n",
       "<path fill=\"none\" stroke=\"#000000\" d=\"M323.4324,-113.9123C340.3345,-105.154 364.5611,-92.6001 383.5573,-82.7567\"/>\n",
       "<polygon fill=\"#000000\" stroke=\"#000000\" points=\"385.4086,-85.7394 392.6771,-78.031 382.188,-79.5243 385.4086,-85.7394\"/>\n",
       "</g>\n",
       "<!-- 140435265998920 -->\n",
       "<g id=\"node4\" class=\"node\">\n",
       "<title>140435265998920</title>\n",
       "<polygon fill=\"#add8e6\" stroke=\"#000000\" points=\"330,-206 276,-206 276,-171 330,-171 330,-206\"/>\n",
       "<text text-anchor=\"middle\" x=\"303\" y=\"-178.4\" font-family=\"Times,serif\" font-size=\"12.00\" fill=\"#000000\"> (1)</text>\n",
       "</g>\n",
       "<!-- 140435265998920&#45;&gt;140435265999368 -->\n",
       "<g id=\"edge3\" class=\"edge\">\n",
       "<title>140435265998920&#45;&gt;140435265999368</title>\n",
       "<path fill=\"none\" stroke=\"#000000\" d=\"M303,-170.6724C303,-162.8405 303,-153.5893 303,-145.4323\"/>\n",
       "<polygon fill=\"#000000\" stroke=\"#000000\" points=\"306.5001,-145.2234 303,-135.2234 299.5001,-145.2235 306.5001,-145.2234\"/>\n",
       "</g>\n",
       "<!-- 140435266002280 -->\n",
       "<g id=\"node5\" class=\"node\">\n",
       "<title>140435266002280</title>\n",
       "<polygon fill=\"#d3d3d3\" stroke=\"#000000\" points=\"454,-135 372,-135 372,-114 454,-114 454,-135\"/>\n",
       "<text text-anchor=\"middle\" x=\"413\" y=\"-121.4\" font-family=\"Times,serif\" font-size=\"12.00\" fill=\"#000000\">CatBackward</text>\n",
       "</g>\n",
       "<!-- 140435266002280&#45;&gt;140435265998976 -->\n",
       "<g id=\"edge4\" class=\"edge\">\n",
       "<title>140435266002280&#45;&gt;140435265998976</title>\n",
       "<path fill=\"none\" stroke=\"#000000\" d=\"M413,-113.7787C413,-106.6134 413,-96.9517 413,-88.3097\"/>\n",
       "<polygon fill=\"#000000\" stroke=\"#000000\" points=\"416.5001,-88.1732 413,-78.1732 409.5001,-88.1732 416.5001,-88.1732\"/>\n",
       "</g>\n",
       "<!-- 140435266255616 -->\n",
       "<g id=\"node6\" class=\"node\">\n",
       "<title>140435266255616</title>\n",
       "<polygon fill=\"#d3d3d3\" stroke=\"#000000\" points=\"457,-199 369,-199 369,-178 457,-178 457,-199\"/>\n",
       "<text text-anchor=\"middle\" x=\"413\" y=\"-185.4\" font-family=\"Times,serif\" font-size=\"12.00\" fill=\"#000000\">ReluBackward</text>\n",
       "</g>\n",
       "<!-- 140435266255616&#45;&gt;140435266002280 -->\n",
       "<g id=\"edge5\" class=\"edge\">\n",
       "<title>140435266255616&#45;&gt;140435266002280</title>\n",
       "<path fill=\"none\" stroke=\"#000000\" d=\"M413,-177.9317C413,-169.0913 413,-156.2122 413,-145.3135\"/>\n",
       "<polygon fill=\"#000000\" stroke=\"#000000\" points=\"416.5001,-145.2979 413,-135.2979 409.5001,-145.2979 416.5001,-145.2979\"/>\n",
       "</g>\n",
       "<!-- 140435266255672 -->\n",
       "<g id=\"node7\" class=\"node\">\n",
       "<title>140435266255672</title>\n",
       "<polygon fill=\"#d3d3d3\" stroke=\"#000000\" points=\"472,-263 354,-263 354,-242 472,-242 472,-263\"/>\n",
       "<text text-anchor=\"middle\" x=\"413\" y=\"-249.4\" font-family=\"Times,serif\" font-size=\"12.00\" fill=\"#000000\">ThAddmmBackward</text>\n",
       "</g>\n",
       "<!-- 140435266255672&#45;&gt;140435266255616 -->\n",
       "<g id=\"edge6\" class=\"edge\">\n",
       "<title>140435266255672&#45;&gt;140435266255616</title>\n",
       "<path fill=\"none\" stroke=\"#000000\" d=\"M413,-241.9317C413,-233.0913 413,-220.2122 413,-209.3135\"/>\n",
       "<polygon fill=\"#000000\" stroke=\"#000000\" points=\"416.5001,-209.2979 413,-199.2979 409.5001,-209.2979 416.5001,-209.2979\"/>\n",
       "</g>\n",
       "<!-- 140435266036960 -->\n",
       "<g id=\"node8\" class=\"node\">\n",
       "<title>140435266036960</title>\n",
       "<polygon fill=\"#d3d3d3\" stroke=\"#000000\" points=\"351,-320 249,-320 249,-299 351,-299 351,-320\"/>\n",
       "<text text-anchor=\"middle\" x=\"300\" y=\"-306.4\" font-family=\"Times,serif\" font-size=\"12.00\" fill=\"#000000\">ExpandBackward</text>\n",
       "</g>\n",
       "<!-- 140435266036960&#45;&gt;140435266255672 -->\n",
       "<g id=\"edge7\" class=\"edge\">\n",
       "<title>140435266036960&#45;&gt;140435266255672</title>\n",
       "<path fill=\"none\" stroke=\"#000000\" d=\"M320.9896,-298.9123C338.432,-290.114 363.4675,-277.4854 383.0213,-267.622\"/>\n",
       "<polygon fill=\"#000000\" stroke=\"#000000\" points=\"384.7707,-270.6597 392.1228,-263.031 381.6181,-264.4098 384.7707,-270.6597\"/>\n",
       "</g>\n",
       "<!-- 140435266038472 -->\n",
       "<g id=\"node9\" class=\"node\">\n",
       "<title>140435266038472</title>\n",
       "<polygon fill=\"#add8e6\" stroke=\"#000000\" points=\"327,-391 273,-391 273,-356 327,-356 327,-391\"/>\n",
       "<text text-anchor=\"middle\" x=\"300\" y=\"-363.4\" font-family=\"Times,serif\" font-size=\"12.00\" fill=\"#000000\"> (50)</text>\n",
       "</g>\n",
       "<!-- 140435266038472&#45;&gt;140435266036960 -->\n",
       "<g id=\"edge8\" class=\"edge\">\n",
       "<title>140435266038472&#45;&gt;140435266036960</title>\n",
       "<path fill=\"none\" stroke=\"#000000\" d=\"M300,-355.6724C300,-347.8405 300,-338.5893 300,-330.4323\"/>\n",
       "<polygon fill=\"#000000\" stroke=\"#000000\" points=\"303.5001,-330.2234 300,-320.2234 296.5001,-330.2235 303.5001,-330.2234\"/>\n",
       "</g>\n",
       "<!-- 140435266037632 -->\n",
       "<g id=\"node10\" class=\"node\">\n",
       "<title>140435266037632</title>\n",
       "<polygon fill=\"#d3d3d3\" stroke=\"#000000\" points=\"457,-320 369,-320 369,-299 457,-299 457,-320\"/>\n",
       "<text text-anchor=\"middle\" x=\"413\" y=\"-306.4\" font-family=\"Times,serif\" font-size=\"12.00\" fill=\"#000000\">ReluBackward</text>\n",
       "</g>\n",
       "<!-- 140435266037632&#45;&gt;140435266255672 -->\n",
       "<g id=\"edge9\" class=\"edge\">\n",
       "<title>140435266037632&#45;&gt;140435266255672</title>\n",
       "<path fill=\"none\" stroke=\"#000000\" d=\"M413,-298.7787C413,-291.6134 413,-281.9517 413,-273.3097\"/>\n",
       "<polygon fill=\"#000000\" stroke=\"#000000\" points=\"416.5001,-273.1732 413,-263.1732 409.5001,-273.1732 416.5001,-273.1732\"/>\n",
       "</g>\n",
       "<!-- 140435266037576 -->\n",
       "<g id=\"node11\" class=\"node\">\n",
       "<title>140435266037576</title>\n",
       "<polygon fill=\"#d3d3d3\" stroke=\"#000000\" points=\"467,-384 349,-384 349,-363 467,-363 467,-384\"/>\n",
       "<text text-anchor=\"middle\" x=\"408\" y=\"-370.4\" font-family=\"Times,serif\" font-size=\"12.00\" fill=\"#000000\">ThAddmmBackward</text>\n",
       "</g>\n",
       "<!-- 140435266037576&#45;&gt;140435266037632 -->\n",
       "<g id=\"edge10\" class=\"edge\">\n",
       "<title>140435266037576&#45;&gt;140435266037632</title>\n",
       "<path fill=\"none\" stroke=\"#000000\" d=\"M408.8256,-362.9317C409.5163,-354.0913 410.5225,-341.2122 411.3739,-330.3135\"/>\n",
       "<polygon fill=\"#000000\" stroke=\"#000000\" points=\"414.8668,-330.5402 412.1564,-320.2979 407.8881,-329.9949 414.8668,-330.5402\"/>\n",
       "</g>\n",
       "<!-- 140435266037128 -->\n",
       "<g id=\"node12\" class=\"node\">\n",
       "<title>140435266037128</title>\n",
       "<polygon fill=\"#d3d3d3\" stroke=\"#000000\" points=\"214,-448 112,-448 112,-427 214,-427 214,-448\"/>\n",
       "<text text-anchor=\"middle\" x=\"163\" y=\"-434.4\" font-family=\"Times,serif\" font-size=\"12.00\" fill=\"#000000\">ExpandBackward</text>\n",
       "</g>\n",
       "<!-- 140435266037128&#45;&gt;140435266037576 -->\n",
       "<g id=\"edge11\" class=\"edge\">\n",
       "<title>140435266037128&#45;&gt;140435266037576</title>\n",
       "<path fill=\"none\" stroke=\"#000000\" d=\"M203.4568,-426.9317C245.7482,-415.8841 312.1845,-398.5294 357.7968,-386.6143\"/>\n",
       "<polygon fill=\"#000000\" stroke=\"#000000\" points=\"358.6924,-389.9979 367.4831,-384.084 356.9232,-383.2251 358.6924,-389.9979\"/>\n",
       "</g>\n",
       "<!-- 140435266064456 -->\n",
       "<g id=\"node13\" class=\"node\">\n",
       "<title>140435266064456</title>\n",
       "<polygon fill=\"#add8e6\" stroke=\"#000000\" points=\"54,-519 0,-519 0,-484 54,-484 54,-519\"/>\n",
       "<text text-anchor=\"middle\" x=\"27\" y=\"-491.4\" font-family=\"Times,serif\" font-size=\"12.00\" fill=\"#000000\"> (100)</text>\n",
       "</g>\n",
       "<!-- 140435266064456&#45;&gt;140435266037128 -->\n",
       "<g id=\"edge12\" class=\"edge\">\n",
       "<title>140435266064456&#45;&gt;140435266037128</title>\n",
       "<path fill=\"none\" stroke=\"#000000\" d=\"M54.1027,-488.2633C57.1013,-486.8172 60.1131,-485.3728 63,-484 85.5863,-473.2599 111.159,-461.3735 130.7899,-452.3068\"/>\n",
       "<polygon fill=\"#000000\" stroke=\"#000000\" points=\"132.296,-455.4666 139.9105,-448.0998 129.364,-449.1102 132.296,-455.4666\"/>\n",
       "</g>\n",
       "<!-- 140435266037072 -->\n",
       "<g id=\"node14\" class=\"node\">\n",
       "<title>140435266037072</title>\n",
       "<polygon fill=\"#d3d3d3\" stroke=\"#000000\" points=\"449,-448 367,-448 367,-427 449,-427 449,-448\"/>\n",
       "<text text-anchor=\"middle\" x=\"408\" y=\"-434.4\" font-family=\"Times,serif\" font-size=\"12.00\" fill=\"#000000\">CatBackward</text>\n",
       "</g>\n",
       "<!-- 140435266037072&#45;&gt;140435266037576 -->\n",
       "<g id=\"edge13\" class=\"edge\">\n",
       "<title>140435266037072&#45;&gt;140435266037576</title>\n",
       "<path fill=\"none\" stroke=\"#000000\" d=\"M408,-426.9317C408,-418.0913 408,-405.2122 408,-394.3135\"/>\n",
       "<polygon fill=\"#000000\" stroke=\"#000000\" points=\"411.5001,-394.2979 408,-384.2979 404.5001,-394.2979 411.5001,-394.2979\"/>\n",
       "</g>\n",
       "<!-- 140435266064568 -->\n",
       "<g id=\"node15\" class=\"node\">\n",
       "<title>140435266064568</title>\n",
       "<polygon fill=\"#d3d3d3\" stroke=\"#000000\" points=\"192,-512 72,-512 72,-491 192,-491 192,-512\"/>\n",
       "<text text-anchor=\"middle\" x=\"132\" y=\"-498.4\" font-family=\"Times,serif\" font-size=\"12.00\" fill=\"#000000\">EmbeddingBackward</text>\n",
       "</g>\n",
       "<!-- 140435266064568&#45;&gt;140435266037072 -->\n",
       "<g id=\"edge14\" class=\"edge\">\n",
       "<title>140435266064568&#45;&gt;140435266037072</title>\n",
       "<path fill=\"none\" stroke=\"#000000\" d=\"M172.8183,-490.9505C182.0727,-488.6136 191.865,-486.184 201,-484 253.9516,-471.3402 314.7656,-457.7975 356.7095,-448.612\"/>\n",
       "<polygon fill=\"#000000\" stroke=\"#000000\" points=\"357.6628,-451.9863 366.6847,-446.4317 356.168,-445.1478 357.6628,-451.9863\"/>\n",
       "</g>\n",
       "<!-- 140435266065744 -->\n",
       "<g id=\"node16\" class=\"node\">\n",
       "<title>140435266065744</title>\n",
       "<polygon fill=\"#add8e6\" stroke=\"#000000\" points=\"160.5,-590 103.5,-590 103.5,-555 160.5,-555 160.5,-590\"/>\n",
       "<text text-anchor=\"middle\" x=\"132\" y=\"-562.4\" font-family=\"Times,serif\" font-size=\"12.00\" fill=\"#000000\"> (16, 10)</text>\n",
       "</g>\n",
       "<!-- 140435266065744&#45;&gt;140435266064568 -->\n",
       "<g id=\"edge15\" class=\"edge\">\n",
       "<title>140435266065744&#45;&gt;140435266064568</title>\n",
       "<path fill=\"none\" stroke=\"#000000\" d=\"M132,-554.9494C132,-545.058 132,-532.6435 132,-522.2693\"/>\n",
       "<polygon fill=\"#000000\" stroke=\"#000000\" points=\"135.5001,-522.0288 132,-512.0288 128.5001,-522.0289 135.5001,-522.0288\"/>\n",
       "</g>\n",
       "<!-- 140435266064624 -->\n",
       "<g id=\"node17\" class=\"node\">\n",
       "<title>140435266064624</title>\n",
       "<polygon fill=\"#d3d3d3\" stroke=\"#000000\" points=\"330,-512 210,-512 210,-491 330,-491 330,-512\"/>\n",
       "<text text-anchor=\"middle\" x=\"270\" y=\"-498.4\" font-family=\"Times,serif\" font-size=\"12.00\" fill=\"#000000\">EmbeddingBackward</text>\n",
       "</g>\n",
       "<!-- 140435266064624&#45;&gt;140435266037072 -->\n",
       "<g id=\"edge16\" class=\"edge\">\n",
       "<title>140435266064624&#45;&gt;140435266037072</title>\n",
       "<path fill=\"none\" stroke=\"#000000\" d=\"M292.7879,-490.9317C315.4606,-480.4168 350.4533,-464.1883 375.9269,-452.3745\"/>\n",
       "<polygon fill=\"#000000\" stroke=\"#000000\" points=\"377.5789,-455.4665 385.1783,-448.084 374.6338,-449.1161 377.5789,-455.4665\"/>\n",
       "</g>\n",
       "<!-- 140435266065520 -->\n",
       "<g id=\"node18\" class=\"node\">\n",
       "<title>140435266065520</title>\n",
       "<polygon fill=\"#add8e6\" stroke=\"#000000\" points=\"297,-590 243,-590 243,-555 297,-555 297,-590\"/>\n",
       "<text text-anchor=\"middle\" x=\"270\" y=\"-562.4\" font-family=\"Times,serif\" font-size=\"12.00\" fill=\"#000000\"> (6, 8)</text>\n",
       "</g>\n",
       "<!-- 140435266065520&#45;&gt;140435266064624 -->\n",
       "<g id=\"edge17\" class=\"edge\">\n",
       "<title>140435266065520&#45;&gt;140435266064624</title>\n",
       "<path fill=\"none\" stroke=\"#000000\" d=\"M270,-554.9494C270,-545.058 270,-532.6435 270,-522.2693\"/>\n",
       "<polygon fill=\"#000000\" stroke=\"#000000\" points=\"273.5001,-522.0288 270,-512.0288 266.5001,-522.0289 273.5001,-522.0288\"/>\n",
       "</g>\n",
       "<!-- 140435266065464 -->\n",
       "<g id=\"node19\" class=\"node\">\n",
       "<title>140435266065464</title>\n",
       "<polygon fill=\"#d3d3d3\" stroke=\"#000000\" points=\"468,-512 348,-512 348,-491 468,-491 468,-512\"/>\n",
       "<text text-anchor=\"middle\" x=\"408\" y=\"-498.4\" font-family=\"Times,serif\" font-size=\"12.00\" fill=\"#000000\">EmbeddingBackward</text>\n",
       "</g>\n",
       "<!-- 140435266065464&#45;&gt;140435266037072 -->\n",
       "<g id=\"edge18\" class=\"edge\">\n",
       "<title>140435266065464&#45;&gt;140435266037072</title>\n",
       "<path fill=\"none\" stroke=\"#000000\" d=\"M408,-490.9317C408,-482.0913 408,-469.2122 408,-458.3135\"/>\n",
       "<polygon fill=\"#000000\" stroke=\"#000000\" points=\"411.5001,-458.2979 408,-448.2979 404.5001,-458.2979 411.5001,-458.2979\"/>\n",
       "</g>\n",
       "<!-- 140435266066192 -->\n",
       "<g id=\"node20\" class=\"node\">\n",
       "<title>140435266066192</title>\n",
       "<polygon fill=\"#add8e6\" stroke=\"#000000\" points=\"435,-590 381,-590 381,-555 435,-555 435,-590\"/>\n",
       "<text text-anchor=\"middle\" x=\"408\" y=\"-562.4\" font-family=\"Times,serif\" font-size=\"12.00\" fill=\"#000000\"> (9, 10)</text>\n",
       "</g>\n",
       "<!-- 140435266066192&#45;&gt;140435266065464 -->\n",
       "<g id=\"edge19\" class=\"edge\">\n",
       "<title>140435266066192&#45;&gt;140435266065464</title>\n",
       "<path fill=\"none\" stroke=\"#000000\" d=\"M408,-554.9494C408,-545.058 408,-532.6435 408,-522.2693\"/>\n",
       "<polygon fill=\"#000000\" stroke=\"#000000\" points=\"411.5001,-522.0288 408,-512.0288 404.5001,-522.0289 411.5001,-522.0288\"/>\n",
       "</g>\n",
       "<!-- 140435266065240 -->\n",
       "<g id=\"node21\" class=\"node\">\n",
       "<title>140435266065240</title>\n",
       "<polygon fill=\"#d3d3d3\" stroke=\"#000000\" points=\"606,-512 486,-512 486,-491 606,-491 606,-512\"/>\n",
       "<text text-anchor=\"middle\" x=\"546\" y=\"-498.4\" font-family=\"Times,serif\" font-size=\"12.00\" fill=\"#000000\">EmbeddingBackward</text>\n",
       "</g>\n",
       "<!-- 140435266065240&#45;&gt;140435266037072 -->\n",
       "<g id=\"edge20\" class=\"edge\">\n",
       "<title>140435266065240&#45;&gt;140435266037072</title>\n",
       "<path fill=\"none\" stroke=\"#000000\" d=\"M523.2121,-490.9317C500.5394,-480.4168 465.5467,-464.1883 440.0731,-452.3745\"/>\n",
       "<polygon fill=\"#000000\" stroke=\"#000000\" points=\"441.3662,-449.1161 430.8217,-448.084 438.4211,-455.4665 441.3662,-449.1161\"/>\n",
       "</g>\n",
       "<!-- 140435266065912 -->\n",
       "<g id=\"node22\" class=\"node\">\n",
       "<title>140435266065912</title>\n",
       "<polygon fill=\"#add8e6\" stroke=\"#000000\" points=\"574.5,-590 517.5,-590 517.5,-555 574.5,-555 574.5,-590\"/>\n",
       "<text text-anchor=\"middle\" x=\"546\" y=\"-562.4\" font-family=\"Times,serif\" font-size=\"12.00\" fill=\"#000000\"> (42, 12)</text>\n",
       "</g>\n",
       "<!-- 140435266065912&#45;&gt;140435266065240 -->\n",
       "<g id=\"edge21\" class=\"edge\">\n",
       "<title>140435266065912&#45;&gt;140435266065240</title>\n",
       "<path fill=\"none\" stroke=\"#000000\" d=\"M546,-554.9494C546,-545.058 546,-532.6435 546,-522.2693\"/>\n",
       "<polygon fill=\"#000000\" stroke=\"#000000\" points=\"549.5001,-522.0288 546,-512.0288 542.5001,-522.0289 549.5001,-522.0288\"/>\n",
       "</g>\n",
       "<!-- 140435266064960 -->\n",
       "<g id=\"node23\" class=\"node\">\n",
       "<title>140435266064960</title>\n",
       "<polygon fill=\"#d3d3d3\" stroke=\"#000000\" points=\"744,-512 624,-512 624,-491 744,-491 744,-512\"/>\n",
       "<text text-anchor=\"middle\" x=\"684\" y=\"-498.4\" font-family=\"Times,serif\" font-size=\"12.00\" fill=\"#000000\">EmbeddingBackward</text>\n",
       "</g>\n",
       "<!-- 140435266064960&#45;&gt;140435266037072 -->\n",
       "<g id=\"edge22\" class=\"edge\">\n",
       "<title>140435266064960&#45;&gt;140435266037072</title>\n",
       "<path fill=\"none\" stroke=\"#000000\" d=\"M643.1817,-490.9505C633.9273,-488.6136 624.135,-486.184 615,-484 562.0484,-471.3402 501.2344,-457.7975 459.2905,-448.612\"/>\n",
       "<polygon fill=\"#000000\" stroke=\"#000000\" points=\"459.832,-445.1478 449.3153,-446.4317 458.3372,-451.9863 459.832,-445.1478\"/>\n",
       "</g>\n",
       "<!-- 140435266065968 -->\n",
       "<g id=\"node24\" class=\"node\">\n",
       "<title>140435266065968</title>\n",
       "<polygon fill=\"#add8e6\" stroke=\"#000000\" points=\"712.5,-590 655.5,-590 655.5,-555 712.5,-555 712.5,-590\"/>\n",
       "<text text-anchor=\"middle\" x=\"684\" y=\"-562.4\" font-family=\"Times,serif\" font-size=\"12.00\" fill=\"#000000\"> (15, 10)</text>\n",
       "</g>\n",
       "<!-- 140435266065968&#45;&gt;140435266064960 -->\n",
       "<g id=\"edge23\" class=\"edge\">\n",
       "<title>140435266065968&#45;&gt;140435266064960</title>\n",
       "<path fill=\"none\" stroke=\"#000000\" d=\"M684,-554.9494C684,-545.058 684,-532.6435 684,-522.2693\"/>\n",
       "<polygon fill=\"#000000\" stroke=\"#000000\" points=\"687.5001,-522.0288 684,-512.0288 680.5001,-522.0289 687.5001,-522.0288\"/>\n",
       "</g>\n",
       "<!-- 140435266038192 -->\n",
       "<g id=\"node25\" class=\"node\">\n",
       "<title>140435266038192</title>\n",
       "<polygon fill=\"#d3d3d3\" stroke=\"#000000\" points=\"685.5,-448 612.5,-448 612.5,-427 685.5,-427 685.5,-448\"/>\n",
       "<text text-anchor=\"middle\" x=\"649\" y=\"-434.4\" font-family=\"Times,serif\" font-size=\"12.00\" fill=\"#000000\">TBackward</text>\n",
       "</g>\n",
       "<!-- 140435266038192&#45;&gt;140435266037576 -->\n",
       "<g id=\"edge24\" class=\"edge\">\n",
       "<title>140435266038192&#45;&gt;140435266037576</title>\n",
       "<path fill=\"none\" stroke=\"#000000\" d=\"M612.3973,-427.7798C571.0554,-416.801 503.5574,-398.8762 457.5272,-386.6525\"/>\n",
       "<polygon fill=\"#000000\" stroke=\"#000000\" points=\"458.3237,-383.2427 447.7604,-384.0588 456.527,-390.0082 458.3237,-383.2427\"/>\n",
       "</g>\n",
       "<!-- 140435266065072 -->\n",
       "<g id=\"node26\" class=\"node\">\n",
       "<title>140435266065072</title>\n",
       "<polygon fill=\"#add8e6\" stroke=\"#000000\" points=\"825.5,-519 762.5,-519 762.5,-484 825.5,-484 825.5,-519\"/>\n",
       "<text text-anchor=\"middle\" x=\"794\" y=\"-491.4\" font-family=\"Times,serif\" font-size=\"12.00\" fill=\"#000000\"> (100, 52)</text>\n",
       "</g>\n",
       "<!-- 140435266065072&#45;&gt;140435266038192 -->\n",
       "<g id=\"edge25\" class=\"edge\">\n",
       "<title>140435266065072&#45;&gt;140435266038192</title>\n",
       "<path fill=\"none\" stroke=\"#000000\" d=\"M762.1791,-487.4549C738.5861,-477.0414 706.4952,-462.8772 682.5094,-452.2903\"/>\n",
       "<polygon fill=\"#000000\" stroke=\"#000000\" points=\"683.662,-448.9734 673.1002,-448.1373 680.8354,-455.3773 683.662,-448.9734\"/>\n",
       "</g>\n",
       "<!-- 140435266038584 -->\n",
       "<g id=\"node27\" class=\"node\">\n",
       "<title>140435266038584</title>\n",
       "<polygon fill=\"#d3d3d3\" stroke=\"#000000\" points=\"550.5,-320 477.5,-320 477.5,-299 550.5,-299 550.5,-320\"/>\n",
       "<text text-anchor=\"middle\" x=\"514\" y=\"-306.4\" font-family=\"Times,serif\" font-size=\"12.00\" fill=\"#000000\">TBackward</text>\n",
       "</g>\n",
       "<!-- 140435266038584&#45;&gt;140435266255672 -->\n",
       "<g id=\"edge26\" class=\"edge\">\n",
       "<title>140435266038584&#45;&gt;140435266255672</title>\n",
       "<path fill=\"none\" stroke=\"#000000\" d=\"M495.0027,-298.7787C479.7669,-290.1803 458.1616,-277.9872 440.9522,-268.275\"/>\n",
       "<polygon fill=\"#000000\" stroke=\"#000000\" points=\"442.3412,-265.04 431.9121,-263.1732 438.9008,-271.1362 442.3412,-265.04\"/>\n",
       "</g>\n",
       "<!-- 140435266037016 -->\n",
       "<g id=\"node28\" class=\"node\">\n",
       "<title>140435266037016</title>\n",
       "<polygon fill=\"#add8e6\" stroke=\"#000000\" points=\"548.5,-391 485.5,-391 485.5,-356 548.5,-356 548.5,-391\"/>\n",
       "<text text-anchor=\"middle\" x=\"517\" y=\"-363.4\" font-family=\"Times,serif\" font-size=\"12.00\" fill=\"#000000\"> (50, 100)</text>\n",
       "</g>\n",
       "<!-- 140435266037016&#45;&gt;140435266038584 -->\n",
       "<g id=\"edge27\" class=\"edge\">\n",
       "<title>140435266037016&#45;&gt;140435266038584</title>\n",
       "<path fill=\"none\" stroke=\"#000000\" d=\"M516.1643,-355.6724C515.7972,-347.8405 515.3636,-338.5893 514.9812,-330.4323\"/>\n",
       "<polygon fill=\"#000000\" stroke=\"#000000\" points=\"518.4672,-330.0485 514.5027,-320.2234 511.4748,-330.3764 518.4672,-330.0485\"/>\n",
       "</g>\n",
       "<!-- 140435265999144 -->\n",
       "<g id=\"node29\" class=\"node\">\n",
       "<title>140435265999144</title>\n",
       "<polygon fill=\"#d3d3d3\" stroke=\"#000000\" points=\"545.5,-135 472.5,-135 472.5,-114 545.5,-114 545.5,-135\"/>\n",
       "<text text-anchor=\"middle\" x=\"509\" y=\"-121.4\" font-family=\"Times,serif\" font-size=\"12.00\" fill=\"#000000\">TBackward</text>\n",
       "</g>\n",
       "<!-- 140435265999144&#45;&gt;140435265998976 -->\n",
       "<g id=\"edge28\" class=\"edge\">\n",
       "<title>140435265999144&#45;&gt;140435265998976</title>\n",
       "<path fill=\"none\" stroke=\"#000000\" d=\"M490.9431,-113.7787C476.5957,-105.26 456.3056,-93.2127 440.0239,-83.5454\"/>\n",
       "<polygon fill=\"#000000\" stroke=\"#000000\" points=\"441.3614,-80.2691 430.9759,-78.1732 437.7876,-86.2881 441.3614,-80.2691\"/>\n",
       "</g>\n",
       "<!-- 140435266255056 -->\n",
       "<g id=\"node30\" class=\"node\">\n",
       "<title>140435266255056</title>\n",
       "<polygon fill=\"#add8e6\" stroke=\"#000000\" points=\"537.5,-206 480.5,-206 480.5,-171 537.5,-171 537.5,-206\"/>\n",
       "<text text-anchor=\"middle\" x=\"509\" y=\"-178.4\" font-family=\"Times,serif\" font-size=\"12.00\" fill=\"#000000\"> (1, 848)</text>\n",
       "</g>\n",
       "<!-- 140435266255056&#45;&gt;140435265999144 -->\n",
       "<g id=\"edge29\" class=\"edge\">\n",
       "<title>140435266255056&#45;&gt;140435265999144</title>\n",
       "<path fill=\"none\" stroke=\"#000000\" d=\"M509,-170.6724C509,-162.8405 509,-153.5893 509,-145.4323\"/>\n",
       "<polygon fill=\"#000000\" stroke=\"#000000\" points=\"512.5001,-145.2234 509,-135.2234 505.5001,-145.2235 512.5001,-145.2234\"/>\n",
       "</g>\n",
       "</g>\n",
       "</svg>\n"
      ],
      "text/plain": [
       "<graphviz.dot.Digraph at 0x7fb9a224d1d0>"
      ]
     },
     "execution_count": 37,
     "metadata": {},
     "output_type": "execute_result"
    }
   ],
   "source": [
    "wide_dim = out_dataset['train_set'].wide.shape[1]\n",
    "deep_column_idx = out_dataset['deep_column_idx']\n",
    "embeddings_input= out_dataset['embeddings_input']\n",
    "n_hiddens = [100,50]\n",
    "\n",
    "wd_net = widedeepNet(wide_dim, embeddings_input, continuous_cols, deep_column_idx, n_hiddens, n_class)\n",
    "print(wd_net)\n",
    "\n",
    "## Model visualization\n",
    "%matplotlib inline\n",
    "from dot import make_dot, parse\n",
    "\n",
    "inputs = iter(t_train_loader).next()\n",
    "y = wd_net(inputs[0], inputs[1])\n",
    "# print(y)\n",
    "g = make_dot(y)\n",
    "g"
   ]
  },
  {
   "cell_type": "code",
   "execution_count": 38,
   "metadata": {
    "ExecuteTime": {
     "end_time": "2018-09-11T06:25:23.714606Z",
     "start_time": "2018-09-11T06:25:23.710726Z"
    }
   },
   "outputs": [],
   "source": [
    "device = 'cuda:0' if torch.cuda.is_available() else 'cpu'\n",
    "device = 'cpu'\n",
    "wd_net = wd_net.to(device)"
   ]
  },
  {
   "cell_type": "code",
   "execution_count": 39,
   "metadata": {
    "ExecuteTime": {
     "end_time": "2018-09-11T06:25:23.911229Z",
     "start_time": "2018-09-11T06:25:23.908186Z"
    }
   },
   "outputs": [],
   "source": [
    "loss_fn = nn.BCELoss()\n",
    "\n",
    "# w_net / d_net\n",
    "opt_fn = optim.Adam(wd_net.parameters())\n",
    "\n",
    "n_epochs = 50\n",
    "log_num = 10"
   ]
  },
  {
   "cell_type": "code",
   "execution_count": 40,
   "metadata": {
    "ExecuteTime": {
     "end_time": "2018-09-11T06:28:05.134397Z",
     "start_time": "2018-09-11T06:25:25.599943Z"
    }
   },
   "outputs": [
    {
     "name": "stderr",
     "output_type": "stream",
     "text": [
      "/home/ubuntu/anaconda3/envs/pytorch_p36/lib/python3.6/site-packages/torch/nn/functional.py:1006: UserWarning: nn.functional.sigmoid is deprecated. Use torch.sigmoid instead.\n",
      "  warnings.warn(\"nn.functional.sigmoid is deprecated. Use torch.sigmoid instead.\")\n"
     ]
    },
    {
     "name": "stdout",
     "output_type": "stream",
     "text": [
      "[Train] Epoch 1 / 50, Loss: 0.383, accuracy: 0.8212\n",
      "[Test] Epoch 1 / 50, Loss: 0.348, accuracy: 0.8359\n",
      "\n",
      "[Train] Epoch 11 / 50, Loss: 0.327, accuracy: 0.8479\n",
      "[Test] Epoch 11 / 50, Loss: 0.34, accuracy: 0.8395\n",
      "\n",
      "[Train] Epoch 21 / 50, Loss: 0.312, accuracy: 0.8551\n",
      "[Test] Epoch 21 / 50, Loss: 0.353, accuracy: 0.8363\n",
      "\n",
      "[Train] Epoch 31 / 50, Loss: 0.297, accuracy: 0.8602\n",
      "[Test] Epoch 31 / 50, Loss: 0.368, accuracy: 0.8342\n",
      "\n",
      "[Train] Epoch 41 / 50, Loss: 0.283, accuracy: 0.8681\n",
      "[Test] Epoch 41 / 50, Loss: 0.393, accuracy: 0.8327\n",
      "\n"
     ]
    }
   ],
   "source": [
    "train_loss = []\n",
    "test_loss = []\n",
    "\n",
    "for epoch in range(n_epochs):\n",
    "    #################################################\n",
    "    ## Training Part\n",
    "    #################################################\n",
    "    running_total =0.0\n",
    "    running_correct =0.0\n",
    "    running_loss = 0.0\n",
    "\n",
    "    for i, data in enumerate(t_train_loader):\n",
    "        inputs_w, inputs_d, labels = data[0].to(device), data[1].to(device), data[2].to(device)\n",
    "\n",
    "        # zerograd\n",
    "        opt_fn.zero_grad()\n",
    "\n",
    "        # forward\n",
    "        y_pred = wd_net(inputs_w, inputs_d)\n",
    "        loss = loss_fn(y_pred, labels)\n",
    "\n",
    "        # backward\n",
    "        loss.backward()\n",
    "        opt_fn.step()\n",
    "\n",
    "\n",
    "        ############\n",
    "        # 1) loss\n",
    "        running_loss += loss.item()*inputs_w.size(0)\n",
    "\n",
    "        ############\n",
    "        # 2) metric\n",
    "        y_pred_cnvt = (y_pred > 0.5).squeeze(1).float() # (= (y_pred > 0.5).view(-1))\n",
    "        running_correct+= float((y_pred_cnvt == labels.squeeze(1)).sum().item())\n",
    "\n",
    "        running_total += y_pred.size(0) # total number of samples (accumulated)\n",
    "\n",
    "    #################################################\n",
    "    ## train epoch loss\n",
    "    epoch_loss = running_loss / int(running_total)\n",
    "    epoch_acc = running_correct / int(running_total)\n",
    "\n",
    "    train_loss.append((epoch, epoch_loss, 'loss'))\n",
    "    train_loss.append((epoch, epoch_acc, 'acc'))\n",
    "\n",
    "    if (epoch+1)%log_num == 1:\n",
    "        print ('[Train] Epoch {} / {}, Loss: {}, accuracy: {}'.format(epoch+1,\n",
    "            n_epochs, round(epoch_loss,3), round(epoch_acc,4)))\n",
    "\n",
    "    #################################################\n",
    "    ## Test Part\n",
    "    #################################################\n",
    "    running_total = 0.0\n",
    "    running_correct = 0.0\n",
    "    running_loss = 0.0\n",
    "\n",
    "    for i, data in enumerate(t_test_loader):\n",
    "        inputs_w, inputs_d, labels = data[0].to(device), data[1].to(device), data[2].to(device)\n",
    "\n",
    "        # forward\n",
    "        y_pred = wd_net(inputs_w, inputs_d)        \n",
    "        loss = loss_fn(y_pred, labels)\n",
    "\n",
    "        ############\n",
    "        # 1) loss\n",
    "        running_loss += loss.item()*inputs_w.size(0)\n",
    "\n",
    "        ############\n",
    "        # 2) metric\n",
    "        y_pred_cnvt = (y_pred > 0.5).squeeze(1).float() # (= (y_pred > 0.5).view(-1))\n",
    "        running_correct += float((y_pred_cnvt == labels.squeeze(1)).sum().item())\n",
    "\n",
    "        running_total += y_pred.size(0) # total number of samples (accumulated)\n",
    "\n",
    "    #################################################\n",
    "    ## test epoch loss\n",
    "    epoch_loss = running_loss / int(running_total)\n",
    "    epoch_acc = running_correct / int(running_total)\n",
    "\n",
    "    test_loss.append((epoch, epoch_loss, 'loss'))\n",
    "    test_loss.append((epoch, epoch_acc, 'acc'))\n",
    "\n",
    "    if (epoch+1)%log_num == 1:\n",
    "        print ('[Test] Epoch {} / {}, Loss: {}, accuracy: {}'.format(epoch+1,\n",
    "            n_epochs, round(epoch_loss,3), round(epoch_acc,4)))\n",
    "        print()\n",
    "\n",
    "    if best_val_acc < epoch_acc:\n",
    "        best_val_acc = epoch_acc\n",
    "        best_epoch_num = epoch + 1"
   ]
  },
  {
   "cell_type": "code",
   "execution_count": null,
   "metadata": {},
   "outputs": [],
   "source": []
  },
  {
   "cell_type": "code",
   "execution_count": null,
   "metadata": {},
   "outputs": [],
   "source": []
  },
  {
   "cell_type": "code",
   "execution_count": null,
   "metadata": {
    "ExecuteTime": {
     "end_time": "2018-09-05T08:48:02.776023Z",
     "start_time": "2018-09-05T08:48:02.772850Z"
    }
   },
   "outputs": [],
   "source": []
  },
  {
   "cell_type": "code",
   "execution_count": 41,
   "metadata": {
    "ExecuteTime": {
     "end_time": "2018-09-11T06:28:05.143916Z",
     "start_time": "2018-09-11T06:28:05.137633Z"
    }
   },
   "outputs": [
    {
     "name": "stdout",
     "output_type": "stream",
     "text": [
      "[Linear(in_features=798, out_features=1, bias=True), Embedding(16, 10), Embedding(6, 8), Embedding(9, 10), Embedding(42, 12), Embedding(15, 10), Linear(in_features=52, out_features=100, bias=True), Linear(in_features=100, out_features=50, bias=True), Linear(in_features=50, out_features=1, bias=True)]\n",
      "Sequential(\n",
      "  (0): Linear(in_features=798, out_features=1, bias=True)\n",
      "  (1): Embedding(16, 10)\n",
      "  (2): Embedding(6, 8)\n",
      "  (3): Embedding(9, 10)\n",
      "  (4): Embedding(42, 12)\n",
      "  (5): Embedding(15, 10)\n",
      "  (6): Linear(in_features=52, out_features=100, bias=True)\n",
      "  (7): Linear(in_features=100, out_features=50, bias=True)\n",
      "  (8): Linear(in_features=50, out_features=1, bias=True)\n",
      ")\n"
     ]
    }
   ],
   "source": [
    "n1 = list(w_net.children())\n",
    "n2 = list(d_net.children())\n",
    "\n",
    "n = n1 + n2\n",
    "print(n)\n",
    "\n",
    "w_d_net = nn.Sequential(*n)\n",
    "print(w_d_net)"
   ]
  },
  {
   "cell_type": "code",
   "execution_count": null,
   "metadata": {},
   "outputs": [],
   "source": []
  }
 ],
 "metadata": {
  "kernelspec": {
   "display_name": "Python [conda env:pytorch_p36]",
   "language": "python",
   "name": "conda-env-pytorch_p36-py"
  },
  "language_info": {
   "codemirror_mode": {
    "name": "ipython",
    "version": 3
   },
   "file_extension": ".py",
   "mimetype": "text/x-python",
   "name": "python",
   "nbconvert_exporter": "python",
   "pygments_lexer": "ipython3",
   "version": "3.6.6"
  }
 },
 "nbformat": 4,
 "nbformat_minor": 2
}
