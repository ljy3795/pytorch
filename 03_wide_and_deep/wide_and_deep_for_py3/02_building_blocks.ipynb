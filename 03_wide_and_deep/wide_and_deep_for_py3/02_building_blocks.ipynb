{
 "cells": [
  {
   "cell_type": "markdown",
   "metadata": {},
   "source": [
    "---\n",
    "### Building Blocks\n",
    "(Ref. : https://github.com/jrzaurin/Wide-and-Deep-PyTorch)\n",
    "- These are the steps for building tensorflow's wide and deep learning using PyTorch.\n",
    "- Steps:\n",
    "  - 1) Load data set\n",
    "  - 2) Target Labeling & Column Labeling for the Wide and for the Deep\n",
    "  - 3) Prepare the features for the Wide `wide_cols & crossed_cols` and Deep `embedding_cols, continuous_cols`\n",
    "  - 4) Split the data set to Train & Test and output as dict type\n",
    "---"
   ]
  },
  {
   "cell_type": "code",
   "execution_count": 1,
   "metadata": {
    "ExecuteTime": {
     "end_time": "2018-09-07T00:34:22.939493Z",
     "start_time": "2018-09-07T00:34:22.469678Z"
    }
   },
   "outputs": [],
   "source": [
    "import numpy as np\n",
    "import pandas as pd\n",
    "\n",
    "import os, copy\n",
    "\n",
    "from wide_and_deep.utils import prepare_dataset"
   ]
  },
  {
   "cell_type": "markdown",
   "metadata": {},
   "source": [
    "---\n",
    "#### 1) Prepare dataset\n",
    "---"
   ]
  },
  {
   "cell_type": "code",
   "execution_count": 2,
   "metadata": {
    "ExecuteTime": {
     "end_time": "2018-09-07T00:34:23.063483Z",
     "start_time": "2018-09-07T00:34:22.941524Z"
    }
   },
   "outputs": [
    {
     "name": "stdout",
     "output_type": "stream",
     "text": [
      "Target : 11687 / Non-Target : 37155\n"
     ]
    }
   ],
   "source": [
    "### Load the data set from '.data/audult_data.csv'\n",
    "raw_df = pd.read_csv(os.path.join(str(os.getcwd()), 'data/adult_data.csv'))\n",
    "\n",
    "raw_df['income_label'] = raw_df['income_bracket'].apply(lambda x: 1 if '>50K' in x or '>50K.' in x else 0)\n",
    "print('Target : {} / Non-Target : {}'.format(len(raw_df[raw_df.income_label == 1]), len(raw_df[raw_df.income_label != 1])))\n",
    "\n",
    "# For Wide and Crossed network (for memorization)\n",
    "wide_cols = ['age','hours_per_week','education', 'relationship','workclass',\n",
    "             'occupation','native_country','gender']\n",
    "crossed_cols = (['education', 'occupation'], ['native_country', 'occupation']) # pair-combination \n",
    "\n",
    "# For Deep network (embedding + continuous) (for generalization)\n",
    "continuous_cols = [\"age\",\"hours_per_week\"]\n",
    "\n",
    "embeddings_cols = [('education',10), ('relationship',8), ('workclass',10),\n",
    "                    ('occupation',10),('native_country',12)] # column name / embedding dim."
   ]
  },
  {
   "cell_type": "code",
   "execution_count": 3,
   "metadata": {
    "ExecuteTime": {
     "end_time": "2018-09-07T00:34:25.793838Z",
     "start_time": "2018-09-07T00:34:23.076001Z"
    }
   },
   "outputs": [
    {
     "name": "stderr",
     "output_type": "stream",
     "text": [
      "/home/ubuntu/anaconda3/envs/pytorch_p36/lib/python3.6/site-packages/sklearn/utils/validation.py:475: DataConversionWarning: Data with input dtype int64 was converted to float64 by StandardScaler.\n",
      "  warnings.warn(msg, DataConversionWarning)\n"
     ]
    },
    {
     "name": "stdout",
     "output_type": "stream",
     "text": [
      "return key values dict_keys(['train_set', 'test_set', 'embeddings_input', 'deep_column_idx', 'encoding_dict'])\n"
     ]
    }
   ],
   "source": [
    "out_dataset = prepare_dataset(raw_df, wide_cols, crossed_cols, embeddings_cols, \n",
    "                              continuous_cols, target = 'income_label', scale = True, seed = 1)"
   ]
  },
  {
   "cell_type": "markdown",
   "metadata": {},
   "source": [
    "---\n",
    "### 2-1) Wide part\n",
    "---"
   ]
  },
  {
   "cell_type": "code",
   "execution_count": 4,
   "metadata": {
    "ExecuteTime": {
     "end_time": "2018-09-07T00:34:25.962484Z",
     "start_time": "2018-09-07T00:34:25.795772Z"
    }
   },
   "outputs": [],
   "source": [
    "import torch\n",
    "import torch.nn as nn\n",
    "import torch.nn.functional as F\n",
    "import torch.optim as optim\n",
    "from torch.utils.data import *"
   ]
  },
  {
   "cell_type": "code",
   "execution_count": 5,
   "metadata": {
    "ExecuteTime": {
     "end_time": "2018-09-07T00:34:25.968024Z",
     "start_time": "2018-09-07T00:34:25.964282Z"
    }
   },
   "outputs": [
    {
     "name": "stdout",
     "output_type": "stream",
     "text": [
      "Linear(in_features=798, out_features=1, bias=True)\n"
     ]
    }
   ],
   "source": [
    "wide_dim = out_dataset['train_set'].wide.shape[1]\n",
    "n_class  = 1\n",
    "wide_part = nn.Linear(wide_dim, n_class)\n",
    "\n",
    "print(wide_part)"
   ]
  },
  {
   "cell_type": "code",
   "execution_count": 6,
   "metadata": {
    "ExecuteTime": {
     "end_time": "2018-09-07T00:34:25.973946Z",
     "start_time": "2018-09-07T00:34:25.970042Z"
    }
   },
   "outputs": [],
   "source": [
    "### define the class for wide network\n",
    "class wideNet(nn.Module):\n",
    "    \n",
    "    def __init__(self, wide_dim, n_class):\n",
    "        super(wideNet, self).__init__()\n",
    "        self.wide_dim = wide_dim\n",
    "        self.n_class = n_class\n",
    "        \n",
    "        self.ly1 = nn.Linear(self.wide_dim, self.n_class)\n",
    "#         self.ly1 = nn.Linear(self.wide_dim, 10)\n",
    "#         self.ly2 = nn.Linear(10, self.n_class)\n",
    "        \n",
    "    def forward(self, x):\n",
    "        out = F.sigmoid(self.ly1(x))\n",
    "#         x = F.sigmoid(self.ly1(x))\n",
    "#         out = F.sigmoid(self.ly2(x))\n",
    "        \n",
    "        return out"
   ]
  },
  {
   "cell_type": "code",
   "execution_count": 7,
   "metadata": {
    "ExecuteTime": {
     "end_time": "2018-09-07T00:34:25.979137Z",
     "start_time": "2018-09-07T00:34:25.975796Z"
    }
   },
   "outputs": [
    {
     "name": "stdout",
     "output_type": "stream",
     "text": [
      "wideNet(\n",
      "  (ly1): Linear(in_features=798, out_features=1, bias=True)\n",
      ")\n"
     ]
    }
   ],
   "source": [
    "net = wideNet(wide_dim, n_class)\n",
    "print(net)"
   ]
  },
  {
   "cell_type": "code",
   "execution_count": 8,
   "metadata": {
    "ExecuteTime": {
     "end_time": "2018-09-07T00:34:26.074145Z",
     "start_time": "2018-09-07T00:34:25.980851Z"
    }
   },
   "outputs": [
    {
     "name": "stdout",
     "output_type": "stream",
     "text": [
      "torch.Size([34189, 798]) torch.Size([34189, 1])\n",
      "torch.Size([14653, 798]) torch.Size([14653, 1])\n"
     ]
    }
   ],
   "source": [
    "w_train_x = torch.tensor(out_dataset['train_set'].wide, dtype=torch.float)\n",
    "w_train_y = torch.tensor(out_dataset['train_set'].labels.reshape(-1,1), dtype=torch.float)\n",
    "print(w_train_x.size(), w_train_y.size())\n",
    "\n",
    "w_test_x = torch.tensor(out_dataset['test_set'].wide, dtype=torch.float)\n",
    "w_test_y = torch.tensor(out_dataset['test_set'].labels.reshape(-1,1), dtype=torch.float)\n",
    "print(w_test_x.size(), w_test_y.size())"
   ]
  },
  {
   "cell_type": "code",
   "execution_count": 9,
   "metadata": {
    "ExecuteTime": {
     "end_time": "2018-09-07T00:34:26.079568Z",
     "start_time": "2018-09-07T00:34:26.076170Z"
    }
   },
   "outputs": [],
   "source": [
    "batch_size = 64\n",
    "\n",
    "w_train_set = TensorDataset(w_train_x, w_train_y)\n",
    "w_train_loader = DataLoader(w_train_set, batch_size, shuffle = True, num_workers=1)\n",
    "\n",
    "w_test_set = TensorDataset(w_test_x, w_test_y)\n",
    "w_test_loader = DataLoader(w_test_set, batch_size, shuffle = True, num_workers=1)"
   ]
  },
  {
   "cell_type": "code",
   "execution_count": 10,
   "metadata": {
    "ExecuteTime": {
     "end_time": "2018-09-07T00:34:26.092366Z",
     "start_time": "2018-09-07T00:34:26.081758Z"
    },
    "scrolled": true
   },
   "outputs": [],
   "source": [
    "def train_model(net, device, train_loader, test_loader, opt_fn, loss_fn, n_epochs, log_num = 1):\n",
    "    # best model's weigths\n",
    "    best_model_wts = copy.deepcopy(net.state_dict())\n",
    "    best_val_acc = 0.0\n",
    "\n",
    "    train_loss = []\n",
    "    test_loss = []\n",
    "\n",
    "    for epoch in range(n_epochs):\n",
    "        #################################################\n",
    "        ## Training Part\n",
    "        #################################################\n",
    "        running_total =0.0\n",
    "        running_correct =0.0\n",
    "        running_loss = 0.0\n",
    "\n",
    "        for i, data in enumerate(train_loader):\n",
    "            inputs, labels = data[0].to(device), data[1].to(device)\n",
    "\n",
    "            # zerograd\n",
    "            opt_fn.zero_grad()\n",
    "\n",
    "            # forward\n",
    "            y_pred = net(inputs)\n",
    "            loss = loss_fn(y_pred, labels)\n",
    "\n",
    "            # backward\n",
    "            loss.backward()\n",
    "            opt_fn.step()\n",
    "        \n",
    "        \n",
    "            ############\n",
    "            # 1) loss\n",
    "            running_loss += loss.item()*inputs.size(0)\n",
    "\n",
    "            ############\n",
    "            # 2) metric\n",
    "            y_pred_cnvt = (y_pred > 0.5).squeeze(1).float() # (= (y_pred > 0.5).view(-1))\n",
    "            running_correct+= float((y_pred_cnvt == labels.squeeze(1)).sum().item())\n",
    "\n",
    "            running_total += y_pred.size(0) # total number of samples (accumulated)\n",
    "\n",
    "        #################################################\n",
    "        ## train epoch loss\n",
    "        epoch_loss = running_loss / int(running_total)\n",
    "        epoch_acc = running_correct / int(running_total)\n",
    "\n",
    "        train_loss.append((epoch, epoch_loss, 'loss'))\n",
    "        train_loss.append((epoch, epoch_acc, 'acc'))\n",
    "\n",
    "        if (epoch+1)%log_num == 1:\n",
    "            print ('[Train] Epoch {} / {}, Loss: {}, accuracy: {}'.format(epoch+1,\n",
    "                n_epochs, round(epoch_loss,3), round(epoch_acc,4)))\n",
    "\n",
    "        #################################################\n",
    "        ## Test Part\n",
    "        #################################################\n",
    "        running_total = 0.0\n",
    "        running_correct = 0.0\n",
    "        running_loss = 0.0\n",
    "\n",
    "        for i, data in enumerate(test_loader):\n",
    "            inputs, labels = data[0].to(device), data[1].to(device)\n",
    "\n",
    "            # forward\n",
    "            y_pred = net(inputs)\n",
    "            loss = loss_fn(y_pred, labels)\n",
    "\n",
    "            ############\n",
    "            # 1) loss\n",
    "            running_loss += loss.item()*inputs.size(0)\n",
    "\n",
    "            ############\n",
    "            # 2) metric\n",
    "            y_pred_cnvt = (y_pred > 0.5).squeeze(1).float() # (= (y_pred > 0.5).view(-1))\n",
    "            running_correct += float((y_pred_cnvt == labels.squeeze(1)).sum().item())\n",
    "\n",
    "            running_total += y_pred.size(0) # total number of samples (accumulated)\n",
    "\n",
    "        #################################################\n",
    "        ## test epoch loss\n",
    "        epoch_loss = running_loss / int(running_total)\n",
    "        epoch_acc = running_correct / int(running_total)\n",
    "\n",
    "        test_loss.append((epoch, epoch_loss, 'loss'))\n",
    "        test_loss.append((epoch, epoch_acc, 'acc'))\n",
    "\n",
    "        if (epoch+1)%log_num == 1:\n",
    "            print ('[Test] Epoch {} / {}, Loss: {}, accuracy: {}'.format(epoch+1,\n",
    "                n_epochs, round(epoch_loss,3), round(epoch_acc,4)))\n",
    "            print()\n",
    "\n",
    "        if best_val_acc < epoch_acc:\n",
    "            best_val_acc = epoch_acc\n",
    "            best_model_wts = copy.deepcopy(net.state_dict()) # 여러 epoch 중 가장 결과가 좋았던 epoch 찾기\n",
    "            best_epoch_num = epoch + 1\n",
    "        \n",
    "    # load best model weights\n",
    "    net.load_state_dict(best_model_wts)\n",
    "    \n",
    "    return net, train_loss, test_loss, best_val_acc, best_epoch_num"
   ]
  },
  {
   "cell_type": "code",
   "execution_count": 11,
   "metadata": {
    "ExecuteTime": {
     "end_time": "2018-09-07T00:34:26.284369Z",
     "start_time": "2018-09-07T00:34:26.278452Z"
    }
   },
   "outputs": [],
   "source": [
    "def print_run(train_loss, test_loss):\n",
    "    # visualzing for epoch running\n",
    "    from matplotlib import pyplot as plt\n",
    "    import seaborn as sns\n",
    "    sns.set_style('darkgrid')\n",
    "    %matplotlib inline\n",
    "\n",
    "    # loss 관련 data\n",
    "    df_1 = pd.DataFrame(train_loss, columns = ['index','value', 'type']).reset_index()\n",
    "    df_2 = pd.DataFrame(test_loss, columns = ['index','value', 'type']).reset_index()\n",
    "\n",
    "\n",
    "    f, (ax1, ax2) = plt.subplots(2, 1, facecolor = 'white', figsize = (10,14), sharey=True)\n",
    "\n",
    "    legend = [\"loss\", \"acc\"]\n",
    "    sns.lineplot(x = 'index', y = 'value', data = df_1, hue = 'type', ax = ax1)\n",
    "    ax1.set_title('train loss', fontsize = 14, fontweight = 'bold')\n",
    "    ax1.set_xlabel('epoch', fontsize=15)\n",
    "    ax1.set_ylabel('metrics', fontsize=15)\n",
    "    ax1.ticklabel_format(style = 'plain', axis = 'y')\n",
    "    ax1.tick_params(labelsize = 14)\n",
    "    ax1.legend(legend, fontsize = 15)\n",
    "\n",
    "\n",
    "    legend = [\"loss\", \"acc\"]\n",
    "    sns.lineplot(x = 'index', y = 'value', data = df_2, hue = 'type', ax = ax2)\n",
    "    ax2.set_title('val loss', fontsize = 14, fontweight = 'bold')\n",
    "    ax2.set_xlabel('epoch', fontsize=15)\n",
    "    ax2.set_ylabel('metrics', fontsize=15)\n",
    "    ax2.ticklabel_format(style = 'plain', axis = 'y')\n",
    "    ax2.tick_params(labelsize = 14)\n",
    "    ax2.legend(legend, fontsize = 15)\n",
    "    \n",
    "    return f"
   ]
  },
  {
   "cell_type": "code",
   "execution_count": 12,
   "metadata": {
    "ExecuteTime": {
     "end_time": "2018-09-07T00:35:52.633183Z",
     "start_time": "2018-09-07T00:34:27.581619Z"
    }
   },
   "outputs": [
    {
     "name": "stderr",
     "output_type": "stream",
     "text": [
      "/home/ubuntu/anaconda3/envs/pytorch_p36/lib/python3.6/site-packages/torch/nn/functional.py:1006: UserWarning: nn.functional.sigmoid is deprecated. Use torch.sigmoid instead.\n",
      "  warnings.warn(\"nn.functional.sigmoid is deprecated. Use torch.sigmoid instead.\")\n"
     ]
    },
    {
     "name": "stdout",
     "output_type": "stream",
     "text": [
      "[Train] Epoch 1 / 50, Loss: 0.486, accuracy: 0.7849\n",
      "[Test] Epoch 1 / 50, Loss: 0.413, accuracy: 0.8099\n",
      "\n",
      "[Train] Epoch 6 / 50, Loss: 0.353, accuracy: 0.8361\n",
      "[Test] Epoch 6 / 50, Loss: 0.355, accuracy: 0.8314\n",
      "\n",
      "[Train] Epoch 11 / 50, Loss: 0.348, accuracy: 0.8378\n",
      "[Test] Epoch 11 / 50, Loss: 0.352, accuracy: 0.8335\n",
      "\n",
      "[Train] Epoch 16 / 50, Loss: 0.346, accuracy: 0.8385\n",
      "[Test] Epoch 16 / 50, Loss: 0.351, accuracy: 0.8333\n",
      "\n",
      "[Train] Epoch 21 / 50, Loss: 0.345, accuracy: 0.8385\n",
      "[Test] Epoch 21 / 50, Loss: 0.352, accuracy: 0.8333\n",
      "\n",
      "[Train] Epoch 26 / 50, Loss: 0.345, accuracy: 0.8394\n",
      "[Test] Epoch 26 / 50, Loss: 0.352, accuracy: 0.8322\n",
      "\n",
      "[Train] Epoch 31 / 50, Loss: 0.344, accuracy: 0.8387\n",
      "[Test] Epoch 31 / 50, Loss: 0.353, accuracy: 0.8333\n",
      "\n",
      "[Train] Epoch 36 / 50, Loss: 0.344, accuracy: 0.839\n",
      "[Test] Epoch 36 / 50, Loss: 0.354, accuracy: 0.8333\n",
      "\n",
      "[Train] Epoch 41 / 50, Loss: 0.344, accuracy: 0.8393\n",
      "[Test] Epoch 41 / 50, Loss: 0.355, accuracy: 0.8322\n",
      "\n",
      "[Train] Epoch 46 / 50, Loss: 0.343, accuracy: 0.8393\n",
      "[Test] Epoch 46 / 50, Loss: 0.355, accuracy: 0.8331\n",
      "\n"
     ]
    }
   ],
   "source": [
    "w_net = wideNet(wide_dim, n_class)\n",
    "device = 'cuda:0' if torch.cuda.is_available() else 'cpu'\n",
    "w_net = w_net.to(device)\n",
    "\n",
    "opt_fn = optim.Adam(w_net.parameters())\n",
    "loss_fn = nn.BCELoss() # binary classification loss\n",
    "\n",
    "n_epochs = 50\n",
    "\n",
    "w_net, train_loss, test_loss, best_val_acc, best_epoch_num = \\\n",
    "    train_model(w_net, device, w_train_loader, w_test_loader, opt_fn, loss_fn, n_epochs, log_num = 5)"
   ]
  },
  {
   "cell_type": "code",
   "execution_count": 14,
   "metadata": {
    "ExecuteTime": {
     "end_time": "2018-09-07T00:40:59.368608Z",
     "start_time": "2018-09-07T00:40:58.680188Z"
    }
   },
   "outputs": [
    {
     "data": {
      "image/png": "[encoded data removed]",
      "text/plain": [
       "<Figure size 720x1008 with 2 Axes>"
      ]
     },
     "metadata": {},
     "output_type": "display_data"
    }
   ],
   "source": [
    "f = print_run(train_loss, test_loss)"
   ]
  },
  {
   "cell_type": "code",
   "execution_count": null,
   "metadata": {},
   "outputs": [],
   "source": []
  },
  {
   "cell_type": "markdown",
   "metadata": {},
   "source": [
    "---\n",
    "### 2-2) Deep part\n",
    "---"
   ]
  },
  {
   "cell_type": "code",
   "execution_count": 15,
   "metadata": {
    "ExecuteTime": {
     "end_time": "2018-09-07T00:41:00.163206Z",
     "start_time": "2018-09-07T00:41:00.159890Z"
    }
   },
   "outputs": [
    {
     "name": "stdout",
     "output_type": "stream",
     "text": [
      "[['relationship', 6, 8], ['workclass', 9, 10], ['occupation', 15, 10], ['education', 16, 10], ['native_country', 42, 12]]\n",
      "{'education': 0, 'relationship': 1, 'workclass': 2, 'occupation': 3, 'native_country': 4, 'age': 5, 'hours_per_week': 6}\n"
     ]
    }
   ],
   "source": [
    "print(out_dataset['embeddings_input']) # column name / # of categorical vals / # embedding dims\n",
    "print(out_dataset['deep_column_idx'])"
   ]
  },
  {
   "cell_type": "code",
   "execution_count": 16,
   "metadata": {
    "ExecuteTime": {
     "end_time": "2018-09-07T00:41:02.182236Z",
     "start_time": "2018-09-07T00:41:02.177428Z"
    }
   },
   "outputs": [
    {
     "name": "stdout",
     "output_type": "stream",
     "text": [
      "Embedding(6, 8)\n"
     ]
    }
   ],
   "source": [
    "## sample embedding layer\n",
    "sample_emb_info = out_dataset['embeddings_input'][0]\n",
    "sample_emb_ly = nn.Embedding(sample_emb_info[1], sample_emb_info[2])\n",
    "print(sample_emb_ly)"
   ]
  },
  {
   "cell_type": "code",
   "execution_count": 17,
   "metadata": {
    "ExecuteTime": {
     "end_time": "2018-09-07T00:41:02.965876Z",
     "start_time": "2018-09-07T00:41:02.960461Z"
    }
   },
   "outputs": [
    {
     "name": "stdout",
     "output_type": "stream",
     "text": [
      "torch.Size([34189, 7]) torch.Size([34189, 1])\n",
      "torch.Size([14653, 7]) torch.Size([14653, 1])\n"
     ]
    }
   ],
   "source": [
    "d_train_x = torch.tensor(out_dataset['train_set'].deep, dtype=torch.float)\n",
    "d_train_y = torch.tensor(out_dataset['train_set'].labels.reshape(-1,1), dtype=torch.float)\n",
    "print(d_train_x.size(), d_train_y.size())\n",
    "\n",
    "d_test_x = torch.tensor(out_dataset['test_set'].deep, dtype=torch.float)\n",
    "d_test_y = torch.tensor(out_dataset['test_set'].labels.reshape(-1,1), dtype=torch.float)\n",
    "print(d_test_x.size(), d_test_y.size())"
   ]
  },
  {
   "cell_type": "code",
   "execution_count": 18,
   "metadata": {
    "ExecuteTime": {
     "end_time": "2018-09-07T00:41:04.149148Z",
     "start_time": "2018-09-07T00:41:04.145818Z"
    }
   },
   "outputs": [],
   "source": [
    "batch_size = 64\n",
    "\n",
    "d_train_set = TensorDataset(d_train_x, d_train_y)\n",
    "d_train_loader = DataLoader(d_train_set, batch_size, shuffle = True, num_workers=1)\n",
    "\n",
    "d_test_set = TensorDataset(d_test_x, d_test_y)\n",
    "d_test_loader = DataLoader(d_test_set, batch_size, shuffle = True, num_workers=1)"
   ]
  },
  {
   "cell_type": "code",
   "execution_count": 40,
   "metadata": {
    "ExecuteTime": {
     "end_time": "2018-09-07T01:04:47.507083Z",
     "start_time": "2018-09-07T01:04:47.499052Z"
    }
   },
   "outputs": [],
   "source": [
    "### deep part network\n",
    "class deepNet(nn.Module):\n",
    "    \n",
    "    def __init__(self, embeddings_input, continuous_cols, deep_column_idx, n_hiddens, n_class):\n",
    "        super(deepNet, self).__init__()\n",
    "        self.embeddings_input = embeddings_input\n",
    "        self.continuous_cols = continuous_cols\n",
    "        self.deep_column_idx = deep_column_idx\n",
    "        self.n_hiddens = n_hiddens\n",
    "        self.n_class = n_class\n",
    "        \n",
    "        \n",
    "        # make embedding layers for categorical variables\n",
    "        ## embedding : # of cols x # of embedding dims.\n",
    "        for col, n_col, n_dim in self.embeddings_input:\n",
    "            setattr(self, 'emb_ly_'+str(col), nn.Embedding(n_col, n_dim)) # (class, inst name, value)\n",
    "            \n",
    "        # add linear layer after concatenating of embedding layers and linear of continuous layer\n",
    "        input_emb_dim = np.sum(emb[2] for emb in self.embeddings_input)\n",
    "        self.ly1 = nn.Linear(input_emb_dim + len(continuous_cols), self.n_hiddens[0])\n",
    "        # after concat hidden layers\n",
    "        for i, hidden in enumerate(self.n_hiddens[1:],1):\n",
    "            setattr(self, 'lin_ly_'+str(i+1), nn.Linear(self.n_hiddens[i-1], self.n_hiddens[i]))\n",
    "            \n",
    "        self.out_ly = nn.Linear(self.n_hiddens[-1], n_class)\n",
    "            \n",
    "    def forward(self, x):\n",
    "        # make each output embedding layer's and return to type list \n",
    "        emb = [getattr(self, 'emb_ly_' +str(col))(x[:, self.deep_column_idx[col]].long()) for col, _, _ in self.embeddings_input]\n",
    "        \n",
    "        # for continuous values\n",
    "        cont_idx = [self.deep_column_idx[col] for col in self.continuous_cols]\n",
    "        ## just slicing of continuous values\n",
    "        cont = [x[:, cont_idx].float()]\n",
    "        \n",
    "        ## concatenating of embedding layer's outpus and linear inputs\n",
    "        #### concat input of list to one array\n",
    "        deep_input = torch.cat(emb+cont, 1)\n",
    "        x_deep = F.relu(self.ly1(deep_input))\n",
    "        \n",
    "        for i in range(1, len(n_hiddens)): # first hidden value is already used in 'ly1' layer -> start from 1\n",
    "            x_deep = F.relu( getattr(self, 'lin_ly_'+str(i+1))(x_deep))\n",
    "        \n",
    "        # final classifier layer\n",
    "        out = F.sigmoid(self.out_ly(x_deep))\n",
    "        \n",
    "        return out"
   ]
  },
  {
   "cell_type": "code",
   "execution_count": 20,
   "metadata": {
    "ExecuteTime": {
     "end_time": "2018-09-07T00:41:05.233933Z",
     "start_time": "2018-09-07T00:41:05.227010Z"
    }
   },
   "outputs": [
    {
     "name": "stdout",
     "output_type": "stream",
     "text": [
      "{'education': 0, 'relationship': 1, 'workclass': 2, 'occupation': 3, 'native_country': 4, 'age': 5, 'hours_per_week': 6}\n",
      "50\n",
      "deepNet(\n",
      "  (emb_ly_relationship): Embedding(6, 8)\n",
      "  (emb_ly_workclass): Embedding(9, 10)\n",
      "  (emb_ly_occupation): Embedding(15, 10)\n",
      "  (emb_ly_education): Embedding(16, 10)\n",
      "  (emb_ly_native_country): Embedding(42, 12)\n",
      "  (ly1): Linear(in_features=52, out_features=100, bias=True)\n",
      "  (lin_ly_2): Linear(in_features=100, out_features=50, bias=True)\n",
      "  (out_ly): Linear(in_features=50, out_features=1, bias=True)\n",
      ")\n"
     ]
    }
   ],
   "source": [
    "deep_column_idx = out_dataset['deep_column_idx']\n",
    "embeddings_input= out_dataset['embeddings_input']\n",
    "n_hiddens = [100,50]\n",
    "\n",
    "d_net = deepNet(embeddings_input, continuous_cols, deep_column_idx, n_hiddens, n_class)\n",
    "print(d_net)\n",
    "\n",
    "device = 'cuda:0' if torch.cuda.is_available() else 'cpu'\n",
    "d_net = d_net.to(device)"
   ]
  },
  {
   "cell_type": "code",
   "execution_count": 21,
   "metadata": {
    "ExecuteTime": {
     "end_time": "2018-09-07T00:43:21.766777Z",
     "start_time": "2018-09-07T00:41:06.955102Z"
    }
   },
   "outputs": [
    {
     "name": "stderr",
     "output_type": "stream",
     "text": [
      "/home/ubuntu/anaconda3/envs/pytorch_p36/lib/python3.6/site-packages/torch/nn/functional.py:1006: UserWarning: nn.functional.sigmoid is deprecated. Use torch.sigmoid instead.\n",
      "  warnings.warn(\"nn.functional.sigmoid is deprecated. Use torch.sigmoid instead.\")\n"
     ]
    },
    {
     "name": "stdout",
     "output_type": "stream",
     "text": [
      "[Train] Epoch 1 / 50, Loss: 0.38, accuracy: 0.8226\n",
      "[Test] Epoch 1 / 50, Loss: 0.348, accuracy: 0.8369\n",
      "\n",
      "[Train] Epoch 6 / 50, Loss: 0.335, accuracy: 0.8444\n",
      "[Test] Epoch 6 / 50, Loss: 0.343, accuracy: 0.8387\n",
      "\n",
      "[Train] Epoch 11 / 50, Loss: 0.327, accuracy: 0.8466\n",
      "[Test] Epoch 11 / 50, Loss: 0.345, accuracy: 0.838\n",
      "\n",
      "[Train] Epoch 16 / 50, Loss: 0.318, accuracy: 0.8513\n",
      "[Test] Epoch 16 / 50, Loss: 0.351, accuracy: 0.8366\n",
      "\n",
      "[Train] Epoch 21 / 50, Loss: 0.309, accuracy: 0.8554\n",
      "[Test] Epoch 21 / 50, Loss: 0.356, accuracy: 0.8355\n",
      "\n",
      "[Train] Epoch 26 / 50, Loss: 0.301, accuracy: 0.8601\n",
      "[Test] Epoch 26 / 50, Loss: 0.371, accuracy: 0.8338\n",
      "\n",
      "[Train] Epoch 31 / 50, Loss: 0.294, accuracy: 0.8623\n",
      "[Test] Epoch 31 / 50, Loss: 0.378, accuracy: 0.8299\n",
      "\n",
      "[Train] Epoch 36 / 50, Loss: 0.287, accuracy: 0.8657\n",
      "[Test] Epoch 36 / 50, Loss: 0.386, accuracy: 0.8308\n",
      "\n",
      "[Train] Epoch 41 / 50, Loss: 0.283, accuracy: 0.8676\n",
      "[Test] Epoch 41 / 50, Loss: 0.397, accuracy: 0.8267\n",
      "\n",
      "[Train] Epoch 46 / 50, Loss: 0.277, accuracy: 0.8693\n",
      "[Test] Epoch 46 / 50, Loss: 0.407, accuracy: 0.8267\n",
      "\n"
     ]
    }
   ],
   "source": [
    "opt_fn = optim.Adam(d_net.parameters())\n",
    "loss_fn = nn.BCELoss()\n",
    "\n",
    "n_epochs = 50\n",
    "\n",
    "d_net, train_loss, test_loss, best_val_acc, best_epoch_num = \\\n",
    "    train_model(d_net, device, d_train_loader, d_test_loader, opt_fn, loss_fn, n_epochs, log_num = 5)"
   ]
  },
  {
   "cell_type": "code",
   "execution_count": 22,
   "metadata": {
    "ExecuteTime": {
     "end_time": "2018-09-07T00:43:22.296825Z",
     "start_time": "2018-09-07T00:43:21.769634Z"
    }
   },
   "outputs": [
    {
     "data": {
      "image/png": "[encoded data removed]",
      "text/plain": [
       "<Figure size 720x1008 with 2 Axes>"
      ]
     },
     "metadata": {},
     "output_type": "display_data"
    }
   ],
   "source": [
    "f = print_run(train_loss, test_loss)"
   ]
  },
  {
   "cell_type": "markdown",
   "metadata": {},
   "source": [
    "---\n",
    "#### 2-3) Wide and Deep Learning\n",
    "---"
   ]
  },
  {
   "cell_type": "code",
   "execution_count": 120,
   "metadata": {
    "ExecuteTime": {
     "end_time": "2018-09-07T01:44:45.954377Z",
     "start_time": "2018-09-07T01:44:45.857176Z"
    }
   },
   "outputs": [
    {
     "name": "stdout",
     "output_type": "stream",
     "text": [
      "torch.Size([34189, 798]) torch.Size([34189, 7]) torch.Size([34189, 1])\n",
      "torch.Size([14653, 798]) torch.Size([14653, 7]) torch.Size([14653, 1])\n"
     ]
    }
   ],
   "source": [
    "w_train_x = torch.tensor(out_dataset['train_set'].wide, dtype=torch.float)\n",
    "d_train_x = torch.tensor(out_dataset['train_set'].deep, dtype=torch.float)\n",
    "train_y = torch.tensor(out_dataset['train_set'].labels.reshape(-1,1), dtype=torch.float)\n",
    "print(w_train_x.size(), d_train_x.size(), train_y.size())\n",
    "\n",
    "w_test_x = torch.tensor(out_dataset['test_set'].wide, dtype=torch.float)\n",
    "d_test_x = torch.tensor(out_dataset['test_set'].deep, dtype=torch.float)\n",
    "test_y = torch.tensor(out_dataset['test_set'].labels.reshape(-1,1), dtype=torch.float)\n",
    "print(w_test_x.size(), d_test_x.size(), test_y.size())\n",
    "\n",
    "batch_size = 64\n",
    "\n",
    "t_train_set = TensorDataset(w_train_x, d_train_x, d_train_y)\n",
    "t_train_loader = DataLoader(t_train_set, batch_size, shuffle = True, num_workers=1)\n",
    "\n",
    "t_test_set = TensorDataset(w_test_x, d_test_x, d_test_y)\n",
    "t_test_loader = DataLoader(t_test_set, batch_size, shuffle = True, num_workers=1)"
   ]
  },
  {
   "cell_type": "code",
   "execution_count": 121,
   "metadata": {
    "ExecuteTime": {
     "end_time": "2018-09-07T01:44:46.086290Z",
     "start_time": "2018-09-07T01:44:46.080207Z"
    }
   },
   "outputs": [],
   "source": [
    "class Identity(nn.Module):\n",
    "    def __init__(self):\n",
    "        super(Identity, self).__init__()\n",
    "        \n",
    "    def forward(self, x):\n",
    "        return x\n",
    "    \n",
    "class Last_net(nn.Module):\n",
    "    def __init__(self, input_dim, n_class):\n",
    "        super(Last_net, self).__init__()\n",
    "        self.input_dim = input_dim\n",
    "        self.n_class = n_class\n",
    "        \n",
    "        self.out_ly = nn.Linear(self.input_dim, self.n_class)\n",
    "        \n",
    "        \n",
    "    def forward(self, x):\n",
    "        x = F.sigmoid(self.out_ly(x))\n",
    "        \n",
    "        return x"
   ]
  },
  {
   "cell_type": "code",
   "execution_count": 122,
   "metadata": {
    "ExecuteTime": {
     "end_time": "2018-09-07T01:44:46.607059Z",
     "start_time": "2018-09-07T01:44:46.603010Z"
    }
   },
   "outputs": [],
   "source": [
    "t_w_net = wideNet(wide_dim, n_class)\n",
    "t_d_net = deepNet(embeddings_input, continuous_cols, deep_column_idx, n_hiddens, n_class)"
   ]
  },
  {
   "cell_type": "code",
   "execution_count": 123,
   "metadata": {
    "ExecuteTime": {
     "end_time": "2018-09-07T01:44:46.848455Z",
     "start_time": "2018-09-07T01:44:46.843524Z"
    }
   },
   "outputs": [
    {
     "name": "stdout",
     "output_type": "stream",
     "text": [
      "wideNet(\n",
      "  (ly1): Linear(in_features=798, out_features=10, bias=True)\n",
      ")\n",
      "deepNet(\n",
      "  (emb_ly_relationship): Embedding(6, 8)\n",
      "  (emb_ly_workclass): Embedding(9, 10)\n",
      "  (emb_ly_occupation): Embedding(15, 10)\n",
      "  (emb_ly_education): Embedding(16, 10)\n",
      "  (emb_ly_native_country): Embedding(42, 12)\n",
      "  (ly1): Linear(in_features=52, out_features=100, bias=True)\n",
      "  (lin_ly_2): Linear(in_features=100, out_features=50, bias=True)\n",
      "  (out_ly): Identity()\n",
      ")\n",
      "concat dim is 60\n",
      "Last_net(\n",
      "  (out_ly): Linear(in_features=60, out_features=1, bias=True)\n",
      ")\n"
     ]
    }
   ],
   "source": [
    "# t_w_net.ly1.out_features = 10 # 이렇게하면 실제 layer가 변경되지 않음\n",
    "t_w_net.ly1 = nn.Linear(798,10)\n",
    "print(t_w_net) # out dim = 10\n",
    "\n",
    "t_d_net.out_ly = Identity()\n",
    "print(t_d_net) # out dim = 50\n",
    "\n",
    "concat_dim = int(t_w_net.ly1.out_features) + int(t_d_net.lin_ly_2.out_features)\n",
    "print('concat dim is {}'.format(concat_dim))\n",
    "\n",
    "last_net = Last_net(concat_dim, n_class)\n",
    "print(last_net)"
   ]
  },
  {
   "cell_type": "code",
   "execution_count": 124,
   "metadata": {
    "ExecuteTime": {
     "end_time": "2018-09-07T01:44:47.512898Z",
     "start_time": "2018-09-07T01:44:47.509369Z"
    }
   },
   "outputs": [],
   "source": [
    "t_w_net = t_w_net.to(device)\n",
    "t_d_net = t_d_net.to(device)\n",
    "last_net = last_net.to(device)"
   ]
  },
  {
   "cell_type": "code",
   "execution_count": 125,
   "metadata": {
    "ExecuteTime": {
     "end_time": "2018-09-07T01:44:48.813670Z",
     "start_time": "2018-09-07T01:44:48.810146Z"
    }
   },
   "outputs": [],
   "source": [
    "loss_fn = nn.BCELoss()\n",
    "\n",
    "# w_net / d_net\n",
    "opt_fn = optim.Adam(list(t_w_net.parameters()) + list(t_d_net.parameters()) + list(last_net.parameters()))\n",
    "\n",
    "n_epochs = 50\n",
    "log_num = 10"
   ]
  },
  {
   "cell_type": "code",
   "execution_count": 126,
   "metadata": {
    "ExecuteTime": {
     "end_time": "2018-09-07T01:47:40.170168Z",
     "start_time": "2018-09-07T01:44:49.191312Z"
    }
   },
   "outputs": [
    {
     "name": "stderr",
     "output_type": "stream",
     "text": [
      "/home/ubuntu/anaconda3/envs/pytorch_p36/lib/python3.6/site-packages/torch/nn/functional.py:1006: UserWarning: nn.functional.sigmoid is deprecated. Use torch.sigmoid instead.\n",
      "  warnings.warn(\"nn.functional.sigmoid is deprecated. Use torch.sigmoid instead.\")\n"
     ]
    },
    {
     "name": "stdout",
     "output_type": "stream",
     "text": [
      "[Train] Epoch 1 / 50, Loss: 0.409, accuracy: 0.8063\n",
      "[Test] Epoch 1 / 50, Loss: 0.358, accuracy: 0.8339\n",
      "\n",
      "[Train] Epoch 11 / 50, Loss: 0.33, accuracy: 0.8473\n",
      "[Test] Epoch 11 / 50, Loss: 0.339, accuracy: 0.8406\n",
      "\n",
      "[Train] Epoch 21 / 50, Loss: 0.32, accuracy: 0.8518\n",
      "[Test] Epoch 21 / 50, Loss: 0.345, accuracy: 0.8378\n",
      "\n",
      "[Train] Epoch 31 / 50, Loss: 0.312, accuracy: 0.8538\n",
      "[Test] Epoch 31 / 50, Loss: 0.35, accuracy: 0.8358\n",
      "\n",
      "[Train] Epoch 41 / 50, Loss: 0.305, accuracy: 0.8585\n",
      "[Test] Epoch 41 / 50, Loss: 0.358, accuracy: 0.8342\n",
      "\n"
     ]
    }
   ],
   "source": [
    "train_loss = []\n",
    "test_loss = []\n",
    "\n",
    "for epoch in range(n_epochs):\n",
    "    #################################################\n",
    "    ## Training Part\n",
    "    #################################################\n",
    "    running_total =0.0\n",
    "    running_correct =0.0\n",
    "    running_loss = 0.0\n",
    "\n",
    "    for i, data in enumerate(t_train_loader):\n",
    "        inputs_w, inputs_d, labels = data[0].to(device), data[1].to(device), data[2].to(device)\n",
    "\n",
    "        # zerograd\n",
    "        opt_fn.zero_grad()\n",
    "\n",
    "        # forward\n",
    "        y_pred_w = t_w_net(inputs_w)\n",
    "        y_pred_d = t_d_net(inputs_d)\n",
    "        y_pred_tot = torch.cat((y_pred_w, y_pred_d), 1)\n",
    "        \n",
    "        y_pred = last_net(y_pred_tot)\n",
    "        \n",
    "        loss = loss_fn(y_pred, labels)\n",
    "\n",
    "        # backward\n",
    "        loss.backward()\n",
    "        opt_fn.step()\n",
    "\n",
    "\n",
    "        ############\n",
    "        # 1) loss\n",
    "        running_loss += loss.item()*inputs_w.size(0)\n",
    "\n",
    "        ############\n",
    "        # 2) metric\n",
    "        y_pred_cnvt = (y_pred > 0.5).squeeze(1).float() # (= (y_pred > 0.5).view(-1))\n",
    "        running_correct+= float((y_pred_cnvt == labels.squeeze(1)).sum().item())\n",
    "\n",
    "        running_total += y_pred.size(0) # total number of samples (accumulated)\n",
    "\n",
    "    #################################################\n",
    "    ## train epoch loss\n",
    "    epoch_loss = running_loss / int(running_total)\n",
    "    epoch_acc = running_correct / int(running_total)\n",
    "\n",
    "    train_loss.append((epoch, epoch_loss, 'loss'))\n",
    "    train_loss.append((epoch, epoch_acc, 'acc'))\n",
    "\n",
    "    if (epoch+1)%log_num == 1:\n",
    "        print ('[Train] Epoch {} / {}, Loss: {}, accuracy: {}'.format(epoch+1,\n",
    "            n_epochs, round(epoch_loss,3), round(epoch_acc,4)))\n",
    "\n",
    "    #################################################\n",
    "    ## Test Part\n",
    "    #################################################\n",
    "    running_total = 0.0\n",
    "    running_correct = 0.0\n",
    "    running_loss = 0.0\n",
    "\n",
    "    for i, data in enumerate(t_test_loader):\n",
    "        inputs_w, inputs_d, labels = data[0].to(device), data[1].to(device), data[2].to(device)\n",
    "\n",
    "        # forward\n",
    "        y_pred_w = t_w_net(inputs_w)\n",
    "        y_pred_d = t_d_net(inputs_d)\n",
    "        y_pred_tot = torch.cat((y_pred_w, y_pred_d), 1)\n",
    "        \n",
    "        y_pred = last_net(y_pred_tot)\n",
    "        \n",
    "        loss = loss_fn(y_pred, labels)\n",
    "\n",
    "        ############\n",
    "        # 1) loss\n",
    "        running_loss += loss.item()*inputs_w.size(0)\n",
    "\n",
    "        ############\n",
    "        # 2) metric\n",
    "        y_pred_cnvt = (y_pred > 0.5).squeeze(1).float() # (= (y_pred > 0.5).view(-1))\n",
    "        running_correct += float((y_pred_cnvt == labels.squeeze(1)).sum().item())\n",
    "\n",
    "        running_total += y_pred.size(0) # total number of samples (accumulated)\n",
    "\n",
    "    #################################################\n",
    "    ## test epoch loss\n",
    "    epoch_loss = running_loss / int(running_total)\n",
    "    epoch_acc = running_correct / int(running_total)\n",
    "\n",
    "    test_loss.append((epoch, epoch_loss, 'loss'))\n",
    "    test_loss.append((epoch, epoch_acc, 'acc'))\n",
    "\n",
    "    if (epoch+1)%log_num == 1:\n",
    "        print ('[Test] Epoch {} / {}, Loss: {}, accuracy: {}'.format(epoch+1,\n",
    "            n_epochs, round(epoch_loss,3), round(epoch_acc,4)))\n",
    "        print()\n",
    "\n",
    "    if best_val_acc < epoch_acc:\n",
    "        best_val_acc = epoch_acc\n",
    "        best_epoch_num = epoch + 1"
   ]
  },
  {
   "cell_type": "code",
   "execution_count": null,
   "metadata": {},
   "outputs": [],
   "source": []
  },
  {
   "cell_type": "code",
   "execution_count": 142,
   "metadata": {
    "ExecuteTime": {
     "end_time": "2018-09-07T04:32:50.991662Z",
     "start_time": "2018-09-07T04:32:50.982781Z"
    }
   },
   "outputs": [],
   "source": [
    "### deep part network\n",
    "class widedeepNet(nn.Module):\n",
    "    \n",
    "    def __init__(self, wide_dim, embeddings_input, continuous_cols, deep_column_idx, n_hiddens, n_class):\n",
    "        super(widedeepNet, self).__init__()\n",
    "        self.wide_dim = wide_dim\n",
    "        self.embeddings_input = embeddings_input\n",
    "        self.continuous_cols = continuous_cols\n",
    "        self.deep_column_idx = deep_column_idx\n",
    "        self.n_hiddens = n_hiddens\n",
    "        self.n_class = n_class\n",
    "        \n",
    "        print(self.deep_column_idx)\n",
    "        \n",
    "        # make embedding layers for categorical variables\n",
    "        ## embedding : # of cols x # of embedding dims.\n",
    "        for col, n_col, n_dim in self.embeddings_input:\n",
    "            setattr(self, 'emb_ly_'+str(col), nn.Embedding(n_col, n_dim)) # (class, inst name, value)\n",
    "            \n",
    "        # add linear layer after concatenating of embedding layers and linear of continuous layer\n",
    "        input_emb_dim = np.sum(emb[2] for emb in self.embeddings_input)\n",
    "        print(input_emb_dim)\n",
    "        self.ly1 = nn.Linear(input_emb_dim + len(continuous_cols), self.n_hiddens[0])\n",
    "        # after concat hidden layers\n",
    "        for i, hidden in enumerate(self.n_hiddens[1:],1):\n",
    "            setattr(self, 'lin_ly_'+str(i+1), nn.Linear(self.n_hiddens[i-1], self.n_hiddens[i]))\n",
    "            \n",
    "        self.out_ly = nn.Linear(self.n_hiddens[-1] + self.wide_dim, n_class)\n",
    "            \n",
    "    def forward(self, x_w, x_d):\n",
    "        # make each output embedding layer's and return to type list \n",
    "        emb = [getattr(self, 'emb_ly_' +str(col))(x_d[:, self.deep_column_idx[col]].long()) for col, _, _ in self.embeddings_input]\n",
    "        \n",
    "        # for continuous values\n",
    "        cont_idx = [self.deep_column_idx[col] for col in self.continuous_cols]\n",
    "        ## just slicing of continuous values\n",
    "        cont = [x_d[:, cont_idx].float()]\n",
    "        \n",
    "        ## concatenating of embedding layer's outpus and linear inputs\n",
    "        #### concat input of list to one array\n",
    "        deep_input = torch.cat(emb+cont, 1)\n",
    "        x_deep = F.relu(self.ly1(deep_input))\n",
    "        \n",
    "        for i in range(1, len(n_hiddens)): # first hidden value is already used in 'ly1' layer -> start from 1\n",
    "            x_deep = F.relu( getattr(self, 'lin_ly_'+str(i+1))(x_deep))\n",
    "        \n",
    "        \n",
    "        ## concat of wide and deep\n",
    "        x_wide = x_w.float()\n",
    "        \n",
    "        x_wide_deep = torch.cat((x_wide, x_deep), 1)        \n",
    "        \n",
    "        # final classifier layer\n",
    "        out = F.sigmoid(self.out_ly(x_wide_deep))\n",
    "        \n",
    "        return out"
   ]
  },
  {
   "cell_type": "code",
   "execution_count": 143,
   "metadata": {
    "ExecuteTime": {
     "end_time": "2018-09-07T04:32:51.443816Z",
     "start_time": "2018-09-07T04:32:51.437040Z"
    }
   },
   "outputs": [
    {
     "name": "stdout",
     "output_type": "stream",
     "text": [
      "{'education': 0, 'relationship': 1, 'workclass': 2, 'occupation': 3, 'native_country': 4, 'age': 5, 'hours_per_week': 6}\n",
      "50\n",
      "widedeepNet(\n",
      "  (emb_ly_relationship): Embedding(6, 8)\n",
      "  (emb_ly_workclass): Embedding(9, 10)\n",
      "  (emb_ly_occupation): Embedding(15, 10)\n",
      "  (emb_ly_education): Embedding(16, 10)\n",
      "  (emb_ly_native_country): Embedding(42, 12)\n",
      "  (ly1): Linear(in_features=52, out_features=100, bias=True)\n",
      "  (lin_ly_2): Linear(in_features=100, out_features=50, bias=True)\n",
      "  (out_ly): Linear(in_features=848, out_features=1, bias=True)\n",
      ")\n"
     ]
    }
   ],
   "source": [
    "wide_dim = out_dataset['train_set'].wide.shape[1]\n",
    "deep_column_idx = out_dataset['deep_column_idx']\n",
    "embeddings_input= out_dataset['embeddings_input']\n",
    "n_hiddens = [100,50]\n",
    "\n",
    "wd_net = widedeepNet(wide_dim, embeddings_input, continuous_cols, deep_column_idx, n_hiddens, n_class)\n",
    "print(wd_net)\n",
    "\n",
    "device = 'cuda:0' if torch.cuda.is_available() else 'cpu'\n",
    "device = 'cpu'\n",
    "wd_net = wd_net.to(device)"
   ]
  },
  {
   "cell_type": "code",
   "execution_count": 144,
   "metadata": {
    "ExecuteTime": {
     "end_time": "2018-09-07T04:32:51.815368Z",
     "start_time": "2018-09-07T04:32:51.812478Z"
    }
   },
   "outputs": [],
   "source": [
    "loss_fn = nn.BCELoss()\n",
    "\n",
    "# w_net / d_net\n",
    "opt_fn = optim.Adam(wd_net.parameters())\n",
    "\n",
    "n_epochs = 50\n",
    "log_num = 10"
   ]
  },
  {
   "cell_type": "code",
   "execution_count": 145,
   "metadata": {
    "ExecuteTime": {
     "end_time": "2018-09-07T04:35:31.139102Z",
     "start_time": "2018-09-07T04:32:52.569243Z"
    }
   },
   "outputs": [
    {
     "name": "stderr",
     "output_type": "stream",
     "text": [
      "/home/ubuntu/anaconda3/envs/pytorch_p36/lib/python3.6/site-packages/torch/nn/functional.py:1006: UserWarning: nn.functional.sigmoid is deprecated. Use torch.sigmoid instead.\n",
      "  warnings.warn(\"nn.functional.sigmoid is deprecated. Use torch.sigmoid instead.\")\n"
     ]
    },
    {
     "name": "stdout",
     "output_type": "stream",
     "text": [
      "[Train] Epoch 1 / 50, Loss: 0.38, accuracy: 0.8227\n",
      "[Test] Epoch 1 / 50, Loss: 0.349, accuracy: 0.8359\n",
      "\n",
      "[Train] Epoch 11 / 50, Loss: 0.328, accuracy: 0.8484\n",
      "[Test] Epoch 11 / 50, Loss: 0.34, accuracy: 0.8407\n",
      "\n",
      "[Train] Epoch 21 / 50, Loss: 0.312, accuracy: 0.8545\n",
      "[Test] Epoch 21 / 50, Loss: 0.353, accuracy: 0.8365\n",
      "\n",
      "[Train] Epoch 31 / 50, Loss: 0.296, accuracy: 0.8614\n",
      "[Test] Epoch 31 / 50, Loss: 0.368, accuracy: 0.8327\n",
      "\n",
      "[Train] Epoch 41 / 50, Loss: 0.283, accuracy: 0.8671\n",
      "[Test] Epoch 41 / 50, Loss: 0.394, accuracy: 0.8278\n",
      "\n"
     ]
    }
   ],
   "source": [
    "train_loss = []\n",
    "test_loss = []\n",
    "\n",
    "for epoch in range(n_epochs):\n",
    "    #################################################\n",
    "    ## Training Part\n",
    "    #################################################\n",
    "    running_total =0.0\n",
    "    running_correct =0.0\n",
    "    running_loss = 0.0\n",
    "\n",
    "    for i, data in enumerate(t_train_loader):\n",
    "        inputs_w, inputs_d, labels = data[0].to(device), data[1].to(device), data[2].to(device)\n",
    "\n",
    "        # zerograd\n",
    "        opt_fn.zero_grad()\n",
    "\n",
    "        # forward\n",
    "        y_pred = wd_net(inputs_w, inputs_d)\n",
    "        loss = loss_fn(y_pred, labels)\n",
    "\n",
    "        # backward\n",
    "        loss.backward()\n",
    "        opt_fn.step()\n",
    "\n",
    "\n",
    "        ############\n",
    "        # 1) loss\n",
    "        running_loss += loss.item()*inputs_w.size(0)\n",
    "\n",
    "        ############\n",
    "        # 2) metric\n",
    "        y_pred_cnvt = (y_pred > 0.5).squeeze(1).float() # (= (y_pred > 0.5).view(-1))\n",
    "        running_correct+= float((y_pred_cnvt == labels.squeeze(1)).sum().item())\n",
    "\n",
    "        running_total += y_pred.size(0) # total number of samples (accumulated)\n",
    "\n",
    "    #################################################\n",
    "    ## train epoch loss\n",
    "    epoch_loss = running_loss / int(running_total)\n",
    "    epoch_acc = running_correct / int(running_total)\n",
    "\n",
    "    train_loss.append((epoch, epoch_loss, 'loss'))\n",
    "    train_loss.append((epoch, epoch_acc, 'acc'))\n",
    "\n",
    "    if (epoch+1)%log_num == 1:\n",
    "        print ('[Train] Epoch {} / {}, Loss: {}, accuracy: {}'.format(epoch+1,\n",
    "            n_epochs, round(epoch_loss,3), round(epoch_acc,4)))\n",
    "\n",
    "    #################################################\n",
    "    ## Test Part\n",
    "    #################################################\n",
    "    running_total = 0.0\n",
    "    running_correct = 0.0\n",
    "    running_loss = 0.0\n",
    "\n",
    "    for i, data in enumerate(t_test_loader):\n",
    "        inputs_w, inputs_d, labels = data[0].to(device), data[1].to(device), data[2].to(device)\n",
    "\n",
    "        # forward\n",
    "        y_pred = wd_net(inputs_w, inputs_d)        \n",
    "        loss = loss_fn(y_pred, labels)\n",
    "\n",
    "        ############\n",
    "        # 1) loss\n",
    "        running_loss += loss.item()*inputs_w.size(0)\n",
    "\n",
    "        ############\n",
    "        # 2) metric\n",
    "        y_pred_cnvt = (y_pred > 0.5).squeeze(1).float() # (= (y_pred > 0.5).view(-1))\n",
    "        running_correct += float((y_pred_cnvt == labels.squeeze(1)).sum().item())\n",
    "\n",
    "        running_total += y_pred.size(0) # total number of samples (accumulated)\n",
    "\n",
    "    #################################################\n",
    "    ## test epoch loss\n",
    "    epoch_loss = running_loss / int(running_total)\n",
    "    epoch_acc = running_correct / int(running_total)\n",
    "\n",
    "    test_loss.append((epoch, epoch_loss, 'loss'))\n",
    "    test_loss.append((epoch, epoch_acc, 'acc'))\n",
    "\n",
    "    if (epoch+1)%log_num == 1:\n",
    "        print ('[Test] Epoch {} / {}, Loss: {}, accuracy: {}'.format(epoch+1,\n",
    "            n_epochs, round(epoch_loss,3), round(epoch_acc,4)))\n",
    "        print()\n",
    "\n",
    "    if best_val_acc < epoch_acc:\n",
    "        best_val_acc = epoch_acc\n",
    "        best_epoch_num = epoch + 1"
   ]
  },
  {
   "cell_type": "code",
   "execution_count": null,
   "metadata": {},
   "outputs": [],
   "source": []
  },
  {
   "cell_type": "code",
   "execution_count": null,
   "metadata": {},
   "outputs": [],
   "source": []
  },
  {
   "cell_type": "code",
   "execution_count": 35,
   "metadata": {
    "ExecuteTime": {
     "end_time": "2018-09-05T08:48:02.776023Z",
     "start_time": "2018-09-05T08:48:02.772850Z"
    }
   },
   "outputs": [],
   "source": []
  },
  {
   "cell_type": "code",
   "execution_count": 35,
   "metadata": {
    "ExecuteTime": {
     "end_time": "2018-09-07T00:58:39.641314Z",
     "start_time": "2018-09-07T00:58:39.636825Z"
    }
   },
   "outputs": [
    {
     "name": "stdout",
     "output_type": "stream",
     "text": [
      "[Linear(in_features=798, out_features=1, bias=True), Embedding(6, 8), Embedding(9, 10), Embedding(15, 10), Embedding(16, 10), Embedding(42, 12), Linear(in_features=52, out_features=100, bias=True), Linear(in_features=100, out_features=50, bias=True), Linear(in_features=50, out_features=1, bias=True)]\n",
      "Sequential(\n",
      "  (0): Linear(in_features=798, out_features=1, bias=True)\n",
      "  (1): Embedding(6, 8)\n",
      "  (2): Embedding(9, 10)\n",
      "  (3): Embedding(15, 10)\n",
      "  (4): Embedding(16, 10)\n",
      "  (5): Embedding(42, 12)\n",
      "  (6): Linear(in_features=52, out_features=100, bias=True)\n",
      "  (7): Linear(in_features=100, out_features=50, bias=True)\n",
      "  (8): Linear(in_features=50, out_features=1, bias=True)\n",
      ")\n"
     ]
    }
   ],
   "source": [
    "n1 = list(w_net.children())\n",
    "n2 = list(d_net.children())\n",
    "\n",
    "n = n1 + n2\n",
    "print(n)\n",
    "\n",
    "w_d_net = nn.Sequential(*n)\n",
    "print(w_d_net)"
   ]
  },
  {
   "cell_type": "code",
   "execution_count": null,
   "metadata": {},
   "outputs": [],
   "source": []
  }
 ],
 "metadata": {
  "kernelspec": {
   "display_name": "Python [conda env:pytorch_p36]",
   "language": "python",
   "name": "conda-env-pytorch_p36-py"
  },
  "language_info": {
   "codemirror_mode": {
    "name": "ipython",
    "version": 3
   },
   "file_extension": ".py",
   "mimetype": "text/x-python",
   "name": "python",
   "nbconvert_exporter": "python",
   "pygments_lexer": "ipython3",
   "version": "3.6.6"
  }
 },
 "nbformat": 4,
 "nbformat_minor": 2
}
