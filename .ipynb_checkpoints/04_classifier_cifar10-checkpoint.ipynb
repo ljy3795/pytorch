{
 "cells": [
  {
   "cell_type": "code",
   "execution_count": 27,
   "metadata": {},
   "outputs": [],
   "source": [
    "import torch\n",
    "import torchvision\n",
    "import torchvision.transforms as transforms\n",
    "import torch.utils.data as data_utils\n",
    "\n",
    "\n",
    "import matplotlib.pyplot as plt\n",
    "%matplotlib inline\n",
    "\n",
    "import os, time\n",
    "import numpy as np\n",
    "import pandas as pd"
   ]
  },
  {
   "cell_type": "code",
   "execution_count": 7,
   "metadata": {},
   "outputs": [
    {
     "name": "stdout",
     "output_type": "stream",
     "text": [
      "/home/ubuntu/notebooks/pytorch/../data/cifar10/cifar-10-batches-py\n",
      "['data_batch_3', 'data_batch_4', 'data_batch_5', 'test_batch', 'data_batch_1', 'data_batch_2', 'readme.html', 'batches.meta']\n"
     ]
    }
   ],
   "source": [
    "dataset_path = os.path.join(str(os.getcwd()), '../data')\n",
    "\n",
    "trainset = torchvision.datasets.CIFAR10(root=dataset_path, train=True, download=False)\n",
    "testset = torchvision.datasets.CIFAR10(root=dataset_path, train=False, download=False)\n",
    "\n",
    "dataset_path = os.path.join(dataset_path, 'cifar10/cifar-10-batches-py')\n",
    "print(dataset_path)\n",
    "\n",
    "data_list = os.listdir(dataset_path)\n",
    "print(data_list)"
   ]
  },
  {
   "cell_type": "code",
   "execution_count": 8,
   "metadata": {},
   "outputs": [],
   "source": [
    "def unpickle(file):\n",
    "    import pickle\n",
    "    with open(file, 'rb') as f:\n",
    "        dict = pickle.load(f, encoding = 'bytes')\n",
    "    return dict\n",
    "\n",
    "batch_list = ['data_batch_1', 'data_batch_2', 'data_batch_3', 'data_batch_4', 'data_batch_5']"
   ]
  },
  {
   "cell_type": "code",
   "execution_count": 21,
   "metadata": {},
   "outputs": [
    {
     "name": "stdout",
     "output_type": "stream",
     "text": [
      "loading is done\n",
      "train_set shape is (50000, 3, 32, 32)\n",
      "train_lbs shape is (50000,)\n",
      "test_set shape is (10000, 3, 32, 32)\n",
      "test_lbs shape is (10000,)\n",
      "('plane', 'car', 'bird', 'cat', 'deer', 'dog', 'frog', 'horse', 'ship', 'truck')\n"
     ]
    }
   ],
   "source": [
    "train_set = None\n",
    "train_lbs = None\n",
    "\n",
    "for inst in batch_list:\n",
    "    tmp_batch = unpickle(os.path.join(dataset_path, str(inst)))[b'data']\n",
    "    tmp_batch = tmp_batch.reshape(tmp_batch.shape[0], 3, 32, 32) # batch size / channel / width / heights\n",
    "    \n",
    "    tmp_lbs = unpickle(os.path.join(dataset_path, str(inst)))[b'labels']\n",
    "    if train_set is None:\n",
    "        train_set = tmp_batch\n",
    "        train_lbs = tmp_lbs\n",
    "    else:\n",
    "        train_set = np.append(train_set, tmp_batch, axis = 0)\n",
    "        train_lbs = np.append(train_lbs, tmp_lbs, axis = 0)\n",
    "        \n",
    "test_set = unpickle(os.path.join(dataset_path, 'test_batch'))[b'data']\n",
    "test_set = test_set.reshape(test_set.shape[0],3,32,32)\n",
    "test_lbs = np.array(unpickle(os.path.join(dataset_path, 'test_batch'))[b'labels'])\n",
    "\n",
    "\n",
    "print(\"loading is done\")\n",
    "print(\"train_set shape is {}\".format(str(train_set.shape)))\n",
    "print(\"train_lbs shape is {}\".format(str(train_lbs.shape)))\n",
    "print(\"test_set shape is {}\".format(str(test_set.shape)))\n",
    "print(\"test_lbs shape is {}\".format(str(test_lbs.shape)))\n",
    "\n",
    "classes = ('plane', 'car', 'bird', 'cat', 'deer', 'dog', 'frog', 'horse', 'ship', 'truck')\n",
    "print(classes)"
   ]
  },
  {
   "cell_type": "code",
   "execution_count": 22,
   "metadata": {},
   "outputs": [
    {
     "data": {
      "text/plain": [
       "array([3, 8, 8, ..., 5, 1, 7])"
      ]
     },
     "execution_count": 22,
     "metadata": {},
     "output_type": "execute_result"
    }
   ],
   "source": [
    "test_lbs"
   ]
  },
  {
   "cell_type": "code",
   "execution_count": 23,
   "metadata": {},
   "outputs": [
    {
     "name": "stdout",
     "output_type": "stream",
     "text": [
      "(32, 32, 3)\n",
      "frog\n"
     ]
    },
    {
     "data": {
      "image/png": "[encoded data removed]",
      "text/plain": [
       "<Figure size 432x288 with 1 Axes>"
      ]
     },
     "metadata": {},
     "output_type": "display_data"
    }
   ],
   "source": [
    "tmp_df = train_set[0]\n",
    "tmp_df = tmp_df.transpose(1,2,0) # dimension 변경 : width / heights / channel\n",
    "print(tmp_df.shape)\n",
    "\n",
    "plt.imshow(tmp_df)\n",
    "print(classes[train_lbs[0]])"
   ]
  },
  {
   "cell_type": "code",
   "execution_count": 24,
   "metadata": {},
   "outputs": [
    {
     "data": {
      "text/plain": [
       "255"
      ]
     },
     "execution_count": 24,
     "metadata": {},
     "output_type": "execute_result"
    }
   ],
   "source": [
    "np.max(train_set)"
   ]
  },
  {
   "cell_type": "code",
   "execution_count": 25,
   "metadata": {},
   "outputs": [
    {
     "name": "stdout",
     "output_type": "stream",
     "text": [
      "255\n",
      "0\n",
      "0.4733630004850874\n",
      "0.25156892506322026\n",
      "9.83429634023499e-15\n",
      "1.0000000000000042\n",
      "0.0128073056421839\n",
      "0.9986109795368511\n"
     ]
    }
   ],
   "source": [
    "# data normalization\n",
    "print(np.max(train_set))\n",
    "print(np.min(train_set))\n",
    "\n",
    "mean_v = np.mean(train_set/255)\n",
    "print(mean_v)\n",
    "std_v = np.std(train_set/255)\n",
    "print(std_v)\n",
    "\n",
    "# train_set의 mean / std 값으로 data normalization\n",
    "train_set = (train_set/255 -mean_v)/std_v\n",
    "test_set = (test_set/255 -mean_v)/std_v\n",
    "\n",
    "print(np.mean(train_set))\n",
    "print(np.std(train_set))\n",
    "print(np.mean(test_set))\n",
    "print(np.std(test_set))"
   ]
  },
  {
   "cell_type": "code",
   "execution_count": 26,
   "metadata": {},
   "outputs": [
    {
     "name": "stderr",
     "output_type": "stream",
     "text": [
      "Clipping input data to the valid range for imshow with RGB data ([0..1] for floats or [0..255] for integers).\n"
     ]
    },
    {
     "name": "stdout",
     "output_type": "stream",
     "text": [
      "(32, 32, 3)\n",
      "frog\n"
     ]
    },
    {
     "data": {
      "image/png": "[encoded data removed]",
      "text/plain": [
       "<Figure size 432x288 with 1 Axes>"
      ]
     },
     "metadata": {},
     "output_type": "display_data"
    }
   ],
   "source": [
    "tmp_df = train_set[0]\n",
    "tmp_df = tmp_df.transpose(1,2,0) # dimension 변경 : width / heights / channel\n",
    "print(tmp_df.shape)\n",
    "\n",
    "plt.imshow(tmp_df)\n",
    "print(classes[train_lbs[0]])"
   ]
  },
  {
   "cell_type": "code",
   "execution_count": null,
   "metadata": {},
   "outputs": [],
   "source": []
  },
  {
   "cell_type": "code",
   "execution_count": 30,
   "metadata": {},
   "outputs": [],
   "source": [
    "# data loader\n",
    "\n",
    "train = data_utils.TensorDataset(torch.tensor(train_set, dtype = torch.float), torch.tensor(train_lbs, dtype = torch.long))\n",
    "train_loader = data_utils.DataLoader(train, batch_size = 10, shuffle=False, num_workers=2)\n",
    "\n",
    "test = data_utils.TensorDataset(torch.tensor(test_set, dtype = torch.float), torch.tensor(test_lbs, dtype = torch.long))\n",
    "test_loader = data_utils.DataLoader(test, batch_size = 10, shuffle=False, num_workers=2)"
   ]
  },
  {
   "cell_type": "code",
   "execution_count": 56,
   "metadata": {},
   "outputs": [
    {
     "name": "stderr",
     "output_type": "stream",
     "text": [
      "Clipping input data to the valid range for imshow with RGB data ([0..1] for floats or [0..255] for integers).\n",
      "Clipping input data to the valid range for imshow with RGB data ([0..1] for floats or [0..255] for integers).\n"
     ]
    },
    {
     "name": "stdout",
     "output_type": "stream",
     "text": [
      "10\n"
     ]
    },
    {
     "data": {
      "text/plain": [
       "<matplotlib.image.AxesImage at 0x7f57d9b1c0f0>"
      ]
     },
     "execution_count": 56,
     "metadata": {},
     "output_type": "execute_result"
    },
    {
     "data": {
      "image/png": "[encoded data removed]",
      "text/plain": [
       "<Figure size 432x288 with 1 Axes>"
      ]
     },
     "metadata": {},
     "output_type": "display_data"
    }
   ],
   "source": [
    "img, lb = iter(train_loader).next()\n",
    "print(len(img))\n",
    "plt.imshow(img[0].numpy().transpose(1,2,0))\n",
    "plt.imshow(torchvision.utils.make_grid(img).numpy().transpose(1,2,0))"
   ]
  },
  {
   "cell_type": "code",
   "execution_count": null,
   "metadata": {},
   "outputs": [],
   "source": []
  },
  {
   "cell_type": "markdown",
   "metadata": {},
   "source": [
    "---\n",
    "### building network\n",
    "---"
   ]
  },
  {
   "cell_type": "code",
   "execution_count": 58,
   "metadata": {},
   "outputs": [],
   "source": [
    "import torch.nn as nn\n",
    "import torch.nn.functional as F"
   ]
  },
  {
   "cell_type": "code",
   "execution_count": 95,
   "metadata": {},
   "outputs": [],
   "source": [
    "# line number -> L button\n",
    "class Net(nn.Module):\n",
    "    def __init__(self):\n",
    "        super(Net, self).__init__()\n",
    "        \n",
    "        self.conv1 = nn.Conv2d(3, 6, 5) # input : 3x32x32 -> output : 6x28x28\n",
    "        self.pool = nn.MaxPool2d(2) # input : 6x28x28 -> output : 6x14x14\n",
    "        self.conv2 = nn.Conv2d(6, 16, 5) # input : 6x14x14 -> output : 16x10x10\n",
    "        \n",
    "        self.fc1 = nn.Linear(16*5*5, 120) # conv2 이후 pool(2,2)를 거치기에 16*5*5\n",
    "        self.fc2 = nn.Linear(120,84)\n",
    "        self.fc3 = nn.Linear(84,10)\n",
    "        \n",
    "    def forward(self, x):\n",
    "        x = self.pool(F.relu(self.conv1(x)))\n",
    "        x = self.pool(F.relu(self.conv2(x)))\n",
    "        \n",
    "        x = x.view(-1, 16*5*5)\n",
    "        x = F.relu(self.fc1(x))\n",
    "        x = F.relu(self.fc2(x))\n",
    "        x = self.fc3(x)\n",
    "        \n",
    "        return x"
   ]
  },
  {
   "cell_type": "code",
   "execution_count": 96,
   "metadata": {},
   "outputs": [
    {
     "data": {
      "text/plain": [
       "device(type='cuda', index=0)"
      ]
     },
     "execution_count": 96,
     "metadata": {},
     "output_type": "execute_result"
    }
   ],
   "source": [
    "device = torch.device('cuda:0' if torch.cuda.is_available() else 'cpu')\n",
    "device"
   ]
  },
  {
   "cell_type": "code",
   "execution_count": 97,
   "metadata": {},
   "outputs": [
    {
     "name": "stdout",
     "output_type": "stream",
     "text": [
      "Net(\n",
      "  (conv1): Conv2d(3, 6, kernel_size=(5, 5), stride=(1, 1))\n",
      "  (pool): MaxPool2d(kernel_size=2, stride=2, padding=0, dilation=1, ceil_mode=False)\n",
      "  (conv2): Conv2d(6, 16, kernel_size=(5, 5), stride=(1, 1))\n",
      "  (fc1): Linear(in_features=400, out_features=120, bias=True)\n",
      "  (fc2): Linear(in_features=120, out_features=84, bias=True)\n",
      "  (fc3): Linear(in_features=84, out_features=10, bias=True)\n",
      ")\n"
     ]
    }
   ],
   "source": [
    "import torch.optim as optim\n",
    "\n",
    "net_gpu = Net()\n",
    "net_gpu.to(device) # all params. for network is on gpu device\n",
    "print(net_gpu)\n",
    "\n",
    "criterion = nn.CrossEntropyLoss()\n",
    "opt = optim.SGD(net_gpu.parameters(), lr = 0.005)"
   ]
  },
  {
   "cell_type": "code",
   "execution_count": 98,
   "metadata": {},
   "outputs": [
    {
     "name": "stdout",
     "output_type": "stream",
     "text": [
      "tensor([[ 0.0508, -0.0846,  0.1287,  0.0386, -0.0744, -0.0408,  0.0658, -0.0687,\n",
      "         -0.0209, -0.0521]], device='cuda:0', grad_fn=<ThAddmmBackward>) (tensor([0.1287], device='cuda:0', grad_fn=<MaxBackward0>), tensor([2], device='cuda:0'))\n",
      "6\n"
     ]
    }
   ],
   "source": [
    "img, lb = iter(train_loader).next()\n",
    "t = net_gpu(img[0,:].view(1,3,32,32).to(device))\n",
    "print(t, torch.max(t, 1))\n",
    "print(lb[0].item())"
   ]
  },
  {
   "cell_type": "code",
   "execution_count": 100,
   "metadata": {},
   "outputs": [
    {
     "name": "stdout",
     "output_type": "stream",
     "text": [
      "[1, 2000] loss : 2.233\n",
      "[1, 4000] loss : 1.933\n",
      "[2, 2000] loss : 1.633\n",
      "[2, 4000] loss : 1.523\n",
      "[3, 2000] loss : 1.423\n",
      "[3, 4000] loss : 1.367\n",
      "[4, 2000] loss : 1.304\n",
      "[4, 4000] loss : 1.268\n",
      "[5, 2000] loss : 1.221\n",
      "[5, 4000] loss : 1.193\n",
      "elapsed time is 66.90s\n"
     ]
    }
   ],
   "source": [
    "t = time.time()\n",
    "\n",
    "for epoch in range(5):\n",
    "    \n",
    "    running_loss = 0.0\n",
    "    for i, data in enumerate(train_loader):\n",
    "        inputs, labels = data[0].to(device), data[1].to(device)\n",
    "        \n",
    "        \n",
    "        # zero grad\n",
    "        opt.zero_grad()\n",
    "        \n",
    "        # forward + backward\n",
    "        outs = net_gpu(inputs)\n",
    "        loss = criterion(outs, labels)\n",
    "        \n",
    "        running_loss += loss\n",
    "        \n",
    "        loss.backward()\n",
    "        opt.step()\n",
    "        \n",
    "        if i % 2000 == 1999:\n",
    "            print('[%d, %d] loss : %.3f' % (epoch + 1, i + 1, running_loss/2000))\n",
    "            running_loss = 0.0\n",
    "            \n",
    "elapsed = time.time() - t\n",
    "print('elapsed time is {:.2f}s'.format(elapsed))"
   ]
  },
  {
   "cell_type": "code",
   "execution_count": 108,
   "metadata": {},
   "outputs": [
    {
     "name": "stdout",
     "output_type": "stream",
     "text": [
      "Accuracy of plane : 59 %\n",
      "Accuracy of car : 85 %\n",
      "Accuracy of bird : 34 %\n",
      "Accuracy of cat : 36 %\n",
      "Accuracy of deer : 59 %\n",
      "Accuracy of dog : 37 %\n",
      "Accuracy of frog : 59 %\n",
      "Accuracy of horse : 70 %\n",
      "Accuracy of ship : 62 %\n",
      "Accuracy of truck : 58 %\n"
     ]
    }
   ],
   "source": [
    "class_correct = [0. for i in range(10)]\n",
    "class_total = [0. for i in range(10)]\n",
    "\n",
    "with torch.no_grad():\n",
    "    for data in test_loader:\n",
    "        imgs, lbls = data[0].to(device), data[1]\n",
    "        outs = net_gpu(imgs)\n",
    "        _, preds = torch.max(outs, 1)\n",
    "        lbls = lbls.long()\n",
    "        c = (preds.to('cpu') == lbls).squeeze() # squeeze -> return to tensor\n",
    "        \n",
    "        # batch size\n",
    "        for i in range(4):\n",
    "            lb = lbls[i]\n",
    "            class_correct[lb] += c[i].to('cpu').numpy()\n",
    "            class_total[lb] += 1\n",
    "            \n",
    "for i in range(10):\n",
    "    print(\"Accuracy of %3s : %2d %%\" % (classes[i], 100*class_correct[i]/class_total[i]))"
   ]
  },
  {
   "cell_type": "code",
   "execution_count": 111,
   "metadata": {},
   "outputs": [
    {
     "name": "stdout",
     "output_type": "stream",
     "text": [
      "torch.Size([6, 3, 5, 5])\n"
     ]
    },
    {
     "data": {
      "text/plain": [
       "tensor([[[[ 0.4238,  0.4093,  0.3349,  0.2107,  0.1147],\n",
       "          [ 0.4824,  0.4097,  0.3710,  0.3048,  0.2073],\n",
       "          [ 0.4804,  0.4177,  0.3751,  0.3524,  0.2424],\n",
       "          [ 0.5116,  0.4254,  0.3877,  0.3256,  0.2297],\n",
       "          [ 0.4673,  0.4333,  0.3933,  0.3343,  0.2649]],\n",
       "\n",
       "         [[ 0.4943,  0.4706,  0.3980,  0.2815,  0.1721],\n",
       "          [ 0.5601,  0.4869,  0.4373,  0.3703,  0.2801],\n",
       "          [ 0.5723,  0.5099,  0.4624,  0.4261,  0.3235],\n",
       "          [ 0.5625,  0.4970,  0.4698,  0.4112,  0.3220],\n",
       "          [ 0.5078,  0.4785,  0.4444,  0.3916,  0.3388]],\n",
       "\n",
       "         [[ 0.5205,  0.4896,  0.4462,  0.3851,  0.3048],\n",
       "          [ 0.5533,  0.5038,  0.4602,  0.4134,  0.3672],\n",
       "          [ 0.5661,  0.5122,  0.4777,  0.4305,  0.3750],\n",
       "          [ 0.5160,  0.4737,  0.4608,  0.4128,  0.3774],\n",
       "          [ 0.4740,  0.4440,  0.4281,  0.3995,  0.3821]]],\n",
       "\n",
       "\n",
       "        [[[ 0.1735,  0.1630,  0.1655,  0.1693,  0.1704],\n",
       "          [ 0.1696,  0.1634,  0.1767,  0.2072,  0.2156],\n",
       "          [ 0.2178,  0.2251,  0.2265,  0.2529,  0.2689],\n",
       "          [ 0.2636,  0.2762,  0.2715,  0.2933,  0.3111],\n",
       "          [ 0.2755,  0.2929,  0.3008,  0.3184,  0.3417]],\n",
       "\n",
       "         [[ 0.2074,  0.1931,  0.1941,  0.1951,  0.1910],\n",
       "          [ 0.2031,  0.1941,  0.2055,  0.2325,  0.2360],\n",
       "          [ 0.2535,  0.2589,  0.2599,  0.2836,  0.2949],\n",
       "          [ 0.2993,  0.3105,  0.3067,  0.3276,  0.3417],\n",
       "          [ 0.3042,  0.3218,  0.3307,  0.3495,  0.3676]],\n",
       "\n",
       "         [[ 0.2389,  0.2241,  0.2239,  0.2218,  0.2134],\n",
       "          [ 0.2320,  0.2223,  0.2309,  0.2574,  0.2579],\n",
       "          [ 0.2806,  0.2867,  0.2860,  0.3103,  0.3205],\n",
       "          [ 0.3301,  0.3400,  0.3349,  0.3590,  0.3708],\n",
       "          [ 0.3386,  0.3559,  0.3651,  0.3867,  0.4032]]],\n",
       "\n",
       "\n",
       "        [[[-0.1900, -0.1917, -0.2113, -0.2160, -0.1945],\n",
       "          [-0.1585, -0.1572, -0.1545, -0.1590, -0.1471],\n",
       "          [-0.1371, -0.1074, -0.0808, -0.1025, -0.1037],\n",
       "          [-0.1819, -0.1321, -0.1035, -0.1206, -0.1187],\n",
       "          [-0.2370, -0.1932, -0.1800, -0.1877, -0.1736]],\n",
       "\n",
       "         [[-0.1157, -0.1139, -0.1346, -0.1408, -0.1176],\n",
       "          [-0.0737, -0.0754, -0.0766, -0.0817, -0.0689],\n",
       "          [-0.0469, -0.0294, -0.0125, -0.0339, -0.0285],\n",
       "          [-0.0910, -0.0552, -0.0299, -0.0509, -0.0493],\n",
       "          [-0.1551, -0.1173, -0.1072, -0.1138, -0.0980]],\n",
       "\n",
       "         [[ 0.0973,  0.0964,  0.0832,  0.0857,  0.1033],\n",
       "          [ 0.1484,  0.1456,  0.1428,  0.1413,  0.1534],\n",
       "          [ 0.1878,  0.1914,  0.2040,  0.1799,  0.1808],\n",
       "          [ 0.1220,  0.1447,  0.1579,  0.1383,  0.1464],\n",
       "          [ 0.0220,  0.0381,  0.0478,  0.0494,  0.0757]]],\n",
       "\n",
       "\n",
       "        [[[-0.3305, -0.3343, -0.3182, -0.3015, -0.2713],\n",
       "          [-0.2811, -0.2874, -0.2908, -0.2839, -0.2429],\n",
       "          [-0.2664, -0.2719, -0.2728, -0.2709, -0.2411],\n",
       "          [-0.2737, -0.2778, -0.2710, -0.2601, -0.2388],\n",
       "          [-0.2771, -0.2810, -0.2783, -0.2749, -0.2476]],\n",
       "\n",
       "         [[-0.3459, -0.3490, -0.3335, -0.3138, -0.2770],\n",
       "          [-0.2985, -0.3040, -0.3052, -0.2945, -0.2477],\n",
       "          [-0.2851, -0.2880, -0.2867, -0.2822, -0.2481],\n",
       "          [-0.2932, -0.2968, -0.2891, -0.2765, -0.2534],\n",
       "          [-0.3094, -0.3094, -0.3048, -0.3000, -0.2700]],\n",
       "\n",
       "         [[-0.3533, -0.3565, -0.3382, -0.3126, -0.2727],\n",
       "          [-0.3041, -0.3065, -0.3046, -0.2908, -0.2432],\n",
       "          [-0.2885, -0.2871, -0.2798, -0.2739, -0.2392],\n",
       "          [-0.2950, -0.2935, -0.2805, -0.2665, -0.2431],\n",
       "          [-0.3124, -0.3069, -0.2991, -0.2905, -0.2612]]],\n",
       "\n",
       "\n",
       "        [[[ 0.1222,  0.1034,  0.1179,  0.1422,  0.1931],\n",
       "          [ 0.2224,  0.1990,  0.1864,  0.2184,  0.2797],\n",
       "          [ 0.3338,  0.3266,  0.2597,  0.2611,  0.3103],\n",
       "          [ 0.3855,  0.3995,  0.3389,  0.3204,  0.3681],\n",
       "          [ 0.3745,  0.4080,  0.3910,  0.4126,  0.4516]],\n",
       "\n",
       "         [[ 0.0145,  0.0073,  0.0154,  0.0339,  0.0919],\n",
       "          [ 0.1275,  0.1107,  0.0906,  0.1135,  0.1898],\n",
       "          [ 0.2415,  0.2359,  0.1725,  0.1694,  0.2374],\n",
       "          [ 0.2933,  0.3008,  0.2468,  0.2328,  0.2995],\n",
       "          [ 0.2813,  0.3102,  0.2950,  0.3226,  0.3732]],\n",
       "\n",
       "         [[-0.1468, -0.1426, -0.1701, -0.1635, -0.1044],\n",
       "          [-0.0212, -0.0425, -0.0924, -0.0875,  0.0034],\n",
       "          [ 0.1121,  0.0911,  0.0100, -0.0104,  0.0828],\n",
       "          [ 0.1805,  0.1715,  0.1006,  0.0745,  0.1491],\n",
       "          [ 0.1713,  0.1845,  0.1556,  0.1680,  0.2258]]],\n",
       "\n",
       "\n",
       "        [[[ 0.0368,  0.0285,  0.0414,  0.0340,  0.0281],\n",
       "          [ 0.0794,  0.0654,  0.0821,  0.0455,  0.0163],\n",
       "          [ 0.0395,  0.0473,  0.0548,  0.0299,  0.0000],\n",
       "          [ 0.0296,  0.0183,  0.0253,  0.0170,  0.0025],\n",
       "          [ 0.0675,  0.0760,  0.0691,  0.0561,  0.0441]],\n",
       "\n",
       "         [[ 0.0648,  0.0538,  0.0526,  0.0412,  0.0244],\n",
       "          [ 0.0919,  0.0785,  0.0851,  0.0452,  0.0143],\n",
       "          [ 0.0514,  0.0569,  0.0608,  0.0316, -0.0020],\n",
       "          [ 0.0312,  0.0139,  0.0296,  0.0234,  0.0010],\n",
       "          [ 0.0760,  0.0716,  0.0633,  0.0549,  0.0382]],\n",
       "\n",
       "         [[ 0.1357,  0.1321,  0.1256,  0.1262,  0.1081],\n",
       "          [ 0.1434,  0.1436,  0.1474,  0.1138,  0.0829],\n",
       "          [ 0.0920,  0.0939,  0.1044,  0.0729,  0.0503],\n",
       "          [ 0.0391,  0.0316,  0.0627,  0.0634,  0.0468],\n",
       "          [ 0.0834,  0.0811,  0.0935,  0.0946,  0.0795]]]], device='cuda:0')"
      ]
     },
     "execution_count": 111,
     "metadata": {},
     "output_type": "execute_result"
    }
   ],
   "source": [
    "print(net_gpu.conv1.weight.grad.size())\n",
    "net_gpu.conv1.weight.grad"
   ]
  },
  {
   "cell_type": "code",
   "execution_count": 113,
   "metadata": {},
   "outputs": [
    {
     "data": {
      "text/plain": [
       "torch.int64"
      ]
     },
     "execution_count": 113,
     "metadata": {},
     "output_type": "execute_result"
    }
   ],
   "source": [
    "lbls[0].dtype"
   ]
  },
  {
   "cell_type": "code",
   "execution_count": 114,
   "metadata": {},
   "outputs": [],
   "source": [
    "# model debugging : weight / grad 까보기 or 작은 데이터셋으로 하기 -> 작은 데이터셋으로 할 경우 정확도가 1이됨"
   ]
  },
  {
   "cell_type": "code",
   "execution_count": 122,
   "metadata": {},
   "outputs": [
    {
     "data": {
      "text/plain": [
       "(5, 4)"
      ]
     },
     "execution_count": 122,
     "metadata": {},
     "output_type": "execute_result"
    }
   ],
   "source": [
    "np_test = np.array(range(100))\n",
    "np_test = np_test.reshape(5,5,4)\n",
    "\n",
    "np_test[0].shape"
   ]
  },
  {
   "cell_type": "code",
   "execution_count": 125,
   "metadata": {},
   "outputs": [
    {
     "name": "stdout",
     "output_type": "stream",
     "text": [
      "[[ 0  1  2  3]\n",
      " [ 4  5  6  7]\n",
      " [ 8  9 10 11]\n",
      " [12 13 14 15]\n",
      " [16 17 18 19]]\n",
      "[0 1 2 3]\n"
     ]
    }
   ],
   "source": [
    "print(np_test[0])\n",
    "print(np_test[0, 0])"
   ]
  },
  {
   "cell_type": "code",
   "execution_count": 119,
   "metadata": {},
   "outputs": [
    {
     "data": {
      "text/plain": [
       "array([[10],\n",
       "       [11],\n",
       "       [12],\n",
       "       [13],\n",
       "       [14],\n",
       "       [15],\n",
       "       [16],\n",
       "       [17],\n",
       "       [18],\n",
       "       [19]])"
      ]
     },
     "execution_count": 119,
     "metadata": {},
     "output_type": "execute_result"
    }
   ],
   "source": [
    "np_test[1]"
   ]
  }
 ],
 "metadata": {
  "kernelspec": {
   "display_name": "Python [conda env:pytorch_p36]",
   "language": "python",
   "name": "conda-env-pytorch_p36-py"
  },
  "language_info": {
   "codemirror_mode": {
    "name": "ipython",
    "version": 3
   },
   "file_extension": ".py",
   "mimetype": "text/x-python",
   "name": "python",
   "nbconvert_exporter": "python",
   "pygments_lexer": "ipython3",
   "version": "3.6.6"
  }
 },
 "nbformat": 4,
 "nbformat_minor": 2
}
