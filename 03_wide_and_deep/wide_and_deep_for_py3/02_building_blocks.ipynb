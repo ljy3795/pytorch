{
 "cells": [
  {
   "cell_type": "markdown",
   "metadata": {},
   "source": [
    "---\n",
    "### Building Blocks\n",
    "(Ref. : https://github.com/jrzaurin/Wide-and-Deep-PyTorch)\n",
    "- These are the steps for building tensorflow's wide and deep learning model using PyTorch.\n",
    "- Steps:\n",
    "  - 1) Prepare data set\n",
    "  - 2-1) Build PyTorch model for **the Wide part**\n",
    "  - 2-2) Build PyTorch model for **the Deep part**\n",
    "  - 3) Combine **the Wide and the Deep part model** to make final wide and deep learning model \n",
    "---"
   ]
  },
  {
   "cell_type": "code",
   "execution_count": 1,
   "metadata": {
    "ExecuteTime": {
     "end_time": "2018-09-10T09:18:06.462237Z",
     "start_time": "2018-09-10T09:18:05.989839Z"
    }
   },
   "outputs": [],
   "source": [
    "import numpy as np\n",
    "import pandas as pd\n",
    "\n",
    "import os, copy\n",
    "\n",
    "from wide_and_deep.utils import prepare_dataset"
   ]
  },
  {
   "cell_type": "markdown",
   "metadata": {},
   "source": [
    "---\n",
    "#### 1) Prepare data set\n",
    "---"
   ]
  },
  {
   "cell_type": "code",
   "execution_count": 2,
   "metadata": {
    "ExecuteTime": {
     "end_time": "2018-09-10T09:18:06.583764Z",
     "start_time": "2018-09-10T09:18:06.464080Z"
    }
   },
   "outputs": [
    {
     "name": "stdout",
     "output_type": "stream",
     "text": [
      "Target : 11687 / Non-Target : 37155\n"
     ]
    }
   ],
   "source": [
    "### Load the data set from '.data/audult_data.csv'\n",
    "raw_df = pd.read_csv(os.path.join(str(os.getcwd()), 'data/adult_data.csv'))\n",
    "\n",
    "raw_df['income_label'] = raw_df['income_bracket'].apply(lambda x: 1 if '>50K' in x or '>50K.' in x else 0)\n",
    "print('Target : {} / Non-Target : {}'.format(len(raw_df[raw_df.income_label == 1]), len(raw_df[raw_df.income_label != 1])))\n",
    "\n",
    "# For Wide and Crossed network (for memorization)\n",
    "wide_cols = ['age','hours_per_week','education', 'relationship','workclass',\n",
    "             'occupation','native_country','gender']\n",
    "crossed_cols = (['education', 'occupation'], ['native_country', 'occupation']) # pair-combination \n",
    "\n",
    "# For Deep network (embedding + continuous) (for generalization)\n",
    "continuous_cols = [\"age\",\"hours_per_week\"]\n",
    "\n",
    "embeddings_cols = [('education',10), ('relationship',8), ('workclass',10),\n",
    "                    ('occupation',10),('native_country',12)] # column name / embedding dim."
   ]
  },
  {
   "cell_type": "code",
   "execution_count": 3,
   "metadata": {
    "ExecuteTime": {
     "end_time": "2018-09-10T09:18:09.293889Z",
     "start_time": "2018-09-10T09:18:06.585679Z"
    }
   },
   "outputs": [
    {
     "name": "stderr",
     "output_type": "stream",
     "text": [
      "/home/ubuntu/anaconda3/envs/pytorch_p36/lib/python3.6/site-packages/sklearn/utils/validation.py:475: DataConversionWarning: Data with input dtype int64 was converted to float64 by StandardScaler.\n",
      "  warnings.warn(msg, DataConversionWarning)\n"
     ]
    },
    {
     "name": "stdout",
     "output_type": "stream",
     "text": [
      "return key values dict_keys(['train_set', 'test_set', 'embeddings_input', 'deep_column_idx', 'encoding_dict'])\n"
     ]
    }
   ],
   "source": [
    "out_dataset = prepare_dataset(raw_df, wide_cols, crossed_cols, embeddings_cols, \n",
    "                              continuous_cols, target = 'income_label', scale = True, seed = 1)"
   ]
  },
  {
   "cell_type": "markdown",
   "metadata": {},
   "source": [
    "---\n",
    "### 2-1) Wide part\n",
    "---"
   ]
  },
  {
   "cell_type": "code",
   "execution_count": 4,
   "metadata": {
    "ExecuteTime": {
     "end_time": "2018-09-10T09:18:09.463175Z",
     "start_time": "2018-09-10T09:18:09.296046Z"
    }
   },
   "outputs": [],
   "source": [
    "import torch\n",
    "import torch.nn as nn\n",
    "import torch.nn.functional as F\n",
    "import torch.optim as optim\n",
    "from torch.utils.data import *"
   ]
  },
  {
   "cell_type": "markdown",
   "metadata": {},
   "source": [
    "#### the Wide part : \n",
    " - build the Wide part for memorization\n",
    " - this part would be simple regresssion model with one Linear layer\n",
    "   - Input dimension : the number of features in wide part\n",
    "   - Output dimension : one for regression output (activated with sigmoid function)"
   ]
  },
  {
   "cell_type": "code",
   "execution_count": 5,
   "metadata": {
    "ExecuteTime": {
     "end_time": "2018-09-10T09:18:09.469099Z",
     "start_time": "2018-09-10T09:18:09.465229Z"
    }
   },
   "outputs": [
    {
     "name": "stdout",
     "output_type": "stream",
     "text": [
      "Linear(in_features=798, out_features=1, bias=True)\n"
     ]
    }
   ],
   "source": [
    "wide_dim = out_dataset['train_set'].wide.shape[1]\n",
    "n_class  = 1\n",
    "wide_part = nn.Linear(wide_dim, n_class)\n",
    "\n",
    "print(wide_part)"
   ]
  },
  {
   "cell_type": "code",
   "execution_count": 6,
   "metadata": {
    "ExecuteTime": {
     "end_time": "2018-09-10T09:18:09.478619Z",
     "start_time": "2018-09-10T09:18:09.475141Z"
    }
   },
   "outputs": [],
   "source": [
    "### define the class for wide network\n",
    "class wideNet(nn.Module):\n",
    "    \n",
    "    def __init__(self, wide_dim, n_class):\n",
    "        super(wideNet, self).__init__()\n",
    "        self.wide_dim = wide_dim\n",
    "        self.n_class = n_class\n",
    "        \n",
    "        self.ly1 = nn.Linear(self.wide_dim, self.n_class)\n",
    "#         self.ly1 = nn.Linear(self.wide_dim, 10)\n",
    "#         self.ly2 = nn.Linear(10, self.n_class)\n",
    "        \n",
    "    def forward(self, x):\n",
    "        out = F.sigmoid(self.ly1(x))\n",
    "#         x = F.sigmoid(self.ly1(x))\n",
    "#         out = F.sigmoid(self.ly2(x))\n",
    "        \n",
    "        return out"
   ]
  },
  {
   "cell_type": "code",
   "execution_count": 7,
   "metadata": {
    "ExecuteTime": {
     "end_time": "2018-09-10T09:18:09.485166Z",
     "start_time": "2018-09-10T09:18:09.480648Z"
    }
   },
   "outputs": [
    {
     "name": "stdout",
     "output_type": "stream",
     "text": [
      "wideNet(\n",
      "  (ly1): Linear(in_features=798, out_features=1, bias=True)\n",
      ")\n"
     ]
    }
   ],
   "source": [
    "net = wideNet(wide_dim, n_class)\n",
    "print(net)"
   ]
  },
  {
   "cell_type": "code",
   "execution_count": 8,
   "metadata": {
    "ExecuteTime": {
     "end_time": "2018-09-10T09:18:09.580666Z",
     "start_time": "2018-09-10T09:18:09.487183Z"
    }
   },
   "outputs": [
    {
     "name": "stdout",
     "output_type": "stream",
     "text": [
      "torch.Size([34189, 798]) torch.Size([34189, 1])\n",
      "torch.Size([14653, 798]) torch.Size([14653, 1])\n"
     ]
    }
   ],
   "source": [
    "# make dataloader for train/test set of the Wide part\n",
    "w_train_x = torch.tensor(out_dataset['train_set'].wide, dtype=torch.float)\n",
    "w_train_y = torch.tensor(out_dataset['train_set'].labels.reshape(-1,1), dtype=torch.float)\n",
    "print(w_train_x.size(), w_train_y.size())\n",
    "\n",
    "w_test_x = torch.tensor(out_dataset['test_set'].wide, dtype=torch.float)\n",
    "w_test_y = torch.tensor(out_dataset['test_set'].labels.reshape(-1,1), dtype=torch.float)\n",
    "print(w_test_x.size(), w_test_y.size())\n",
    "\n",
    "batch_size = 64\n",
    "\n",
    "# convert Torch tensors to TensorDataset with batch size\n",
    "w_train_set = TensorDataset(w_train_x, w_train_y)\n",
    "w_train_loader = DataLoader(w_train_set, batch_size, shuffle = True, num_workers=1)\n",
    "\n",
    "w_test_set = TensorDataset(w_test_x, w_test_y)\n",
    "w_test_loader = DataLoader(w_test_set, batch_size, shuffle = True, num_workers=1)"
   ]
  },
  {
   "cell_type": "code",
   "execution_count": 9,
   "metadata": {
    "ExecuteTime": {
     "end_time": "2018-09-10T09:18:09.595591Z",
     "start_time": "2018-09-10T09:18:09.583359Z"
    },
    "scrolled": true
   },
   "outputs": [],
   "source": [
    "## we defiend train function\n",
    "\n",
    "def train_model(net, device, train_loader, test_loader, opt_fn, loss_fn, n_epochs, log_num = 1):\n",
    "    # best model's weigths\n",
    "    best_model_wts = copy.deepcopy(net.state_dict())\n",
    "    best_val_acc = 0.0\n",
    "\n",
    "    train_loss = []\n",
    "    test_loss = []\n",
    "\n",
    "    for epoch in range(n_epochs):\n",
    "        #################################################\n",
    "        ## Training Part\n",
    "        #################################################\n",
    "        running_total =0.0\n",
    "        running_correct =0.0\n",
    "        running_loss = 0.0\n",
    "\n",
    "        for i, data in enumerate(train_loader):\n",
    "            inputs, labels = data[0].to(device), data[1].to(device)\n",
    "\n",
    "            # zerograd\n",
    "            opt_fn.zero_grad()\n",
    "\n",
    "            # forward\n",
    "            y_pred = net(inputs)\n",
    "            loss = loss_fn(y_pred, labels)\n",
    "\n",
    "            # backward\n",
    "            loss.backward()\n",
    "            opt_fn.step()\n",
    "        \n",
    "        \n",
    "            ############\n",
    "            # 1) loss\n",
    "            running_loss += loss.item()*inputs.size(0)\n",
    "\n",
    "            ############\n",
    "            # 2) metric\n",
    "            y_pred_cnvt = (y_pred > 0.5).squeeze(1).float() # (= (y_pred > 0.5).view(-1))\n",
    "            running_correct+= float((y_pred_cnvt == labels.squeeze(1)).sum().item())\n",
    "\n",
    "            running_total += y_pred.size(0) # total number of samples (accumulated)\n",
    "\n",
    "        #################################################\n",
    "        ## train epoch loss\n",
    "        epoch_loss = running_loss / int(running_total)\n",
    "        epoch_acc = running_correct / int(running_total)\n",
    "\n",
    "        train_loss.append((epoch, epoch_loss, 'loss'))\n",
    "        train_loss.append((epoch, epoch_acc, 'acc'))\n",
    "\n",
    "        if (epoch+1)%log_num == 1:\n",
    "            print ('[Train] Epoch {} / {}, Loss: {}, accuracy: {}'.format(epoch+1,\n",
    "                n_epochs, round(epoch_loss,3), round(epoch_acc,4)))\n",
    "\n",
    "        #################################################\n",
    "        ## Test Part\n",
    "        #################################################\n",
    "        running_total = 0.0\n",
    "        running_correct = 0.0\n",
    "        running_loss = 0.0\n",
    "\n",
    "        for i, data in enumerate(test_loader):\n",
    "            inputs, labels = data[0].to(device), data[1].to(device)\n",
    "\n",
    "            # forward\n",
    "            y_pred = net(inputs)\n",
    "            loss = loss_fn(y_pred, labels)\n",
    "\n",
    "            ############\n",
    "            # 1) loss\n",
    "            running_loss += loss.item()*inputs.size(0)\n",
    "\n",
    "            ############\n",
    "            # 2) metric\n",
    "            y_pred_cnvt = (y_pred > 0.5).squeeze(1).float() # (= (y_pred > 0.5).view(-1))\n",
    "            running_correct += float((y_pred_cnvt == labels.squeeze(1)).sum().item())\n",
    "\n",
    "            running_total += y_pred.size(0) # total number of samples (accumulated)\n",
    "\n",
    "        #################################################\n",
    "        ## test epoch loss\n",
    "        epoch_loss = running_loss / int(running_total)\n",
    "        epoch_acc = running_correct / int(running_total)\n",
    "\n",
    "        test_loss.append((epoch, epoch_loss, 'loss'))\n",
    "        test_loss.append((epoch, epoch_acc, 'acc'))\n",
    "\n",
    "        if (epoch+1)%log_num == 1:\n",
    "            print ('[Test] Epoch {} / {}, Loss: {}, accuracy: {}'.format(epoch+1,\n",
    "                n_epochs, round(epoch_loss,3), round(epoch_acc,4)))\n",
    "            print()\n",
    "\n",
    "        if best_val_acc < epoch_acc:\n",
    "            best_val_acc = epoch_acc\n",
    "            best_model_wts = copy.deepcopy(net.state_dict()) # 여러 epoch 중 가장 결과가 좋았던 epoch 찾기\n",
    "            best_epoch_num = epoch + 1\n",
    "        \n",
    "    # load best model weights\n",
    "    net.load_state_dict(best_model_wts)\n",
    "    \n",
    "    return net, train_loss, test_loss, best_val_acc, best_epoch_num"
   ]
  },
  {
   "cell_type": "code",
   "execution_count": 10,
   "metadata": {
    "ExecuteTime": {
     "end_time": "2018-09-10T09:18:09.813579Z",
     "start_time": "2018-09-10T09:18:09.807366Z"
    }
   },
   "outputs": [],
   "source": [
    "# we define visualization function of running results\n",
    "def print_run(train_loss, test_loss):\n",
    "    # visualzing for epoch running\n",
    "    from matplotlib import pyplot as plt\n",
    "    import seaborn as sns\n",
    "    sns.set_style('darkgrid')\n",
    "    %matplotlib inline\n",
    "\n",
    "    # loss 관련 data\n",
    "    df_1 = pd.DataFrame(train_loss, columns = ['index','value', 'type']).reset_index()\n",
    "    df_2 = pd.DataFrame(test_loss, columns = ['index','value', 'type']).reset_index()\n",
    "\n",
    "\n",
    "    f, (ax1, ax2) = plt.subplots(2, 1, facecolor = 'white', figsize = (10,14), sharey=True)\n",
    "\n",
    "    legend = [\"loss\", \"acc\"]\n",
    "    sns.lineplot(x = 'index', y = 'value', data = df_1, hue = 'type', ax = ax1)\n",
    "    ax1.set_title('train loss', fontsize = 14, fontweight = 'bold')\n",
    "    ax1.set_xlabel('epoch', fontsize=15)\n",
    "    ax1.set_ylabel('metrics', fontsize=15)\n",
    "    ax1.ticklabel_format(style = 'plain', axis = 'y')\n",
    "    ax1.tick_params(labelsize = 14)\n",
    "    ax1.legend(legend, fontsize = 15)\n",
    "\n",
    "\n",
    "    legend = [\"loss\", \"acc\"]\n",
    "    sns.lineplot(x = 'index', y = 'value', data = df_2, hue = 'type', ax = ax2)\n",
    "    ax2.set_title('val loss', fontsize = 14, fontweight = 'bold')\n",
    "    ax2.set_xlabel('epoch', fontsize=15)\n",
    "    ax2.set_ylabel('metrics', fontsize=15)\n",
    "    ax2.ticklabel_format(style = 'plain', axis = 'y')\n",
    "    ax2.tick_params(labelsize = 14)\n",
    "    ax2.legend(legend, fontsize = 15)\n",
    "    \n",
    "    return f"
   ]
  },
  {
   "cell_type": "code",
   "execution_count": 11,
   "metadata": {
    "ExecuteTime": {
     "end_time": "2018-09-10T09:19:55.914792Z",
     "start_time": "2018-09-10T09:18:30.265654Z"
    }
   },
   "outputs": [
    {
     "name": "stderr",
     "output_type": "stream",
     "text": [
      "/home/ubuntu/anaconda3/envs/pytorch_p36/lib/python3.6/site-packages/torch/nn/functional.py:1006: UserWarning: nn.functional.sigmoid is deprecated. Use torch.sigmoid instead.\n",
      "  warnings.warn(\"nn.functional.sigmoid is deprecated. Use torch.sigmoid instead.\")\n"
     ]
    },
    {
     "name": "stdout",
     "output_type": "stream",
     "text": [
      "[Train] Epoch 1 / 50, Loss: 0.491, accuracy: 0.7766\n",
      "[Test] Epoch 1 / 50, Loss: 0.414, accuracy: 0.8103\n",
      "\n",
      "[Train] Epoch 6 / 50, Loss: 0.354, accuracy: 0.8353\n",
      "[Test] Epoch 6 / 50, Loss: 0.355, accuracy: 0.8315\n",
      "\n",
      "[Train] Epoch 11 / 50, Loss: 0.348, accuracy: 0.838\n",
      "[Test] Epoch 11 / 50, Loss: 0.351, accuracy: 0.8335\n",
      "\n",
      "[Train] Epoch 16 / 50, Loss: 0.346, accuracy: 0.8383\n",
      "[Test] Epoch 16 / 50, Loss: 0.351, accuracy: 0.8336\n",
      "\n",
      "[Train] Epoch 21 / 50, Loss: 0.346, accuracy: 0.8389\n",
      "[Test] Epoch 21 / 50, Loss: 0.352, accuracy: 0.8338\n",
      "\n",
      "[Train] Epoch 26 / 50, Loss: 0.345, accuracy: 0.8389\n",
      "[Test] Epoch 26 / 50, Loss: 0.352, accuracy: 0.8336\n",
      "\n",
      "[Train] Epoch 31 / 50, Loss: 0.344, accuracy: 0.8388\n",
      "[Test] Epoch 31 / 50, Loss: 0.353, accuracy: 0.8335\n",
      "\n",
      "[Train] Epoch 36 / 50, Loss: 0.344, accuracy: 0.8387\n",
      "[Test] Epoch 36 / 50, Loss: 0.354, accuracy: 0.8324\n",
      "\n",
      "[Train] Epoch 41 / 50, Loss: 0.344, accuracy: 0.8387\n",
      "[Test] Epoch 41 / 50, Loss: 0.355, accuracy: 0.833\n",
      "\n",
      "[Train] Epoch 46 / 50, Loss: 0.343, accuracy: 0.8394\n",
      "[Test] Epoch 46 / 50, Loss: 0.355, accuracy: 0.832\n",
      "\n"
     ]
    }
   ],
   "source": [
    "## Set the parameters and train/test the Wide part model\n",
    "w_net = wideNet(wide_dim, n_class)\n",
    "device = 'cuda:0' if torch.cuda.is_available() else 'cpu'\n",
    "w_net = w_net.to(device)\n",
    "\n",
    "opt_fn = optim.Adam(w_net.parameters())\n",
    "loss_fn = nn.BCELoss() # binary classification loss\n",
    "\n",
    "n_epochs = 50\n",
    "\n",
    "w_net, train_loss, test_loss, best_val_acc, best_epoch_num = \\\n",
    "    train_model(w_net, device, w_train_loader, w_test_loader, opt_fn, loss_fn, n_epochs, log_num = 5)"
   ]
  },
  {
   "cell_type": "code",
   "execution_count": 12,
   "metadata": {
    "ExecuteTime": {
     "end_time": "2018-09-10T09:19:56.693770Z",
     "start_time": "2018-09-10T09:19:55.918790Z"
    }
   },
   "outputs": [
    {
     "data": {
      "image/png": "[encoded data removed]",
      "text/plain": [
       "<Figure size 720x1008 with 2 Axes>"
      ]
     },
     "metadata": {},
     "output_type": "display_data"
    }
   ],
   "source": [
    "f = print_run(train_loss, test_loss)"
   ]
  },
  {
   "cell_type": "code",
   "execution_count": null,
   "metadata": {},
   "outputs": [],
   "source": []
  },
  {
   "cell_type": "markdown",
   "metadata": {},
   "source": [
    "---\n",
    "### 2-2) Deep part\n",
    "---"
   ]
  },
  {
   "cell_type": "markdown",
   "metadata": {},
   "source": [
    "#### the Deep part : \n",
    " - build the Wide part for generalizatoin\n",
    " - this part would be simple regression as same as the Wide part. But the differences are\n",
    " - concatenate of embedding layers for categorical and numerical features and Linear Layer\n",
    "   - Input dimension : the sum of the number of output dimension of each embedding layers and the input number of Linear layer\n",
    "   - Output dimension : one for regression output (activated with sigmoid function)"
   ]
  },
  {
   "cell_type": "code",
   "execution_count": 13,
   "metadata": {
    "ExecuteTime": {
     "end_time": "2018-09-10T09:23:57.729608Z",
     "start_time": "2018-09-10T09:23:57.725802Z"
    }
   },
   "outputs": [
    {
     "name": "stdout",
     "output_type": "stream",
     "text": [
      "[['workclass', 9, 10], ['native_country', 42, 12], ['occupation', 15, 10], ['relationship', 6, 8], ['education', 16, 10]]\n",
      "{'education': 0, 'relationship': 1, 'workclass': 2, 'occupation': 3, 'native_country': 4, 'age': 5, 'hours_per_week': 6}\n"
     ]
    }
   ],
   "source": [
    "print(out_dataset['embeddings_input']) # column name / # of categorical vals / # embedding dims\n",
    "print(out_dataset['deep_column_idx'])"
   ]
  },
  {
   "cell_type": "code",
   "execution_count": 14,
   "metadata": {
    "ExecuteTime": {
     "end_time": "2018-09-10T09:23:59.488848Z",
     "start_time": "2018-09-10T09:23:59.485276Z"
    }
   },
   "outputs": [
    {
     "name": "stdout",
     "output_type": "stream",
     "text": [
      "Embedding(9, 10)\n"
     ]
    }
   ],
   "source": [
    "## sample embedding layer\n",
    "sample_emb_info = out_dataset['embeddings_input'][0]\n",
    "sample_emb_ly = nn.Embedding(sample_emb_info[1], sample_emb_info[2])\n",
    "print(sample_emb_ly)"
   ]
  },
  {
   "cell_type": "code",
   "execution_count": 18,
   "metadata": {
    "ExecuteTime": {
     "end_time": "2018-09-10T09:24:06.696792Z",
     "start_time": "2018-09-10T09:24:06.690053Z"
    }
   },
   "outputs": [
    {
     "name": "stdout",
     "output_type": "stream",
     "text": [
      "torch.Size([34189, 7]) torch.Size([34189, 1])\n",
      "torch.Size([14653, 7]) torch.Size([14653, 1])\n"
     ]
    }
   ],
   "source": [
    "d_train_x = torch.tensor(out_dataset['train_set'].deep, dtype=torch.float)\n",
    "d_train_y = torch.tensor(out_dataset['train_set'].labels.reshape(-1,1), dtype=torch.float)\n",
    "print(d_train_x.size(), d_train_y.size())\n",
    "\n",
    "d_test_x = torch.tensor(out_dataset['test_set'].deep, dtype=torch.float)\n",
    "d_test_y = torch.tensor(out_dataset['test_set'].labels.reshape(-1,1), dtype=torch.float)\n",
    "print(d_test_x.size(), d_test_y.size())\n",
    "\n",
    "batch_size = 64\n",
    "\n",
    "d_train_set = TensorDataset(d_train_x, d_train_y)\n",
    "d_train_loader = DataLoader(d_train_set, batch_size, shuffle = True, num_workers=1)\n",
    "\n",
    "d_test_set = TensorDataset(d_test_x, d_test_y)\n",
    "d_test_loader = DataLoader(d_test_set, batch_size, shuffle = True, num_workers=1)"
   ]
  },
  {
   "cell_type": "code",
   "execution_count": 20,
   "metadata": {
    "ExecuteTime": {
     "end_time": "2018-09-10T09:24:41.518666Z",
     "start_time": "2018-09-10T09:24:41.509235Z"
    }
   },
   "outputs": [],
   "source": [
    "### deep part network\n",
    "class deepNet(nn.Module):\n",
    "    \n",
    "    def __init__(self, embeddings_input, continuous_cols, deep_column_idx, n_hiddens, n_class):\n",
    "        super(deepNet, self).__init__()\n",
    "        self.embeddings_input = embeddings_input\n",
    "        self.continuous_cols = continuous_cols\n",
    "        self.deep_column_idx = deep_column_idx\n",
    "        self.n_hiddens = n_hiddens\n",
    "        self.n_class = n_class\n",
    "        \n",
    "        \n",
    "        # make embedding layers for categorical variables\n",
    "        ## embedding : # of cols x # of embedding dims.\n",
    "        for col, n_col, n_dim in self.embeddings_input:\n",
    "            setattr(self, 'emb_ly_'+str(col), nn.Embedding(n_col, n_dim)) # (class, inst name, value)\n",
    "            \n",
    "        # add linear layer after concatenating of embedding layers and linear of continuous layer\n",
    "        input_emb_dim = np.sum(emb[2] for emb in self.embeddings_input)\n",
    "        self.ly1 = nn.Linear(input_emb_dim + len(continuous_cols), self.n_hiddens[0])\n",
    "        # after concat hidden layers\n",
    "        for i, hidden in enumerate(self.n_hiddens[1:],1):\n",
    "            setattr(self, 'lin_ly_'+str(i+1), nn.Linear(self.n_hiddens[i-1], self.n_hiddens[i]))\n",
    "            \n",
    "        self.out_ly = nn.Linear(self.n_hiddens[-1], n_class)\n",
    "            \n",
    "    def forward(self, x):\n",
    "        # make each output embedding layer's and return to type list \n",
    "        emb = [getattr(self, 'emb_ly_' +str(col))(x[:, self.deep_column_idx[col]].long()) for col, _, _ in self.embeddings_input]\n",
    "        \n",
    "        # for continuous values\n",
    "        cont_idx = [self.deep_column_idx[col] for col in self.continuous_cols]\n",
    "        ## just slicing of continuous values\n",
    "        cont = [x[:, cont_idx].float()]\n",
    "        \n",
    "        ## concatenating of embedding layer's outpus and linear inputs\n",
    "        #### concat input of list to one array\n",
    "        deep_input = torch.cat(emb+cont, 1)\n",
    "        x_deep = F.relu(self.ly1(deep_input))\n",
    "        \n",
    "        for i in range(1, len(n_hiddens)): # first hidden value is already used in 'ly1' layer -> start from 1\n",
    "            x_deep = F.relu( getattr(self, 'lin_ly_'+str(i+1))(x_deep))\n",
    "        \n",
    "        # final classifier layer\n",
    "        out = F.sigmoid(self.out_ly(x_deep))\n",
    "        \n",
    "        return out"
   ]
  },
  {
   "cell_type": "code",
   "execution_count": 21,
   "metadata": {
    "ExecuteTime": {
     "end_time": "2018-09-10T09:24:41.728051Z",
     "start_time": "2018-09-10T09:24:41.722166Z"
    }
   },
   "outputs": [
    {
     "name": "stdout",
     "output_type": "stream",
     "text": [
      "deepNet(\n",
      "  (emb_ly_workclass): Embedding(9, 10)\n",
      "  (emb_ly_native_country): Embedding(42, 12)\n",
      "  (emb_ly_occupation): Embedding(15, 10)\n",
      "  (emb_ly_relationship): Embedding(6, 8)\n",
      "  (emb_ly_education): Embedding(16, 10)\n",
      "  (ly1): Linear(in_features=52, out_features=100, bias=True)\n",
      "  (lin_ly_2): Linear(in_features=100, out_features=50, bias=True)\n",
      "  (out_ly): Linear(in_features=50, out_features=1, bias=True)\n",
      ")\n"
     ]
    }
   ],
   "source": [
    "deep_column_idx = out_dataset['deep_column_idx']\n",
    "embeddings_input= out_dataset['embeddings_input']\n",
    "n_hiddens = [100,50]\n",
    "\n",
    "d_net = deepNet(embeddings_input, continuous_cols, deep_column_idx, n_hiddens, n_class)\n",
    "print(d_net)\n",
    "\n",
    "device = 'cuda:0' if torch.cuda.is_available() else 'cpu'\n",
    "d_net = d_net.to(device)"
   ]
  },
  {
   "cell_type": "code",
   "execution_count": 22,
   "metadata": {
    "ExecuteTime": {
     "end_time": "2018-09-10T09:26:56.440843Z",
     "start_time": "2018-09-10T09:24:41.908367Z"
    }
   },
   "outputs": [
    {
     "name": "stderr",
     "output_type": "stream",
     "text": [
      "/home/ubuntu/anaconda3/envs/pytorch_p36/lib/python3.6/site-packages/torch/nn/functional.py:1006: UserWarning: nn.functional.sigmoid is deprecated. Use torch.sigmoid instead.\n",
      "  warnings.warn(\"nn.functional.sigmoid is deprecated. Use torch.sigmoid instead.\")\n"
     ]
    },
    {
     "name": "stdout",
     "output_type": "stream",
     "text": [
      "[Train] Epoch 1 / 50, Loss: 0.376, accuracy: 0.8225\n",
      "[Test] Epoch 1 / 50, Loss: 0.355, accuracy: 0.8297\n",
      "\n",
      "[Train] Epoch 6 / 50, Loss: 0.335, accuracy: 0.8451\n",
      "[Test] Epoch 6 / 50, Loss: 0.341, accuracy: 0.8394\n",
      "\n",
      "[Train] Epoch 11 / 50, Loss: 0.327, accuracy: 0.8483\n",
      "[Test] Epoch 11 / 50, Loss: 0.344, accuracy: 0.8383\n",
      "\n",
      "[Train] Epoch 16 / 50, Loss: 0.319, accuracy: 0.8514\n",
      "[Test] Epoch 16 / 50, Loss: 0.351, accuracy: 0.8376\n",
      "\n",
      "[Train] Epoch 21 / 50, Loss: 0.311, accuracy: 0.853\n",
      "[Test] Epoch 21 / 50, Loss: 0.357, accuracy: 0.8372\n",
      "\n",
      "[Train] Epoch 26 / 50, Loss: 0.303, accuracy: 0.8572\n",
      "[Test] Epoch 26 / 50, Loss: 0.363, accuracy: 0.8355\n",
      "\n",
      "[Train] Epoch 31 / 50, Loss: 0.296, accuracy: 0.8612\n",
      "[Test] Epoch 31 / 50, Loss: 0.373, accuracy: 0.831\n",
      "\n",
      "[Train] Epoch 36 / 50, Loss: 0.29, accuracy: 0.8643\n",
      "[Test] Epoch 36 / 50, Loss: 0.385, accuracy: 0.8306\n",
      "\n",
      "[Train] Epoch 41 / 50, Loss: 0.284, accuracy: 0.8667\n",
      "[Test] Epoch 41 / 50, Loss: 0.394, accuracy: 0.8285\n",
      "\n",
      "[Train] Epoch 46 / 50, Loss: 0.279, accuracy: 0.8698\n",
      "[Test] Epoch 46 / 50, Loss: 0.403, accuracy: 0.831\n",
      "\n"
     ]
    }
   ],
   "source": [
    "## Set the parameters and train/test the Wide part model\n",
    "opt_fn = optim.Adam(d_net.parameters())\n",
    "loss_fn = nn.BCELoss()\n",
    "\n",
    "n_epochs = 50\n",
    "\n",
    "d_net, train_loss, test_loss, best_val_acc, best_epoch_num = \\\n",
    "    train_model(d_net, device, d_train_loader, d_test_loader, opt_fn, loss_fn, n_epochs, log_num = 5)"
   ]
  },
  {
   "cell_type": "code",
   "execution_count": 23,
   "metadata": {
    "ExecuteTime": {
     "end_time": "2018-09-10T09:26:56.973533Z",
     "start_time": "2018-09-10T09:26:56.444956Z"
    }
   },
   "outputs": [
    {
     "data": {
      "image/png": "[encoded data removed]",
      "text/plain": [
       "<Figure size 720x1008 with 2 Axes>"
      ]
     },
     "metadata": {},
     "output_type": "display_data"
    }
   ],
   "source": [
    "f = print_run(train_loss, test_loss)"
   ]
  },
  {
   "cell_type": "markdown",
   "metadata": {},
   "source": [
    "---\n",
    "#### 2-3) Wide and Deep Learning\n",
    "---"
   ]
  },
  {
   "cell_type": "markdown",
   "metadata": {},
   "source": [
    "#### the wide and deep learning model : \n",
    " - combine the Wide part and the Deep part"
   ]
  },
  {
   "cell_type": "code",
   "execution_count": 24,
   "metadata": {
    "ExecuteTime": {
     "end_time": "2018-09-10T09:28:03.084956Z",
     "start_time": "2018-09-10T09:28:02.988311Z"
    }
   },
   "outputs": [
    {
     "name": "stdout",
     "output_type": "stream",
     "text": [
      "torch.Size([34189, 798]) torch.Size([34189, 7]) torch.Size([34189, 1])\n",
      "torch.Size([14653, 798]) torch.Size([14653, 7]) torch.Size([14653, 1])\n"
     ]
    }
   ],
   "source": [
    "w_train_x = torch.tensor(out_dataset['train_set'].wide, dtype=torch.float)\n",
    "d_train_x = torch.tensor(out_dataset['train_set'].deep, dtype=torch.float)\n",
    "train_y = torch.tensor(out_dataset['train_set'].labels.reshape(-1,1), dtype=torch.float)\n",
    "print(w_train_x.size(), d_train_x.size(), train_y.size())\n",
    "\n",
    "w_test_x = torch.tensor(out_dataset['test_set'].wide, dtype=torch.float)\n",
    "d_test_x = torch.tensor(out_dataset['test_set'].deep, dtype=torch.float)\n",
    "test_y = torch.tensor(out_dataset['test_set'].labels.reshape(-1,1), dtype=torch.float)\n",
    "print(w_test_x.size(), d_test_x.size(), test_y.size())\n",
    "\n",
    "batch_size = 64\n",
    "\n",
    "t_train_set = TensorDataset(w_train_x, d_train_x, d_train_y)\n",
    "t_train_loader = DataLoader(t_train_set, batch_size, shuffle = True, num_workers=1)\n",
    "\n",
    "t_test_set = TensorDataset(w_test_x, d_test_x, d_test_y)\n",
    "t_test_loader = DataLoader(t_test_set, batch_size, shuffle = True, num_workers=1)"
   ]
  },
  {
   "cell_type": "code",
   "execution_count": 25,
   "metadata": {
    "ExecuteTime": {
     "end_time": "2018-09-10T09:28:03.593394Z",
     "start_time": "2018-09-10T09:28:03.588671Z"
    }
   },
   "outputs": [],
   "source": [
    "class Identity(nn.Module):\n",
    "    def __init__(self):\n",
    "        super(Identity, self).__init__()\n",
    "        \n",
    "    def forward(self, x):\n",
    "        return x\n",
    "    \n",
    "class Last_net(nn.Module):\n",
    "    def __init__(self, input_dim, n_class):\n",
    "        super(Last_net, self).__init__()\n",
    "        self.input_dim = input_dim\n",
    "        self.n_class = n_class\n",
    "        \n",
    "        self.out_ly = nn.Linear(self.input_dim, self.n_class)\n",
    "        \n",
    "        \n",
    "    def forward(self, x):\n",
    "        x = F.sigmoid(self.out_ly(x))\n",
    "        \n",
    "        return x"
   ]
  },
  {
   "cell_type": "code",
   "execution_count": 26,
   "metadata": {
    "ExecuteTime": {
     "end_time": "2018-09-10T09:28:04.201478Z",
     "start_time": "2018-09-10T09:28:04.197183Z"
    }
   },
   "outputs": [],
   "source": [
    "t_w_net = wideNet(wide_dim, n_class)\n",
    "t_d_net = deepNet(embeddings_input, continuous_cols, deep_column_idx, n_hiddens, n_class)"
   ]
  },
  {
   "cell_type": "code",
   "execution_count": 27,
   "metadata": {
    "ExecuteTime": {
     "end_time": "2018-09-10T09:28:05.665980Z",
     "start_time": "2018-09-10T09:28:05.658920Z"
    }
   },
   "outputs": [
    {
     "name": "stdout",
     "output_type": "stream",
     "text": [
      "wideNet(\n",
      "  (ly1): Linear(in_features=798, out_features=10, bias=True)\n",
      ")\n",
      "deepNet(\n",
      "  (emb_ly_workclass): Embedding(9, 10)\n",
      "  (emb_ly_native_country): Embedding(42, 12)\n",
      "  (emb_ly_occupation): Embedding(15, 10)\n",
      "  (emb_ly_relationship): Embedding(6, 8)\n",
      "  (emb_ly_education): Embedding(16, 10)\n",
      "  (ly1): Linear(in_features=52, out_features=100, bias=True)\n",
      "  (lin_ly_2): Linear(in_features=100, out_features=50, bias=True)\n",
      "  (out_ly): Identity()\n",
      ")\n",
      "concat dim is 60\n",
      "Last_net(\n",
      "  (out_ly): Linear(in_features=60, out_features=1, bias=True)\n",
      ")\n"
     ]
    }
   ],
   "source": [
    "# t_w_net.ly1.out_features = 10 # 이렇게하면 실제 layer가 변경되지 않음\n",
    "t_w_net.ly1 = nn.Linear(798,10)\n",
    "print(t_w_net) # out dim = 10\n",
    "\n",
    "t_d_net.out_ly = Identity()\n",
    "print(t_d_net) # out dim = 50\n",
    "\n",
    "concat_dim = int(t_w_net.ly1.out_features) + int(t_d_net.lin_ly_2.out_features)\n",
    "print('concat dim is {}'.format(concat_dim))\n",
    "\n",
    "last_net = Last_net(concat_dim, n_class)\n",
    "print(last_net)"
   ]
  },
  {
   "cell_type": "code",
   "execution_count": 28,
   "metadata": {
    "ExecuteTime": {
     "end_time": "2018-09-10T09:28:06.888544Z",
     "start_time": "2018-09-10T09:28:06.884603Z"
    }
   },
   "outputs": [],
   "source": [
    "t_w_net = t_w_net.to(device)\n",
    "t_d_net = t_d_net.to(device)\n",
    "last_net = last_net.to(device)"
   ]
  },
  {
   "cell_type": "code",
   "execution_count": 29,
   "metadata": {
    "ExecuteTime": {
     "end_time": "2018-09-10T09:28:07.198632Z",
     "start_time": "2018-09-10T09:28:07.194929Z"
    }
   },
   "outputs": [],
   "source": [
    "loss_fn = nn.BCELoss()\n",
    "\n",
    "# w_net / d_net\n",
    "opt_fn = optim.Adam(list(t_w_net.parameters()) + list(t_d_net.parameters()) + list(last_net.parameters()))\n",
    "\n",
    "n_epochs = 50\n",
    "log_num = 10"
   ]
  },
  {
   "cell_type": "code",
   "execution_count": 30,
   "metadata": {
    "ExecuteTime": {
     "end_time": "2018-09-10T09:30:58.077355Z",
     "start_time": "2018-09-10T09:28:08.421393Z"
    }
   },
   "outputs": [
    {
     "name": "stderr",
     "output_type": "stream",
     "text": [
      "/home/ubuntu/anaconda3/envs/pytorch_p36/lib/python3.6/site-packages/torch/nn/functional.py:1006: UserWarning: nn.functional.sigmoid is deprecated. Use torch.sigmoid instead.\n",
      "  warnings.warn(\"nn.functional.sigmoid is deprecated. Use torch.sigmoid instead.\")\n"
     ]
    },
    {
     "name": "stdout",
     "output_type": "stream",
     "text": [
      "[Train] Epoch 1 / 50, Loss: 0.404, accuracy: 0.8077\n",
      "[Test] Epoch 1 / 50, Loss: 0.355, accuracy: 0.8362\n",
      "\n",
      "[Train] Epoch 11 / 50, Loss: 0.328, accuracy: 0.8473\n",
      "[Test] Epoch 11 / 50, Loss: 0.346, accuracy: 0.8389\n",
      "\n",
      "[Train] Epoch 21 / 50, Loss: 0.32, accuracy: 0.8507\n",
      "[Test] Epoch 21 / 50, Loss: 0.344, accuracy: 0.8376\n",
      "\n",
      "[Train] Epoch 31 / 50, Loss: 0.312, accuracy: 0.8549\n",
      "[Test] Epoch 31 / 50, Loss: 0.352, accuracy: 0.8354\n",
      "\n",
      "[Train] Epoch 41 / 50, Loss: 0.305, accuracy: 0.8574\n",
      "[Test] Epoch 41 / 50, Loss: 0.357, accuracy: 0.8345\n",
      "\n"
     ]
    }
   ],
   "source": [
    "train_loss = []\n",
    "test_loss = []\n",
    "\n",
    "for epoch in range(n_epochs):\n",
    "    #################################################\n",
    "    ## Training Part\n",
    "    #################################################\n",
    "    running_total =0.0\n",
    "    running_correct =0.0\n",
    "    running_loss = 0.0\n",
    "\n",
    "    for i, data in enumerate(t_train_loader):\n",
    "        inputs_w, inputs_d, labels = data[0].to(device), data[1].to(device), data[2].to(device)\n",
    "\n",
    "        # zerograd\n",
    "        opt_fn.zero_grad()\n",
    "\n",
    "        # forward\n",
    "        y_pred_w = t_w_net(inputs_w)\n",
    "        y_pred_d = t_d_net(inputs_d)\n",
    "        y_pred_tot = torch.cat((y_pred_w, y_pred_d), 1)\n",
    "        \n",
    "        y_pred = last_net(y_pred_tot)\n",
    "        \n",
    "        loss = loss_fn(y_pred, labels)\n",
    "\n",
    "        # backward\n",
    "        loss.backward()\n",
    "        opt_fn.step()\n",
    "\n",
    "\n",
    "        ############\n",
    "        # 1) loss\n",
    "        running_loss += loss.item()*inputs_w.size(0)\n",
    "\n",
    "        ############\n",
    "        # 2) metric\n",
    "        y_pred_cnvt = (y_pred > 0.5).squeeze(1).float() # (= (y_pred > 0.5).view(-1))\n",
    "        running_correct+= float((y_pred_cnvt == labels.squeeze(1)).sum().item())\n",
    "\n",
    "        running_total += y_pred.size(0) # total number of samples (accumulated)\n",
    "\n",
    "    #################################################\n",
    "    ## train epoch loss\n",
    "    epoch_loss = running_loss / int(running_total)\n",
    "    epoch_acc = running_correct / int(running_total)\n",
    "\n",
    "    train_loss.append((epoch, epoch_loss, 'loss'))\n",
    "    train_loss.append((epoch, epoch_acc, 'acc'))\n",
    "\n",
    "    if (epoch+1)%log_num == 1:\n",
    "        print ('[Train] Epoch {} / {}, Loss: {}, accuracy: {}'.format(epoch+1,\n",
    "            n_epochs, round(epoch_loss,3), round(epoch_acc,4)))\n",
    "\n",
    "    #################################################\n",
    "    ## Test Part\n",
    "    #################################################\n",
    "    running_total = 0.0\n",
    "    running_correct = 0.0\n",
    "    running_loss = 0.0\n",
    "\n",
    "    for i, data in enumerate(t_test_loader):\n",
    "        inputs_w, inputs_d, labels = data[0].to(device), data[1].to(device), data[2].to(device)\n",
    "\n",
    "        # forward\n",
    "        y_pred_w = t_w_net(inputs_w)\n",
    "        y_pred_d = t_d_net(inputs_d)\n",
    "        y_pred_tot = torch.cat((y_pred_w, y_pred_d), 1)\n",
    "        \n",
    "        y_pred = last_net(y_pred_tot)\n",
    "        \n",
    "        loss = loss_fn(y_pred, labels)\n",
    "\n",
    "        ############\n",
    "        # 1) loss\n",
    "        running_loss += loss.item()*inputs_w.size(0)\n",
    "\n",
    "        ############\n",
    "        # 2) metric\n",
    "        y_pred_cnvt = (y_pred > 0.5).squeeze(1).float() # (= (y_pred > 0.5).view(-1))\n",
    "        running_correct += float((y_pred_cnvt == labels.squeeze(1)).sum().item())\n",
    "\n",
    "        running_total += y_pred.size(0) # total number of samples (accumulated)\n",
    "\n",
    "    #################################################\n",
    "    ## test epoch loss\n",
    "    epoch_loss = running_loss / int(running_total)\n",
    "    epoch_acc = running_correct / int(running_total)\n",
    "\n",
    "    test_loss.append((epoch, epoch_loss, 'loss'))\n",
    "    test_loss.append((epoch, epoch_acc, 'acc'))\n",
    "\n",
    "    if (epoch+1)%log_num == 1:\n",
    "        print ('[Test] Epoch {} / {}, Loss: {}, accuracy: {}'.format(epoch+1,\n",
    "            n_epochs, round(epoch_loss,3), round(epoch_acc,4)))\n",
    "        print()\n",
    "\n",
    "    if best_val_acc < epoch_acc:\n",
    "        best_val_acc = epoch_acc\n",
    "        best_epoch_num = epoch + 1"
   ]
  },
  {
   "cell_type": "code",
   "execution_count": null,
   "metadata": {},
   "outputs": [],
   "source": []
  },
  {
   "cell_type": "code",
   "execution_count": 31,
   "metadata": {
    "ExecuteTime": {
     "end_time": "2018-09-10T09:30:58.091357Z",
     "start_time": "2018-09-10T09:30:58.080652Z"
    }
   },
   "outputs": [],
   "source": [
    "### deep part network (completely build for one model)\n",
    "class widedeepNet(nn.Module):\n",
    "    \n",
    "    def __init__(self, wide_dim, embeddings_input, continuous_cols, deep_column_idx, n_hiddens, n_class):\n",
    "        super(widedeepNet, self).__init__()\n",
    "        self.wide_dim = wide_dim\n",
    "        self.embeddings_input = embeddings_input\n",
    "        self.continuous_cols = continuous_cols\n",
    "        self.deep_column_idx = deep_column_idx\n",
    "        self.n_hiddens = n_hiddens\n",
    "        self.n_class = n_class\n",
    "        \n",
    "        print(self.deep_column_idx)\n",
    "        \n",
    "        # make embedding layers for categorical variables\n",
    "        ## embedding : # of cols x # of embedding dims.\n",
    "        for col, n_col, n_dim in self.embeddings_input:\n",
    "            setattr(self, 'emb_ly_'+str(col), nn.Embedding(n_col, n_dim)) # (class, inst name, value)\n",
    "            \n",
    "        # add linear layer after concatenating of embedding layers and linear of continuous layer\n",
    "        input_emb_dim = np.sum(emb[2] for emb in self.embeddings_input)\n",
    "        print(input_emb_dim)\n",
    "        self.ly1 = nn.Linear(input_emb_dim + len(continuous_cols), self.n_hiddens[0])\n",
    "        # after concat hidden layers\n",
    "        for i, hidden in enumerate(self.n_hiddens[1:],1):\n",
    "            setattr(self, 'lin_ly_'+str(i+1), nn.Linear(self.n_hiddens[i-1], self.n_hiddens[i]))\n",
    "            \n",
    "        self.out_ly = nn.Linear(self.n_hiddens[-1] + self.wide_dim, n_class)\n",
    "            \n",
    "    def forward(self, x_w, x_d):\n",
    "        # make each output embedding layer's and return to type list \n",
    "        emb = [getattr(self, 'emb_ly_' +str(col))(x_d[:, self.deep_column_idx[col]].long()) for col, _, _ in self.embeddings_input]\n",
    "        \n",
    "        # for continuous values\n",
    "        cont_idx = [self.deep_column_idx[col] for col in self.continuous_cols]\n",
    "        ## just slicing of continuous values\n",
    "        cont = [x_d[:, cont_idx].float()]\n",
    "        \n",
    "        ## concatenating of embedding layer's outpus and linear inputs\n",
    "        #### concat input of list to one array\n",
    "        deep_input = torch.cat(emb+cont, 1)\n",
    "        x_deep = F.relu(self.ly1(deep_input))\n",
    "        \n",
    "        for i in range(1, len(n_hiddens)): # first hidden value is already used in 'ly1' layer -> start from 1\n",
    "            x_deep = F.relu( getattr(self, 'lin_ly_'+str(i+1))(x_deep))\n",
    "        \n",
    "        \n",
    "        ## concat of wide and deep\n",
    "        x_wide = x_w.float()\n",
    "        \n",
    "        x_wide_deep = torch.cat((x_wide, x_deep), 1)        \n",
    "        \n",
    "        # final classifier layer\n",
    "        out = F.sigmoid(self.out_ly(x_wide_deep))\n",
    "        \n",
    "        return out"
   ]
  },
  {
   "cell_type": "code",
   "execution_count": 32,
   "metadata": {
    "ExecuteTime": {
     "end_time": "2018-09-10T09:30:58.100392Z",
     "start_time": "2018-09-10T09:30:58.093399Z"
    }
   },
   "outputs": [
    {
     "name": "stdout",
     "output_type": "stream",
     "text": [
      "{'education': 0, 'relationship': 1, 'workclass': 2, 'occupation': 3, 'native_country': 4, 'age': 5, 'hours_per_week': 6}\n",
      "50\n",
      "widedeepNet(\n",
      "  (emb_ly_workclass): Embedding(9, 10)\n",
      "  (emb_ly_native_country): Embedding(42, 12)\n",
      "  (emb_ly_occupation): Embedding(15, 10)\n",
      "  (emb_ly_relationship): Embedding(6, 8)\n",
      "  (emb_ly_education): Embedding(16, 10)\n",
      "  (ly1): Linear(in_features=52, out_features=100, bias=True)\n",
      "  (lin_ly_2): Linear(in_features=100, out_features=50, bias=True)\n",
      "  (out_ly): Linear(in_features=848, out_features=1, bias=True)\n",
      ")\n"
     ]
    }
   ],
   "source": [
    "wide_dim = out_dataset['train_set'].wide.shape[1]\n",
    "deep_column_idx = out_dataset['deep_column_idx']\n",
    "embeddings_input= out_dataset['embeddings_input']\n",
    "n_hiddens = [100,50]\n",
    "\n",
    "wd_net = widedeepNet(wide_dim, embeddings_input, continuous_cols, deep_column_idx, n_hiddens, n_class)\n",
    "print(wd_net)\n",
    "\n",
    "device = 'cuda:0' if torch.cuda.is_available() else 'cpu'\n",
    "device = 'cpu'\n",
    "wd_net = wd_net.to(device)"
   ]
  },
  {
   "cell_type": "code",
   "execution_count": 33,
   "metadata": {
    "ExecuteTime": {
     "end_time": "2018-09-10T09:30:58.106697Z",
     "start_time": "2018-09-10T09:30:58.102823Z"
    }
   },
   "outputs": [],
   "source": [
    "loss_fn = nn.BCELoss()\n",
    "\n",
    "# w_net / d_net\n",
    "opt_fn = optim.Adam(wd_net.parameters())\n",
    "\n",
    "n_epochs = 50\n",
    "log_num = 10"
   ]
  },
  {
   "cell_type": "code",
   "execution_count": 34,
   "metadata": {
    "ExecuteTime": {
     "end_time": "2018-09-10T09:33:37.328007Z",
     "start_time": "2018-09-10T09:30:58.109160Z"
    }
   },
   "outputs": [
    {
     "name": "stderr",
     "output_type": "stream",
     "text": [
      "/home/ubuntu/anaconda3/envs/pytorch_p36/lib/python3.6/site-packages/torch/nn/functional.py:1006: UserWarning: nn.functional.sigmoid is deprecated. Use torch.sigmoid instead.\n",
      "  warnings.warn(\"nn.functional.sigmoid is deprecated. Use torch.sigmoid instead.\")\n"
     ]
    },
    {
     "name": "stdout",
     "output_type": "stream",
     "text": [
      "[Train] Epoch 1 / 50, Loss: 0.378, accuracy: 0.8238\n",
      "[Test] Epoch 1 / 50, Loss: 0.346, accuracy: 0.8403\n",
      "\n",
      "[Train] Epoch 11 / 50, Loss: 0.326, accuracy: 0.8485\n",
      "[Test] Epoch 11 / 50, Loss: 0.343, accuracy: 0.8428\n",
      "\n",
      "[Train] Epoch 21 / 50, Loss: 0.311, accuracy: 0.8535\n",
      "[Test] Epoch 21 / 50, Loss: 0.354, accuracy: 0.837\n",
      "\n",
      "[Train] Epoch 31 / 50, Loss: 0.298, accuracy: 0.859\n",
      "[Test] Epoch 31 / 50, Loss: 0.373, accuracy: 0.8313\n",
      "\n",
      "[Train] Epoch 41 / 50, Loss: 0.287, accuracy: 0.8652\n",
      "[Test] Epoch 41 / 50, Loss: 0.389, accuracy: 0.8312\n",
      "\n"
     ]
    }
   ],
   "source": [
    "train_loss = []\n",
    "test_loss = []\n",
    "\n",
    "for epoch in range(n_epochs):\n",
    "    #################################################\n",
    "    ## Training Part\n",
    "    #################################################\n",
    "    running_total =0.0\n",
    "    running_correct =0.0\n",
    "    running_loss = 0.0\n",
    "\n",
    "    for i, data in enumerate(t_train_loader):\n",
    "        inputs_w, inputs_d, labels = data[0].to(device), data[1].to(device), data[2].to(device)\n",
    "\n",
    "        # zerograd\n",
    "        opt_fn.zero_grad()\n",
    "\n",
    "        # forward\n",
    "        y_pred = wd_net(inputs_w, inputs_d)\n",
    "        loss = loss_fn(y_pred, labels)\n",
    "\n",
    "        # backward\n",
    "        loss.backward()\n",
    "        opt_fn.step()\n",
    "\n",
    "\n",
    "        ############\n",
    "        # 1) loss\n",
    "        running_loss += loss.item()*inputs_w.size(0)\n",
    "\n",
    "        ############\n",
    "        # 2) metric\n",
    "        y_pred_cnvt = (y_pred > 0.5).squeeze(1).float() # (= (y_pred > 0.5).view(-1))\n",
    "        running_correct+= float((y_pred_cnvt == labels.squeeze(1)).sum().item())\n",
    "\n",
    "        running_total += y_pred.size(0) # total number of samples (accumulated)\n",
    "\n",
    "    #################################################\n",
    "    ## train epoch loss\n",
    "    epoch_loss = running_loss / int(running_total)\n",
    "    epoch_acc = running_correct / int(running_total)\n",
    "\n",
    "    train_loss.append((epoch, epoch_loss, 'loss'))\n",
    "    train_loss.append((epoch, epoch_acc, 'acc'))\n",
    "\n",
    "    if (epoch+1)%log_num == 1:\n",
    "        print ('[Train] Epoch {} / {}, Loss: {}, accuracy: {}'.format(epoch+1,\n",
    "            n_epochs, round(epoch_loss,3), round(epoch_acc,4)))\n",
    "\n",
    "    #################################################\n",
    "    ## Test Part\n",
    "    #################################################\n",
    "    running_total = 0.0\n",
    "    running_correct = 0.0\n",
    "    running_loss = 0.0\n",
    "\n",
    "    for i, data in enumerate(t_test_loader):\n",
    "        inputs_w, inputs_d, labels = data[0].to(device), data[1].to(device), data[2].to(device)\n",
    "\n",
    "        # forward\n",
    "        y_pred = wd_net(inputs_w, inputs_d)        \n",
    "        loss = loss_fn(y_pred, labels)\n",
    "\n",
    "        ############\n",
    "        # 1) loss\n",
    "        running_loss += loss.item()*inputs_w.size(0)\n",
    "\n",
    "        ############\n",
    "        # 2) metric\n",
    "        y_pred_cnvt = (y_pred > 0.5).squeeze(1).float() # (= (y_pred > 0.5).view(-1))\n",
    "        running_correct += float((y_pred_cnvt == labels.squeeze(1)).sum().item())\n",
    "\n",
    "        running_total += y_pred.size(0) # total number of samples (accumulated)\n",
    "\n",
    "    #################################################\n",
    "    ## test epoch loss\n",
    "    epoch_loss = running_loss / int(running_total)\n",
    "    epoch_acc = running_correct / int(running_total)\n",
    "\n",
    "    test_loss.append((epoch, epoch_loss, 'loss'))\n",
    "    test_loss.append((epoch, epoch_acc, 'acc'))\n",
    "\n",
    "    if (epoch+1)%log_num == 1:\n",
    "        print ('[Test] Epoch {} / {}, Loss: {}, accuracy: {}'.format(epoch+1,\n",
    "            n_epochs, round(epoch_loss,3), round(epoch_acc,4)))\n",
    "        print()\n",
    "\n",
    "    if best_val_acc < epoch_acc:\n",
    "        best_val_acc = epoch_acc\n",
    "        best_epoch_num = epoch + 1"
   ]
  },
  {
   "cell_type": "code",
   "execution_count": null,
   "metadata": {},
   "outputs": [],
   "source": []
  },
  {
   "cell_type": "code",
   "execution_count": null,
   "metadata": {},
   "outputs": [],
   "source": []
  },
  {
   "cell_type": "code",
   "execution_count": null,
   "metadata": {
    "ExecuteTime": {
     "end_time": "2018-09-05T08:48:02.776023Z",
     "start_time": "2018-09-05T08:48:02.772850Z"
    }
   },
   "outputs": [],
   "source": []
  },
  {
   "cell_type": "code",
   "execution_count": 35,
   "metadata": {
    "ExecuteTime": {
     "end_time": "2018-09-10T09:33:37.339938Z",
     "start_time": "2018-09-10T09:33:37.333369Z"
    }
   },
   "outputs": [
    {
     "name": "stdout",
     "output_type": "stream",
     "text": [
      "[Linear(in_features=798, out_features=1, bias=True), Embedding(9, 10), Embedding(42, 12), Embedding(15, 10), Embedding(6, 8), Embedding(16, 10), Linear(in_features=52, out_features=100, bias=True), Linear(in_features=100, out_features=50, bias=True), Linear(in_features=50, out_features=1, bias=True)]\n",
      "Sequential(\n",
      "  (0): Linear(in_features=798, out_features=1, bias=True)\n",
      "  (1): Embedding(9, 10)\n",
      "  (2): Embedding(42, 12)\n",
      "  (3): Embedding(15, 10)\n",
      "  (4): Embedding(6, 8)\n",
      "  (5): Embedding(16, 10)\n",
      "  (6): Linear(in_features=52, out_features=100, bias=True)\n",
      "  (7): Linear(in_features=100, out_features=50, bias=True)\n",
      "  (8): Linear(in_features=50, out_features=1, bias=True)\n",
      ")\n"
     ]
    }
   ],
   "source": [
    "n1 = list(w_net.children())\n",
    "n2 = list(d_net.children())\n",
    "\n",
    "n = n1 + n2\n",
    "print(n)\n",
    "\n",
    "w_d_net = nn.Sequential(*n)\n",
    "print(w_d_net)"
   ]
  },
  {
   "cell_type": "code",
   "execution_count": null,
   "metadata": {},
   "outputs": [],
   "source": []
  }
 ],
 "metadata": {
  "kernelspec": {
   "display_name": "Python [conda env:pytorch_p36]",
   "language": "python",
   "name": "conda-env-pytorch_p36-py"
  },
  "language_info": {
   "codemirror_mode": {
    "name": "ipython",
    "version": 3
   },
   "file_extension": ".py",
   "mimetype": "text/x-python",
   "name": "python",
   "nbconvert_exporter": "python",
   "pygments_lexer": "ipython3",
   "version": "3.6.6"
  }
 },
 "nbformat": 4,
 "nbformat_minor": 2
}
