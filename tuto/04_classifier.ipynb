{
 "cells": [
  {
   "cell_type": "markdown",
   "metadata": {},
   "source": [
    "---\n",
    "- For images, packages such as Pillow, OpenCV are useful\n",
    "- For audio, packages such as scipy and librosa\n",
    "- For text, either raw Python or Cython based loading, or NLTK and SpaCy are useful\n",
    "<br><br>\n",
    "- convert raw dataset to numpy array -> torch.*Tensor / from_numpy()\n",
    "---"
   ]
  },
  {
   "cell_type": "code",
   "execution_count": 1,
   "metadata": {},
   "outputs": [],
   "source": [
    "import torch\n",
    "import torchvision\n",
    "import torchvision.transforms as transforms\n",
    "\n",
    "import matplotlib.pyplot as plt\n",
    "%matplotlib inline\n",
    "\n",
    "import os, time"
   ]
  },
  {
   "cell_type": "code",
   "execution_count": 2,
   "metadata": {},
   "outputs": [],
   "source": [
    "## refer : https://github.com/pytorch/vision/blob/master/torchvision/datasets/mnist.py\n",
    "\n",
    "# transform = transforms.Compose(\n",
    "#     [transforms.ToTensor(),\n",
    "#      transforms.Normalize((0.5, 0.5, 0.5), (0.5, 0.5, 0.5))])\n",
    "\n",
    "# trainset = torchvision.datasets.CIFAR10(root='./data', train=True,\n",
    "#                                         download=True, transform=transform)\n",
    "# trainloader = torch.utils.data.DataLoader(trainset, batch_size=4,\n",
    "#                                           shuffle=True, num_workers=2)\n",
    "\n",
    "# testset = torchvision.datasets.CIFAR10(root='./data', train=False,\n",
    "#                                        download=True, transform=transform)\n",
    "# testloader = torch.utils.data.DataLoader(testset, batch_size=4,\n",
    "#                                          shuffle=False, num_workers=2)\n",
    "\n",
    "# classes = ('plane', 'car', 'bird', 'cat',\n",
    "#            'deer', 'dog', 'frog', 'horse', 'ship', 'truck')"
   ]
  },
  {
   "cell_type": "code",
   "execution_count": 3,
   "metadata": {},
   "outputs": [
    {
     "name": "stdout",
     "output_type": "stream",
     "text": [
      "/home/ubuntu/notebooks/pytorch/../data/mnist/raw\n",
      "['train-labels-idx1-ubyte', 'train-images-idx3-ubyte', 't10k-images-idx3-ubyte', 't10k-labels-idx1-ubyte']\n"
     ]
    }
   ],
   "source": [
    "dataset_path = os.path.join(str(os.getcwd()), '../data')\n",
    "\n",
    "trainset = torchvision.datasets.MNIST(root=dataset_path, train=True, download=True)\n",
    "testset = torchvision.datasets.MNIST(root=dataset_path, train=False, download=True)\n",
    "\n",
    "dataset_path = os.path.join(dataset_path, 'mnist/raw')\n",
    "print(dataset_path)\n",
    "\n",
    "data_list = os.listdir(dataset_path)\n",
    "print(data_list)"
   ]
  },
  {
   "cell_type": "code",
   "execution_count": 4,
   "metadata": {},
   "outputs": [],
   "source": [
    "import gzip, codecs\n",
    "import numpy as np\n",
    "\n",
    "# with gzip.open(os.path.join(str(dataset_path), str(data_list[2])), 'rb') as f:\n",
    "with open(os.path.join(str(dataset_path), str(data_list[1])), 'rb') as f:\n",
    "    data = f.read()\n",
    "    n_imgs = int(codecs.encode(data[4:8], 'hex'),16)\n",
    "    n_rows = int(codecs.encode(data[8:12], 'hex'),16)\n",
    "    n_cols = int(codecs.encode(data[12:16], 'hex'),16)\n",
    "    \n",
    "    parsed = np.frombuffer(data, dtype = np.uint8, offset=16)\n",
    "    train_imgs = parsed.reshape(n_imgs, 1, n_rows, n_cols) # batch / channel / width / heights\n",
    "    train_imgs = train_imgs.astype(np.float32)/255.0 # [0,1] normalize\n",
    "    train_imgs = torch.from_numpy(train_imgs)\n",
    "    \n",
    "with open(os.path.join(str(dataset_path), str(data_list[0])), 'rb') as f:\n",
    "    data = f.read()\n",
    "    n_imgs = int(codecs.encode(data[4:8], 'hex'), 16)\n",
    "    \n",
    "    train_labels = np.frombuffer(data, dtype=np.uint8, offset=8)\n",
    "    train_labels = torch.from_numpy(train_labels)\n",
    "    \n",
    "    \n",
    "    \n",
    "with open(os.path.join(str(dataset_path), str(data_list[2])), 'rb') as f:\n",
    "    data = f.read()\n",
    "    n_imgs = int(codecs.encode(data[4:8], 'hex'),16)\n",
    "    n_rows = int(codecs.encode(data[8:12], 'hex'),16)\n",
    "    n_cols = int(codecs.encode(data[12:16], 'hex'),16)\n",
    "    \n",
    "    parsed = np.frombuffer(data, dtype = np.uint8, offset=16)\n",
    "    test_imgs = parsed.reshape(n_imgs, 1, n_rows, n_cols) # batch / channel / width / heights\n",
    "    test_imgs = test_imgs.astype(np.float32)/255.0 # [0,1] normalize\n",
    "    test_imgs = torch.from_numpy(test_imgs)\n",
    "    \n",
    "with open(os.path.join(str(dataset_path), str(data_list[3])), 'rb') as f:\n",
    "    data = f.read()\n",
    "    n_imgs = int(codecs.encode(data[4:8], 'hex'), 16)\n",
    "    \n",
    "    test_labels = np.frombuffer(data, dtype=np.uint8, offset=8)\n",
    "    test_labels = torch.from_numpy(test_labels)"
   ]
  },
  {
   "cell_type": "code",
   "execution_count": 5,
   "metadata": {},
   "outputs": [
    {
     "name": "stdout",
     "output_type": "stream",
     "text": [
      "torch.Size([60000, 1, 28, 28]) torch.Size([60000])\n",
      "torch.Size([10000, 1, 28, 28]) torch.Size([10000])\n"
     ]
    }
   ],
   "source": [
    "print(train_imgs.size(), train_labels.size())\n",
    "print(test_imgs.size(), test_labels.size())"
   ]
  },
  {
   "cell_type": "code",
   "execution_count": 6,
   "metadata": {},
   "outputs": [
    {
     "name": "stdout",
     "output_type": "stream",
     "text": [
      "tensor(5, dtype=torch.uint8)\n"
     ]
    },
    {
     "data": {
      "image/png": "[encoded data removed]",
      "text/plain": [
       "<Figure size 432x288 with 1 Axes>"
      ]
     },
     "metadata": {},
     "output_type": "display_data"
    }
   ],
   "source": [
    "plt.imshow(train_imgs[0].numpy().reshape(28,28))\n",
    "print(train_labels[0].data)"
   ]
  },
  {
   "cell_type": "code",
   "execution_count": 7,
   "metadata": {},
   "outputs": [
    {
     "name": "stdout",
     "output_type": "stream",
     "text": [
      "0.0\n",
      "1.0\n"
     ]
    }
   ],
   "source": [
    "# scaling rㅕㄹ과 확인\n",
    "print(np.min(train_imgs.numpy()))\n",
    "print(np.max(train_imgs.numpy()))"
   ]
  },
  {
   "cell_type": "code",
   "execution_count": 8,
   "metadata": {},
   "outputs": [],
   "source": [
    "import torch.utils.data as data_utils\n",
    "\n",
    "train = data_utils.TensorDataset(train_imgs, train_labels)\n",
    "train_loader = data_utils.DataLoader(train, batch_size=4, shuffle=False, num_workers=2)\n",
    "\n",
    "test = data_utils.TensorDataset(test_imgs, test_labels)\n",
    "test_loader = data_utils.DataLoader(test, batch_size=4, shuffle=False, num_workers=2)"
   ]
  },
  {
   "cell_type": "code",
   "execution_count": 9,
   "metadata": {},
   "outputs": [
    {
     "name": "stderr",
     "output_type": "stream",
     "text": [
      "Process Process-1:\n",
      "Process Process-2:\n",
      "Traceback (most recent call last):\n",
      "  File \"/home/ubuntu/anaconda3/envs/pytorch_p36/lib/python3.6/multiprocessing/process.py\", line 258, in _bootstrap\n",
      "    self.run()\n",
      "  File \"/home/ubuntu/anaconda3/envs/pytorch_p36/lib/python3.6/multiprocessing/process.py\", line 93, in run\n",
      "    self._target(*self._args, **self._kwargs)\n",
      "Traceback (most recent call last):\n",
      "  File \"/home/ubuntu/anaconda3/envs/pytorch_p36/lib/python3.6/multiprocessing/process.py\", line 258, in _bootstrap\n",
      "    self.run()\n",
      "  File \"/home/ubuntu/anaconda3/envs/pytorch_p36/lib/python3.6/site-packages/torch/utils/data/dataloader.py\", line 96, in _worker_loop\n",
      "    r = index_queue.get(timeout=MANAGER_STATUS_CHECK_INTERVAL)\n",
      "  File \"/home/ubuntu/anaconda3/envs/pytorch_p36/lib/python3.6/multiprocessing/process.py\", line 93, in run\n",
      "    self._target(*self._args, **self._kwargs)\n",
      "  File \"/home/ubuntu/anaconda3/envs/pytorch_p36/lib/python3.6/multiprocessing/queues.py\", line 104, in get\n",
      "    if not self._poll(timeout):\n",
      "  File \"/home/ubuntu/anaconda3/envs/pytorch_p36/lib/python3.6/site-packages/torch/utils/data/dataloader.py\", line 96, in _worker_loop\n",
      "    r = index_queue.get(timeout=MANAGER_STATUS_CHECK_INTERVAL)\n",
      "  File \"/home/ubuntu/anaconda3/envs/pytorch_p36/lib/python3.6/multiprocessing/connection.py\", line 257, in poll\n",
      "    return self._poll(timeout)\n",
      "  File \"/home/ubuntu/anaconda3/envs/pytorch_p36/lib/python3.6/multiprocessing/queues.py\", line 104, in get\n",
      "    if not self._poll(timeout):\n",
      "  File \"/home/ubuntu/anaconda3/envs/pytorch_p36/lib/python3.6/multiprocessing/connection.py\", line 414, in _poll\n",
      "    r = wait([self], timeout)\n",
      "  File \"/home/ubuntu/anaconda3/envs/pytorch_p36/lib/python3.6/multiprocessing/connection.py\", line 257, in poll\n",
      "    return self._poll(timeout)\n",
      "  File \"/home/ubuntu/anaconda3/envs/pytorch_p36/lib/python3.6/multiprocessing/connection.py\", line 414, in _poll\n",
      "    r = wait([self], timeout)\n",
      "  File \"/home/ubuntu/anaconda3/envs/pytorch_p36/lib/python3.6/multiprocessing/connection.py\", line 911, in wait\n",
      "    ready = selector.select(timeout)\n",
      "  File \"/home/ubuntu/anaconda3/envs/pytorch_p36/lib/python3.6/selectors.py\", line 376, in select\n",
      "    fd_event_list = self._poll.poll(timeout)\n",
      "  File \"/home/ubuntu/anaconda3/envs/pytorch_p36/lib/python3.6/multiprocessing/connection.py\", line 911, in wait\n",
      "    ready = selector.select(timeout)\n",
      "KeyboardInterrupt\n",
      "  File \"/home/ubuntu/anaconda3/envs/pytorch_p36/lib/python3.6/selectors.py\", line 376, in select\n",
      "    fd_event_list = self._poll.poll(timeout)\n",
      "KeyboardInterrupt\n"
     ]
    }
   ],
   "source": [
    "data_iter = iter(train_loader)\n",
    "imgs, lbs = data_iter.next()"
   ]
  },
  {
   "cell_type": "code",
   "execution_count": 10,
   "metadata": {},
   "outputs": [
    {
     "data": {
      "text/plain": [
       "<matplotlib.image.AxesImage at 0x7f7c5adfd2b0>"
      ]
     },
     "execution_count": 10,
     "metadata": {},
     "output_type": "execute_result"
    },
    {
     "data": {
      "image/png": "[encoded data removed]",
      "text/plain": [
       "<Figure size 432x288 with 1 Axes>"
      ]
     },
     "metadata": {},
     "output_type": "display_data"
    }
   ],
   "source": [
    "plt.imshow(imgs[1].numpy().reshape(28,28))"
   ]
  },
  {
   "cell_type": "code",
   "execution_count": null,
   "metadata": {},
   "outputs": [],
   "source": []
  },
  {
   "cell_type": "markdown",
   "metadata": {},
   "source": [
    "---\n",
    "### define conv NN\n",
    "---"
   ]
  },
  {
   "cell_type": "code",
   "execution_count": 45,
   "metadata": {},
   "outputs": [],
   "source": [
    "import torch.nn as nn\n",
    "import torch.nn.functional as F"
   ]
  },
  {
   "cell_type": "code",
   "execution_count": 46,
   "metadata": {},
   "outputs": [],
   "source": [
    "class Net(nn.Module):\n",
    "    def __init__(self):\n",
    "        super(Net, self).__init__()\n",
    "        \n",
    "        self.conv1 = nn.Conv2d(1,3,5) # input 1 channel, output 3 channel\n",
    "        self.pool = nn.MaxPool2d(2)\n",
    "        self.conv2 = nn.Conv2d(3,6,5) # input 3 channel, output 3 channel\n",
    "        \n",
    "        self.fc1 = nn.Linear(6*4*4, 30)\n",
    "        self.fc2 = nn.Linear(30,10)\n",
    "        \n",
    "    def forward(self, x):\n",
    "        x = self.pool(F.relu(self.conv1(x)))\n",
    "        x = self.pool(F.relu(self.conv2(x)))\n",
    "        x = x.view(-1, 6*4*4)\n",
    "        x = F.relu(self.fc1(x))\n",
    "        x = self.fc2(x)\n",
    "        \n",
    "        return x"
   ]
  },
  {
   "cell_type": "code",
   "execution_count": 47,
   "metadata": {},
   "outputs": [
    {
     "name": "stdout",
     "output_type": "stream",
     "text": [
      "Net(\n",
      "  (conv1): Conv2d(1, 3, kernel_size=(5, 5), stride=(1, 1))\n",
      "  (pool): MaxPool2d(kernel_size=2, stride=2, padding=0, dilation=1, ceil_mode=False)\n",
      "  (conv2): Conv2d(3, 6, kernel_size=(5, 5), stride=(1, 1))\n",
      "  (fc1): Linear(in_features=96, out_features=30, bias=True)\n",
      "  (fc2): Linear(in_features=30, out_features=10, bias=True)\n",
      ")\n"
     ]
    }
   ],
   "source": [
    "net = Net()\n",
    "print(net)"
   ]
  },
  {
   "cell_type": "code",
   "execution_count": 48,
   "metadata": {},
   "outputs": [],
   "source": [
    "import torch.optim as optim\n",
    "criterion = nn.CrossEntropyLoss()\n",
    "opt = optim.SGD(net.parameters(), lr = 0.0001, momentum = 0.9)"
   ]
  },
  {
   "cell_type": "code",
   "execution_count": 49,
   "metadata": {},
   "outputs": [
    {
     "name": "stdout",
     "output_type": "stream",
     "text": [
      "[1,  2000] loss: 2.298\n",
      "[1,  4000] loss: 2.254\n",
      "[1,  6000] loss: 1.752\n",
      "[1,  8000] loss: 0.750\n",
      "[1, 10000] loss: 0.513\n",
      "[1, 12000] loss: 0.438\n",
      "[1, 14000] loss: 0.390\n",
      "[2,  2000] loss: 0.469\n",
      "[2,  4000] loss: 0.347\n",
      "[2,  6000] loss: 0.292\n",
      "[2,  8000] loss: 0.314\n",
      "[2, 10000] loss: 0.277\n",
      "[2, 12000] loss: 0.267\n",
      "[2, 14000] loss: 0.254\n",
      "total elapsed time is 77.54s\n"
     ]
    }
   ],
   "source": [
    "t = time.time()\n",
    "\n",
    "running_loss = 0.0\n",
    "\n",
    "for epoch in range(2):\n",
    "    for i, data in enumerate(train_loader):\n",
    "        inputs, labels = data[0], data[1]\n",
    "        labels = torch.tensor(labels, dtype = torch.long)\n",
    "        \n",
    "        # zero the parametres grads\n",
    "        opt.zero_grad()\n",
    "        \n",
    "        # forward + backward + optimize\n",
    "        outputs = net(inputs)\n",
    "        loss = criterion(outputs, labels)\n",
    "        loss.backward()\n",
    "        opt.step()\n",
    "        \n",
    "        running_loss += loss.item()\n",
    "        \n",
    "        if i % 2000 == 1999: # print every 2000 mini-batchs\n",
    "            print('[%d, %5d] loss: %.3f' % (epoch + 1, i + 1, running_loss / 2000))\n",
    "            running_loss = 0.0\n",
    "            \n",
    "elapsed = time.time() - t\n",
    "print('total elapsed time is {:.2f}s'.format(elapsed))"
   ]
  },
  {
   "cell_type": "code",
   "execution_count": 50,
   "metadata": {},
   "outputs": [],
   "source": [
    "test_iter = iter(test_loader)\n",
    "imgs, lbs = test_iter.next()"
   ]
  },
  {
   "cell_type": "code",
   "execution_count": 51,
   "metadata": {},
   "outputs": [
    {
     "name": "stdout",
     "output_type": "stream",
     "text": [
      "tensor(7, dtype=torch.uint8)\n"
     ]
    },
    {
     "data": {
      "text/plain": [
       "<matplotlib.image.AxesImage at 0x7f7c5a3f74a8>"
      ]
     },
     "execution_count": 51,
     "metadata": {},
     "output_type": "execute_result"
    },
    {
     "data": {
      "image/png": "[encoded data removed]",
      "text/plain": [
       "<Figure size 432x288 with 1 Axes>"
      ]
     },
     "metadata": {},
     "output_type": "display_data"
    }
   ],
   "source": [
    "print(lbs[0])\n",
    "plt.imshow(imgs[0].view(28,28))"
   ]
  },
  {
   "cell_type": "code",
   "execution_count": 52,
   "metadata": {},
   "outputs": [
    {
     "name": "stdout",
     "output_type": "stream",
     "text": [
      "tensor([7, 2, 1, 0])\n",
      "tensor([7, 2, 1, 0], dtype=torch.uint8)\n"
     ]
    }
   ],
   "source": [
    "outs = net(imgs)\n",
    "_, preds = torch.max(outs, 1)\n",
    "\n",
    "print(preds)\n",
    "print(lbs)"
   ]
  },
  {
   "cell_type": "code",
   "execution_count": 65,
   "metadata": {},
   "outputs": [
    {
     "name": "stdout",
     "output_type": "stream",
     "text": [
      "Accuracy of the network on the 10,000 test images : 92 %\n"
     ]
    }
   ],
   "source": [
    "correct = 0\n",
    "total = 0\n",
    "with torch.no_grad():\n",
    "    for data in test_loader:\n",
    "        imgs, lbs = data[0], data[1]\n",
    "        outs = net(imgs)\n",
    "        _, predicted = torch.max(outs, 1)\n",
    "        total += lbs.size(0)\n",
    "        lbs = torch.tensor(lbs, dtype = torch.long)\n",
    "        correct += (predicted == lbs).sum().item()\n",
    "        \n",
    "print(\"Accuracy of the network on the 10,000 test images : %d %%\" % (100*correct/total))"
   ]
  },
  {
   "cell_type": "code",
   "execution_count": 66,
   "metadata": {},
   "outputs": [
    {
     "data": {
      "text/plain": [
       "tensor([[ -0.8603,   4.3019,   6.1393,  13.1871, -14.1334,   5.6133,  -7.9809,\n",
       "           2.5757,  -0.3593,  -2.6150],\n",
       "        [ -6.5445,  -4.7846,  -4.1963,  -2.9850,  10.2259,  -0.3049,  -1.2423,\n",
       "          -2.8540,   1.9693,   6.6026],\n",
       "        [  0.2969,  -0.7861,  -2.0839,  -0.7465,  -0.8021,   9.9777,   4.3743,\n",
       "          -3.7900,   5.5908,  -1.6608],\n",
       "        [  6.2984,  -7.6445,   4.3119,  -5.6665,   1.3759,   5.5810,  13.4804,\n",
       "          -9.4841,   1.2216,   0.0110]])"
      ]
     },
     "execution_count": 66,
     "metadata": {},
     "output_type": "execute_result"
    }
   ],
   "source": [
    "outs.data"
   ]
  },
  {
   "cell_type": "code",
   "execution_count": 67,
   "metadata": {},
   "outputs": [
    {
     "data": {
      "text/plain": [
       "tensor([0, 1, 2, 3, 4, 5, 6, 7, 8, 9])"
      ]
     },
     "execution_count": 67,
     "metadata": {},
     "output_type": "execute_result"
    }
   ],
   "source": [
    "classes = [0,1,2,3,4,5,6,7,8,9]\n",
    "classes = torch.tensor(classes, dtype = torch.long)\n",
    "classes"
   ]
  },
  {
   "cell_type": "code",
   "execution_count": 97,
   "metadata": {},
   "outputs": [],
   "source": [
    "lbs = lbls.long()"
   ]
  },
  {
   "cell_type": "code",
   "execution_count": 101,
   "metadata": {},
   "outputs": [
    {
     "data": {
      "text/plain": [
       "'torch.LongTensor'"
      ]
     },
     "execution_count": 101,
     "metadata": {},
     "output_type": "execute_result"
    }
   ],
   "source": [
    "lbs.type()"
   ]
  },
  {
   "cell_type": "code",
   "execution_count": 100,
   "metadata": {},
   "outputs": [
    {
     "data": {
      "text/plain": [
       "'torch.LongTensor'"
      ]
     },
     "execution_count": 100,
     "metadata": {},
     "output_type": "execute_result"
    }
   ],
   "source": [
    "preds.type()"
   ]
  },
  {
   "cell_type": "code",
   "execution_count": 112,
   "metadata": {},
   "outputs": [
    {
     "name": "stdout",
     "output_type": "stream",
     "text": [
      "Accuracy of   0 : 98 %\n",
      "Accuracy of   1 : 98 %\n",
      "Accuracy of   2 : 92 %\n",
      "Accuracy of   3 : 91 %\n",
      "Accuracy of   4 : 86 %\n",
      "Accuracy of   5 : 93 %\n",
      "Accuracy of   6 : 93 %\n",
      "Accuracy of   7 : 82 %\n",
      "Accuracy of   8 : 90 %\n",
      "Accuracy of   9 : 94 %\n"
     ]
    }
   ],
   "source": [
    "class_correct = [0. for i in range(10)]\n",
    "class_total = [0. for i in range(10)]\n",
    "\n",
    "with torch.no_grad():\n",
    "    for data in test_loader:\n",
    "        imgs, lbls = data[0], data[1]\n",
    "        outs = net(imgs)\n",
    "        _, preds = torch.max(outs, 1)\n",
    "        lbls = lbls.long()\n",
    "        c = (preds == lbls).squeeze() # squeeze -> return to tensor\n",
    "        \n",
    "        # batch size\n",
    "        for i in range(4):\n",
    "            lb = lbls[i]\n",
    "            class_correct[lb] += c[i].numpy()\n",
    "            class_total[lb] += 1\n",
    "            \n",
    "for i in range(10):\n",
    "    print(\"Accuracy of %3s : %2d %%\" % (classes[i].numpy(), 100*class_correct[i]/class_total[i]))"
   ]
  },
  {
   "cell_type": "code",
   "execution_count": null,
   "metadata": {},
   "outputs": [],
   "source": []
  },
  {
   "cell_type": "code",
   "execution_count": null,
   "metadata": {},
   "outputs": [],
   "source": []
  },
  {
   "cell_type": "markdown",
   "metadata": {},
   "source": [
    "---\n",
    "### GPU 기반 학습\n",
    "---"
   ]
  },
  {
   "cell_type": "code",
   "execution_count": 34,
   "metadata": {},
   "outputs": [
    {
     "name": "stdout",
     "output_type": "stream",
     "text": [
      "<function is_available at 0x7f7c60c70598>\n",
      "1\n",
      "Tesla K80\n"
     ]
    }
   ],
   "source": [
    "print(torch.cuda.is_available)\n",
    "print(torch.cuda.device_count())\n",
    "print(torch.cuda.get_device_name(0))"
   ]
  },
  {
   "cell_type": "code",
   "execution_count": 35,
   "metadata": {},
   "outputs": [
    {
     "data": {
      "text/plain": [
       "device(type='cuda', index=0)"
      ]
     },
     "execution_count": 35,
     "metadata": {},
     "output_type": "execute_result"
    }
   ],
   "source": [
    "device = torch.device(\"cuda:0\" if torch.cuda.is_available() else \"cpu\")\n",
    "device"
   ]
  },
  {
   "cell_type": "code",
   "execution_count": 36,
   "metadata": {},
   "outputs": [
    {
     "name": "stdout",
     "output_type": "stream",
     "text": [
      "Net(\n",
      "  (conv1): Conv2d(1, 3, kernel_size=(5, 5), stride=(1, 1))\n",
      "  (pool): MaxPool2d(kernel_size=2, stride=2, padding=0, dilation=1, ceil_mode=False)\n",
      "  (conv2): Conv2d(3, 6, kernel_size=(5, 5), stride=(1, 1))\n",
      "  (fc1): Linear(in_features=96, out_features=30, bias=True)\n",
      "  (fc2): Linear(in_features=30, out_features=10, bias=True)\n",
      ")\n"
     ]
    }
   ],
   "source": [
    "net = Net()\n",
    "net.to(device)\n",
    "print(net)\n",
    "\n",
    "criterion = nn.CrossEntropyLoss()\n",
    "opt = optim.SGD(net.parameters(), lr = 0.0001, momentum = 0.9)"
   ]
  },
  {
   "cell_type": "code",
   "execution_count": 40,
   "metadata": {},
   "outputs": [
    {
     "name": "stdout",
     "output_type": "stream",
     "text": [
      "[1,  2000] loss: 2.308\n",
      "[1,  4000] loss: 2.298\n",
      "[1,  6000] loss: 2.273\n",
      "[1,  8000] loss: 2.123\n",
      "[1, 10000] loss: 1.103\n",
      "[1, 12000] loss: 0.566\n",
      "[1, 14000] loss: 0.441\n",
      "[2,  2000] loss: 0.497\n",
      "[2,  4000] loss: 0.346\n",
      "[2,  6000] loss: 0.286\n",
      "[2,  8000] loss: 0.292\n",
      "[2, 10000] loss: 0.246\n",
      "[2, 12000] loss: 0.252\n",
      "[2, 14000] loss: 0.237\n",
      "total elapsed time is 80.29s\n"
     ]
    }
   ],
   "source": [
    "t = time.time()\n",
    "\n",
    "running_loss = 0.0\n",
    "\n",
    "for epoch in range(2):\n",
    "    for i, data in enumerate(train_loader):\n",
    "        inputs, labels = data[0].to(device), data[1].to(device)\n",
    "        labels = labels.long()\n",
    "        \n",
    "        # zero the parametres grads\n",
    "        opt.zero_grad()\n",
    "        \n",
    "        # forward + backward + optimize\n",
    "        outputs = net(inputs)\n",
    "        loss = criterion(outputs, labels)\n",
    "        loss.backward()\n",
    "        opt.step()\n",
    "        \n",
    "        running_loss += loss.item()\n",
    "        \n",
    "        if i % 2000 == 1999: # print every 2000 mini-batchs\n",
    "            print('[%d, %5d] loss: %.3f' % (epoch + 1, i + 1, running_loss / 2000))\n",
    "            running_loss = 0.0\n",
    "            \n",
    "elapsed = time.time() - t\n",
    "print('total elapsed time is {:.2f}s'.format(elapsed))"
   ]
  },
  {
   "cell_type": "code",
   "execution_count": 41,
   "metadata": {},
   "outputs": [
    {
     "data": {
      "text/plain": [
       "<function Tensor.type>"
      ]
     },
     "execution_count": 41,
     "metadata": {},
     "output_type": "execute_result"
    }
   ],
   "source": [
    "inputs.type"
   ]
  }
 ],
 "metadata": {
  "kernelspec": {
   "display_name": "Python [conda env:pytorch_p36]",
   "language": "python",
   "name": "conda-env-pytorch_p36-py"
  },
  "language_info": {
   "codemirror_mode": {
    "name": "ipython",
    "version": 3
   },
   "file_extension": ".py",
   "mimetype": "text/x-python",
   "name": "python",
   "nbconvert_exporter": "python",
   "pygments_lexer": "ipython3",
   "version": "3.6.6"
  }
 },
 "nbformat": 4,
 "nbformat_minor": 2
}
