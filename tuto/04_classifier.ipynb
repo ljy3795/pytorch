{
 "cells": [
  {
   "cell_type": "markdown",
   "metadata": {},
   "source": [
    "---\n",
    "- For images, packages such as Pillow, OpenCV are useful\n",
    "- For audio, packages such as scipy and librosa\n",
    "- For text, either raw Python or Cython based loading, or NLTK and SpaCy are useful\n",
    "<br><br>\n",
    "- convert raw dataset to numpy array -> torch.*Tensor / from_numpy()\n",
    "---"
   ]
  },
  {
   "cell_type": "code",
   "execution_count": 1,
   "metadata": {},
   "outputs": [],
   "source": [
    "import torch\n",
    "import torchvision\n",
    "import torchvision.transforms as transforms\n",
    "\n",
    "import matplotlib.pyplot as plt\n",
    "%matplotlib inline\n",
    "\n",
    "import os, time"
   ]
  },
  {
   "cell_type": "code",
   "execution_count": 2,
   "metadata": {},
   "outputs": [],
   "source": [
    "## refer : https://github.com/pytorch/vision/blob/master/torchvision/datasets/mnist.py\n",
    "\n",
    "# transform = transforms.Compose(\n",
    "#     [transforms.ToTensor(),\n",
    "#      transforms.Normalize((0.5, 0.5, 0.5), (0.5, 0.5, 0.5))])\n",
    "\n",
    "# trainset = torchvision.datasets.CIFAR10(root='./data', train=True,\n",
    "#                                         download=True, transform=transform)\n",
    "# trainloader = torch.utils.data.DataLoader(trainset, batch_size=4,\n",
    "#                                           shuffle=True, num_workers=2)\n",
    "\n",
    "# testset = torchvision.datasets.CIFAR10(root='./data', train=False,\n",
    "#                                        download=True, transform=transform)\n",
    "# testloader = torch.utils.data.DataLoader(testset, batch_size=4,\n",
    "#                                          shuffle=False, num_workers=2)\n",
    "\n",
    "# classes = ('plane', 'car', 'bird', 'cat',\n",
    "#            'deer', 'dog', 'frog', 'horse', 'ship', 'truck')"
   ]
  },
  {
   "cell_type": "code",
   "execution_count": 3,
   "metadata": {},
   "outputs": [
    {
     "name": "stdout",
     "output_type": "stream",
     "text": [
      "Downloading http://yann.lecun.com/exdb/mnist/train-images-idx3-ubyte.gz\n",
      "Downloading http://yann.lecun.com/exdb/mnist/train-labels-idx1-ubyte.gz\n",
      "Downloading http://yann.lecun.com/exdb/mnist/t10k-images-idx3-ubyte.gz\n",
      "Downloading http://yann.lecun.com/exdb/mnist/t10k-labels-idx1-ubyte.gz\n",
      "Processing...\n",
      "Done!\n",
      "/home/ubuntu/notebooks/pytorch/tuto/../../data/mnist/raw\n",
      "['train-labels-idx1-ubyte', 'train-images-idx3-ubyte', 't10k-images-idx3-ubyte', 't10k-labels-idx1-ubyte']\n"
     ]
    }
   ],
   "source": [
    "dataset_path = os.path.join(str(os.getcwd()), '../../data')\n",
    "\n",
    "trainset = torchvision.datasets.MNIST(root=dataset_path, train=True, download=True)\n",
    "testset = torchvision.datasets.MNIST(root=dataset_path, train=False, download=True)\n",
    "\n",
    "dataset_path = os.path.join(dataset_path, 'mnist/raw')\n",
    "print(dataset_path)\n",
    "\n",
    "data_list = os.listdir(dataset_path)\n",
    "print(data_list)"
   ]
  },
  {
   "cell_type": "code",
   "execution_count": 4,
   "metadata": {},
   "outputs": [],
   "source": [
    "import gzip, codecs\n",
    "import numpy as np\n",
    "\n",
    "# with gzip.open(os.path.join(str(dataset_path), str(data_list[2])), 'rb') as f:\n",
    "with open(os.path.join(str(dataset_path), str(data_list[1])), 'rb') as f:\n",
    "    data = f.read()\n",
    "    n_imgs = int(codecs.encode(data[4:8], 'hex'),16)\n",
    "    n_rows = int(codecs.encode(data[8:12], 'hex'),16)\n",
    "    n_cols = int(codecs.encode(data[12:16], 'hex'),16)\n",
    "    \n",
    "    parsed = np.frombuffer(data, dtype = np.uint8, offset=16)\n",
    "    train_imgs = parsed.reshape(n_imgs, 1, n_rows, n_cols) # batch / channel / width / heights\n",
    "    train_imgs = train_imgs.astype(np.float32)/255.0 # [0,1] normalize\n",
    "    train_imgs = torch.from_numpy(train_imgs)\n",
    "    \n",
    "with open(os.path.join(str(dataset_path), str(data_list[0])), 'rb') as f:\n",
    "    data = f.read()\n",
    "    n_imgs = int(codecs.encode(data[4:8], 'hex'), 16)\n",
    "    \n",
    "    train_labels = np.frombuffer(data, dtype=np.uint8, offset=8)\n",
    "    train_labels = torch.from_numpy(train_labels)\n",
    "    \n",
    "    \n",
    "    \n",
    "with open(os.path.join(str(dataset_path), str(data_list[2])), 'rb') as f:\n",
    "    data = f.read()\n",
    "    n_imgs = int(codecs.encode(data[4:8], 'hex'),16)\n",
    "    n_rows = int(codecs.encode(data[8:12], 'hex'),16)\n",
    "    n_cols = int(codecs.encode(data[12:16], 'hex'),16)\n",
    "    \n",
    "    parsed = np.frombuffer(data, dtype = np.uint8, offset=16)\n",
    "    test_imgs = parsed.reshape(n_imgs, 1, n_rows, n_cols) # batch / channel / width / heights\n",
    "    test_imgs = test_imgs.astype(np.float32)/255.0 # [0,1] normalize\n",
    "    test_imgs = torch.from_numpy(test_imgs)\n",
    "    \n",
    "with open(os.path.join(str(dataset_path), str(data_list[3])), 'rb') as f:\n",
    "    data = f.read()\n",
    "    n_imgs = int(codecs.encode(data[4:8], 'hex'), 16)\n",
    "    \n",
    "    test_labels = np.frombuffer(data, dtype=np.uint8, offset=8)\n",
    "    test_labels = torch.from_numpy(test_labels)"
   ]
  },
  {
   "cell_type": "code",
   "execution_count": 5,
   "metadata": {},
   "outputs": [
    {
     "name": "stdout",
     "output_type": "stream",
     "text": [
      "torch.Size([60000, 1, 28, 28]) torch.Size([60000])\n",
      "torch.Size([10000, 1, 28, 28]) torch.Size([10000])\n"
     ]
    }
   ],
   "source": [
    "print(train_imgs.size(), train_labels.size())\n",
    "print(test_imgs.size(), test_labels.size())"
   ]
  },
  {
   "cell_type": "code",
   "execution_count": 6,
   "metadata": {},
   "outputs": [
    {
     "name": "stdout",
     "output_type": "stream",
     "text": [
      "tensor(5, dtype=torch.uint8)\n"
     ]
    },
    {
     "data": {
      "image/png": "[encoded data removed]",
      "text/plain": [
       "<Figure size 432x288 with 1 Axes>"
      ]
     },
     "metadata": {},
     "output_type": "display_data"
    }
   ],
   "source": [
    "plt.imshow(train_imgs[0].numpy().reshape(28,28))\n",
    "print(train_labels[0].data)"
   ]
  },
  {
   "cell_type": "code",
   "execution_count": 7,
   "metadata": {},
   "outputs": [
    {
     "name": "stdout",
     "output_type": "stream",
     "text": [
      "0.0\n",
      "1.0\n"
     ]
    }
   ],
   "source": [
    "# scaling 결과 확인\n",
    "print(np.min(train_imgs.numpy()))\n",
    "print(np.max(train_imgs.numpy()))"
   ]
  },
  {
   "cell_type": "code",
   "execution_count": 8,
   "metadata": {},
   "outputs": [],
   "source": [
    "a = train_imgs.numpy()"
   ]
  },
  {
   "cell_type": "code",
   "execution_count": 9,
   "metadata": {},
   "outputs": [
    {
     "data": {
      "text/plain": [
       "(60000, 1, 28, 28)"
      ]
     },
     "execution_count": 9,
     "metadata": {},
     "output_type": "execute_result"
    }
   ],
   "source": [
    "a.shape"
   ]
  },
  {
   "cell_type": "code",
   "execution_count": 10,
   "metadata": {},
   "outputs": [],
   "source": [
    "import torch.utils.data as data_utils\n",
    "\n",
    "train = data_utils.TensorDataset(train_imgs, train_labels)\n",
    "train_loader = data_utils.DataLoader(train, batch_size=4, shuffle=False, num_workers=2)\n",
    "\n",
    "test = data_utils.TensorDataset(test_imgs, test_labels)\n",
    "test_loader = data_utils.DataLoader(test, batch_size=4, shuffle=False, num_workers=2)"
   ]
  },
  {
   "cell_type": "code",
   "execution_count": 11,
   "metadata": {},
   "outputs": [],
   "source": [
    "data_iter = iter(train_loader)\n",
    "imgs, lbs = data_iter.next()"
   ]
  },
  {
   "cell_type": "code",
   "execution_count": 12,
   "metadata": {},
   "outputs": [
    {
     "name": "stdout",
     "output_type": "stream",
     "text": [
      "tensor(0, dtype=torch.uint8)\n"
     ]
    },
    {
     "data": {
      "image/png": "[encoded data removed]",
      "text/plain": [
       "<Figure size 432x288 with 1 Axes>"
      ]
     },
     "metadata": {},
     "output_type": "display_data"
    }
   ],
   "source": [
    "plt.imshow(imgs[1].numpy().reshape(28,28))\n",
    "print(lbs[1])"
   ]
  },
  {
   "cell_type": "code",
   "execution_count": null,
   "metadata": {},
   "outputs": [],
   "source": []
  },
  {
   "cell_type": "markdown",
   "metadata": {},
   "source": [
    "---\n",
    "### define conv NN\n",
    "---"
   ]
  },
  {
   "cell_type": "code",
   "execution_count": 13,
   "metadata": {},
   "outputs": [],
   "source": [
    "import torch.nn as nn\n",
    "import torch.nn.functional as F"
   ]
  },
  {
   "cell_type": "code",
   "execution_count": 14,
   "metadata": {},
   "outputs": [],
   "source": [
    "class Net(nn.Module):\n",
    "    def __init__(self):\n",
    "        super(Net, self).__init__()\n",
    "        \n",
    "        self.conv1 = nn.Conv2d(1,3,5) # input 1 channel, output 3 channel\n",
    "        self.pool = nn.MaxPool2d(2)\n",
    "        self.conv2 = nn.Conv2d(3,6,5) # input 3 channel, output 3 channel\n",
    "        \n",
    "        self.fc1 = nn.Linear(6*4*4, 30)\n",
    "        self.fc2 = nn.Linear(30,10)\n",
    "        \n",
    "    def forward(self, x):\n",
    "        x = self.pool(F.relu(self.conv1(x)))\n",
    "        x = self.pool(F.relu(self.conv2(x)))\n",
    "        x = x.view(-1, 6*4*4)\n",
    "        x = F.relu(self.fc1(x))\n",
    "        x = self.fc2(x)\n",
    "        \n",
    "        return x"
   ]
  },
  {
   "cell_type": "code",
   "execution_count": 15,
   "metadata": {},
   "outputs": [
    {
     "name": "stdout",
     "output_type": "stream",
     "text": [
      "Net(\n",
      "  (conv1): Conv2d(1, 3, kernel_size=(5, 5), stride=(1, 1))\n",
      "  (pool): MaxPool2d(kernel_size=2, stride=2, padding=0, dilation=1, ceil_mode=False)\n",
      "  (conv2): Conv2d(3, 6, kernel_size=(5, 5), stride=(1, 1))\n",
      "  (fc1): Linear(in_features=96, out_features=30, bias=True)\n",
      "  (fc2): Linear(in_features=30, out_features=10, bias=True)\n",
      ")\n"
     ]
    }
   ],
   "source": [
    "net = Net()\n",
    "print(net)"
   ]
  },
  {
   "cell_type": "code",
   "execution_count": 22,
   "metadata": {},
   "outputs": [],
   "source": []
  },
  {
   "cell_type": "code",
   "execution_count": 32,
   "metadata": {},
   "outputs": [
    {
     "data": {
      "image/svg+xml": [
       "<?xml version=\"1.0\" encoding=\"UTF-8\" standalone=\"no\"?>\n",
       "<!DOCTYPE svg PUBLIC \"-//W3C//DTD SVG 1.1//EN\"\n",
       " \"http://www.w3.org/Graphics/SVG/1.1/DTD/svg11.dtd\">\n",
       "<!-- Generated by graphviz version 2.40.1 (20161225.0304)\n",
       " -->\n",
       "<!-- Title: %3 Pages: 1 -->\n",
       "<svg width=\"407pt\" height=\"655pt\"\n",
       " viewBox=\"0.00 0.00 407.00 655.00\" xmlns=\"http://www.w3.org/2000/svg\" xmlns:xlink=\"http://www.w3.org/1999/xlink\">\n",
       "<g id=\"graph0\" class=\"graph\" transform=\"scale(1 1) rotate(0) translate(4 651)\">\n",
       "<title>%3</title>\n",
       "<polygon fill=\"#ffffff\" stroke=\"transparent\" points=\"-4,4 -4,-651 403,-651 403,4 -4,4\"/>\n",
       "<!-- 140619030624800 -->\n",
       "<g id=\"node1\" class=\"node\">\n",
       "<title>140619030624800</title>\n",
       "<polygon fill=\"#caff70\" stroke=\"#000000\" points=\"294.5,-21 176.5,-21 176.5,0 294.5,0 294.5,-21\"/>\n",
       "<text text-anchor=\"middle\" x=\"235.5\" y=\"-7.4\" font-family=\"Times,serif\" font-size=\"12.00\" fill=\"#000000\">ThAddmmBackward</text>\n",
       "</g>\n",
       "<!-- 140619030623008 -->\n",
       "<g id=\"node2\" class=\"node\">\n",
       "<title>140619030623008</title>\n",
       "<polygon fill=\"#d3d3d3\" stroke=\"#000000\" points=\"173.5,-78 71.5,-78 71.5,-57 173.5,-57 173.5,-78\"/>\n",
       "<text text-anchor=\"middle\" x=\"122.5\" y=\"-64.4\" font-family=\"Times,serif\" font-size=\"12.00\" fill=\"#000000\">ExpandBackward</text>\n",
       "</g>\n",
       "<!-- 140619030623008&#45;&gt;140619030624800 -->\n",
       "<g id=\"edge1\" class=\"edge\">\n",
       "<title>140619030623008&#45;&gt;140619030624800</title>\n",
       "<path fill=\"none\" stroke=\"#000000\" d=\"M143.4896,-56.9123C160.932,-48.114 185.9675,-35.4854 205.5213,-25.622\"/>\n",
       "<polygon fill=\"#000000\" stroke=\"#000000\" points=\"207.2707,-28.6597 214.6228,-21.031 204.1181,-22.4098 207.2707,-28.6597\"/>\n",
       "</g>\n",
       "<!-- 140619030625696 -->\n",
       "<g id=\"node3\" class=\"node\">\n",
       "<title>140619030625696</title>\n",
       "<polygon fill=\"#add8e6\" stroke=\"#000000\" points=\"149.5,-149 95.5,-149 95.5,-114 149.5,-114 149.5,-149\"/>\n",
       "<text text-anchor=\"middle\" x=\"122.5\" y=\"-121.4\" font-family=\"Times,serif\" font-size=\"12.00\" fill=\"#000000\"> (10)</text>\n",
       "</g>\n",
       "<!-- 140619030625696&#45;&gt;140619030623008 -->\n",
       "<g id=\"edge2\" class=\"edge\">\n",
       "<title>140619030625696&#45;&gt;140619030623008</title>\n",
       "<path fill=\"none\" stroke=\"#000000\" d=\"M122.5,-113.6724C122.5,-105.8405 122.5,-96.5893 122.5,-88.4323\"/>\n",
       "<polygon fill=\"#000000\" stroke=\"#000000\" points=\"126.0001,-88.2234 122.5,-78.2234 119.0001,-88.2235 126.0001,-88.2234\"/>\n",
       "</g>\n",
       "<!-- 140619030624296 -->\n",
       "<g id=\"node4\" class=\"node\">\n",
       "<title>140619030624296</title>\n",
       "<polygon fill=\"#d3d3d3\" stroke=\"#000000\" points=\"279.5,-78 191.5,-78 191.5,-57 279.5,-57 279.5,-78\"/>\n",
       "<text text-anchor=\"middle\" x=\"235.5\" y=\"-64.4\" font-family=\"Times,serif\" font-size=\"12.00\" fill=\"#000000\">ReluBackward</text>\n",
       "</g>\n",
       "<!-- 140619030624296&#45;&gt;140619030624800 -->\n",
       "<g id=\"edge3\" class=\"edge\">\n",
       "<title>140619030624296&#45;&gt;140619030624800</title>\n",
       "<path fill=\"none\" stroke=\"#000000\" d=\"M235.5,-56.7787C235.5,-49.6134 235.5,-39.9517 235.5,-31.3097\"/>\n",
       "<polygon fill=\"#000000\" stroke=\"#000000\" points=\"239.0001,-31.1732 235.5,-21.1732 232.0001,-31.1732 239.0001,-31.1732\"/>\n",
       "</g>\n",
       "<!-- 140619030622952 -->\n",
       "<g id=\"node5\" class=\"node\">\n",
       "<title>140619030622952</title>\n",
       "<polygon fill=\"#d3d3d3\" stroke=\"#000000\" points=\"292.5,-142 174.5,-142 174.5,-121 292.5,-121 292.5,-142\"/>\n",
       "<text text-anchor=\"middle\" x=\"233.5\" y=\"-128.4\" font-family=\"Times,serif\" font-size=\"12.00\" fill=\"#000000\">ThAddmmBackward</text>\n",
       "</g>\n",
       "<!-- 140619030622952&#45;&gt;140619030624296 -->\n",
       "<g id=\"edge4\" class=\"edge\">\n",
       "<title>140619030622952&#45;&gt;140619030624296</title>\n",
       "<path fill=\"none\" stroke=\"#000000\" d=\"M233.8303,-120.9317C234.1065,-112.0913 234.509,-99.2122 234.8496,-88.3135\"/>\n",
       "<polygon fill=\"#000000\" stroke=\"#000000\" points=\"238.3484,-88.4024 235.1626,-78.2979 231.3518,-88.1837 238.3484,-88.4024\"/>\n",
       "</g>\n",
       "<!-- 140619030624520 -->\n",
       "<g id=\"node6\" class=\"node\">\n",
       "<title>140619030624520</title>\n",
       "<polygon fill=\"#d3d3d3\" stroke=\"#000000\" points=\"159.5,-206 57.5,-206 57.5,-185 159.5,-185 159.5,-206\"/>\n",
       "<text text-anchor=\"middle\" x=\"108.5\" y=\"-192.4\" font-family=\"Times,serif\" font-size=\"12.00\" fill=\"#000000\">ExpandBackward</text>\n",
       "</g>\n",
       "<!-- 140619030624520&#45;&gt;140619030622952 -->\n",
       "<g id=\"edge5\" class=\"edge\">\n",
       "<title>140619030624520&#45;&gt;140619030622952</title>\n",
       "<path fill=\"none\" stroke=\"#000000\" d=\"M129.1412,-184.9317C149.4971,-174.5095 180.8167,-158.4738 203.8364,-146.6878\"/>\n",
       "<polygon fill=\"#000000\" stroke=\"#000000\" points=\"205.5221,-149.7568 212.8281,-142.084 202.3319,-143.526 205.5221,-149.7568\"/>\n",
       "</g>\n",
       "<!-- 140619030624352 -->\n",
       "<g id=\"node7\" class=\"node\">\n",
       "<title>140619030624352</title>\n",
       "<polygon fill=\"#add8e6\" stroke=\"#000000\" points=\"124.5,-277 70.5,-277 70.5,-242 124.5,-242 124.5,-277\"/>\n",
       "<text text-anchor=\"middle\" x=\"97.5\" y=\"-249.4\" font-family=\"Times,serif\" font-size=\"12.00\" fill=\"#000000\"> (30)</text>\n",
       "</g>\n",
       "<!-- 140619030624352&#45;&gt;140619030624520 -->\n",
       "<g id=\"edge6\" class=\"edge\">\n",
       "<title>140619030624352&#45;&gt;140619030624520</title>\n",
       "<path fill=\"none\" stroke=\"#000000\" d=\"M100.5641,-241.6724C101.9255,-233.7515 103.5364,-224.3788 104.95,-216.1546\"/>\n",
       "<polygon fill=\"#000000\" stroke=\"#000000\" points=\"108.4123,-216.6718 106.6569,-206.2234 101.5135,-215.486 108.4123,-216.6718\"/>\n",
       "</g>\n",
       "<!-- 140619030622616 -->\n",
       "<g id=\"node8\" class=\"node\">\n",
       "<title>140619030622616</title>\n",
       "<polygon fill=\"#d3d3d3\" stroke=\"#000000\" points=\"279.5,-206 187.5,-206 187.5,-185 279.5,-185 279.5,-206\"/>\n",
       "<text text-anchor=\"middle\" x=\"233.5\" y=\"-192.4\" font-family=\"Times,serif\" font-size=\"12.00\" fill=\"#000000\">ViewBackward</text>\n",
       "</g>\n",
       "<!-- 140619030622616&#45;&gt;140619030622952 -->\n",
       "<g id=\"edge7\" class=\"edge\">\n",
       "<title>140619030622616&#45;&gt;140619030622952</title>\n",
       "<path fill=\"none\" stroke=\"#000000\" d=\"M233.5,-184.9317C233.5,-176.0913 233.5,-163.2122 233.5,-152.3135\"/>\n",
       "<polygon fill=\"#000000\" stroke=\"#000000\" points=\"237.0001,-152.2979 233.5,-142.2979 230.0001,-152.2979 237.0001,-152.2979\"/>\n",
       "</g>\n",
       "<!-- 140619030624856 -->\n",
       "<g id=\"node9\" class=\"node\">\n",
       "<title>140619030624856</title>\n",
       "<polygon fill=\"#d3d3d3\" stroke=\"#000000\" points=\"324,-270 143,-270 143,-249 324,-249 324,-270\"/>\n",
       "<text text-anchor=\"middle\" x=\"233.5\" y=\"-256.4\" font-family=\"Times,serif\" font-size=\"12.00\" fill=\"#000000\">MaxPool2DWithIndicesBackward</text>\n",
       "</g>\n",
       "<!-- 140619030624856&#45;&gt;140619030622616 -->\n",
       "<g id=\"edge8\" class=\"edge\">\n",
       "<title>140619030624856&#45;&gt;140619030622616</title>\n",
       "<path fill=\"none\" stroke=\"#000000\" d=\"M233.5,-248.9317C233.5,-240.0913 233.5,-227.2122 233.5,-216.3135\"/>\n",
       "<polygon fill=\"#000000\" stroke=\"#000000\" points=\"237.0001,-216.2979 233.5,-206.2979 230.0001,-216.2979 237.0001,-216.2979\"/>\n",
       "</g>\n",
       "<!-- 140619030622896 -->\n",
       "<g id=\"node10\" class=\"node\">\n",
       "<title>140619030622896</title>\n",
       "<polygon fill=\"#d3d3d3\" stroke=\"#000000\" points=\"277.5,-334 189.5,-334 189.5,-313 277.5,-313 277.5,-334\"/>\n",
       "<text text-anchor=\"middle\" x=\"233.5\" y=\"-320.4\" font-family=\"Times,serif\" font-size=\"12.00\" fill=\"#000000\">ReluBackward</text>\n",
       "</g>\n",
       "<!-- 140619030622896&#45;&gt;140619030624856 -->\n",
       "<g id=\"edge9\" class=\"edge\">\n",
       "<title>140619030622896&#45;&gt;140619030624856</title>\n",
       "<path fill=\"none\" stroke=\"#000000\" d=\"M233.5,-312.9317C233.5,-304.0913 233.5,-291.2122 233.5,-280.3135\"/>\n",
       "<polygon fill=\"#000000\" stroke=\"#000000\" points=\"237.0001,-280.2979 233.5,-270.2979 230.0001,-280.2979 237.0001,-280.2979\"/>\n",
       "</g>\n",
       "<!-- 140619030624016 -->\n",
       "<g id=\"node11\" class=\"node\">\n",
       "<title>140619030624016</title>\n",
       "<polygon fill=\"#d3d3d3\" stroke=\"#000000\" points=\"299.5,-391 167.5,-391 167.5,-370 299.5,-370 299.5,-391\"/>\n",
       "<text text-anchor=\"middle\" x=\"233.5\" y=\"-377.4\" font-family=\"Times,serif\" font-size=\"12.00\" fill=\"#000000\">ThnnConv2DBackward</text>\n",
       "</g>\n",
       "<!-- 140619030624016&#45;&gt;140619030622896 -->\n",
       "<g id=\"edge10\" class=\"edge\">\n",
       "<title>140619030624016&#45;&gt;140619030622896</title>\n",
       "<path fill=\"none\" stroke=\"#000000\" d=\"M233.5,-369.7787C233.5,-362.6134 233.5,-352.9517 233.5,-344.3097\"/>\n",
       "<polygon fill=\"#000000\" stroke=\"#000000\" points=\"237.0001,-344.1732 233.5,-334.1732 230.0001,-344.1732 237.0001,-344.1732\"/>\n",
       "</g>\n",
       "<!-- 140619030625808 -->\n",
       "<g id=\"node12\" class=\"node\">\n",
       "<title>140619030625808</title>\n",
       "<polygon fill=\"#d3d3d3\" stroke=\"#000000\" points=\"181,-455 0,-455 0,-434 181,-434 181,-455\"/>\n",
       "<text text-anchor=\"middle\" x=\"90.5\" y=\"-441.4\" font-family=\"Times,serif\" font-size=\"12.00\" fill=\"#000000\">MaxPool2DWithIndicesBackward</text>\n",
       "</g>\n",
       "<!-- 140619030625808&#45;&gt;140619030624016 -->\n",
       "<g id=\"edge11\" class=\"edge\">\n",
       "<title>140619030625808&#45;&gt;140619030624016</title>\n",
       "<path fill=\"none\" stroke=\"#000000\" d=\"M114.1135,-433.9317C137.7112,-423.3705 174.188,-407.0452 200.6131,-395.2186\"/>\n",
       "<polygon fill=\"#000000\" stroke=\"#000000\" points=\"202.1536,-398.3638 209.8514,-391.084 199.294,-391.9745 202.1536,-398.3638\"/>\n",
       "</g>\n",
       "<!-- 140619030624968 -->\n",
       "<g id=\"node13\" class=\"node\">\n",
       "<title>140619030624968</title>\n",
       "<polygon fill=\"#d3d3d3\" stroke=\"#000000\" points=\"134.5,-519 46.5,-519 46.5,-498 134.5,-498 134.5,-519\"/>\n",
       "<text text-anchor=\"middle\" x=\"90.5\" y=\"-505.4\" font-family=\"Times,serif\" font-size=\"12.00\" fill=\"#000000\">ReluBackward</text>\n",
       "</g>\n",
       "<!-- 140619030624968&#45;&gt;140619030625808 -->\n",
       "<g id=\"edge12\" class=\"edge\">\n",
       "<title>140619030624968&#45;&gt;140619030625808</title>\n",
       "<path fill=\"none\" stroke=\"#000000\" d=\"M90.5,-497.9317C90.5,-489.0913 90.5,-476.2122 90.5,-465.3135\"/>\n",
       "<polygon fill=\"#000000\" stroke=\"#000000\" points=\"94.0001,-465.2979 90.5,-455.2979 87.0001,-465.2979 94.0001,-465.2979\"/>\n",
       "</g>\n",
       "<!-- 140619030625136 -->\n",
       "<g id=\"node14\" class=\"node\">\n",
       "<title>140619030625136</title>\n",
       "<polygon fill=\"#d3d3d3\" stroke=\"#000000\" points=\"156.5,-576 24.5,-576 24.5,-555 156.5,-555 156.5,-576\"/>\n",
       "<text text-anchor=\"middle\" x=\"90.5\" y=\"-562.4\" font-family=\"Times,serif\" font-size=\"12.00\" fill=\"#000000\">ThnnConv2DBackward</text>\n",
       "</g>\n",
       "<!-- 140619030625136&#45;&gt;140619030624968 -->\n",
       "<g id=\"edge13\" class=\"edge\">\n",
       "<title>140619030625136&#45;&gt;140619030624968</title>\n",
       "<path fill=\"none\" stroke=\"#000000\" d=\"M90.5,-554.7787C90.5,-547.6134 90.5,-537.9517 90.5,-529.3097\"/>\n",
       "<polygon fill=\"#000000\" stroke=\"#000000\" points=\"94.0001,-529.1732 90.5,-519.1732 87.0001,-529.1732 94.0001,-529.1732\"/>\n",
       "</g>\n",
       "<!-- 140619030591304 -->\n",
       "<g id=\"node15\" class=\"node\">\n",
       "<title>140619030591304</title>\n",
       "<polygon fill=\"#add8e6\" stroke=\"#000000\" points=\"85,-647 16,-647 16,-612 85,-612 85,-647\"/>\n",
       "<text text-anchor=\"middle\" x=\"50.5\" y=\"-619.4\" font-family=\"Times,serif\" font-size=\"12.00\" fill=\"#000000\"> (3, 1, 5, 5)</text>\n",
       "</g>\n",
       "<!-- 140619030591304&#45;&gt;140619030625136 -->\n",
       "<g id=\"edge14\" class=\"edge\">\n",
       "<title>140619030591304&#45;&gt;140619030625136</title>\n",
       "<path fill=\"none\" stroke=\"#000000\" d=\"M61.6422,-611.6724C66.8709,-603.3066 73.1118,-593.3212 78.4501,-584.7799\"/>\n",
       "<polygon fill=\"#000000\" stroke=\"#000000\" points=\"81.4658,-586.5584 83.7979,-576.2234 75.5298,-582.8484 81.4658,-586.5584\"/>\n",
       "</g>\n",
       "<!-- 140619030591192 -->\n",
       "<g id=\"node16\" class=\"node\">\n",
       "<title>140619030591192</title>\n",
       "<polygon fill=\"#add8e6\" stroke=\"#000000\" points=\"157.5,-647 103.5,-647 103.5,-612 157.5,-612 157.5,-647\"/>\n",
       "<text text-anchor=\"middle\" x=\"130.5\" y=\"-619.4\" font-family=\"Times,serif\" font-size=\"12.00\" fill=\"#000000\"> (3)</text>\n",
       "</g>\n",
       "<!-- 140619030591192&#45;&gt;140619030625136 -->\n",
       "<g id=\"edge15\" class=\"edge\">\n",
       "<title>140619030591192&#45;&gt;140619030625136</title>\n",
       "<path fill=\"none\" stroke=\"#000000\" d=\"M119.3578,-611.6724C114.1291,-603.3066 107.8882,-593.3212 102.5499,-584.7799\"/>\n",
       "<polygon fill=\"#000000\" stroke=\"#000000\" points=\"105.4702,-582.8484 97.2021,-576.2234 99.5342,-586.5584 105.4702,-582.8484\"/>\n",
       "</g>\n",
       "<!-- 140619030625752 -->\n",
       "<g id=\"node17\" class=\"node\">\n",
       "<title>140619030625752</title>\n",
       "<polygon fill=\"#add8e6\" stroke=\"#000000\" points=\"268,-462 199,-462 199,-427 268,-427 268,-462\"/>\n",
       "<text text-anchor=\"middle\" x=\"233.5\" y=\"-434.4\" font-family=\"Times,serif\" font-size=\"12.00\" fill=\"#000000\"> (6, 3, 5, 5)</text>\n",
       "</g>\n",
       "<!-- 140619030625752&#45;&gt;140619030624016 -->\n",
       "<g id=\"edge16\" class=\"edge\">\n",
       "<title>140619030625752&#45;&gt;140619030624016</title>\n",
       "<path fill=\"none\" stroke=\"#000000\" d=\"M233.5,-426.6724C233.5,-418.8405 233.5,-409.5893 233.5,-401.4323\"/>\n",
       "<polygon fill=\"#000000\" stroke=\"#000000\" points=\"237.0001,-401.2234 233.5,-391.2234 230.0001,-401.2235 237.0001,-401.2234\"/>\n",
       "</g>\n",
       "<!-- 140619030625192 -->\n",
       "<g id=\"node18\" class=\"node\">\n",
       "<title>140619030625192</title>\n",
       "<polygon fill=\"#add8e6\" stroke=\"#000000\" points=\"340.5,-462 286.5,-462 286.5,-427 340.5,-427 340.5,-462\"/>\n",
       "<text text-anchor=\"middle\" x=\"313.5\" y=\"-434.4\" font-family=\"Times,serif\" font-size=\"12.00\" fill=\"#000000\"> (6)</text>\n",
       "</g>\n",
       "<!-- 140619030625192&#45;&gt;140619030624016 -->\n",
       "<g id=\"edge17\" class=\"edge\">\n",
       "<title>140619030625192&#45;&gt;140619030624016</title>\n",
       "<path fill=\"none\" stroke=\"#000000\" d=\"M291.2155,-426.6724C279.8682,-417.5946 266.1372,-406.6098 254.9155,-397.6324\"/>\n",
       "<polygon fill=\"#000000\" stroke=\"#000000\" points=\"256.8994,-394.7374 246.9043,-391.2234 252.5266,-400.2035 256.8994,-394.7374\"/>\n",
       "</g>\n",
       "<!-- 140619030622672 -->\n",
       "<g id=\"node19\" class=\"node\">\n",
       "<title>140619030622672</title>\n",
       "<polygon fill=\"#d3d3d3\" stroke=\"#000000\" points=\"389,-206 316,-206 316,-185 389,-185 389,-206\"/>\n",
       "<text text-anchor=\"middle\" x=\"352.5\" y=\"-192.4\" font-family=\"Times,serif\" font-size=\"12.00\" fill=\"#000000\">TBackward</text>\n",
       "</g>\n",
       "<!-- 140619030622672&#45;&gt;140619030622952 -->\n",
       "<g id=\"edge18\" class=\"edge\">\n",
       "<title>140619030622672&#45;&gt;140619030622952</title>\n",
       "<path fill=\"none\" stroke=\"#000000\" d=\"M332.8496,-184.9317C313.5569,-174.5558 283.9193,-158.6163 262.0324,-146.8452\"/>\n",
       "<polygon fill=\"#000000\" stroke=\"#000000\" points=\"263.6445,-143.7382 253.1796,-142.084 260.3289,-149.9031 263.6445,-143.7382\"/>\n",
       "</g>\n",
       "<!-- 140619030624408 -->\n",
       "<g id=\"node20\" class=\"node\">\n",
       "<title>140619030624408</title>\n",
       "<polygon fill=\"#add8e6\" stroke=\"#000000\" points=\"399,-277 342,-277 342,-242 399,-242 399,-277\"/>\n",
       "<text text-anchor=\"middle\" x=\"370.5\" y=\"-249.4\" font-family=\"Times,serif\" font-size=\"12.00\" fill=\"#000000\"> (30, 96)</text>\n",
       "</g>\n",
       "<!-- 140619030624408&#45;&gt;140619030622672 -->\n",
       "<g id=\"edge19\" class=\"edge\">\n",
       "<title>140619030624408&#45;&gt;140619030622672</title>\n",
       "<path fill=\"none\" stroke=\"#000000\" d=\"M365.486,-241.6724C363.2332,-233.6625 360.5629,-224.168 358.2313,-215.8779\"/>\n",
       "<polygon fill=\"#000000\" stroke=\"#000000\" points=\"361.5928,-214.9023 355.516,-206.2234 354.8542,-216.7976 361.5928,-214.9023\"/>\n",
       "</g>\n",
       "<!-- 140619030626144 -->\n",
       "<g id=\"node21\" class=\"node\">\n",
       "<title>140619030626144</title>\n",
       "<polygon fill=\"#d3d3d3\" stroke=\"#000000\" points=\"374,-78 301,-78 301,-57 374,-57 374,-78\"/>\n",
       "<text text-anchor=\"middle\" x=\"337.5\" y=\"-64.4\" font-family=\"Times,serif\" font-size=\"12.00\" fill=\"#000000\">TBackward</text>\n",
       "</g>\n",
       "<!-- 140619030626144&#45;&gt;140619030624800 -->\n",
       "<g id=\"edge20\" class=\"edge\">\n",
       "<title>140619030626144&#45;&gt;140619030624800</title>\n",
       "<path fill=\"none\" stroke=\"#000000\" d=\"M318.3146,-56.7787C302.928,-48.1803 281.1087,-35.9872 263.729,-26.275\"/>\n",
       "<polygon fill=\"#000000\" stroke=\"#000000\" points=\"265.0362,-22.9961 254.5994,-21.1732 261.6214,-29.1068 265.0362,-22.9961\"/>\n",
       "</g>\n",
       "<!-- 140619030624912 -->\n",
       "<g id=\"node22\" class=\"node\">\n",
       "<title>140619030624912</title>\n",
       "<polygon fill=\"#add8e6\" stroke=\"#000000\" points=\"368,-149 311,-149 311,-114 368,-114 368,-149\"/>\n",
       "<text text-anchor=\"middle\" x=\"339.5\" y=\"-121.4\" font-family=\"Times,serif\" font-size=\"12.00\" fill=\"#000000\"> (10, 30)</text>\n",
       "</g>\n",
       "<!-- 140619030624912&#45;&gt;140619030626144 -->\n",
       "<g id=\"edge21\" class=\"edge\">\n",
       "<title>140619030624912&#45;&gt;140619030626144</title>\n",
       "<path fill=\"none\" stroke=\"#000000\" d=\"M338.9429,-113.6724C338.6981,-105.8405 338.409,-96.5893 338.1541,-88.4323\"/>\n",
       "<polygon fill=\"#000000\" stroke=\"#000000\" points=\"341.6458,-88.1092 337.8351,-78.2234 334.6493,-88.3279 341.6458,-88.1092\"/>\n",
       "</g>\n",
       "</g>\n",
       "</svg>\n"
      ],
      "text/plain": [
       "<graphviz.dot.Digraph at 0x7fe46b5d9be0>"
      ]
     },
     "execution_count": 32,
     "metadata": {},
     "output_type": "execute_result"
    }
   ],
   "source": [
    "from dot import make_dot\n",
    "\n",
    "tmp = iter(train_loader)\n",
    "test_input, _ = tmp.next()\n",
    "\n",
    "y = net(test_input)\n",
    "# print(y)\n",
    "g = make_dot(y)\n",
    "g"
   ]
  },
  {
   "cell_type": "code",
   "execution_count": 27,
   "metadata": {},
   "outputs": [
    {
     "data": {
      "text/plain": [
       "torch.Size([1, 28, 28])"
      ]
     },
     "execution_count": 27,
     "metadata": {},
     "output_type": "execute_result"
    }
   ],
   "source": [
    "test_input[0].size()"
   ]
  },
  {
   "cell_type": "code",
   "execution_count": 18,
   "metadata": {},
   "outputs": [],
   "source": [
    "import torch.optim as optim\n",
    "criterion = nn.CrossEntropyLoss()\n",
    "opt = optim.SGD(net.parameters(), lr = 0.0001, momentum = 0.9)"
   ]
  },
  {
   "cell_type": "code",
   "execution_count": 20,
   "metadata": {},
   "outputs": [
    {
     "name": "stdout",
     "output_type": "stream",
     "text": [
      "total elapsed time is 0.05s\n"
     ]
    }
   ],
   "source": [
    "t = time.time()\n",
    "\n",
    "running_loss = 0.0\n",
    "\n",
    "for epoch in range(2):\n",
    "    for i, data in enumerate(train_loader):\n",
    "        inputs, labels = data[0], data[1]\n",
    "        labels = torch.tensor(labels, dtype = torch.long)\n",
    "        \n",
    "        # zero the parametres grads\n",
    "        opt.zero_grad()\n",
    "        \n",
    "        # forward + backward + optimize\n",
    "        outputs = net(inputs)\n",
    "        loss = criterion(outputs, labels)\n",
    "        loss.backward()\n",
    "        opt.step()\n",
    "        \n",
    "        running_loss += loss.item()\n",
    "        \n",
    "        if i % 2000 == 1999: # print every 2000 mini-batchs\n",
    "            print('[%d, %5d] loss: %.3f' % (epoch + 1, i + 1, running_loss / 2000))\n",
    "            running_loss = 0.0\n",
    "        break\n",
    "            \n",
    "elapsed = time.time() - t\n",
    "print('total elapsed time is {:.2f}s'.format(elapsed))"
   ]
  },
  {
   "cell_type": "code",
   "execution_count": 22,
   "metadata": {},
   "outputs": [
    {
     "data": {
      "text/plain": [
       "torch.Size([4, 10])"
      ]
     },
     "execution_count": 22,
     "metadata": {},
     "output_type": "execute_result"
    }
   ],
   "source": [
    "outputs.size()"
   ]
  },
  {
   "cell_type": "code",
   "execution_count": 24,
   "metadata": {},
   "outputs": [
    {
     "data": {
      "text/plain": [
       "tensor([5, 0, 4, 1])"
      ]
     },
     "execution_count": 24,
     "metadata": {},
     "output_type": "execute_result"
    }
   ],
   "source": [
    "labels"
   ]
  },
  {
   "cell_type": "code",
   "execution_count": 50,
   "metadata": {},
   "outputs": [],
   "source": [
    "test_iter = iter(test_loader)\n",
    "imgs, lbs = test_iter.next()"
   ]
  },
  {
   "cell_type": "code",
   "execution_count": 51,
   "metadata": {},
   "outputs": [
    {
     "name": "stdout",
     "output_type": "stream",
     "text": [
      "tensor(7, dtype=torch.uint8)\n"
     ]
    },
    {
     "data": {
      "text/plain": [
       "<matplotlib.image.AxesImage at 0x7f7c5a3f74a8>"
      ]
     },
     "execution_count": 51,
     "metadata": {},
     "output_type": "execute_result"
    },
    {
     "data": {
      "image/png": "[encoded data removed]",
      "text/plain": [
       "<Figure size 432x288 with 1 Axes>"
      ]
     },
     "metadata": {},
     "output_type": "display_data"
    }
   ],
   "source": [
    "print(lbs[0])\n",
    "plt.imshow(imgs[0].view(28,28))"
   ]
  },
  {
   "cell_type": "code",
   "execution_count": 52,
   "metadata": {},
   "outputs": [
    {
     "name": "stdout",
     "output_type": "stream",
     "text": [
      "tensor([7, 2, 1, 0])\n",
      "tensor([7, 2, 1, 0], dtype=torch.uint8)\n"
     ]
    }
   ],
   "source": [
    "outs = net(imgs)\n",
    "_, preds = torch.max(outs, 1)\n",
    "\n",
    "print(preds)\n",
    "print(lbs)"
   ]
  },
  {
   "cell_type": "code",
   "execution_count": 65,
   "metadata": {},
   "outputs": [
    {
     "name": "stdout",
     "output_type": "stream",
     "text": [
      "Accuracy of the network on the 10,000 test images : 92 %\n"
     ]
    }
   ],
   "source": [
    "correct = 0\n",
    "total = 0\n",
    "with torch.no_grad():\n",
    "    for data in test_loader:\n",
    "        imgs, lbs = data[0], data[1]\n",
    "        outs = net(imgs)\n",
    "        _, predicted = torch.max(outs, 1)\n",
    "        total += lbs.size(0)\n",
    "        lbs = torch.tensor(lbs, dtype = torch.long)\n",
    "        correct += (predicted == lbs).sum().item()\n",
    "        \n",
    "print(\"Accuracy of the network on the 10,000 test images : %d %%\" % (100*correct/total))"
   ]
  },
  {
   "cell_type": "code",
   "execution_count": 66,
   "metadata": {},
   "outputs": [
    {
     "data": {
      "text/plain": [
       "tensor([[ -0.8603,   4.3019,   6.1393,  13.1871, -14.1334,   5.6133,  -7.9809,\n",
       "           2.5757,  -0.3593,  -2.6150],\n",
       "        [ -6.5445,  -4.7846,  -4.1963,  -2.9850,  10.2259,  -0.3049,  -1.2423,\n",
       "          -2.8540,   1.9693,   6.6026],\n",
       "        [  0.2969,  -0.7861,  -2.0839,  -0.7465,  -0.8021,   9.9777,   4.3743,\n",
       "          -3.7900,   5.5908,  -1.6608],\n",
       "        [  6.2984,  -7.6445,   4.3119,  -5.6665,   1.3759,   5.5810,  13.4804,\n",
       "          -9.4841,   1.2216,   0.0110]])"
      ]
     },
     "execution_count": 66,
     "metadata": {},
     "output_type": "execute_result"
    }
   ],
   "source": [
    "outs.data"
   ]
  },
  {
   "cell_type": "code",
   "execution_count": 67,
   "metadata": {},
   "outputs": [
    {
     "data": {
      "text/plain": [
       "tensor([0, 1, 2, 3, 4, 5, 6, 7, 8, 9])"
      ]
     },
     "execution_count": 67,
     "metadata": {},
     "output_type": "execute_result"
    }
   ],
   "source": [
    "classes = [0,1,2,3,4,5,6,7,8,9]\n",
    "classes = torch.tensor(classes, dtype = torch.long)\n",
    "classes"
   ]
  },
  {
   "cell_type": "code",
   "execution_count": 97,
   "metadata": {},
   "outputs": [],
   "source": [
    "lbs = lbls.long()"
   ]
  },
  {
   "cell_type": "code",
   "execution_count": 101,
   "metadata": {},
   "outputs": [
    {
     "data": {
      "text/plain": [
       "'torch.LongTensor'"
      ]
     },
     "execution_count": 101,
     "metadata": {},
     "output_type": "execute_result"
    }
   ],
   "source": [
    "lbs.type()"
   ]
  },
  {
   "cell_type": "code",
   "execution_count": 100,
   "metadata": {},
   "outputs": [
    {
     "data": {
      "text/plain": [
       "'torch.LongTensor'"
      ]
     },
     "execution_count": 100,
     "metadata": {},
     "output_type": "execute_result"
    }
   ],
   "source": [
    "preds.type()"
   ]
  },
  {
   "cell_type": "code",
   "execution_count": 112,
   "metadata": {},
   "outputs": [
    {
     "name": "stdout",
     "output_type": "stream",
     "text": [
      "Accuracy of   0 : 98 %\n",
      "Accuracy of   1 : 98 %\n",
      "Accuracy of   2 : 92 %\n",
      "Accuracy of   3 : 91 %\n",
      "Accuracy of   4 : 86 %\n",
      "Accuracy of   5 : 93 %\n",
      "Accuracy of   6 : 93 %\n",
      "Accuracy of   7 : 82 %\n",
      "Accuracy of   8 : 90 %\n",
      "Accuracy of   9 : 94 %\n"
     ]
    }
   ],
   "source": [
    "class_correct = [0. for i in range(10)]\n",
    "class_total = [0. for i in range(10)]\n",
    "\n",
    "with torch.no_grad():\n",
    "    for data in test_loader:\n",
    "        imgs, lbls = data[0], data[1]\n",
    "        outs = net(imgs)\n",
    "        _, preds = torch.max(outs, 1)\n",
    "        lbls = lbls.long()\n",
    "        c = (preds == lbls).squeeze() # squeeze -> return to tensor\n",
    "        \n",
    "        # batch size\n",
    "        for i in range(4):\n",
    "            lb = lbls[i]\n",
    "            class_correct[lb] += c[i].numpy()\n",
    "            class_total[lb] += 1\n",
    "            \n",
    "for i in range(10):\n",
    "    print(\"Accuracy of %3s : %2d %%\" % (classes[i].numpy(), 100*class_correct[i]/class_total[i]))"
   ]
  },
  {
   "cell_type": "code",
   "execution_count": null,
   "metadata": {},
   "outputs": [],
   "source": []
  },
  {
   "cell_type": "code",
   "execution_count": null,
   "metadata": {},
   "outputs": [],
   "source": []
  },
  {
   "cell_type": "markdown",
   "metadata": {},
   "source": [
    "---\n",
    "### GPU 기반 학습\n",
    "---"
   ]
  },
  {
   "cell_type": "code",
   "execution_count": 34,
   "metadata": {},
   "outputs": [
    {
     "name": "stdout",
     "output_type": "stream",
     "text": [
      "<function is_available at 0x7f7c60c70598>\n",
      "1\n",
      "Tesla K80\n"
     ]
    }
   ],
   "source": [
    "print(torch.cuda.is_available)\n",
    "print(torch.cuda.device_count())\n",
    "print(torch.cuda.get_device_name(0))"
   ]
  },
  {
   "cell_type": "code",
   "execution_count": 35,
   "metadata": {},
   "outputs": [
    {
     "data": {
      "text/plain": [
       "device(type='cuda', index=0)"
      ]
     },
     "execution_count": 35,
     "metadata": {},
     "output_type": "execute_result"
    }
   ],
   "source": [
    "device = torch.device(\"cuda:0\" if torch.cuda.is_available() else \"cpu\")\n",
    "device"
   ]
  },
  {
   "cell_type": "code",
   "execution_count": 36,
   "metadata": {},
   "outputs": [
    {
     "name": "stdout",
     "output_type": "stream",
     "text": [
      "Net(\n",
      "  (conv1): Conv2d(1, 3, kernel_size=(5, 5), stride=(1, 1))\n",
      "  (pool): MaxPool2d(kernel_size=2, stride=2, padding=0, dilation=1, ceil_mode=False)\n",
      "  (conv2): Conv2d(3, 6, kernel_size=(5, 5), stride=(1, 1))\n",
      "  (fc1): Linear(in_features=96, out_features=30, bias=True)\n",
      "  (fc2): Linear(in_features=30, out_features=10, bias=True)\n",
      ")\n"
     ]
    }
   ],
   "source": [
    "net = Net()\n",
    "net.to(device)\n",
    "print(net)\n",
    "\n",
    "criterion = nn.CrossEntropyLoss()\n",
    "opt = optim.SGD(net.parameters(), lr = 0.0001, momentum = 0.9)"
   ]
  },
  {
   "cell_type": "code",
   "execution_count": 40,
   "metadata": {},
   "outputs": [
    {
     "name": "stdout",
     "output_type": "stream",
     "text": [
      "[1,  2000] loss: 2.308\n",
      "[1,  4000] loss: 2.298\n",
      "[1,  6000] loss: 2.273\n",
      "[1,  8000] loss: 2.123\n",
      "[1, 10000] loss: 1.103\n",
      "[1, 12000] loss: 0.566\n",
      "[1, 14000] loss: 0.441\n",
      "[2,  2000] loss: 0.497\n",
      "[2,  4000] loss: 0.346\n",
      "[2,  6000] loss: 0.286\n",
      "[2,  8000] loss: 0.292\n",
      "[2, 10000] loss: 0.246\n",
      "[2, 12000] loss: 0.252\n",
      "[2, 14000] loss: 0.237\n",
      "total elapsed time is 80.29s\n"
     ]
    }
   ],
   "source": [
    "t = time.time()\n",
    "\n",
    "running_loss = 0.0\n",
    "\n",
    "for epoch in range(2):\n",
    "    for i, data in enumerate(train_loader):\n",
    "        inputs, labels = data[0].to(device), data[1].to(device)\n",
    "        labels = labels.long()\n",
    "        \n",
    "        # zero the parametres grads\n",
    "        opt.zero_grad()\n",
    "        \n",
    "        # forward + backward + optimize\n",
    "        outputs = net(inputs)\n",
    "        loss = criterion(outputs, labels)\n",
    "        loss.backward()\n",
    "        opt.step()\n",
    "        \n",
    "        running_loss += loss.item()\n",
    "        \n",
    "        if i % 2000 == 1999: # print every 2000 mini-batchs\n",
    "            print('[%d, %5d] loss: %.3f' % (epoch + 1, i + 1, running_loss / 2000))\n",
    "            running_loss = 0.0\n",
    "            \n",
    "elapsed = time.time() - t\n",
    "print('total elapsed time is {:.2f}s'.format(elapsed))"
   ]
  },
  {
   "cell_type": "code",
   "execution_count": 41,
   "metadata": {},
   "outputs": [
    {
     "data": {
      "text/plain": [
       "<function Tensor.type>"
      ]
     },
     "execution_count": 41,
     "metadata": {},
     "output_type": "execute_result"
    }
   ],
   "source": [
    "inputs.type"
   ]
  }
 ],
 "metadata": {
  "kernelspec": {
   "display_name": "Python [conda env:pytorch_p36]",
   "language": "python",
   "name": "conda-env-pytorch_p36-py"
  },
  "language_info": {
   "codemirror_mode": {
    "name": "ipython",
    "version": 3
   },
   "file_extension": ".py",
   "mimetype": "text/x-python",
   "name": "python",
   "nbconvert_exporter": "python",
   "pygments_lexer": "ipython3",
   "version": "3.6.6"
  }
 },
 "nbformat": 4,
 "nbformat_minor": 2
}
